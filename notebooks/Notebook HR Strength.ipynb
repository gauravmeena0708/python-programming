{
 "cells": [
  {
   "cell_type": "code",
   "execution_count": null,
   "metadata": {
    "colab": {
     "base_uri": "https://localhost:8080/",
     "height": 1000
    },
    "id": "NlNyG6IWhGgv",
    "outputId": "3ce02fda-3941-4b15-a7b9-f2555bbc40b1"
   },
   "outputs": [
    {
     "name": "stderr",
     "output_type": "stream",
     "text": [
      "/tmp/ipykernel_48549/1436281817.py:154: FutureWarning:\n",
      "\n",
      "The behavior of DataFrame concatenation with empty or all-NA entries is deprecated. In a future version, this will no longer exclude empty or all-NA columns when determining the result dtypes. To retain the old behavior, exclude the relevant entries before the concat operation.\n",
      "\n"
     ]
    },
    {
     "name": "stdout",
     "output_type": "stream",
     "text": [
      "     desig  eid  year  waiting\n",
      "0      ACC   24  2023      0.0\n",
      "1  ACC{HQ}    7  2023      0.0\n",
      "2     APFC  243  2023      0.0\n",
      "3   RPFC-I  163  2023      0.0\n",
      "4  RPFC-II  286  2023      0.0\n",
      "       desig  eid  year  waiting\n",
      "147  RPFC-II  302  2052     39.0\n",
      "148      ACC   32  2053      0.0\n",
      "149     APFC  445  2053    177.0\n",
      "150   RPFC-I  240  2053      0.0\n",
      "151  RPFC-II  302  2053     34.0\n"
     ]
    },
    {
     "data": {
      "application/vnd.plotly.v1+json": {
       "config": {
        "plotlyServerURL": "https://plot.ly"
       },
       "data": [
        {
         "alignmentgroup": "True",
         "bingroup": "x",
         "histfunc": "sum",
         "ids": [
          "ACC"
         ],
         "legendgroup": "ACC",
         "marker": {
          "color": "#4C78A8",
          "pattern": {
           "shape": ""
          }
         },
         "name": "ACC",
         "offsetgroup": "ACC",
         "orientation": "v",
         "showlegend": true,
         "type": "histogram",
         "x": [
          "ACC"
         ],
         "xaxis": "x",
         "y": [
          24
         ],
         "yaxis": "y"
        },
        {
         "alignmentgroup": "True",
         "bingroup": "x",
         "histfunc": "sum",
         "ids": [
          "ACC{HQ}"
         ],
         "legendgroup": "ACC{HQ}",
         "marker": {
          "color": "#F58518",
          "pattern": {
           "shape": ""
          }
         },
         "name": "ACC{HQ}",
         "offsetgroup": "ACC{HQ}",
         "orientation": "v",
         "showlegend": true,
         "type": "histogram",
         "x": [
          "ACC{HQ}"
         ],
         "xaxis": "x",
         "y": [
          7
         ],
         "yaxis": "y"
        },
        {
         "alignmentgroup": "True",
         "bingroup": "x",
         "histfunc": "sum",
         "ids": [
          "APFC"
         ],
         "legendgroup": "APFC",
         "marker": {
          "color": "#E45756",
          "pattern": {
           "shape": ""
          }
         },
         "name": "APFC",
         "offsetgroup": "APFC",
         "orientation": "v",
         "showlegend": true,
         "type": "histogram",
         "x": [
          "APFC"
         ],
         "xaxis": "x",
         "y": [
          243
         ],
         "yaxis": "y"
        },
        {
         "alignmentgroup": "True",
         "bingroup": "x",
         "histfunc": "sum",
         "ids": [
          "RPFC-I"
         ],
         "legendgroup": "RPFC-I",
         "marker": {
          "color": "#72B7B2",
          "pattern": {
           "shape": ""
          }
         },
         "name": "RPFC-I",
         "offsetgroup": "RPFC-I",
         "orientation": "v",
         "showlegend": true,
         "type": "histogram",
         "x": [
          "RPFC-I"
         ],
         "xaxis": "x",
         "y": [
          163
         ],
         "yaxis": "y"
        },
        {
         "alignmentgroup": "True",
         "bingroup": "x",
         "histfunc": "sum",
         "ids": [
          "RPFC-II"
         ],
         "legendgroup": "RPFC-II",
         "marker": {
          "color": "#54A24B",
          "pattern": {
           "shape": ""
          }
         },
         "name": "RPFC-II",
         "offsetgroup": "RPFC-II",
         "orientation": "v",
         "showlegend": true,
         "type": "histogram",
         "x": [
          "RPFC-II"
         ],
         "xaxis": "x",
         "y": [
          286
         ],
         "yaxis": "y"
        }
       ],
       "frames": [
        {
         "data": [
          {
           "alignmentgroup": "True",
           "bingroup": "x",
           "histfunc": "sum",
           "hovertemplate": "desig=%{x}<br>year=2023<br>sum of eid=%{y}<extra></extra>",
           "ids": [
            "ACC"
           ],
           "legendgroup": "ACC",
           "marker": {
            "color": "#4C78A8",
            "pattern": {
             "shape": ""
            }
           },
           "name": "ACC",
           "offsetgroup": "ACC",
           "orientation": "v",
           "showlegend": true,
           "type": "histogram",
           "x": [
            "ACC"
           ],
           "xaxis": "x",
           "y": [
            24
           ],
           "yaxis": "y"
          },
          {
           "alignmentgroup": "True",
           "bingroup": "x",
           "histfunc": "sum",
           "hovertemplate": "desig=%{x}<br>year=2023<br>sum of eid=%{y}<extra></extra>",
           "ids": [
            "ACC{HQ}"
           ],
           "legendgroup": "ACC{HQ}",
           "marker": {
            "color": "#F58518",
            "pattern": {
             "shape": ""
            }
           },
           "name": "ACC{HQ}",
           "offsetgroup": "ACC{HQ}",
           "orientation": "v",
           "showlegend": true,
           "type": "histogram",
           "x": [
            "ACC{HQ}"
           ],
           "xaxis": "x",
           "y": [
            7
           ],
           "yaxis": "y"
          },
          {
           "alignmentgroup": "True",
           "bingroup": "x",
           "histfunc": "sum",
           "hovertemplate": "desig=%{x}<br>year=2023<br>sum of eid=%{y}<extra></extra>",
           "ids": [
            "APFC"
           ],
           "legendgroup": "APFC",
           "marker": {
            "color": "#E45756",
            "pattern": {
             "shape": ""
            }
           },
           "name": "APFC",
           "offsetgroup": "APFC",
           "orientation": "v",
           "showlegend": true,
           "type": "histogram",
           "x": [
            "APFC"
           ],
           "xaxis": "x",
           "y": [
            243
           ],
           "yaxis": "y"
          },
          {
           "alignmentgroup": "True",
           "bingroup": "x",
           "histfunc": "sum",
           "hovertemplate": "desig=%{x}<br>year=2023<br>sum of eid=%{y}<extra></extra>",
           "ids": [
            "RPFC-I"
           ],
           "legendgroup": "RPFC-I",
           "marker": {
            "color": "#72B7B2",
            "pattern": {
             "shape": ""
            }
           },
           "name": "RPFC-I",
           "offsetgroup": "RPFC-I",
           "orientation": "v",
           "showlegend": true,
           "type": "histogram",
           "x": [
            "RPFC-I"
           ],
           "xaxis": "x",
           "y": [
            163
           ],
           "yaxis": "y"
          },
          {
           "alignmentgroup": "True",
           "bingroup": "x",
           "histfunc": "sum",
           "hovertemplate": "desig=%{x}<br>year=2023<br>sum of eid=%{y}<extra></extra>",
           "ids": [
            "RPFC-II"
           ],
           "legendgroup": "RPFC-II",
           "marker": {
            "color": "#54A24B",
            "pattern": {
             "shape": ""
            }
           },
           "name": "RPFC-II",
           "offsetgroup": "RPFC-II",
           "orientation": "v",
           "showlegend": true,
           "type": "histogram",
           "x": [
            "RPFC-II"
           ],
           "xaxis": "x",
           "y": [
            286
           ],
           "yaxis": "y"
          }
         ],
         "name": "2023"
        },
        {
         "data": [
          {
           "alignmentgroup": "True",
           "bingroup": "x",
           "histfunc": "sum",
           "hovertemplate": "desig=%{x}<br>year=2024<br>sum of eid=%{y}<extra></extra>",
           "ids": [
            "ACC"
           ],
           "legendgroup": "ACC",
           "marker": {
            "color": "#4C78A8",
            "pattern": {
             "shape": ""
            }
           },
           "name": "ACC",
           "offsetgroup": "ACC",
           "orientation": "v",
           "showlegend": true,
           "type": "histogram",
           "x": [
            "ACC"
           ],
           "xaxis": "x",
           "y": [
            32
           ],
           "yaxis": "y"
          },
          {
           "alignmentgroup": "True",
           "bingroup": "x",
           "histfunc": "sum",
           "hovertemplate": "desig=%{x}<br>year=2024<br>sum of eid=%{y}<extra></extra>",
           "ids": [
            "ACC{HQ}"
           ],
           "legendgroup": "ACC{HQ}",
           "marker": {
            "color": "#F58518",
            "pattern": {
             "shape": ""
            }
           },
           "name": "ACC{HQ}",
           "offsetgroup": "ACC{HQ}",
           "orientation": "v",
           "showlegend": true,
           "type": "histogram",
           "x": [
            "ACC{HQ}"
           ],
           "xaxis": "x",
           "y": [
            11
           ],
           "yaxis": "y"
          },
          {
           "alignmentgroup": "True",
           "bingroup": "x",
           "histfunc": "sum",
           "hovertemplate": "desig=%{x}<br>year=2024<br>sum of eid=%{y}<extra></extra>",
           "ids": [
            "APFC"
           ],
           "legendgroup": "APFC",
           "marker": {
            "color": "#E45756",
            "pattern": {
             "shape": ""
            }
           },
           "name": "APFC",
           "offsetgroup": "APFC",
           "orientation": "v",
           "showlegend": true,
           "type": "histogram",
           "x": [
            "APFC"
           ],
           "xaxis": "x",
           "y": [
            445
           ],
           "yaxis": "y"
          },
          {
           "alignmentgroup": "True",
           "bingroup": "x",
           "histfunc": "sum",
           "hovertemplate": "desig=%{x}<br>year=2024<br>sum of eid=%{y}<extra></extra>",
           "ids": [
            "RPFC-I"
           ],
           "legendgroup": "RPFC-I",
           "marker": {
            "color": "#72B7B2",
            "pattern": {
             "shape": ""
            }
           },
           "name": "RPFC-I",
           "offsetgroup": "RPFC-I",
           "orientation": "v",
           "showlegend": true,
           "type": "histogram",
           "x": [
            "RPFC-I"
           ],
           "xaxis": "x",
           "y": [
            240
           ],
           "yaxis": "y"
          },
          {
           "alignmentgroup": "True",
           "bingroup": "x",
           "histfunc": "sum",
           "hovertemplate": "desig=%{x}<br>year=2024<br>sum of eid=%{y}<extra></extra>",
           "ids": [
            "RPFC-II"
           ],
           "legendgroup": "RPFC-II",
           "marker": {
            "color": "#54A24B",
            "pattern": {
             "shape": ""
            }
           },
           "name": "RPFC-II",
           "offsetgroup": "RPFC-II",
           "orientation": "v",
           "showlegend": true,
           "type": "histogram",
           "x": [
            "RPFC-II"
           ],
           "xaxis": "x",
           "y": [
            269
           ],
           "yaxis": "y"
          }
         ],
         "name": "2024"
        },
        {
         "data": [
          {
           "alignmentgroup": "True",
           "bingroup": "x",
           "histfunc": "sum",
           "hovertemplate": "desig=%{x}<br>year=2025<br>sum of eid=%{y}<extra></extra>",
           "ids": [
            "ACC"
           ],
           "legendgroup": "ACC",
           "marker": {
            "color": "#4C78A8",
            "pattern": {
             "shape": ""
            }
           },
           "name": "ACC",
           "offsetgroup": "ACC",
           "orientation": "v",
           "showlegend": true,
           "type": "histogram",
           "x": [
            "ACC"
           ],
           "xaxis": "x",
           "y": [
            32
           ],
           "yaxis": "y"
          },
          {
           "alignmentgroup": "True",
           "bingroup": "x",
           "histfunc": "sum",
           "hovertemplate": "desig=%{x}<br>year=2025<br>sum of eid=%{y}<extra></extra>",
           "ids": [
            "ACC{HQ}"
           ],
           "legendgroup": "ACC{HQ}",
           "marker": {
            "color": "#F58518",
            "pattern": {
             "shape": ""
            }
           },
           "name": "ACC{HQ}",
           "offsetgroup": "ACC{HQ}",
           "orientation": "v",
           "showlegend": true,
           "type": "histogram",
           "x": [
            "ACC{HQ}"
           ],
           "xaxis": "x",
           "y": [
            11
           ],
           "yaxis": "y"
          },
          {
           "alignmentgroup": "True",
           "bingroup": "x",
           "histfunc": "sum",
           "hovertemplate": "desig=%{x}<br>year=2025<br>sum of eid=%{y}<extra></extra>",
           "ids": [
            "APFC"
           ],
           "legendgroup": "APFC",
           "marker": {
            "color": "#E45756",
            "pattern": {
             "shape": ""
            }
           },
           "name": "APFC",
           "offsetgroup": "APFC",
           "orientation": "v",
           "showlegend": true,
           "type": "histogram",
           "x": [
            "APFC"
           ],
           "xaxis": "x",
           "y": [
            445
           ],
           "yaxis": "y"
          },
          {
           "alignmentgroup": "True",
           "bingroup": "x",
           "histfunc": "sum",
           "hovertemplate": "desig=%{x}<br>year=2025<br>sum of eid=%{y}<extra></extra>",
           "ids": [
            "RPFC-I"
           ],
           "legendgroup": "RPFC-I",
           "marker": {
            "color": "#72B7B2",
            "pattern": {
             "shape": ""
            }
           },
           "name": "RPFC-I",
           "offsetgroup": "RPFC-I",
           "orientation": "v",
           "showlegend": true,
           "type": "histogram",
           "x": [
            "RPFC-I"
           ],
           "xaxis": "x",
           "y": [
            240
           ],
           "yaxis": "y"
          },
          {
           "alignmentgroup": "True",
           "bingroup": "x",
           "histfunc": "sum",
           "hovertemplate": "desig=%{x}<br>year=2025<br>sum of eid=%{y}<extra></extra>",
           "ids": [
            "RPFC-II"
           ],
           "legendgroup": "RPFC-II",
           "marker": {
            "color": "#54A24B",
            "pattern": {
             "shape": ""
            }
           },
           "name": "RPFC-II",
           "offsetgroup": "RPFC-II",
           "orientation": "v",
           "showlegend": true,
           "type": "histogram",
           "x": [
            "RPFC-II"
           ],
           "xaxis": "x",
           "y": [
            301
           ],
           "yaxis": "y"
          }
         ],
         "name": "2025"
        },
        {
         "data": [
          {
           "alignmentgroup": "True",
           "bingroup": "x",
           "histfunc": "sum",
           "hovertemplate": "desig=%{x}<br>year=2026<br>sum of eid=%{y}<extra></extra>",
           "ids": [
            "ACC"
           ],
           "legendgroup": "ACC",
           "marker": {
            "color": "#4C78A8",
            "pattern": {
             "shape": ""
            }
           },
           "name": "ACC",
           "offsetgroup": "ACC",
           "orientation": "v",
           "showlegend": true,
           "type": "histogram",
           "x": [
            "ACC"
           ],
           "xaxis": "x",
           "y": [
            32
           ],
           "yaxis": "y"
          },
          {
           "alignmentgroup": "True",
           "bingroup": "x",
           "histfunc": "sum",
           "hovertemplate": "desig=%{x}<br>year=2026<br>sum of eid=%{y}<extra></extra>",
           "ids": [
            "ACC{HQ}"
           ],
           "legendgroup": "ACC{HQ}",
           "marker": {
            "color": "#F58518",
            "pattern": {
             "shape": ""
            }
           },
           "name": "ACC{HQ}",
           "offsetgroup": "ACC{HQ}",
           "orientation": "v",
           "showlegend": true,
           "type": "histogram",
           "x": [
            "ACC{HQ}"
           ],
           "xaxis": "x",
           "y": [
            11
           ],
           "yaxis": "y"
          },
          {
           "alignmentgroup": "True",
           "bingroup": "x",
           "histfunc": "sum",
           "hovertemplate": "desig=%{x}<br>year=2026<br>sum of eid=%{y}<extra></extra>",
           "ids": [
            "APFC"
           ],
           "legendgroup": "APFC",
           "marker": {
            "color": "#E45756",
            "pattern": {
             "shape": ""
            }
           },
           "name": "APFC",
           "offsetgroup": "APFC",
           "orientation": "v",
           "showlegend": true,
           "type": "histogram",
           "x": [
            "APFC"
           ],
           "xaxis": "x",
           "y": [
            445
           ],
           "yaxis": "y"
          },
          {
           "alignmentgroup": "True",
           "bingroup": "x",
           "histfunc": "sum",
           "hovertemplate": "desig=%{x}<br>year=2026<br>sum of eid=%{y}<extra></extra>",
           "ids": [
            "RPFC-I"
           ],
           "legendgroup": "RPFC-I",
           "marker": {
            "color": "#72B7B2",
            "pattern": {
             "shape": ""
            }
           },
           "name": "RPFC-I",
           "offsetgroup": "RPFC-I",
           "orientation": "v",
           "showlegend": true,
           "type": "histogram",
           "x": [
            "RPFC-I"
           ],
           "xaxis": "x",
           "y": [
            240
           ],
           "yaxis": "y"
          },
          {
           "alignmentgroup": "True",
           "bingroup": "x",
           "histfunc": "sum",
           "hovertemplate": "desig=%{x}<br>year=2026<br>sum of eid=%{y}<extra></extra>",
           "ids": [
            "RPFC-II"
           ],
           "legendgroup": "RPFC-II",
           "marker": {
            "color": "#54A24B",
            "pattern": {
             "shape": ""
            }
           },
           "name": "RPFC-II",
           "offsetgroup": "RPFC-II",
           "orientation": "v",
           "showlegend": true,
           "type": "histogram",
           "x": [
            "RPFC-II"
           ],
           "xaxis": "x",
           "y": [
            302
           ],
           "yaxis": "y"
          }
         ],
         "name": "2026"
        },
        {
         "data": [
          {
           "alignmentgroup": "True",
           "bingroup": "x",
           "histfunc": "sum",
           "hovertemplate": "desig=%{x}<br>year=2027<br>sum of eid=%{y}<extra></extra>",
           "ids": [
            "ACC"
           ],
           "legendgroup": "ACC",
           "marker": {
            "color": "#4C78A8",
            "pattern": {
             "shape": ""
            }
           },
           "name": "ACC",
           "offsetgroup": "ACC",
           "orientation": "v",
           "showlegend": true,
           "type": "histogram",
           "x": [
            "ACC"
           ],
           "xaxis": "x",
           "y": [
            32
           ],
           "yaxis": "y"
          },
          {
           "alignmentgroup": "True",
           "bingroup": "x",
           "histfunc": "sum",
           "hovertemplate": "desig=%{x}<br>year=2027<br>sum of eid=%{y}<extra></extra>",
           "ids": [
            "ACC{HQ}"
           ],
           "legendgroup": "ACC{HQ}",
           "marker": {
            "color": "#F58518",
            "pattern": {
             "shape": ""
            }
           },
           "name": "ACC{HQ}",
           "offsetgroup": "ACC{HQ}",
           "orientation": "v",
           "showlegend": true,
           "type": "histogram",
           "x": [
            "ACC{HQ}"
           ],
           "xaxis": "x",
           "y": [
            11
           ],
           "yaxis": "y"
          },
          {
           "alignmentgroup": "True",
           "bingroup": "x",
           "histfunc": "sum",
           "hovertemplate": "desig=%{x}<br>year=2027<br>sum of eid=%{y}<extra></extra>",
           "ids": [
            "APFC"
           ],
           "legendgroup": "APFC",
           "marker": {
            "color": "#E45756",
            "pattern": {
             "shape": ""
            }
           },
           "name": "APFC",
           "offsetgroup": "APFC",
           "orientation": "v",
           "showlegend": true,
           "type": "histogram",
           "x": [
            "APFC"
           ],
           "xaxis": "x",
           "y": [
            445
           ],
           "yaxis": "y"
          },
          {
           "alignmentgroup": "True",
           "bingroup": "x",
           "histfunc": "sum",
           "hovertemplate": "desig=%{x}<br>year=2027<br>sum of eid=%{y}<extra></extra>",
           "ids": [
            "RPFC-I"
           ],
           "legendgroup": "RPFC-I",
           "marker": {
            "color": "#72B7B2",
            "pattern": {
             "shape": ""
            }
           },
           "name": "RPFC-I",
           "offsetgroup": "RPFC-I",
           "orientation": "v",
           "showlegend": true,
           "type": "histogram",
           "x": [
            "RPFC-I"
           ],
           "xaxis": "x",
           "y": [
            240
           ],
           "yaxis": "y"
          },
          {
           "alignmentgroup": "True",
           "bingroup": "x",
           "histfunc": "sum",
           "hovertemplate": "desig=%{x}<br>year=2027<br>sum of eid=%{y}<extra></extra>",
           "ids": [
            "RPFC-II"
           ],
           "legendgroup": "RPFC-II",
           "marker": {
            "color": "#54A24B",
            "pattern": {
             "shape": ""
            }
           },
           "name": "RPFC-II",
           "offsetgroup": "RPFC-II",
           "orientation": "v",
           "showlegend": true,
           "type": "histogram",
           "x": [
            "RPFC-II"
           ],
           "xaxis": "x",
           "y": [
            302
           ],
           "yaxis": "y"
          }
         ],
         "name": "2027"
        },
        {
         "data": [
          {
           "alignmentgroup": "True",
           "bingroup": "x",
           "histfunc": "sum",
           "hovertemplate": "desig=%{x}<br>year=2028<br>sum of eid=%{y}<extra></extra>",
           "ids": [
            "ACC"
           ],
           "legendgroup": "ACC",
           "marker": {
            "color": "#4C78A8",
            "pattern": {
             "shape": ""
            }
           },
           "name": "ACC",
           "offsetgroup": "ACC",
           "orientation": "v",
           "showlegend": true,
           "type": "histogram",
           "x": [
            "ACC"
           ],
           "xaxis": "x",
           "y": [
            32
           ],
           "yaxis": "y"
          },
          {
           "alignmentgroup": "True",
           "bingroup": "x",
           "histfunc": "sum",
           "hovertemplate": "desig=%{x}<br>year=2028<br>sum of eid=%{y}<extra></extra>",
           "ids": [
            "ACC{HQ}"
           ],
           "legendgroup": "ACC{HQ}",
           "marker": {
            "color": "#F58518",
            "pattern": {
             "shape": ""
            }
           },
           "name": "ACC{HQ}",
           "offsetgroup": "ACC{HQ}",
           "orientation": "v",
           "showlegend": true,
           "type": "histogram",
           "x": [
            "ACC{HQ}"
           ],
           "xaxis": "x",
           "y": [
            11
           ],
           "yaxis": "y"
          },
          {
           "alignmentgroup": "True",
           "bingroup": "x",
           "histfunc": "sum",
           "hovertemplate": "desig=%{x}<br>year=2028<br>sum of eid=%{y}<extra></extra>",
           "ids": [
            "APFC"
           ],
           "legendgroup": "APFC",
           "marker": {
            "color": "#E45756",
            "pattern": {
             "shape": ""
            }
           },
           "name": "APFC",
           "offsetgroup": "APFC",
           "orientation": "v",
           "showlegend": true,
           "type": "histogram",
           "x": [
            "APFC"
           ],
           "xaxis": "x",
           "y": [
            445
           ],
           "yaxis": "y"
          },
          {
           "alignmentgroup": "True",
           "bingroup": "x",
           "histfunc": "sum",
           "hovertemplate": "desig=%{x}<br>year=2028<br>sum of eid=%{y}<extra></extra>",
           "ids": [
            "RPFC-I"
           ],
           "legendgroup": "RPFC-I",
           "marker": {
            "color": "#72B7B2",
            "pattern": {
             "shape": ""
            }
           },
           "name": "RPFC-I",
           "offsetgroup": "RPFC-I",
           "orientation": "v",
           "showlegend": true,
           "type": "histogram",
           "x": [
            "RPFC-I"
           ],
           "xaxis": "x",
           "y": [
            240
           ],
           "yaxis": "y"
          },
          {
           "alignmentgroup": "True",
           "bingroup": "x",
           "histfunc": "sum",
           "hovertemplate": "desig=%{x}<br>year=2028<br>sum of eid=%{y}<extra></extra>",
           "ids": [
            "RPFC-II"
           ],
           "legendgroup": "RPFC-II",
           "marker": {
            "color": "#54A24B",
            "pattern": {
             "shape": ""
            }
           },
           "name": "RPFC-II",
           "offsetgroup": "RPFC-II",
           "orientation": "v",
           "showlegend": true,
           "type": "histogram",
           "x": [
            "RPFC-II"
           ],
           "xaxis": "x",
           "y": [
            302
           ],
           "yaxis": "y"
          }
         ],
         "name": "2028"
        },
        {
         "data": [
          {
           "alignmentgroup": "True",
           "bingroup": "x",
           "histfunc": "sum",
           "hovertemplate": "desig=%{x}<br>year=2029<br>sum of eid=%{y}<extra></extra>",
           "ids": [
            "ACC"
           ],
           "legendgroup": "ACC",
           "marker": {
            "color": "#4C78A8",
            "pattern": {
             "shape": ""
            }
           },
           "name": "ACC",
           "offsetgroup": "ACC",
           "orientation": "v",
           "showlegend": true,
           "type": "histogram",
           "x": [
            "ACC"
           ],
           "xaxis": "x",
           "y": [
            32
           ],
           "yaxis": "y"
          },
          {
           "alignmentgroup": "True",
           "bingroup": "x",
           "histfunc": "sum",
           "hovertemplate": "desig=%{x}<br>year=2029<br>sum of eid=%{y}<extra></extra>",
           "ids": [
            "ACC{HQ}"
           ],
           "legendgroup": "ACC{HQ}",
           "marker": {
            "color": "#F58518",
            "pattern": {
             "shape": ""
            }
           },
           "name": "ACC{HQ}",
           "offsetgroup": "ACC{HQ}",
           "orientation": "v",
           "showlegend": true,
           "type": "histogram",
           "x": [
            "ACC{HQ}"
           ],
           "xaxis": "x",
           "y": [
            11
           ],
           "yaxis": "y"
          },
          {
           "alignmentgroup": "True",
           "bingroup": "x",
           "histfunc": "sum",
           "hovertemplate": "desig=%{x}<br>year=2029<br>sum of eid=%{y}<extra></extra>",
           "ids": [
            "APFC"
           ],
           "legendgroup": "APFC",
           "marker": {
            "color": "#E45756",
            "pattern": {
             "shape": ""
            }
           },
           "name": "APFC",
           "offsetgroup": "APFC",
           "orientation": "v",
           "showlegend": true,
           "type": "histogram",
           "x": [
            "APFC"
           ],
           "xaxis": "x",
           "y": [
            445
           ],
           "yaxis": "y"
          },
          {
           "alignmentgroup": "True",
           "bingroup": "x",
           "histfunc": "sum",
           "hovertemplate": "desig=%{x}<br>year=2029<br>sum of eid=%{y}<extra></extra>",
           "ids": [
            "RPFC-I"
           ],
           "legendgroup": "RPFC-I",
           "marker": {
            "color": "#72B7B2",
            "pattern": {
             "shape": ""
            }
           },
           "name": "RPFC-I",
           "offsetgroup": "RPFC-I",
           "orientation": "v",
           "showlegend": true,
           "type": "histogram",
           "x": [
            "RPFC-I"
           ],
           "xaxis": "x",
           "y": [
            240
           ],
           "yaxis": "y"
          },
          {
           "alignmentgroup": "True",
           "bingroup": "x",
           "histfunc": "sum",
           "hovertemplate": "desig=%{x}<br>year=2029<br>sum of eid=%{y}<extra></extra>",
           "ids": [
            "RPFC-II"
           ],
           "legendgroup": "RPFC-II",
           "marker": {
            "color": "#54A24B",
            "pattern": {
             "shape": ""
            }
           },
           "name": "RPFC-II",
           "offsetgroup": "RPFC-II",
           "orientation": "v",
           "showlegend": true,
           "type": "histogram",
           "x": [
            "RPFC-II"
           ],
           "xaxis": "x",
           "y": [
            302
           ],
           "yaxis": "y"
          }
         ],
         "name": "2029"
        },
        {
         "data": [
          {
           "alignmentgroup": "True",
           "bingroup": "x",
           "histfunc": "sum",
           "hovertemplate": "desig=%{x}<br>year=2030<br>sum of eid=%{y}<extra></extra>",
           "ids": [
            "ACC"
           ],
           "legendgroup": "ACC",
           "marker": {
            "color": "#4C78A8",
            "pattern": {
             "shape": ""
            }
           },
           "name": "ACC",
           "offsetgroup": "ACC",
           "orientation": "v",
           "showlegend": true,
           "type": "histogram",
           "x": [
            "ACC"
           ],
           "xaxis": "x",
           "y": [
            32
           ],
           "yaxis": "y"
          },
          {
           "alignmentgroup": "True",
           "bingroup": "x",
           "histfunc": "sum",
           "hovertemplate": "desig=%{x}<br>year=2030<br>sum of eid=%{y}<extra></extra>",
           "ids": [
            "ACC{HQ}"
           ],
           "legendgroup": "ACC{HQ}",
           "marker": {
            "color": "#F58518",
            "pattern": {
             "shape": ""
            }
           },
           "name": "ACC{HQ}",
           "offsetgroup": "ACC{HQ}",
           "orientation": "v",
           "showlegend": true,
           "type": "histogram",
           "x": [
            "ACC{HQ}"
           ],
           "xaxis": "x",
           "y": [
            11
           ],
           "yaxis": "y"
          },
          {
           "alignmentgroup": "True",
           "bingroup": "x",
           "histfunc": "sum",
           "hovertemplate": "desig=%{x}<br>year=2030<br>sum of eid=%{y}<extra></extra>",
           "ids": [
            "APFC"
           ],
           "legendgroup": "APFC",
           "marker": {
            "color": "#E45756",
            "pattern": {
             "shape": ""
            }
           },
           "name": "APFC",
           "offsetgroup": "APFC",
           "orientation": "v",
           "showlegend": true,
           "type": "histogram",
           "x": [
            "APFC"
           ],
           "xaxis": "x",
           "y": [
            445
           ],
           "yaxis": "y"
          },
          {
           "alignmentgroup": "True",
           "bingroup": "x",
           "histfunc": "sum",
           "hovertemplate": "desig=%{x}<br>year=2030<br>sum of eid=%{y}<extra></extra>",
           "ids": [
            "RPFC-I"
           ],
           "legendgroup": "RPFC-I",
           "marker": {
            "color": "#72B7B2",
            "pattern": {
             "shape": ""
            }
           },
           "name": "RPFC-I",
           "offsetgroup": "RPFC-I",
           "orientation": "v",
           "showlegend": true,
           "type": "histogram",
           "x": [
            "RPFC-I"
           ],
           "xaxis": "x",
           "y": [
            240
           ],
           "yaxis": "y"
          },
          {
           "alignmentgroup": "True",
           "bingroup": "x",
           "histfunc": "sum",
           "hovertemplate": "desig=%{x}<br>year=2030<br>sum of eid=%{y}<extra></extra>",
           "ids": [
            "RPFC-II"
           ],
           "legendgroup": "RPFC-II",
           "marker": {
            "color": "#54A24B",
            "pattern": {
             "shape": ""
            }
           },
           "name": "RPFC-II",
           "offsetgroup": "RPFC-II",
           "orientation": "v",
           "showlegend": true,
           "type": "histogram",
           "x": [
            "RPFC-II"
           ],
           "xaxis": "x",
           "y": [
            302
           ],
           "yaxis": "y"
          }
         ],
         "name": "2030"
        },
        {
         "data": [
          {
           "alignmentgroup": "True",
           "bingroup": "x",
           "histfunc": "sum",
           "hovertemplate": "desig=%{x}<br>year=2031<br>sum of eid=%{y}<extra></extra>",
           "ids": [
            "ACC"
           ],
           "legendgroup": "ACC",
           "marker": {
            "color": "#4C78A8",
            "pattern": {
             "shape": ""
            }
           },
           "name": "ACC",
           "offsetgroup": "ACC",
           "orientation": "v",
           "showlegend": true,
           "type": "histogram",
           "x": [
            "ACC"
           ],
           "xaxis": "x",
           "y": [
            32
           ],
           "yaxis": "y"
          },
          {
           "alignmentgroup": "True",
           "bingroup": "x",
           "histfunc": "sum",
           "hovertemplate": "desig=%{x}<br>year=2031<br>sum of eid=%{y}<extra></extra>",
           "ids": [
            "ACC{HQ}"
           ],
           "legendgroup": "ACC{HQ}",
           "marker": {
            "color": "#F58518",
            "pattern": {
             "shape": ""
            }
           },
           "name": "ACC{HQ}",
           "offsetgroup": "ACC{HQ}",
           "orientation": "v",
           "showlegend": true,
           "type": "histogram",
           "x": [
            "ACC{HQ}"
           ],
           "xaxis": "x",
           "y": [
            11
           ],
           "yaxis": "y"
          },
          {
           "alignmentgroup": "True",
           "bingroup": "x",
           "histfunc": "sum",
           "hovertemplate": "desig=%{x}<br>year=2031<br>sum of eid=%{y}<extra></extra>",
           "ids": [
            "APFC"
           ],
           "legendgroup": "APFC",
           "marker": {
            "color": "#E45756",
            "pattern": {
             "shape": ""
            }
           },
           "name": "APFC",
           "offsetgroup": "APFC",
           "orientation": "v",
           "showlegend": true,
           "type": "histogram",
           "x": [
            "APFC"
           ],
           "xaxis": "x",
           "y": [
            445
           ],
           "yaxis": "y"
          },
          {
           "alignmentgroup": "True",
           "bingroup": "x",
           "histfunc": "sum",
           "hovertemplate": "desig=%{x}<br>year=2031<br>sum of eid=%{y}<extra></extra>",
           "ids": [
            "RPFC-I"
           ],
           "legendgroup": "RPFC-I",
           "marker": {
            "color": "#72B7B2",
            "pattern": {
             "shape": ""
            }
           },
           "name": "RPFC-I",
           "offsetgroup": "RPFC-I",
           "orientation": "v",
           "showlegend": true,
           "type": "histogram",
           "x": [
            "RPFC-I"
           ],
           "xaxis": "x",
           "y": [
            240
           ],
           "yaxis": "y"
          },
          {
           "alignmentgroup": "True",
           "bingroup": "x",
           "histfunc": "sum",
           "hovertemplate": "desig=%{x}<br>year=2031<br>sum of eid=%{y}<extra></extra>",
           "ids": [
            "RPFC-II"
           ],
           "legendgroup": "RPFC-II",
           "marker": {
            "color": "#54A24B",
            "pattern": {
             "shape": ""
            }
           },
           "name": "RPFC-II",
           "offsetgroup": "RPFC-II",
           "orientation": "v",
           "showlegend": true,
           "type": "histogram",
           "x": [
            "RPFC-II"
           ],
           "xaxis": "x",
           "y": [
            302
           ],
           "yaxis": "y"
          }
         ],
         "name": "2031"
        },
        {
         "data": [
          {
           "alignmentgroup": "True",
           "bingroup": "x",
           "histfunc": "sum",
           "hovertemplate": "desig=%{x}<br>year=2032<br>sum of eid=%{y}<extra></extra>",
           "ids": [
            "ACC"
           ],
           "legendgroup": "ACC",
           "marker": {
            "color": "#4C78A8",
            "pattern": {
             "shape": ""
            }
           },
           "name": "ACC",
           "offsetgroup": "ACC",
           "orientation": "v",
           "showlegend": true,
           "type": "histogram",
           "x": [
            "ACC"
           ],
           "xaxis": "x",
           "y": [
            32
           ],
           "yaxis": "y"
          },
          {
           "alignmentgroup": "True",
           "bingroup": "x",
           "histfunc": "sum",
           "hovertemplate": "desig=%{x}<br>year=2032<br>sum of eid=%{y}<extra></extra>",
           "ids": [
            "ACC{HQ}"
           ],
           "legendgroup": "ACC{HQ}",
           "marker": {
            "color": "#F58518",
            "pattern": {
             "shape": ""
            }
           },
           "name": "ACC{HQ}",
           "offsetgroup": "ACC{HQ}",
           "orientation": "v",
           "showlegend": true,
           "type": "histogram",
           "x": [
            "ACC{HQ}"
           ],
           "xaxis": "x",
           "y": [
            11
           ],
           "yaxis": "y"
          },
          {
           "alignmentgroup": "True",
           "bingroup": "x",
           "histfunc": "sum",
           "hovertemplate": "desig=%{x}<br>year=2032<br>sum of eid=%{y}<extra></extra>",
           "ids": [
            "APFC"
           ],
           "legendgroup": "APFC",
           "marker": {
            "color": "#E45756",
            "pattern": {
             "shape": ""
            }
           },
           "name": "APFC",
           "offsetgroup": "APFC",
           "orientation": "v",
           "showlegend": true,
           "type": "histogram",
           "x": [
            "APFC"
           ],
           "xaxis": "x",
           "y": [
            445
           ],
           "yaxis": "y"
          },
          {
           "alignmentgroup": "True",
           "bingroup": "x",
           "histfunc": "sum",
           "hovertemplate": "desig=%{x}<br>year=2032<br>sum of eid=%{y}<extra></extra>",
           "ids": [
            "RPFC-I"
           ],
           "legendgroup": "RPFC-I",
           "marker": {
            "color": "#72B7B2",
            "pattern": {
             "shape": ""
            }
           },
           "name": "RPFC-I",
           "offsetgroup": "RPFC-I",
           "orientation": "v",
           "showlegend": true,
           "type": "histogram",
           "x": [
            "RPFC-I"
           ],
           "xaxis": "x",
           "y": [
            240
           ],
           "yaxis": "y"
          },
          {
           "alignmentgroup": "True",
           "bingroup": "x",
           "histfunc": "sum",
           "hovertemplate": "desig=%{x}<br>year=2032<br>sum of eid=%{y}<extra></extra>",
           "ids": [
            "RPFC-II"
           ],
           "legendgroup": "RPFC-II",
           "marker": {
            "color": "#54A24B",
            "pattern": {
             "shape": ""
            }
           },
           "name": "RPFC-II",
           "offsetgroup": "RPFC-II",
           "orientation": "v",
           "showlegend": true,
           "type": "histogram",
           "x": [
            "RPFC-II"
           ],
           "xaxis": "x",
           "y": [
            302
           ],
           "yaxis": "y"
          }
         ],
         "name": "2032"
        },
        {
         "data": [
          {
           "alignmentgroup": "True",
           "bingroup": "x",
           "histfunc": "sum",
           "hovertemplate": "desig=%{x}<br>year=2033<br>sum of eid=%{y}<extra></extra>",
           "ids": [
            "ACC"
           ],
           "legendgroup": "ACC",
           "marker": {
            "color": "#4C78A8",
            "pattern": {
             "shape": ""
            }
           },
           "name": "ACC",
           "offsetgroup": "ACC",
           "orientation": "v",
           "showlegend": true,
           "type": "histogram",
           "x": [
            "ACC"
           ],
           "xaxis": "x",
           "y": [
            32
           ],
           "yaxis": "y"
          },
          {
           "alignmentgroup": "True",
           "bingroup": "x",
           "histfunc": "sum",
           "hovertemplate": "desig=%{x}<br>year=2033<br>sum of eid=%{y}<extra></extra>",
           "ids": [
            "ACC{HQ}"
           ],
           "legendgroup": "ACC{HQ}",
           "marker": {
            "color": "#F58518",
            "pattern": {
             "shape": ""
            }
           },
           "name": "ACC{HQ}",
           "offsetgroup": "ACC{HQ}",
           "orientation": "v",
           "showlegend": true,
           "type": "histogram",
           "x": [
            "ACC{HQ}"
           ],
           "xaxis": "x",
           "y": [
            11
           ],
           "yaxis": "y"
          },
          {
           "alignmentgroup": "True",
           "bingroup": "x",
           "histfunc": "sum",
           "hovertemplate": "desig=%{x}<br>year=2033<br>sum of eid=%{y}<extra></extra>",
           "ids": [
            "APFC"
           ],
           "legendgroup": "APFC",
           "marker": {
            "color": "#E45756",
            "pattern": {
             "shape": ""
            }
           },
           "name": "APFC",
           "offsetgroup": "APFC",
           "orientation": "v",
           "showlegend": true,
           "type": "histogram",
           "x": [
            "APFC"
           ],
           "xaxis": "x",
           "y": [
            445
           ],
           "yaxis": "y"
          },
          {
           "alignmentgroup": "True",
           "bingroup": "x",
           "histfunc": "sum",
           "hovertemplate": "desig=%{x}<br>year=2033<br>sum of eid=%{y}<extra></extra>",
           "ids": [
            "RPFC-I"
           ],
           "legendgroup": "RPFC-I",
           "marker": {
            "color": "#72B7B2",
            "pattern": {
             "shape": ""
            }
           },
           "name": "RPFC-I",
           "offsetgroup": "RPFC-I",
           "orientation": "v",
           "showlegend": true,
           "type": "histogram",
           "x": [
            "RPFC-I"
           ],
           "xaxis": "x",
           "y": [
            240
           ],
           "yaxis": "y"
          },
          {
           "alignmentgroup": "True",
           "bingroup": "x",
           "histfunc": "sum",
           "hovertemplate": "desig=%{x}<br>year=2033<br>sum of eid=%{y}<extra></extra>",
           "ids": [
            "RPFC-II"
           ],
           "legendgroup": "RPFC-II",
           "marker": {
            "color": "#54A24B",
            "pattern": {
             "shape": ""
            }
           },
           "name": "RPFC-II",
           "offsetgroup": "RPFC-II",
           "orientation": "v",
           "showlegend": true,
           "type": "histogram",
           "x": [
            "RPFC-II"
           ],
           "xaxis": "x",
           "y": [
            302
           ],
           "yaxis": "y"
          }
         ],
         "name": "2033"
        },
        {
         "data": [
          {
           "alignmentgroup": "True",
           "bingroup": "x",
           "histfunc": "sum",
           "hovertemplate": "desig=%{x}<br>year=2034<br>sum of eid=%{y}<extra></extra>",
           "ids": [
            "ACC"
           ],
           "legendgroup": "ACC",
           "marker": {
            "color": "#4C78A8",
            "pattern": {
             "shape": ""
            }
           },
           "name": "ACC",
           "offsetgroup": "ACC",
           "orientation": "v",
           "showlegend": true,
           "type": "histogram",
           "x": [
            "ACC"
           ],
           "xaxis": "x",
           "y": [
            32
           ],
           "yaxis": "y"
          },
          {
           "alignmentgroup": "True",
           "bingroup": "x",
           "histfunc": "sum",
           "hovertemplate": "desig=%{x}<br>year=2034<br>sum of eid=%{y}<extra></extra>",
           "ids": [
            "ACC{HQ}"
           ],
           "legendgroup": "ACC{HQ}",
           "marker": {
            "color": "#F58518",
            "pattern": {
             "shape": ""
            }
           },
           "name": "ACC{HQ}",
           "offsetgroup": "ACC{HQ}",
           "orientation": "v",
           "showlegend": true,
           "type": "histogram",
           "x": [
            "ACC{HQ}"
           ],
           "xaxis": "x",
           "y": [
            11
           ],
           "yaxis": "y"
          },
          {
           "alignmentgroup": "True",
           "bingroup": "x",
           "histfunc": "sum",
           "hovertemplate": "desig=%{x}<br>year=2034<br>sum of eid=%{y}<extra></extra>",
           "ids": [
            "APFC"
           ],
           "legendgroup": "APFC",
           "marker": {
            "color": "#E45756",
            "pattern": {
             "shape": ""
            }
           },
           "name": "APFC",
           "offsetgroup": "APFC",
           "orientation": "v",
           "showlegend": true,
           "type": "histogram",
           "x": [
            "APFC"
           ],
           "xaxis": "x",
           "y": [
            445
           ],
           "yaxis": "y"
          },
          {
           "alignmentgroup": "True",
           "bingroup": "x",
           "histfunc": "sum",
           "hovertemplate": "desig=%{x}<br>year=2034<br>sum of eid=%{y}<extra></extra>",
           "ids": [
            "RPFC-I"
           ],
           "legendgroup": "RPFC-I",
           "marker": {
            "color": "#72B7B2",
            "pattern": {
             "shape": ""
            }
           },
           "name": "RPFC-I",
           "offsetgroup": "RPFC-I",
           "orientation": "v",
           "showlegend": true,
           "type": "histogram",
           "x": [
            "RPFC-I"
           ],
           "xaxis": "x",
           "y": [
            240
           ],
           "yaxis": "y"
          },
          {
           "alignmentgroup": "True",
           "bingroup": "x",
           "histfunc": "sum",
           "hovertemplate": "desig=%{x}<br>year=2034<br>sum of eid=%{y}<extra></extra>",
           "ids": [
            "RPFC-II"
           ],
           "legendgroup": "RPFC-II",
           "marker": {
            "color": "#54A24B",
            "pattern": {
             "shape": ""
            }
           },
           "name": "RPFC-II",
           "offsetgroup": "RPFC-II",
           "orientation": "v",
           "showlegend": true,
           "type": "histogram",
           "x": [
            "RPFC-II"
           ],
           "xaxis": "x",
           "y": [
            302
           ],
           "yaxis": "y"
          }
         ],
         "name": "2034"
        },
        {
         "data": [
          {
           "alignmentgroup": "True",
           "bingroup": "x",
           "histfunc": "sum",
           "hovertemplate": "desig=%{x}<br>year=2035<br>sum of eid=%{y}<extra></extra>",
           "ids": [
            "ACC"
           ],
           "legendgroup": "ACC",
           "marker": {
            "color": "#4C78A8",
            "pattern": {
             "shape": ""
            }
           },
           "name": "ACC",
           "offsetgroup": "ACC",
           "orientation": "v",
           "showlegend": true,
           "type": "histogram",
           "x": [
            "ACC"
           ],
           "xaxis": "x",
           "y": [
            32
           ],
           "yaxis": "y"
          },
          {
           "alignmentgroup": "True",
           "bingroup": "x",
           "histfunc": "sum",
           "hovertemplate": "desig=%{x}<br>year=2035<br>sum of eid=%{y}<extra></extra>",
           "ids": [
            "ACC{HQ}"
           ],
           "legendgroup": "ACC{HQ}",
           "marker": {
            "color": "#F58518",
            "pattern": {
             "shape": ""
            }
           },
           "name": "ACC{HQ}",
           "offsetgroup": "ACC{HQ}",
           "orientation": "v",
           "showlegend": true,
           "type": "histogram",
           "x": [
            "ACC{HQ}"
           ],
           "xaxis": "x",
           "y": [
            11
           ],
           "yaxis": "y"
          },
          {
           "alignmentgroup": "True",
           "bingroup": "x",
           "histfunc": "sum",
           "hovertemplate": "desig=%{x}<br>year=2035<br>sum of eid=%{y}<extra></extra>",
           "ids": [
            "APFC"
           ],
           "legendgroup": "APFC",
           "marker": {
            "color": "#E45756",
            "pattern": {
             "shape": ""
            }
           },
           "name": "APFC",
           "offsetgroup": "APFC",
           "orientation": "v",
           "showlegend": true,
           "type": "histogram",
           "x": [
            "APFC"
           ],
           "xaxis": "x",
           "y": [
            445
           ],
           "yaxis": "y"
          },
          {
           "alignmentgroup": "True",
           "bingroup": "x",
           "histfunc": "sum",
           "hovertemplate": "desig=%{x}<br>year=2035<br>sum of eid=%{y}<extra></extra>",
           "ids": [
            "RPFC-I"
           ],
           "legendgroup": "RPFC-I",
           "marker": {
            "color": "#72B7B2",
            "pattern": {
             "shape": ""
            }
           },
           "name": "RPFC-I",
           "offsetgroup": "RPFC-I",
           "orientation": "v",
           "showlegend": true,
           "type": "histogram",
           "x": [
            "RPFC-I"
           ],
           "xaxis": "x",
           "y": [
            240
           ],
           "yaxis": "y"
          },
          {
           "alignmentgroup": "True",
           "bingroup": "x",
           "histfunc": "sum",
           "hovertemplate": "desig=%{x}<br>year=2035<br>sum of eid=%{y}<extra></extra>",
           "ids": [
            "RPFC-II"
           ],
           "legendgroup": "RPFC-II",
           "marker": {
            "color": "#54A24B",
            "pattern": {
             "shape": ""
            }
           },
           "name": "RPFC-II",
           "offsetgroup": "RPFC-II",
           "orientation": "v",
           "showlegend": true,
           "type": "histogram",
           "x": [
            "RPFC-II"
           ],
           "xaxis": "x",
           "y": [
            302
           ],
           "yaxis": "y"
          }
         ],
         "name": "2035"
        },
        {
         "data": [
          {
           "alignmentgroup": "True",
           "bingroup": "x",
           "histfunc": "sum",
           "hovertemplate": "desig=%{x}<br>year=2036<br>sum of eid=%{y}<extra></extra>",
           "ids": [
            "ACC"
           ],
           "legendgroup": "ACC",
           "marker": {
            "color": "#4C78A8",
            "pattern": {
             "shape": ""
            }
           },
           "name": "ACC",
           "offsetgroup": "ACC",
           "orientation": "v",
           "showlegend": true,
           "type": "histogram",
           "x": [
            "ACC"
           ],
           "xaxis": "x",
           "y": [
            32
           ],
           "yaxis": "y"
          },
          {
           "alignmentgroup": "True",
           "bingroup": "x",
           "histfunc": "sum",
           "hovertemplate": "desig=%{x}<br>year=2036<br>sum of eid=%{y}<extra></extra>",
           "ids": [
            "ACC{HQ}"
           ],
           "legendgroup": "ACC{HQ}",
           "marker": {
            "color": "#F58518",
            "pattern": {
             "shape": ""
            }
           },
           "name": "ACC{HQ}",
           "offsetgroup": "ACC{HQ}",
           "orientation": "v",
           "showlegend": true,
           "type": "histogram",
           "x": [
            "ACC{HQ}"
           ],
           "xaxis": "x",
           "y": [
            11
           ],
           "yaxis": "y"
          },
          {
           "alignmentgroup": "True",
           "bingroup": "x",
           "histfunc": "sum",
           "hovertemplate": "desig=%{x}<br>year=2036<br>sum of eid=%{y}<extra></extra>",
           "ids": [
            "APFC"
           ],
           "legendgroup": "APFC",
           "marker": {
            "color": "#E45756",
            "pattern": {
             "shape": ""
            }
           },
           "name": "APFC",
           "offsetgroup": "APFC",
           "orientation": "v",
           "showlegend": true,
           "type": "histogram",
           "x": [
            "APFC"
           ],
           "xaxis": "x",
           "y": [
            445
           ],
           "yaxis": "y"
          },
          {
           "alignmentgroup": "True",
           "bingroup": "x",
           "histfunc": "sum",
           "hovertemplate": "desig=%{x}<br>year=2036<br>sum of eid=%{y}<extra></extra>",
           "ids": [
            "RPFC-I"
           ],
           "legendgroup": "RPFC-I",
           "marker": {
            "color": "#72B7B2",
            "pattern": {
             "shape": ""
            }
           },
           "name": "RPFC-I",
           "offsetgroup": "RPFC-I",
           "orientation": "v",
           "showlegend": true,
           "type": "histogram",
           "x": [
            "RPFC-I"
           ],
           "xaxis": "x",
           "y": [
            240
           ],
           "yaxis": "y"
          },
          {
           "alignmentgroup": "True",
           "bingroup": "x",
           "histfunc": "sum",
           "hovertemplate": "desig=%{x}<br>year=2036<br>sum of eid=%{y}<extra></extra>",
           "ids": [
            "RPFC-II"
           ],
           "legendgroup": "RPFC-II",
           "marker": {
            "color": "#54A24B",
            "pattern": {
             "shape": ""
            }
           },
           "name": "RPFC-II",
           "offsetgroup": "RPFC-II",
           "orientation": "v",
           "showlegend": true,
           "type": "histogram",
           "x": [
            "RPFC-II"
           ],
           "xaxis": "x",
           "y": [
            302
           ],
           "yaxis": "y"
          }
         ],
         "name": "2036"
        },
        {
         "data": [
          {
           "alignmentgroup": "True",
           "bingroup": "x",
           "histfunc": "sum",
           "hovertemplate": "desig=%{x}<br>year=2037<br>sum of eid=%{y}<extra></extra>",
           "ids": [
            "ACC"
           ],
           "legendgroup": "ACC",
           "marker": {
            "color": "#4C78A8",
            "pattern": {
             "shape": ""
            }
           },
           "name": "ACC",
           "offsetgroup": "ACC",
           "orientation": "v",
           "showlegend": true,
           "type": "histogram",
           "x": [
            "ACC"
           ],
           "xaxis": "x",
           "y": [
            32
           ],
           "yaxis": "y"
          },
          {
           "alignmentgroup": "True",
           "bingroup": "x",
           "histfunc": "sum",
           "hovertemplate": "desig=%{x}<br>year=2037<br>sum of eid=%{y}<extra></extra>",
           "ids": [
            "ACC{HQ}"
           ],
           "legendgroup": "ACC{HQ}",
           "marker": {
            "color": "#F58518",
            "pattern": {
             "shape": ""
            }
           },
           "name": "ACC{HQ}",
           "offsetgroup": "ACC{HQ}",
           "orientation": "v",
           "showlegend": true,
           "type": "histogram",
           "x": [
            "ACC{HQ}"
           ],
           "xaxis": "x",
           "y": [
            11
           ],
           "yaxis": "y"
          },
          {
           "alignmentgroup": "True",
           "bingroup": "x",
           "histfunc": "sum",
           "hovertemplate": "desig=%{x}<br>year=2037<br>sum of eid=%{y}<extra></extra>",
           "ids": [
            "APFC"
           ],
           "legendgroup": "APFC",
           "marker": {
            "color": "#E45756",
            "pattern": {
             "shape": ""
            }
           },
           "name": "APFC",
           "offsetgroup": "APFC",
           "orientation": "v",
           "showlegend": true,
           "type": "histogram",
           "x": [
            "APFC"
           ],
           "xaxis": "x",
           "y": [
            445
           ],
           "yaxis": "y"
          },
          {
           "alignmentgroup": "True",
           "bingroup": "x",
           "histfunc": "sum",
           "hovertemplate": "desig=%{x}<br>year=2037<br>sum of eid=%{y}<extra></extra>",
           "ids": [
            "RPFC-I"
           ],
           "legendgroup": "RPFC-I",
           "marker": {
            "color": "#72B7B2",
            "pattern": {
             "shape": ""
            }
           },
           "name": "RPFC-I",
           "offsetgroup": "RPFC-I",
           "orientation": "v",
           "showlegend": true,
           "type": "histogram",
           "x": [
            "RPFC-I"
           ],
           "xaxis": "x",
           "y": [
            240
           ],
           "yaxis": "y"
          },
          {
           "alignmentgroup": "True",
           "bingroup": "x",
           "histfunc": "sum",
           "hovertemplate": "desig=%{x}<br>year=2037<br>sum of eid=%{y}<extra></extra>",
           "ids": [
            "RPFC-II"
           ],
           "legendgroup": "RPFC-II",
           "marker": {
            "color": "#54A24B",
            "pattern": {
             "shape": ""
            }
           },
           "name": "RPFC-II",
           "offsetgroup": "RPFC-II",
           "orientation": "v",
           "showlegend": true,
           "type": "histogram",
           "x": [
            "RPFC-II"
           ],
           "xaxis": "x",
           "y": [
            302
           ],
           "yaxis": "y"
          }
         ],
         "name": "2037"
        },
        {
         "data": [
          {
           "alignmentgroup": "True",
           "bingroup": "x",
           "histfunc": "sum",
           "hovertemplate": "desig=%{x}<br>year=2038<br>sum of eid=%{y}<extra></extra>",
           "ids": [
            "ACC"
           ],
           "legendgroup": "ACC",
           "marker": {
            "color": "#4C78A8",
            "pattern": {
             "shape": ""
            }
           },
           "name": "ACC",
           "offsetgroup": "ACC",
           "orientation": "v",
           "showlegend": true,
           "type": "histogram",
           "x": [
            "ACC"
           ],
           "xaxis": "x",
           "y": [
            32
           ],
           "yaxis": "y"
          },
          {
           "alignmentgroup": "True",
           "bingroup": "x",
           "histfunc": "sum",
           "hovertemplate": "desig=%{x}<br>year=2038<br>sum of eid=%{y}<extra></extra>",
           "ids": [
            "ACC{HQ}"
           ],
           "legendgroup": "ACC{HQ}",
           "marker": {
            "color": "#F58518",
            "pattern": {
             "shape": ""
            }
           },
           "name": "ACC{HQ}",
           "offsetgroup": "ACC{HQ}",
           "orientation": "v",
           "showlegend": true,
           "type": "histogram",
           "x": [
            "ACC{HQ}"
           ],
           "xaxis": "x",
           "y": [
            11
           ],
           "yaxis": "y"
          },
          {
           "alignmentgroup": "True",
           "bingroup": "x",
           "histfunc": "sum",
           "hovertemplate": "desig=%{x}<br>year=2038<br>sum of eid=%{y}<extra></extra>",
           "ids": [
            "APFC"
           ],
           "legendgroup": "APFC",
           "marker": {
            "color": "#E45756",
            "pattern": {
             "shape": ""
            }
           },
           "name": "APFC",
           "offsetgroup": "APFC",
           "orientation": "v",
           "showlegend": true,
           "type": "histogram",
           "x": [
            "APFC"
           ],
           "xaxis": "x",
           "y": [
            445
           ],
           "yaxis": "y"
          },
          {
           "alignmentgroup": "True",
           "bingroup": "x",
           "histfunc": "sum",
           "hovertemplate": "desig=%{x}<br>year=2038<br>sum of eid=%{y}<extra></extra>",
           "ids": [
            "RPFC-I"
           ],
           "legendgroup": "RPFC-I",
           "marker": {
            "color": "#72B7B2",
            "pattern": {
             "shape": ""
            }
           },
           "name": "RPFC-I",
           "offsetgroup": "RPFC-I",
           "orientation": "v",
           "showlegend": true,
           "type": "histogram",
           "x": [
            "RPFC-I"
           ],
           "xaxis": "x",
           "y": [
            240
           ],
           "yaxis": "y"
          },
          {
           "alignmentgroup": "True",
           "bingroup": "x",
           "histfunc": "sum",
           "hovertemplate": "desig=%{x}<br>year=2038<br>sum of eid=%{y}<extra></extra>",
           "ids": [
            "RPFC-II"
           ],
           "legendgroup": "RPFC-II",
           "marker": {
            "color": "#54A24B",
            "pattern": {
             "shape": ""
            }
           },
           "name": "RPFC-II",
           "offsetgroup": "RPFC-II",
           "orientation": "v",
           "showlegend": true,
           "type": "histogram",
           "x": [
            "RPFC-II"
           ],
           "xaxis": "x",
           "y": [
            302
           ],
           "yaxis": "y"
          }
         ],
         "name": "2038"
        },
        {
         "data": [
          {
           "alignmentgroup": "True",
           "bingroup": "x",
           "histfunc": "sum",
           "hovertemplate": "desig=%{x}<br>year=2039<br>sum of eid=%{y}<extra></extra>",
           "ids": [
            "ACC"
           ],
           "legendgroup": "ACC",
           "marker": {
            "color": "#4C78A8",
            "pattern": {
             "shape": ""
            }
           },
           "name": "ACC",
           "offsetgroup": "ACC",
           "orientation": "v",
           "showlegend": true,
           "type": "histogram",
           "x": [
            "ACC"
           ],
           "xaxis": "x",
           "y": [
            32
           ],
           "yaxis": "y"
          },
          {
           "alignmentgroup": "True",
           "bingroup": "x",
           "histfunc": "sum",
           "hovertemplate": "desig=%{x}<br>year=2039<br>sum of eid=%{y}<extra></extra>",
           "ids": [
            "ACC{HQ}"
           ],
           "legendgroup": "ACC{HQ}",
           "marker": {
            "color": "#F58518",
            "pattern": {
             "shape": ""
            }
           },
           "name": "ACC{HQ}",
           "offsetgroup": "ACC{HQ}",
           "orientation": "v",
           "showlegend": true,
           "type": "histogram",
           "x": [
            "ACC{HQ}"
           ],
           "xaxis": "x",
           "y": [
            11
           ],
           "yaxis": "y"
          },
          {
           "alignmentgroup": "True",
           "bingroup": "x",
           "histfunc": "sum",
           "hovertemplate": "desig=%{x}<br>year=2039<br>sum of eid=%{y}<extra></extra>",
           "ids": [
            "APFC"
           ],
           "legendgroup": "APFC",
           "marker": {
            "color": "#E45756",
            "pattern": {
             "shape": ""
            }
           },
           "name": "APFC",
           "offsetgroup": "APFC",
           "orientation": "v",
           "showlegend": true,
           "type": "histogram",
           "x": [
            "APFC"
           ],
           "xaxis": "x",
           "y": [
            445
           ],
           "yaxis": "y"
          },
          {
           "alignmentgroup": "True",
           "bingroup": "x",
           "histfunc": "sum",
           "hovertemplate": "desig=%{x}<br>year=2039<br>sum of eid=%{y}<extra></extra>",
           "ids": [
            "RPFC-I"
           ],
           "legendgroup": "RPFC-I",
           "marker": {
            "color": "#72B7B2",
            "pattern": {
             "shape": ""
            }
           },
           "name": "RPFC-I",
           "offsetgroup": "RPFC-I",
           "orientation": "v",
           "showlegend": true,
           "type": "histogram",
           "x": [
            "RPFC-I"
           ],
           "xaxis": "x",
           "y": [
            240
           ],
           "yaxis": "y"
          },
          {
           "alignmentgroup": "True",
           "bingroup": "x",
           "histfunc": "sum",
           "hovertemplate": "desig=%{x}<br>year=2039<br>sum of eid=%{y}<extra></extra>",
           "ids": [
            "RPFC-II"
           ],
           "legendgroup": "RPFC-II",
           "marker": {
            "color": "#54A24B",
            "pattern": {
             "shape": ""
            }
           },
           "name": "RPFC-II",
           "offsetgroup": "RPFC-II",
           "orientation": "v",
           "showlegend": true,
           "type": "histogram",
           "x": [
            "RPFC-II"
           ],
           "xaxis": "x",
           "y": [
            302
           ],
           "yaxis": "y"
          }
         ],
         "name": "2039"
        },
        {
         "data": [
          {
           "alignmentgroup": "True",
           "bingroup": "x",
           "histfunc": "sum",
           "hovertemplate": "desig=%{x}<br>year=2040<br>sum of eid=%{y}<extra></extra>",
           "ids": [
            "ACC"
           ],
           "legendgroup": "ACC",
           "marker": {
            "color": "#4C78A8",
            "pattern": {
             "shape": ""
            }
           },
           "name": "ACC",
           "offsetgroup": "ACC",
           "orientation": "v",
           "showlegend": true,
           "type": "histogram",
           "x": [
            "ACC"
           ],
           "xaxis": "x",
           "y": [
            32
           ],
           "yaxis": "y"
          },
          {
           "alignmentgroup": "True",
           "bingroup": "x",
           "histfunc": "sum",
           "hovertemplate": "desig=%{x}<br>year=2040<br>sum of eid=%{y}<extra></extra>",
           "ids": [
            "ACC{HQ}"
           ],
           "legendgroup": "ACC{HQ}",
           "marker": {
            "color": "#F58518",
            "pattern": {
             "shape": ""
            }
           },
           "name": "ACC{HQ}",
           "offsetgroup": "ACC{HQ}",
           "orientation": "v",
           "showlegend": true,
           "type": "histogram",
           "x": [
            "ACC{HQ}"
           ],
           "xaxis": "x",
           "y": [
            11
           ],
           "yaxis": "y"
          },
          {
           "alignmentgroup": "True",
           "bingroup": "x",
           "histfunc": "sum",
           "hovertemplate": "desig=%{x}<br>year=2040<br>sum of eid=%{y}<extra></extra>",
           "ids": [
            "APFC"
           ],
           "legendgroup": "APFC",
           "marker": {
            "color": "#E45756",
            "pattern": {
             "shape": ""
            }
           },
           "name": "APFC",
           "offsetgroup": "APFC",
           "orientation": "v",
           "showlegend": true,
           "type": "histogram",
           "x": [
            "APFC"
           ],
           "xaxis": "x",
           "y": [
            445
           ],
           "yaxis": "y"
          },
          {
           "alignmentgroup": "True",
           "bingroup": "x",
           "histfunc": "sum",
           "hovertemplate": "desig=%{x}<br>year=2040<br>sum of eid=%{y}<extra></extra>",
           "ids": [
            "RPFC-I"
           ],
           "legendgroup": "RPFC-I",
           "marker": {
            "color": "#72B7B2",
            "pattern": {
             "shape": ""
            }
           },
           "name": "RPFC-I",
           "offsetgroup": "RPFC-I",
           "orientation": "v",
           "showlegend": true,
           "type": "histogram",
           "x": [
            "RPFC-I"
           ],
           "xaxis": "x",
           "y": [
            240
           ],
           "yaxis": "y"
          },
          {
           "alignmentgroup": "True",
           "bingroup": "x",
           "histfunc": "sum",
           "hovertemplate": "desig=%{x}<br>year=2040<br>sum of eid=%{y}<extra></extra>",
           "ids": [
            "RPFC-II"
           ],
           "legendgroup": "RPFC-II",
           "marker": {
            "color": "#54A24B",
            "pattern": {
             "shape": ""
            }
           },
           "name": "RPFC-II",
           "offsetgroup": "RPFC-II",
           "orientation": "v",
           "showlegend": true,
           "type": "histogram",
           "x": [
            "RPFC-II"
           ],
           "xaxis": "x",
           "y": [
            302
           ],
           "yaxis": "y"
          }
         ],
         "name": "2040"
        },
        {
         "data": [
          {
           "alignmentgroup": "True",
           "bingroup": "x",
           "histfunc": "sum",
           "hovertemplate": "desig=%{x}<br>year=2041<br>sum of eid=%{y}<extra></extra>",
           "ids": [
            "ACC"
           ],
           "legendgroup": "ACC",
           "marker": {
            "color": "#4C78A8",
            "pattern": {
             "shape": ""
            }
           },
           "name": "ACC",
           "offsetgroup": "ACC",
           "orientation": "v",
           "showlegend": true,
           "type": "histogram",
           "x": [
            "ACC"
           ],
           "xaxis": "x",
           "y": [
            32
           ],
           "yaxis": "y"
          },
          {
           "alignmentgroup": "True",
           "bingroup": "x",
           "histfunc": "sum",
           "hovertemplate": "desig=%{x}<br>year=2041<br>sum of eid=%{y}<extra></extra>",
           "ids": [
            "ACC{HQ}"
           ],
           "legendgroup": "ACC{HQ}",
           "marker": {
            "color": "#F58518",
            "pattern": {
             "shape": ""
            }
           },
           "name": "ACC{HQ}",
           "offsetgroup": "ACC{HQ}",
           "orientation": "v",
           "showlegend": true,
           "type": "histogram",
           "x": [
            "ACC{HQ}"
           ],
           "xaxis": "x",
           "y": [
            11
           ],
           "yaxis": "y"
          },
          {
           "alignmentgroup": "True",
           "bingroup": "x",
           "histfunc": "sum",
           "hovertemplate": "desig=%{x}<br>year=2041<br>sum of eid=%{y}<extra></extra>",
           "ids": [
            "APFC"
           ],
           "legendgroup": "APFC",
           "marker": {
            "color": "#E45756",
            "pattern": {
             "shape": ""
            }
           },
           "name": "APFC",
           "offsetgroup": "APFC",
           "orientation": "v",
           "showlegend": true,
           "type": "histogram",
           "x": [
            "APFC"
           ],
           "xaxis": "x",
           "y": [
            445
           ],
           "yaxis": "y"
          },
          {
           "alignmentgroup": "True",
           "bingroup": "x",
           "histfunc": "sum",
           "hovertemplate": "desig=%{x}<br>year=2041<br>sum of eid=%{y}<extra></extra>",
           "ids": [
            "RPFC-I"
           ],
           "legendgroup": "RPFC-I",
           "marker": {
            "color": "#72B7B2",
            "pattern": {
             "shape": ""
            }
           },
           "name": "RPFC-I",
           "offsetgroup": "RPFC-I",
           "orientation": "v",
           "showlegend": true,
           "type": "histogram",
           "x": [
            "RPFC-I"
           ],
           "xaxis": "x",
           "y": [
            240
           ],
           "yaxis": "y"
          },
          {
           "alignmentgroup": "True",
           "bingroup": "x",
           "histfunc": "sum",
           "hovertemplate": "desig=%{x}<br>year=2041<br>sum of eid=%{y}<extra></extra>",
           "ids": [
            "RPFC-II"
           ],
           "legendgroup": "RPFC-II",
           "marker": {
            "color": "#54A24B",
            "pattern": {
             "shape": ""
            }
           },
           "name": "RPFC-II",
           "offsetgroup": "RPFC-II",
           "orientation": "v",
           "showlegend": true,
           "type": "histogram",
           "x": [
            "RPFC-II"
           ],
           "xaxis": "x",
           "y": [
            302
           ],
           "yaxis": "y"
          }
         ],
         "name": "2041"
        },
        {
         "data": [
          {
           "alignmentgroup": "True",
           "bingroup": "x",
           "histfunc": "sum",
           "hovertemplate": "desig=%{x}<br>year=2042<br>sum of eid=%{y}<extra></extra>",
           "ids": [
            "ACC"
           ],
           "legendgroup": "ACC",
           "marker": {
            "color": "#4C78A8",
            "pattern": {
             "shape": ""
            }
           },
           "name": "ACC",
           "offsetgroup": "ACC",
           "orientation": "v",
           "showlegend": true,
           "type": "histogram",
           "x": [
            "ACC"
           ],
           "xaxis": "x",
           "y": [
            32
           ],
           "yaxis": "y"
          },
          {
           "alignmentgroup": "True",
           "bingroup": "x",
           "histfunc": "sum",
           "hovertemplate": "desig=%{x}<br>year=2042<br>sum of eid=%{y}<extra></extra>",
           "ids": [
            "ACC{HQ}"
           ],
           "legendgroup": "ACC{HQ}",
           "marker": {
            "color": "#F58518",
            "pattern": {
             "shape": ""
            }
           },
           "name": "ACC{HQ}",
           "offsetgroup": "ACC{HQ}",
           "orientation": "v",
           "showlegend": true,
           "type": "histogram",
           "x": [
            "ACC{HQ}"
           ],
           "xaxis": "x",
           "y": [
            11
           ],
           "yaxis": "y"
          },
          {
           "alignmentgroup": "True",
           "bingroup": "x",
           "histfunc": "sum",
           "hovertemplate": "desig=%{x}<br>year=2042<br>sum of eid=%{y}<extra></extra>",
           "ids": [
            "APFC"
           ],
           "legendgroup": "APFC",
           "marker": {
            "color": "#E45756",
            "pattern": {
             "shape": ""
            }
           },
           "name": "APFC",
           "offsetgroup": "APFC",
           "orientation": "v",
           "showlegend": true,
           "type": "histogram",
           "x": [
            "APFC"
           ],
           "xaxis": "x",
           "y": [
            445
           ],
           "yaxis": "y"
          },
          {
           "alignmentgroup": "True",
           "bingroup": "x",
           "histfunc": "sum",
           "hovertemplate": "desig=%{x}<br>year=2042<br>sum of eid=%{y}<extra></extra>",
           "ids": [
            "RPFC-I"
           ],
           "legendgroup": "RPFC-I",
           "marker": {
            "color": "#72B7B2",
            "pattern": {
             "shape": ""
            }
           },
           "name": "RPFC-I",
           "offsetgroup": "RPFC-I",
           "orientation": "v",
           "showlegend": true,
           "type": "histogram",
           "x": [
            "RPFC-I"
           ],
           "xaxis": "x",
           "y": [
            240
           ],
           "yaxis": "y"
          },
          {
           "alignmentgroup": "True",
           "bingroup": "x",
           "histfunc": "sum",
           "hovertemplate": "desig=%{x}<br>year=2042<br>sum of eid=%{y}<extra></extra>",
           "ids": [
            "RPFC-II"
           ],
           "legendgroup": "RPFC-II",
           "marker": {
            "color": "#54A24B",
            "pattern": {
             "shape": ""
            }
           },
           "name": "RPFC-II",
           "offsetgroup": "RPFC-II",
           "orientation": "v",
           "showlegend": true,
           "type": "histogram",
           "x": [
            "RPFC-II"
           ],
           "xaxis": "x",
           "y": [
            302
           ],
           "yaxis": "y"
          }
         ],
         "name": "2042"
        },
        {
         "data": [
          {
           "alignmentgroup": "True",
           "bingroup": "x",
           "histfunc": "sum",
           "hovertemplate": "desig=%{x}<br>year=2043<br>sum of eid=%{y}<extra></extra>",
           "ids": [
            "ACC"
           ],
           "legendgroup": "ACC",
           "marker": {
            "color": "#4C78A8",
            "pattern": {
             "shape": ""
            }
           },
           "name": "ACC",
           "offsetgroup": "ACC",
           "orientation": "v",
           "showlegend": true,
           "type": "histogram",
           "x": [
            "ACC"
           ],
           "xaxis": "x",
           "y": [
            32
           ],
           "yaxis": "y"
          },
          {
           "alignmentgroup": "True",
           "bingroup": "x",
           "histfunc": "sum",
           "hovertemplate": "desig=%{x}<br>year=2043<br>sum of eid=%{y}<extra></extra>",
           "ids": [
            "ACC{HQ}"
           ],
           "legendgroup": "ACC{HQ}",
           "marker": {
            "color": "#F58518",
            "pattern": {
             "shape": ""
            }
           },
           "name": "ACC{HQ}",
           "offsetgroup": "ACC{HQ}",
           "orientation": "v",
           "showlegend": true,
           "type": "histogram",
           "x": [
            "ACC{HQ}"
           ],
           "xaxis": "x",
           "y": [
            11
           ],
           "yaxis": "y"
          },
          {
           "alignmentgroup": "True",
           "bingroup": "x",
           "histfunc": "sum",
           "hovertemplate": "desig=%{x}<br>year=2043<br>sum of eid=%{y}<extra></extra>",
           "ids": [
            "APFC"
           ],
           "legendgroup": "APFC",
           "marker": {
            "color": "#E45756",
            "pattern": {
             "shape": ""
            }
           },
           "name": "APFC",
           "offsetgroup": "APFC",
           "orientation": "v",
           "showlegend": true,
           "type": "histogram",
           "x": [
            "APFC"
           ],
           "xaxis": "x",
           "y": [
            445
           ],
           "yaxis": "y"
          },
          {
           "alignmentgroup": "True",
           "bingroup": "x",
           "histfunc": "sum",
           "hovertemplate": "desig=%{x}<br>year=2043<br>sum of eid=%{y}<extra></extra>",
           "ids": [
            "RPFC-I"
           ],
           "legendgroup": "RPFC-I",
           "marker": {
            "color": "#72B7B2",
            "pattern": {
             "shape": ""
            }
           },
           "name": "RPFC-I",
           "offsetgroup": "RPFC-I",
           "orientation": "v",
           "showlegend": true,
           "type": "histogram",
           "x": [
            "RPFC-I"
           ],
           "xaxis": "x",
           "y": [
            240
           ],
           "yaxis": "y"
          },
          {
           "alignmentgroup": "True",
           "bingroup": "x",
           "histfunc": "sum",
           "hovertemplate": "desig=%{x}<br>year=2043<br>sum of eid=%{y}<extra></extra>",
           "ids": [
            "RPFC-II"
           ],
           "legendgroup": "RPFC-II",
           "marker": {
            "color": "#54A24B",
            "pattern": {
             "shape": ""
            }
           },
           "name": "RPFC-II",
           "offsetgroup": "RPFC-II",
           "orientation": "v",
           "showlegend": true,
           "type": "histogram",
           "x": [
            "RPFC-II"
           ],
           "xaxis": "x",
           "y": [
            302
           ],
           "yaxis": "y"
          }
         ],
         "name": "2043"
        },
        {
         "data": [
          {
           "alignmentgroup": "True",
           "bingroup": "x",
           "histfunc": "sum",
           "hovertemplate": "desig=%{x}<br>year=2044<br>sum of eid=%{y}<extra></extra>",
           "ids": [
            "ACC"
           ],
           "legendgroup": "ACC",
           "marker": {
            "color": "#4C78A8",
            "pattern": {
             "shape": ""
            }
           },
           "name": "ACC",
           "offsetgroup": "ACC",
           "orientation": "v",
           "showlegend": true,
           "type": "histogram",
           "x": [
            "ACC"
           ],
           "xaxis": "x",
           "y": [
            32
           ],
           "yaxis": "y"
          },
          {
           "alignmentgroup": "True",
           "bingroup": "x",
           "histfunc": "sum",
           "hovertemplate": "desig=%{x}<br>year=2044<br>sum of eid=%{y}<extra></extra>",
           "ids": [
            "ACC{HQ}"
           ],
           "legendgroup": "ACC{HQ}",
           "marker": {
            "color": "#F58518",
            "pattern": {
             "shape": ""
            }
           },
           "name": "ACC{HQ}",
           "offsetgroup": "ACC{HQ}",
           "orientation": "v",
           "showlegend": true,
           "type": "histogram",
           "x": [
            "ACC{HQ}"
           ],
           "xaxis": "x",
           "y": [
            11
           ],
           "yaxis": "y"
          },
          {
           "alignmentgroup": "True",
           "bingroup": "x",
           "histfunc": "sum",
           "hovertemplate": "desig=%{x}<br>year=2044<br>sum of eid=%{y}<extra></extra>",
           "ids": [
            "APFC"
           ],
           "legendgroup": "APFC",
           "marker": {
            "color": "#E45756",
            "pattern": {
             "shape": ""
            }
           },
           "name": "APFC",
           "offsetgroup": "APFC",
           "orientation": "v",
           "showlegend": true,
           "type": "histogram",
           "x": [
            "APFC"
           ],
           "xaxis": "x",
           "y": [
            445
           ],
           "yaxis": "y"
          },
          {
           "alignmentgroup": "True",
           "bingroup": "x",
           "histfunc": "sum",
           "hovertemplate": "desig=%{x}<br>year=2044<br>sum of eid=%{y}<extra></extra>",
           "ids": [
            "RPFC-I"
           ],
           "legendgroup": "RPFC-I",
           "marker": {
            "color": "#72B7B2",
            "pattern": {
             "shape": ""
            }
           },
           "name": "RPFC-I",
           "offsetgroup": "RPFC-I",
           "orientation": "v",
           "showlegend": true,
           "type": "histogram",
           "x": [
            "RPFC-I"
           ],
           "xaxis": "x",
           "y": [
            240
           ],
           "yaxis": "y"
          },
          {
           "alignmentgroup": "True",
           "bingroup": "x",
           "histfunc": "sum",
           "hovertemplate": "desig=%{x}<br>year=2044<br>sum of eid=%{y}<extra></extra>",
           "ids": [
            "RPFC-II"
           ],
           "legendgroup": "RPFC-II",
           "marker": {
            "color": "#54A24B",
            "pattern": {
             "shape": ""
            }
           },
           "name": "RPFC-II",
           "offsetgroup": "RPFC-II",
           "orientation": "v",
           "showlegend": true,
           "type": "histogram",
           "x": [
            "RPFC-II"
           ],
           "xaxis": "x",
           "y": [
            302
           ],
           "yaxis": "y"
          }
         ],
         "name": "2044"
        },
        {
         "data": [
          {
           "alignmentgroup": "True",
           "bingroup": "x",
           "histfunc": "sum",
           "hovertemplate": "desig=%{x}<br>year=2045<br>sum of eid=%{y}<extra></extra>",
           "ids": [
            "ACC"
           ],
           "legendgroup": "ACC",
           "marker": {
            "color": "#4C78A8",
            "pattern": {
             "shape": ""
            }
           },
           "name": "ACC",
           "offsetgroup": "ACC",
           "orientation": "v",
           "showlegend": true,
           "type": "histogram",
           "x": [
            "ACC"
           ],
           "xaxis": "x",
           "y": [
            32
           ],
           "yaxis": "y"
          },
          {
           "alignmentgroup": "True",
           "bingroup": "x",
           "histfunc": "sum",
           "hovertemplate": "desig=%{x}<br>year=2045<br>sum of eid=%{y}<extra></extra>",
           "ids": [
            "ACC{HQ}"
           ],
           "legendgroup": "ACC{HQ}",
           "marker": {
            "color": "#F58518",
            "pattern": {
             "shape": ""
            }
           },
           "name": "ACC{HQ}",
           "offsetgroup": "ACC{HQ}",
           "orientation": "v",
           "showlegend": true,
           "type": "histogram",
           "x": [
            "ACC{HQ}"
           ],
           "xaxis": "x",
           "y": [
            11
           ],
           "yaxis": "y"
          },
          {
           "alignmentgroup": "True",
           "bingroup": "x",
           "histfunc": "sum",
           "hovertemplate": "desig=%{x}<br>year=2045<br>sum of eid=%{y}<extra></extra>",
           "ids": [
            "APFC"
           ],
           "legendgroup": "APFC",
           "marker": {
            "color": "#E45756",
            "pattern": {
             "shape": ""
            }
           },
           "name": "APFC",
           "offsetgroup": "APFC",
           "orientation": "v",
           "showlegend": true,
           "type": "histogram",
           "x": [
            "APFC"
           ],
           "xaxis": "x",
           "y": [
            445
           ],
           "yaxis": "y"
          },
          {
           "alignmentgroup": "True",
           "bingroup": "x",
           "histfunc": "sum",
           "hovertemplate": "desig=%{x}<br>year=2045<br>sum of eid=%{y}<extra></extra>",
           "ids": [
            "RPFC-I"
           ],
           "legendgroup": "RPFC-I",
           "marker": {
            "color": "#72B7B2",
            "pattern": {
             "shape": ""
            }
           },
           "name": "RPFC-I",
           "offsetgroup": "RPFC-I",
           "orientation": "v",
           "showlegend": true,
           "type": "histogram",
           "x": [
            "RPFC-I"
           ],
           "xaxis": "x",
           "y": [
            240
           ],
           "yaxis": "y"
          },
          {
           "alignmentgroup": "True",
           "bingroup": "x",
           "histfunc": "sum",
           "hovertemplate": "desig=%{x}<br>year=2045<br>sum of eid=%{y}<extra></extra>",
           "ids": [
            "RPFC-II"
           ],
           "legendgroup": "RPFC-II",
           "marker": {
            "color": "#54A24B",
            "pattern": {
             "shape": ""
            }
           },
           "name": "RPFC-II",
           "offsetgroup": "RPFC-II",
           "orientation": "v",
           "showlegend": true,
           "type": "histogram",
           "x": [
            "RPFC-II"
           ],
           "xaxis": "x",
           "y": [
            302
           ],
           "yaxis": "y"
          }
         ],
         "name": "2045"
        },
        {
         "data": [
          {
           "alignmentgroup": "True",
           "bingroup": "x",
           "histfunc": "sum",
           "hovertemplate": "desig=%{x}<br>year=2046<br>sum of eid=%{y}<extra></extra>",
           "ids": [
            "ACC"
           ],
           "legendgroup": "ACC",
           "marker": {
            "color": "#4C78A8",
            "pattern": {
             "shape": ""
            }
           },
           "name": "ACC",
           "offsetgroup": "ACC",
           "orientation": "v",
           "showlegend": true,
           "type": "histogram",
           "x": [
            "ACC"
           ],
           "xaxis": "x",
           "y": [
            32
           ],
           "yaxis": "y"
          },
          {
           "alignmentgroup": "True",
           "bingroup": "x",
           "histfunc": "sum",
           "hovertemplate": "desig=%{x}<br>year=2046<br>sum of eid=%{y}<extra></extra>",
           "ids": [
            "ACC{HQ}"
           ],
           "legendgroup": "ACC{HQ}",
           "marker": {
            "color": "#F58518",
            "pattern": {
             "shape": ""
            }
           },
           "name": "ACC{HQ}",
           "offsetgroup": "ACC{HQ}",
           "orientation": "v",
           "showlegend": true,
           "type": "histogram",
           "x": [
            "ACC{HQ}"
           ],
           "xaxis": "x",
           "y": [
            11
           ],
           "yaxis": "y"
          },
          {
           "alignmentgroup": "True",
           "bingroup": "x",
           "histfunc": "sum",
           "hovertemplate": "desig=%{x}<br>year=2046<br>sum of eid=%{y}<extra></extra>",
           "ids": [
            "APFC"
           ],
           "legendgroup": "APFC",
           "marker": {
            "color": "#E45756",
            "pattern": {
             "shape": ""
            }
           },
           "name": "APFC",
           "offsetgroup": "APFC",
           "orientation": "v",
           "showlegend": true,
           "type": "histogram",
           "x": [
            "APFC"
           ],
           "xaxis": "x",
           "y": [
            445
           ],
           "yaxis": "y"
          },
          {
           "alignmentgroup": "True",
           "bingroup": "x",
           "histfunc": "sum",
           "hovertemplate": "desig=%{x}<br>year=2046<br>sum of eid=%{y}<extra></extra>",
           "ids": [
            "RPFC-I"
           ],
           "legendgroup": "RPFC-I",
           "marker": {
            "color": "#72B7B2",
            "pattern": {
             "shape": ""
            }
           },
           "name": "RPFC-I",
           "offsetgroup": "RPFC-I",
           "orientation": "v",
           "showlegend": true,
           "type": "histogram",
           "x": [
            "RPFC-I"
           ],
           "xaxis": "x",
           "y": [
            240
           ],
           "yaxis": "y"
          },
          {
           "alignmentgroup": "True",
           "bingroup": "x",
           "histfunc": "sum",
           "hovertemplate": "desig=%{x}<br>year=2046<br>sum of eid=%{y}<extra></extra>",
           "ids": [
            "RPFC-II"
           ],
           "legendgroup": "RPFC-II",
           "marker": {
            "color": "#54A24B",
            "pattern": {
             "shape": ""
            }
           },
           "name": "RPFC-II",
           "offsetgroup": "RPFC-II",
           "orientation": "v",
           "showlegend": true,
           "type": "histogram",
           "x": [
            "RPFC-II"
           ],
           "xaxis": "x",
           "y": [
            302
           ],
           "yaxis": "y"
          }
         ],
         "name": "2046"
        },
        {
         "data": [
          {
           "alignmentgroup": "True",
           "bingroup": "x",
           "histfunc": "sum",
           "hovertemplate": "desig=%{x}<br>year=2047<br>sum of eid=%{y}<extra></extra>",
           "ids": [
            "ACC"
           ],
           "legendgroup": "ACC",
           "marker": {
            "color": "#4C78A8",
            "pattern": {
             "shape": ""
            }
           },
           "name": "ACC",
           "offsetgroup": "ACC",
           "orientation": "v",
           "showlegend": true,
           "type": "histogram",
           "x": [
            "ACC"
           ],
           "xaxis": "x",
           "y": [
            32
           ],
           "yaxis": "y"
          },
          {
           "alignmentgroup": "True",
           "bingroup": "x",
           "histfunc": "sum",
           "hovertemplate": "desig=%{x}<br>year=2047<br>sum of eid=%{y}<extra></extra>",
           "ids": [
            "ACC{HQ}"
           ],
           "legendgroup": "ACC{HQ}",
           "marker": {
            "color": "#F58518",
            "pattern": {
             "shape": ""
            }
           },
           "name": "ACC{HQ}",
           "offsetgroup": "ACC{HQ}",
           "orientation": "v",
           "showlegend": true,
           "type": "histogram",
           "x": [
            "ACC{HQ}"
           ],
           "xaxis": "x",
           "y": [
            11
           ],
           "yaxis": "y"
          },
          {
           "alignmentgroup": "True",
           "bingroup": "x",
           "histfunc": "sum",
           "hovertemplate": "desig=%{x}<br>year=2047<br>sum of eid=%{y}<extra></extra>",
           "ids": [
            "APFC"
           ],
           "legendgroup": "APFC",
           "marker": {
            "color": "#E45756",
            "pattern": {
             "shape": ""
            }
           },
           "name": "APFC",
           "offsetgroup": "APFC",
           "orientation": "v",
           "showlegend": true,
           "type": "histogram",
           "x": [
            "APFC"
           ],
           "xaxis": "x",
           "y": [
            445
           ],
           "yaxis": "y"
          },
          {
           "alignmentgroup": "True",
           "bingroup": "x",
           "histfunc": "sum",
           "hovertemplate": "desig=%{x}<br>year=2047<br>sum of eid=%{y}<extra></extra>",
           "ids": [
            "RPFC-I"
           ],
           "legendgroup": "RPFC-I",
           "marker": {
            "color": "#72B7B2",
            "pattern": {
             "shape": ""
            }
           },
           "name": "RPFC-I",
           "offsetgroup": "RPFC-I",
           "orientation": "v",
           "showlegend": true,
           "type": "histogram",
           "x": [
            "RPFC-I"
           ],
           "xaxis": "x",
           "y": [
            240
           ],
           "yaxis": "y"
          },
          {
           "alignmentgroup": "True",
           "bingroup": "x",
           "histfunc": "sum",
           "hovertemplate": "desig=%{x}<br>year=2047<br>sum of eid=%{y}<extra></extra>",
           "ids": [
            "RPFC-II"
           ],
           "legendgroup": "RPFC-II",
           "marker": {
            "color": "#54A24B",
            "pattern": {
             "shape": ""
            }
           },
           "name": "RPFC-II",
           "offsetgroup": "RPFC-II",
           "orientation": "v",
           "showlegend": true,
           "type": "histogram",
           "x": [
            "RPFC-II"
           ],
           "xaxis": "x",
           "y": [
            302
           ],
           "yaxis": "y"
          }
         ],
         "name": "2047"
        },
        {
         "data": [
          {
           "alignmentgroup": "True",
           "bingroup": "x",
           "histfunc": "sum",
           "hovertemplate": "desig=%{x}<br>year=2048<br>sum of eid=%{y}<extra></extra>",
           "ids": [
            "ACC"
           ],
           "legendgroup": "ACC",
           "marker": {
            "color": "#4C78A8",
            "pattern": {
             "shape": ""
            }
           },
           "name": "ACC",
           "offsetgroup": "ACC",
           "orientation": "v",
           "showlegend": true,
           "type": "histogram",
           "x": [
            "ACC"
           ],
           "xaxis": "x",
           "y": [
            32
           ],
           "yaxis": "y"
          },
          {
           "alignmentgroup": "True",
           "bingroup": "x",
           "histfunc": "sum",
           "hovertemplate": "desig=%{x}<br>year=2048<br>sum of eid=%{y}<extra></extra>",
           "ids": [
            "ACC{HQ}"
           ],
           "legendgroup": "ACC{HQ}",
           "marker": {
            "color": "#F58518",
            "pattern": {
             "shape": ""
            }
           },
           "name": "ACC{HQ}",
           "offsetgroup": "ACC{HQ}",
           "orientation": "v",
           "showlegend": true,
           "type": "histogram",
           "x": [
            "ACC{HQ}"
           ],
           "xaxis": "x",
           "y": [
            11
           ],
           "yaxis": "y"
          },
          {
           "alignmentgroup": "True",
           "bingroup": "x",
           "histfunc": "sum",
           "hovertemplate": "desig=%{x}<br>year=2048<br>sum of eid=%{y}<extra></extra>",
           "ids": [
            "APFC"
           ],
           "legendgroup": "APFC",
           "marker": {
            "color": "#E45756",
            "pattern": {
             "shape": ""
            }
           },
           "name": "APFC",
           "offsetgroup": "APFC",
           "orientation": "v",
           "showlegend": true,
           "type": "histogram",
           "x": [
            "APFC"
           ],
           "xaxis": "x",
           "y": [
            445
           ],
           "yaxis": "y"
          },
          {
           "alignmentgroup": "True",
           "bingroup": "x",
           "histfunc": "sum",
           "hovertemplate": "desig=%{x}<br>year=2048<br>sum of eid=%{y}<extra></extra>",
           "ids": [
            "RPFC-I"
           ],
           "legendgroup": "RPFC-I",
           "marker": {
            "color": "#72B7B2",
            "pattern": {
             "shape": ""
            }
           },
           "name": "RPFC-I",
           "offsetgroup": "RPFC-I",
           "orientation": "v",
           "showlegend": true,
           "type": "histogram",
           "x": [
            "RPFC-I"
           ],
           "xaxis": "x",
           "y": [
            240
           ],
           "yaxis": "y"
          },
          {
           "alignmentgroup": "True",
           "bingroup": "x",
           "histfunc": "sum",
           "hovertemplate": "desig=%{x}<br>year=2048<br>sum of eid=%{y}<extra></extra>",
           "ids": [
            "RPFC-II"
           ],
           "legendgroup": "RPFC-II",
           "marker": {
            "color": "#54A24B",
            "pattern": {
             "shape": ""
            }
           },
           "name": "RPFC-II",
           "offsetgroup": "RPFC-II",
           "orientation": "v",
           "showlegend": true,
           "type": "histogram",
           "x": [
            "RPFC-II"
           ],
           "xaxis": "x",
           "y": [
            302
           ],
           "yaxis": "y"
          }
         ],
         "name": "2048"
        },
        {
         "data": [
          {
           "alignmentgroup": "True",
           "bingroup": "x",
           "histfunc": "sum",
           "hovertemplate": "desig=%{x}<br>year=2049<br>sum of eid=%{y}<extra></extra>",
           "ids": [
            "ACC"
           ],
           "legendgroup": "ACC",
           "marker": {
            "color": "#4C78A8",
            "pattern": {
             "shape": ""
            }
           },
           "name": "ACC",
           "offsetgroup": "ACC",
           "orientation": "v",
           "showlegend": true,
           "type": "histogram",
           "x": [
            "ACC"
           ],
           "xaxis": "x",
           "y": [
            32
           ],
           "yaxis": "y"
          },
          {
           "alignmentgroup": "True",
           "bingroup": "x",
           "histfunc": "sum",
           "hovertemplate": "desig=%{x}<br>year=2049<br>sum of eid=%{y}<extra></extra>",
           "ids": [
            "ACC{HQ}"
           ],
           "legendgroup": "ACC{HQ}",
           "marker": {
            "color": "#F58518",
            "pattern": {
             "shape": ""
            }
           },
           "name": "ACC{HQ}",
           "offsetgroup": "ACC{HQ}",
           "orientation": "v",
           "showlegend": true,
           "type": "histogram",
           "x": [
            "ACC{HQ}"
           ],
           "xaxis": "x",
           "y": [
            8
           ],
           "yaxis": "y"
          },
          {
           "alignmentgroup": "True",
           "bingroup": "x",
           "histfunc": "sum",
           "hovertemplate": "desig=%{x}<br>year=2049<br>sum of eid=%{y}<extra></extra>",
           "ids": [
            "APFC"
           ],
           "legendgroup": "APFC",
           "marker": {
            "color": "#E45756",
            "pattern": {
             "shape": ""
            }
           },
           "name": "APFC",
           "offsetgroup": "APFC",
           "orientation": "v",
           "showlegend": true,
           "type": "histogram",
           "x": [
            "APFC"
           ],
           "xaxis": "x",
           "y": [
            445
           ],
           "yaxis": "y"
          },
          {
           "alignmentgroup": "True",
           "bingroup": "x",
           "histfunc": "sum",
           "hovertemplate": "desig=%{x}<br>year=2049<br>sum of eid=%{y}<extra></extra>",
           "ids": [
            "RPFC-I"
           ],
           "legendgroup": "RPFC-I",
           "marker": {
            "color": "#72B7B2",
            "pattern": {
             "shape": ""
            }
           },
           "name": "RPFC-I",
           "offsetgroup": "RPFC-I",
           "orientation": "v",
           "showlegend": true,
           "type": "histogram",
           "x": [
            "RPFC-I"
           ],
           "xaxis": "x",
           "y": [
            240
           ],
           "yaxis": "y"
          },
          {
           "alignmentgroup": "True",
           "bingroup": "x",
           "histfunc": "sum",
           "hovertemplate": "desig=%{x}<br>year=2049<br>sum of eid=%{y}<extra></extra>",
           "ids": [
            "RPFC-II"
           ],
           "legendgroup": "RPFC-II",
           "marker": {
            "color": "#54A24B",
            "pattern": {
             "shape": ""
            }
           },
           "name": "RPFC-II",
           "offsetgroup": "RPFC-II",
           "orientation": "v",
           "showlegend": true,
           "type": "histogram",
           "x": [
            "RPFC-II"
           ],
           "xaxis": "x",
           "y": [
            302
           ],
           "yaxis": "y"
          }
         ],
         "name": "2049"
        },
        {
         "data": [
          {
           "alignmentgroup": "True",
           "bingroup": "x",
           "histfunc": "sum",
           "hovertemplate": "desig=%{x}<br>year=2050<br>sum of eid=%{y}<extra></extra>",
           "ids": [
            "ACC"
           ],
           "legendgroup": "ACC",
           "marker": {
            "color": "#4C78A8",
            "pattern": {
             "shape": ""
            }
           },
           "name": "ACC",
           "offsetgroup": "ACC",
           "orientation": "v",
           "showlegend": true,
           "type": "histogram",
           "x": [
            "ACC"
           ],
           "xaxis": "x",
           "y": [
            32
           ],
           "yaxis": "y"
          },
          {
           "alignmentgroup": "True",
           "bingroup": "x",
           "histfunc": "sum",
           "hovertemplate": "desig=%{x}<br>year=2050<br>sum of eid=%{y}<extra></extra>",
           "ids": [
            "ACC{HQ}"
           ],
           "legendgroup": "ACC{HQ}",
           "marker": {
            "color": "#F58518",
            "pattern": {
             "shape": ""
            }
           },
           "name": "ACC{HQ}",
           "offsetgroup": "ACC{HQ}",
           "orientation": "v",
           "showlegend": true,
           "type": "histogram",
           "x": [
            "ACC{HQ}"
           ],
           "xaxis": "x",
           "y": [
            5
           ],
           "yaxis": "y"
          },
          {
           "alignmentgroup": "True",
           "bingroup": "x",
           "histfunc": "sum",
           "hovertemplate": "desig=%{x}<br>year=2050<br>sum of eid=%{y}<extra></extra>",
           "ids": [
            "APFC"
           ],
           "legendgroup": "APFC",
           "marker": {
            "color": "#E45756",
            "pattern": {
             "shape": ""
            }
           },
           "name": "APFC",
           "offsetgroup": "APFC",
           "orientation": "v",
           "showlegend": true,
           "type": "histogram",
           "x": [
            "APFC"
           ],
           "xaxis": "x",
           "y": [
            445
           ],
           "yaxis": "y"
          },
          {
           "alignmentgroup": "True",
           "bingroup": "x",
           "histfunc": "sum",
           "hovertemplate": "desig=%{x}<br>year=2050<br>sum of eid=%{y}<extra></extra>",
           "ids": [
            "RPFC-I"
           ],
           "legendgroup": "RPFC-I",
           "marker": {
            "color": "#72B7B2",
            "pattern": {
             "shape": ""
            }
           },
           "name": "RPFC-I",
           "offsetgroup": "RPFC-I",
           "orientation": "v",
           "showlegend": true,
           "type": "histogram",
           "x": [
            "RPFC-I"
           ],
           "xaxis": "x",
           "y": [
            240
           ],
           "yaxis": "y"
          },
          {
           "alignmentgroup": "True",
           "bingroup": "x",
           "histfunc": "sum",
           "hovertemplate": "desig=%{x}<br>year=2050<br>sum of eid=%{y}<extra></extra>",
           "ids": [
            "RPFC-II"
           ],
           "legendgroup": "RPFC-II",
           "marker": {
            "color": "#54A24B",
            "pattern": {
             "shape": ""
            }
           },
           "name": "RPFC-II",
           "offsetgroup": "RPFC-II",
           "orientation": "v",
           "showlegend": true,
           "type": "histogram",
           "x": [
            "RPFC-II"
           ],
           "xaxis": "x",
           "y": [
            302
           ],
           "yaxis": "y"
          }
         ],
         "name": "2050"
        },
        {
         "data": [
          {
           "alignmentgroup": "True",
           "bingroup": "x",
           "histfunc": "sum",
           "hovertemplate": "desig=%{x}<br>year=2051<br>sum of eid=%{y}<extra></extra>",
           "ids": [
            "ACC"
           ],
           "legendgroup": "ACC",
           "marker": {
            "color": "#4C78A8",
            "pattern": {
             "shape": ""
            }
           },
           "name": "ACC",
           "offsetgroup": "ACC",
           "orientation": "v",
           "showlegend": true,
           "type": "histogram",
           "x": [
            "ACC"
           ],
           "xaxis": "x",
           "y": [
            32
           ],
           "yaxis": "y"
          },
          {
           "alignmentgroup": "True",
           "bingroup": "x",
           "histfunc": "sum",
           "hovertemplate": "desig=%{x}<br>year=2051<br>sum of eid=%{y}<extra></extra>",
           "ids": [
            "APFC"
           ],
           "legendgroup": "APFC",
           "marker": {
            "color": "#E45756",
            "pattern": {
             "shape": ""
            }
           },
           "name": "APFC",
           "offsetgroup": "APFC",
           "orientation": "v",
           "showlegend": true,
           "type": "histogram",
           "x": [
            "APFC"
           ],
           "xaxis": "x",
           "y": [
            445
           ],
           "yaxis": "y"
          },
          {
           "alignmentgroup": "True",
           "bingroup": "x",
           "histfunc": "sum",
           "hovertemplate": "desig=%{x}<br>year=2051<br>sum of eid=%{y}<extra></extra>",
           "ids": [
            "RPFC-I"
           ],
           "legendgroup": "RPFC-I",
           "marker": {
            "color": "#72B7B2",
            "pattern": {
             "shape": ""
            }
           },
           "name": "RPFC-I",
           "offsetgroup": "RPFC-I",
           "orientation": "v",
           "showlegend": true,
           "type": "histogram",
           "x": [
            "RPFC-I"
           ],
           "xaxis": "x",
           "y": [
            240
           ],
           "yaxis": "y"
          },
          {
           "alignmentgroup": "True",
           "bingroup": "x",
           "histfunc": "sum",
           "hovertemplate": "desig=%{x}<br>year=2051<br>sum of eid=%{y}<extra></extra>",
           "ids": [
            "RPFC-II"
           ],
           "legendgroup": "RPFC-II",
           "marker": {
            "color": "#54A24B",
            "pattern": {
             "shape": ""
            }
           },
           "name": "RPFC-II",
           "offsetgroup": "RPFC-II",
           "orientation": "v",
           "showlegend": true,
           "type": "histogram",
           "x": [
            "RPFC-II"
           ],
           "xaxis": "x",
           "y": [
            302
           ],
           "yaxis": "y"
          }
         ],
         "name": "2051"
        },
        {
         "data": [
          {
           "alignmentgroup": "True",
           "bingroup": "x",
           "histfunc": "sum",
           "hovertemplate": "desig=%{x}<br>year=2052<br>sum of eid=%{y}<extra></extra>",
           "ids": [
            "ACC"
           ],
           "legendgroup": "ACC",
           "marker": {
            "color": "#4C78A8",
            "pattern": {
             "shape": ""
            }
           },
           "name": "ACC",
           "offsetgroup": "ACC",
           "orientation": "v",
           "showlegend": true,
           "type": "histogram",
           "x": [
            "ACC"
           ],
           "xaxis": "x",
           "y": [
            32
           ],
           "yaxis": "y"
          },
          {
           "alignmentgroup": "True",
           "bingroup": "x",
           "histfunc": "sum",
           "hovertemplate": "desig=%{x}<br>year=2052<br>sum of eid=%{y}<extra></extra>",
           "ids": [
            "APFC"
           ],
           "legendgroup": "APFC",
           "marker": {
            "color": "#E45756",
            "pattern": {
             "shape": ""
            }
           },
           "name": "APFC",
           "offsetgroup": "APFC",
           "orientation": "v",
           "showlegend": true,
           "type": "histogram",
           "x": [
            "APFC"
           ],
           "xaxis": "x",
           "y": [
            445
           ],
           "yaxis": "y"
          },
          {
           "alignmentgroup": "True",
           "bingroup": "x",
           "histfunc": "sum",
           "hovertemplate": "desig=%{x}<br>year=2052<br>sum of eid=%{y}<extra></extra>",
           "ids": [
            "RPFC-I"
           ],
           "legendgroup": "RPFC-I",
           "marker": {
            "color": "#72B7B2",
            "pattern": {
             "shape": ""
            }
           },
           "name": "RPFC-I",
           "offsetgroup": "RPFC-I",
           "orientation": "v",
           "showlegend": true,
           "type": "histogram",
           "x": [
            "RPFC-I"
           ],
           "xaxis": "x",
           "y": [
            240
           ],
           "yaxis": "y"
          },
          {
           "alignmentgroup": "True",
           "bingroup": "x",
           "histfunc": "sum",
           "hovertemplate": "desig=%{x}<br>year=2052<br>sum of eid=%{y}<extra></extra>",
           "ids": [
            "RPFC-II"
           ],
           "legendgroup": "RPFC-II",
           "marker": {
            "color": "#54A24B",
            "pattern": {
             "shape": ""
            }
           },
           "name": "RPFC-II",
           "offsetgroup": "RPFC-II",
           "orientation": "v",
           "showlegend": true,
           "type": "histogram",
           "x": [
            "RPFC-II"
           ],
           "xaxis": "x",
           "y": [
            302
           ],
           "yaxis": "y"
          }
         ],
         "name": "2052"
        },
        {
         "data": [
          {
           "alignmentgroup": "True",
           "bingroup": "x",
           "histfunc": "sum",
           "hovertemplate": "desig=%{x}<br>year=2053<br>sum of eid=%{y}<extra></extra>",
           "ids": [
            "ACC"
           ],
           "legendgroup": "ACC",
           "marker": {
            "color": "#4C78A8",
            "pattern": {
             "shape": ""
            }
           },
           "name": "ACC",
           "offsetgroup": "ACC",
           "orientation": "v",
           "showlegend": true,
           "type": "histogram",
           "x": [
            "ACC"
           ],
           "xaxis": "x",
           "y": [
            32
           ],
           "yaxis": "y"
          },
          {
           "alignmentgroup": "True",
           "bingroup": "x",
           "histfunc": "sum",
           "hovertemplate": "desig=%{x}<br>year=2053<br>sum of eid=%{y}<extra></extra>",
           "ids": [
            "APFC"
           ],
           "legendgroup": "APFC",
           "marker": {
            "color": "#E45756",
            "pattern": {
             "shape": ""
            }
           },
           "name": "APFC",
           "offsetgroup": "APFC",
           "orientation": "v",
           "showlegend": true,
           "type": "histogram",
           "x": [
            "APFC"
           ],
           "xaxis": "x",
           "y": [
            445
           ],
           "yaxis": "y"
          },
          {
           "alignmentgroup": "True",
           "bingroup": "x",
           "histfunc": "sum",
           "hovertemplate": "desig=%{x}<br>year=2053<br>sum of eid=%{y}<extra></extra>",
           "ids": [
            "RPFC-I"
           ],
           "legendgroup": "RPFC-I",
           "marker": {
            "color": "#72B7B2",
            "pattern": {
             "shape": ""
            }
           },
           "name": "RPFC-I",
           "offsetgroup": "RPFC-I",
           "orientation": "v",
           "showlegend": true,
           "type": "histogram",
           "x": [
            "RPFC-I"
           ],
           "xaxis": "x",
           "y": [
            240
           ],
           "yaxis": "y"
          },
          {
           "alignmentgroup": "True",
           "bingroup": "x",
           "histfunc": "sum",
           "hovertemplate": "desig=%{x}<br>year=2053<br>sum of eid=%{y}<extra></extra>",
           "ids": [
            "RPFC-II"
           ],
           "legendgroup": "RPFC-II",
           "marker": {
            "color": "#54A24B",
            "pattern": {
             "shape": ""
            }
           },
           "name": "RPFC-II",
           "offsetgroup": "RPFC-II",
           "orientation": "v",
           "showlegend": true,
           "type": "histogram",
           "x": [
            "RPFC-II"
           ],
           "xaxis": "x",
           "y": [
            302
           ],
           "yaxis": "y"
          }
         ],
         "name": "2053"
        }
       ],
       "layout": {
        "barmode": "relative",
        "font": {
         "color": "#8a8d93"
        },
        "hovermode": "x unified",
        "legend": {
         "orientation": "h",
         "title": {
          "text": "desig"
         },
         "tracegroupgap": 0,
         "x": 1,
         "xanchor": "right",
         "y": 1.02,
         "yanchor": "bottom"
        },
        "margin": {
         "b": 0,
         "l": 70,
         "r": 40,
         "t": 70
        },
        "paper_bgcolor": "#2d3035",
        "plot_bgcolor": "#2d3035",
        "sliders": [
         {
          "active": 0,
          "currentvalue": {
           "prefix": "year="
          },
          "len": 0.9,
          "pad": {
           "b": 10,
           "t": 60
          },
          "steps": [
           {
            "args": [
             [
              "2023"
             ],
             {
              "frame": {
               "duration": 0,
               "redraw": true
              },
              "fromcurrent": true,
              "mode": "immediate",
              "transition": {
               "duration": 0,
               "easing": "linear"
              }
             }
            ],
            "label": "2023",
            "method": "animate"
           },
           {
            "args": [
             [
              "2024"
             ],
             {
              "frame": {
               "duration": 0,
               "redraw": true
              },
              "fromcurrent": true,
              "mode": "immediate",
              "transition": {
               "duration": 0,
               "easing": "linear"
              }
             }
            ],
            "label": "2024",
            "method": "animate"
           },
           {
            "args": [
             [
              "2025"
             ],
             {
              "frame": {
               "duration": 0,
               "redraw": true
              },
              "fromcurrent": true,
              "mode": "immediate",
              "transition": {
               "duration": 0,
               "easing": "linear"
              }
             }
            ],
            "label": "2025",
            "method": "animate"
           },
           {
            "args": [
             [
              "2026"
             ],
             {
              "frame": {
               "duration": 0,
               "redraw": true
              },
              "fromcurrent": true,
              "mode": "immediate",
              "transition": {
               "duration": 0,
               "easing": "linear"
              }
             }
            ],
            "label": "2026",
            "method": "animate"
           },
           {
            "args": [
             [
              "2027"
             ],
             {
              "frame": {
               "duration": 0,
               "redraw": true
              },
              "fromcurrent": true,
              "mode": "immediate",
              "transition": {
               "duration": 0,
               "easing": "linear"
              }
             }
            ],
            "label": "2027",
            "method": "animate"
           },
           {
            "args": [
             [
              "2028"
             ],
             {
              "frame": {
               "duration": 0,
               "redraw": true
              },
              "fromcurrent": true,
              "mode": "immediate",
              "transition": {
               "duration": 0,
               "easing": "linear"
              }
             }
            ],
            "label": "2028",
            "method": "animate"
           },
           {
            "args": [
             [
              "2029"
             ],
             {
              "frame": {
               "duration": 0,
               "redraw": true
              },
              "fromcurrent": true,
              "mode": "immediate",
              "transition": {
               "duration": 0,
               "easing": "linear"
              }
             }
            ],
            "label": "2029",
            "method": "animate"
           },
           {
            "args": [
             [
              "2030"
             ],
             {
              "frame": {
               "duration": 0,
               "redraw": true
              },
              "fromcurrent": true,
              "mode": "immediate",
              "transition": {
               "duration": 0,
               "easing": "linear"
              }
             }
            ],
            "label": "2030",
            "method": "animate"
           },
           {
            "args": [
             [
              "2031"
             ],
             {
              "frame": {
               "duration": 0,
               "redraw": true
              },
              "fromcurrent": true,
              "mode": "immediate",
              "transition": {
               "duration": 0,
               "easing": "linear"
              }
             }
            ],
            "label": "2031",
            "method": "animate"
           },
           {
            "args": [
             [
              "2032"
             ],
             {
              "frame": {
               "duration": 0,
               "redraw": true
              },
              "fromcurrent": true,
              "mode": "immediate",
              "transition": {
               "duration": 0,
               "easing": "linear"
              }
             }
            ],
            "label": "2032",
            "method": "animate"
           },
           {
            "args": [
             [
              "2033"
             ],
             {
              "frame": {
               "duration": 0,
               "redraw": true
              },
              "fromcurrent": true,
              "mode": "immediate",
              "transition": {
               "duration": 0,
               "easing": "linear"
              }
             }
            ],
            "label": "2033",
            "method": "animate"
           },
           {
            "args": [
             [
              "2034"
             ],
             {
              "frame": {
               "duration": 0,
               "redraw": true
              },
              "fromcurrent": true,
              "mode": "immediate",
              "transition": {
               "duration": 0,
               "easing": "linear"
              }
             }
            ],
            "label": "2034",
            "method": "animate"
           },
           {
            "args": [
             [
              "2035"
             ],
             {
              "frame": {
               "duration": 0,
               "redraw": true
              },
              "fromcurrent": true,
              "mode": "immediate",
              "transition": {
               "duration": 0,
               "easing": "linear"
              }
             }
            ],
            "label": "2035",
            "method": "animate"
           },
           {
            "args": [
             [
              "2036"
             ],
             {
              "frame": {
               "duration": 0,
               "redraw": true
              },
              "fromcurrent": true,
              "mode": "immediate",
              "transition": {
               "duration": 0,
               "easing": "linear"
              }
             }
            ],
            "label": "2036",
            "method": "animate"
           },
           {
            "args": [
             [
              "2037"
             ],
             {
              "frame": {
               "duration": 0,
               "redraw": true
              },
              "fromcurrent": true,
              "mode": "immediate",
              "transition": {
               "duration": 0,
               "easing": "linear"
              }
             }
            ],
            "label": "2037",
            "method": "animate"
           },
           {
            "args": [
             [
              "2038"
             ],
             {
              "frame": {
               "duration": 0,
               "redraw": true
              },
              "fromcurrent": true,
              "mode": "immediate",
              "transition": {
               "duration": 0,
               "easing": "linear"
              }
             }
            ],
            "label": "2038",
            "method": "animate"
           },
           {
            "args": [
             [
              "2039"
             ],
             {
              "frame": {
               "duration": 0,
               "redraw": true
              },
              "fromcurrent": true,
              "mode": "immediate",
              "transition": {
               "duration": 0,
               "easing": "linear"
              }
             }
            ],
            "label": "2039",
            "method": "animate"
           },
           {
            "args": [
             [
              "2040"
             ],
             {
              "frame": {
               "duration": 0,
               "redraw": true
              },
              "fromcurrent": true,
              "mode": "immediate",
              "transition": {
               "duration": 0,
               "easing": "linear"
              }
             }
            ],
            "label": "2040",
            "method": "animate"
           },
           {
            "args": [
             [
              "2041"
             ],
             {
              "frame": {
               "duration": 0,
               "redraw": true
              },
              "fromcurrent": true,
              "mode": "immediate",
              "transition": {
               "duration": 0,
               "easing": "linear"
              }
             }
            ],
            "label": "2041",
            "method": "animate"
           },
           {
            "args": [
             [
              "2042"
             ],
             {
              "frame": {
               "duration": 0,
               "redraw": true
              },
              "fromcurrent": true,
              "mode": "immediate",
              "transition": {
               "duration": 0,
               "easing": "linear"
              }
             }
            ],
            "label": "2042",
            "method": "animate"
           },
           {
            "args": [
             [
              "2043"
             ],
             {
              "frame": {
               "duration": 0,
               "redraw": true
              },
              "fromcurrent": true,
              "mode": "immediate",
              "transition": {
               "duration": 0,
               "easing": "linear"
              }
             }
            ],
            "label": "2043",
            "method": "animate"
           },
           {
            "args": [
             [
              "2044"
             ],
             {
              "frame": {
               "duration": 0,
               "redraw": true
              },
              "fromcurrent": true,
              "mode": "immediate",
              "transition": {
               "duration": 0,
               "easing": "linear"
              }
             }
            ],
            "label": "2044",
            "method": "animate"
           },
           {
            "args": [
             [
              "2045"
             ],
             {
              "frame": {
               "duration": 0,
               "redraw": true
              },
              "fromcurrent": true,
              "mode": "immediate",
              "transition": {
               "duration": 0,
               "easing": "linear"
              }
             }
            ],
            "label": "2045",
            "method": "animate"
           },
           {
            "args": [
             [
              "2046"
             ],
             {
              "frame": {
               "duration": 0,
               "redraw": true
              },
              "fromcurrent": true,
              "mode": "immediate",
              "transition": {
               "duration": 0,
               "easing": "linear"
              }
             }
            ],
            "label": "2046",
            "method": "animate"
           },
           {
            "args": [
             [
              "2047"
             ],
             {
              "frame": {
               "duration": 0,
               "redraw": true
              },
              "fromcurrent": true,
              "mode": "immediate",
              "transition": {
               "duration": 0,
               "easing": "linear"
              }
             }
            ],
            "label": "2047",
            "method": "animate"
           },
           {
            "args": [
             [
              "2048"
             ],
             {
              "frame": {
               "duration": 0,
               "redraw": true
              },
              "fromcurrent": true,
              "mode": "immediate",
              "transition": {
               "duration": 0,
               "easing": "linear"
              }
             }
            ],
            "label": "2048",
            "method": "animate"
           },
           {
            "args": [
             [
              "2049"
             ],
             {
              "frame": {
               "duration": 0,
               "redraw": true
              },
              "fromcurrent": true,
              "mode": "immediate",
              "transition": {
               "duration": 0,
               "easing": "linear"
              }
             }
            ],
            "label": "2049",
            "method": "animate"
           },
           {
            "args": [
             [
              "2050"
             ],
             {
              "frame": {
               "duration": 0,
               "redraw": true
              },
              "fromcurrent": true,
              "mode": "immediate",
              "transition": {
               "duration": 0,
               "easing": "linear"
              }
             }
            ],
            "label": "2050",
            "method": "animate"
           },
           {
            "args": [
             [
              "2051"
             ],
             {
              "frame": {
               "duration": 0,
               "redraw": true
              },
              "fromcurrent": true,
              "mode": "immediate",
              "transition": {
               "duration": 0,
               "easing": "linear"
              }
             }
            ],
            "label": "2051",
            "method": "animate"
           },
           {
            "args": [
             [
              "2052"
             ],
             {
              "frame": {
               "duration": 0,
               "redraw": true
              },
              "fromcurrent": true,
              "mode": "immediate",
              "transition": {
               "duration": 0,
               "easing": "linear"
              }
             }
            ],
            "label": "2052",
            "method": "animate"
           },
           {
            "args": [
             [
              "2053"
             ],
             {
              "frame": {
               "duration": 0,
               "redraw": true
              },
              "fromcurrent": true,
              "mode": "immediate",
              "transition": {
               "duration": 0,
               "easing": "linear"
              }
             }
            ],
            "label": "2053",
            "method": "animate"
           }
          ],
          "x": 0.1,
          "xanchor": "left",
          "y": 0,
          "yanchor": "top"
         }
        ],
        "template": {
         "data": {
          "bar": [
           {
            "error_x": {
             "color": "#2a3f5f"
            },
            "error_y": {
             "color": "#2a3f5f"
            },
            "marker": {
             "line": {
              "color": "#E5ECF6",
              "width": 0.5
             },
             "pattern": {
              "fillmode": "overlay",
              "size": 10,
              "solidity": 0.2
             }
            },
            "type": "bar"
           }
          ],
          "barpolar": [
           {
            "marker": {
             "line": {
              "color": "#E5ECF6",
              "width": 0.5
             },
             "pattern": {
              "fillmode": "overlay",
              "size": 10,
              "solidity": 0.2
             }
            },
            "type": "barpolar"
           }
          ],
          "carpet": [
           {
            "aaxis": {
             "endlinecolor": "#2a3f5f",
             "gridcolor": "white",
             "linecolor": "white",
             "minorgridcolor": "white",
             "startlinecolor": "#2a3f5f"
            },
            "baxis": {
             "endlinecolor": "#2a3f5f",
             "gridcolor": "white",
             "linecolor": "white",
             "minorgridcolor": "white",
             "startlinecolor": "#2a3f5f"
            },
            "type": "carpet"
           }
          ],
          "choropleth": [
           {
            "colorbar": {
             "outlinewidth": 0,
             "ticks": ""
            },
            "type": "choropleth"
           }
          ],
          "contour": [
           {
            "colorbar": {
             "outlinewidth": 0,
             "ticks": ""
            },
            "colorscale": [
             [
              0,
              "#0d0887"
             ],
             [
              0.1111111111111111,
              "#46039f"
             ],
             [
              0.2222222222222222,
              "#7201a8"
             ],
             [
              0.3333333333333333,
              "#9c179e"
             ],
             [
              0.4444444444444444,
              "#bd3786"
             ],
             [
              0.5555555555555556,
              "#d8576b"
             ],
             [
              0.6666666666666666,
              "#ed7953"
             ],
             [
              0.7777777777777778,
              "#fb9f3a"
             ],
             [
              0.8888888888888888,
              "#fdca26"
             ],
             [
              1,
              "#f0f921"
             ]
            ],
            "type": "contour"
           }
          ],
          "contourcarpet": [
           {
            "colorbar": {
             "outlinewidth": 0,
             "ticks": ""
            },
            "type": "contourcarpet"
           }
          ],
          "heatmap": [
           {
            "colorbar": {
             "outlinewidth": 0,
             "ticks": ""
            },
            "colorscale": [
             [
              0,
              "#0d0887"
             ],
             [
              0.1111111111111111,
              "#46039f"
             ],
             [
              0.2222222222222222,
              "#7201a8"
             ],
             [
              0.3333333333333333,
              "#9c179e"
             ],
             [
              0.4444444444444444,
              "#bd3786"
             ],
             [
              0.5555555555555556,
              "#d8576b"
             ],
             [
              0.6666666666666666,
              "#ed7953"
             ],
             [
              0.7777777777777778,
              "#fb9f3a"
             ],
             [
              0.8888888888888888,
              "#fdca26"
             ],
             [
              1,
              "#f0f921"
             ]
            ],
            "type": "heatmap"
           }
          ],
          "heatmapgl": [
           {
            "colorbar": {
             "outlinewidth": 0,
             "ticks": ""
            },
            "colorscale": [
             [
              0,
              "#0d0887"
             ],
             [
              0.1111111111111111,
              "#46039f"
             ],
             [
              0.2222222222222222,
              "#7201a8"
             ],
             [
              0.3333333333333333,
              "#9c179e"
             ],
             [
              0.4444444444444444,
              "#bd3786"
             ],
             [
              0.5555555555555556,
              "#d8576b"
             ],
             [
              0.6666666666666666,
              "#ed7953"
             ],
             [
              0.7777777777777778,
              "#fb9f3a"
             ],
             [
              0.8888888888888888,
              "#fdca26"
             ],
             [
              1,
              "#f0f921"
             ]
            ],
            "type": "heatmapgl"
           }
          ],
          "histogram": [
           {
            "marker": {
             "pattern": {
              "fillmode": "overlay",
              "size": 10,
              "solidity": 0.2
             }
            },
            "type": "histogram"
           }
          ],
          "histogram2d": [
           {
            "colorbar": {
             "outlinewidth": 0,
             "ticks": ""
            },
            "colorscale": [
             [
              0,
              "#0d0887"
             ],
             [
              0.1111111111111111,
              "#46039f"
             ],
             [
              0.2222222222222222,
              "#7201a8"
             ],
             [
              0.3333333333333333,
              "#9c179e"
             ],
             [
              0.4444444444444444,
              "#bd3786"
             ],
             [
              0.5555555555555556,
              "#d8576b"
             ],
             [
              0.6666666666666666,
              "#ed7953"
             ],
             [
              0.7777777777777778,
              "#fb9f3a"
             ],
             [
              0.8888888888888888,
              "#fdca26"
             ],
             [
              1,
              "#f0f921"
             ]
            ],
            "type": "histogram2d"
           }
          ],
          "histogram2dcontour": [
           {
            "colorbar": {
             "outlinewidth": 0,
             "ticks": ""
            },
            "colorscale": [
             [
              0,
              "#0d0887"
             ],
             [
              0.1111111111111111,
              "#46039f"
             ],
             [
              0.2222222222222222,
              "#7201a8"
             ],
             [
              0.3333333333333333,
              "#9c179e"
             ],
             [
              0.4444444444444444,
              "#bd3786"
             ],
             [
              0.5555555555555556,
              "#d8576b"
             ],
             [
              0.6666666666666666,
              "#ed7953"
             ],
             [
              0.7777777777777778,
              "#fb9f3a"
             ],
             [
              0.8888888888888888,
              "#fdca26"
             ],
             [
              1,
              "#f0f921"
             ]
            ],
            "type": "histogram2dcontour"
           }
          ],
          "mesh3d": [
           {
            "colorbar": {
             "outlinewidth": 0,
             "ticks": ""
            },
            "type": "mesh3d"
           }
          ],
          "parcoords": [
           {
            "line": {
             "colorbar": {
              "outlinewidth": 0,
              "ticks": ""
             }
            },
            "type": "parcoords"
           }
          ],
          "pie": [
           {
            "automargin": true,
            "type": "pie"
           }
          ],
          "scatter": [
           {
            "fillpattern": {
             "fillmode": "overlay",
             "size": 10,
             "solidity": 0.2
            },
            "type": "scatter"
           }
          ],
          "scatter3d": [
           {
            "line": {
             "colorbar": {
              "outlinewidth": 0,
              "ticks": ""
             }
            },
            "marker": {
             "colorbar": {
              "outlinewidth": 0,
              "ticks": ""
             }
            },
            "type": "scatter3d"
           }
          ],
          "scattercarpet": [
           {
            "marker": {
             "colorbar": {
              "outlinewidth": 0,
              "ticks": ""
             }
            },
            "type": "scattercarpet"
           }
          ],
          "scattergeo": [
           {
            "marker": {
             "colorbar": {
              "outlinewidth": 0,
              "ticks": ""
             }
            },
            "type": "scattergeo"
           }
          ],
          "scattergl": [
           {
            "marker": {
             "colorbar": {
              "outlinewidth": 0,
              "ticks": ""
             }
            },
            "type": "scattergl"
           }
          ],
          "scattermapbox": [
           {
            "marker": {
             "colorbar": {
              "outlinewidth": 0,
              "ticks": ""
             }
            },
            "type": "scattermapbox"
           }
          ],
          "scatterpolar": [
           {
            "marker": {
             "colorbar": {
              "outlinewidth": 0,
              "ticks": ""
             }
            },
            "type": "scatterpolar"
           }
          ],
          "scatterpolargl": [
           {
            "marker": {
             "colorbar": {
              "outlinewidth": 0,
              "ticks": ""
             }
            },
            "type": "scatterpolargl"
           }
          ],
          "scatterternary": [
           {
            "marker": {
             "colorbar": {
              "outlinewidth": 0,
              "ticks": ""
             }
            },
            "type": "scatterternary"
           }
          ],
          "surface": [
           {
            "colorbar": {
             "outlinewidth": 0,
             "ticks": ""
            },
            "colorscale": [
             [
              0,
              "#0d0887"
             ],
             [
              0.1111111111111111,
              "#46039f"
             ],
             [
              0.2222222222222222,
              "#7201a8"
             ],
             [
              0.3333333333333333,
              "#9c179e"
             ],
             [
              0.4444444444444444,
              "#bd3786"
             ],
             [
              0.5555555555555556,
              "#d8576b"
             ],
             [
              0.6666666666666666,
              "#ed7953"
             ],
             [
              0.7777777777777778,
              "#fb9f3a"
             ],
             [
              0.8888888888888888,
              "#fdca26"
             ],
             [
              1,
              "#f0f921"
             ]
            ],
            "type": "surface"
           }
          ],
          "table": [
           {
            "cells": {
             "fill": {
              "color": "#EBF0F8"
             },
             "line": {
              "color": "white"
             }
            },
            "header": {
             "fill": {
              "color": "#C8D4E3"
             },
             "line": {
              "color": "white"
             }
            },
            "type": "table"
           }
          ]
         },
         "layout": {
          "annotationdefaults": {
           "arrowcolor": "#2a3f5f",
           "arrowhead": 0,
           "arrowwidth": 1
          },
          "autotypenumbers": "strict",
          "coloraxis": {
           "colorbar": {
            "outlinewidth": 0,
            "ticks": ""
           }
          },
          "colorscale": {
           "diverging": [
            [
             0,
             "#8e0152"
            ],
            [
             0.1,
             "#c51b7d"
            ],
            [
             0.2,
             "#de77ae"
            ],
            [
             0.3,
             "#f1b6da"
            ],
            [
             0.4,
             "#fde0ef"
            ],
            [
             0.5,
             "#f7f7f7"
            ],
            [
             0.6,
             "#e6f5d0"
            ],
            [
             0.7,
             "#b8e186"
            ],
            [
             0.8,
             "#7fbc41"
            ],
            [
             0.9,
             "#4d9221"
            ],
            [
             1,
             "#276419"
            ]
           ],
           "sequential": [
            [
             0,
             "#0d0887"
            ],
            [
             0.1111111111111111,
             "#46039f"
            ],
            [
             0.2222222222222222,
             "#7201a8"
            ],
            [
             0.3333333333333333,
             "#9c179e"
            ],
            [
             0.4444444444444444,
             "#bd3786"
            ],
            [
             0.5555555555555556,
             "#d8576b"
            ],
            [
             0.6666666666666666,
             "#ed7953"
            ],
            [
             0.7777777777777778,
             "#fb9f3a"
            ],
            [
             0.8888888888888888,
             "#fdca26"
            ],
            [
             1,
             "#f0f921"
            ]
           ],
           "sequentialminus": [
            [
             0,
             "#0d0887"
            ],
            [
             0.1111111111111111,
             "#46039f"
            ],
            [
             0.2222222222222222,
             "#7201a8"
            ],
            [
             0.3333333333333333,
             "#9c179e"
            ],
            [
             0.4444444444444444,
             "#bd3786"
            ],
            [
             0.5555555555555556,
             "#d8576b"
            ],
            [
             0.6666666666666666,
             "#ed7953"
            ],
            [
             0.7777777777777778,
             "#fb9f3a"
            ],
            [
             0.8888888888888888,
             "#fdca26"
            ],
            [
             1,
             "#f0f921"
            ]
           ]
          },
          "colorway": [
           "#636efa",
           "#EF553B",
           "#00cc96",
           "#ab63fa",
           "#FFA15A",
           "#19d3f3",
           "#FF6692",
           "#B6E880",
           "#FF97FF",
           "#FECB52"
          ],
          "font": {
           "color": "#2a3f5f"
          },
          "geo": {
           "bgcolor": "white",
           "lakecolor": "white",
           "landcolor": "#E5ECF6",
           "showlakes": true,
           "showland": true,
           "subunitcolor": "white"
          },
          "hoverlabel": {
           "align": "left"
          },
          "hovermode": "closest",
          "mapbox": {
           "style": "light"
          },
          "paper_bgcolor": "white",
          "plot_bgcolor": "#E5ECF6",
          "polar": {
           "angularaxis": {
            "gridcolor": "white",
            "linecolor": "white",
            "ticks": ""
           },
           "bgcolor": "#E5ECF6",
           "radialaxis": {
            "gridcolor": "white",
            "linecolor": "white",
            "ticks": ""
           }
          },
          "scene": {
           "xaxis": {
            "backgroundcolor": "#E5ECF6",
            "gridcolor": "white",
            "gridwidth": 2,
            "linecolor": "white",
            "showbackground": true,
            "ticks": "",
            "zerolinecolor": "white"
           },
           "yaxis": {
            "backgroundcolor": "#E5ECF6",
            "gridcolor": "white",
            "gridwidth": 2,
            "linecolor": "white",
            "showbackground": true,
            "ticks": "",
            "zerolinecolor": "white"
           },
           "zaxis": {
            "backgroundcolor": "#E5ECF6",
            "gridcolor": "white",
            "gridwidth": 2,
            "linecolor": "white",
            "showbackground": true,
            "ticks": "",
            "zerolinecolor": "white"
           }
          },
          "shapedefaults": {
           "line": {
            "color": "#2a3f5f"
           }
          },
          "ternary": {
           "aaxis": {
            "gridcolor": "white",
            "linecolor": "white",
            "ticks": ""
           },
           "baxis": {
            "gridcolor": "white",
            "linecolor": "white",
            "ticks": ""
           },
           "bgcolor": "#E5ECF6",
           "caxis": {
            "gridcolor": "white",
            "linecolor": "white",
            "ticks": ""
           }
          },
          "title": {
           "x": 0.05
          },
          "xaxis": {
           "automargin": true,
           "gridcolor": "white",
           "linecolor": "white",
           "ticks": "",
           "title": {
            "standoff": 15
           },
           "zerolinecolor": "white",
           "zerolinewidth": 2
          },
          "yaxis": {
           "automargin": true,
           "gridcolor": "white",
           "linecolor": "white",
           "ticks": "",
           "title": {
            "standoff": 15
           },
           "zerolinecolor": "white",
           "zerolinewidth": 2
          }
         }
        },
        "title": {
         "font": {
          "color": "#a5a7ab",
          "family": "Lato, sans-serif",
          "size": 25
         }
        },
        "updatemenus": [
         {
          "buttons": [
           {
            "args": [
             null,
             {
              "frame": {
               "duration": 500,
               "redraw": true
              },
              "fromcurrent": true,
              "mode": "immediate",
              "transition": {
               "duration": 500,
               "easing": "linear"
              }
             }
            ],
            "label": "&#9654;",
            "method": "animate"
           },
           {
            "args": [
             [
              null
             ],
             {
              "frame": {
               "duration": 0,
               "redraw": true
              },
              "fromcurrent": true,
              "mode": "immediate",
              "transition": {
               "duration": 0,
               "easing": "linear"
              }
             }
            ],
            "label": "&#9724;",
            "method": "animate"
           }
          ],
          "direction": "left",
          "pad": {
           "r": 10,
           "t": 70
          },
          "showactive": false,
          "type": "buttons",
          "x": 0.1,
          "xanchor": "right",
          "y": 0,
          "yanchor": "top"
         }
        ],
        "xaxis": {
         "anchor": "y",
         "categoryarray": [
          "ACC",
          "ACC{HQ}",
          "APFC",
          "RPFC-I",
          "RPFC-II"
         ],
         "categoryorder": "array",
         "domain": [
          0,
          1
         ],
         "tickangle": 0,
         "title": {
          "text": " "
         }
        },
        "yaxis": {
         "anchor": "x",
         "domain": [
          0,
          1
         ],
         "range": [
          0,
          900
         ],
         "showgrid": false,
         "title": {
          "text": " "
         }
        }
       }
      }
     },
     "metadata": {},
     "output_type": "display_data"
    },
    {
     "data": {
      "application/vnd.plotly.v1+json": {
       "config": {
        "plotlyServerURL": "https://plot.ly"
       },
       "data": [
        {
         "hovertemplate": "desig=ACC<br>year=%{x}<br>eid=%{y}<extra></extra>",
         "legendgroup": "ACC",
         "line": {
          "color": "#636efa",
          "dash": "solid"
         },
         "marker": {
          "symbol": "circle"
         },
         "mode": "lines",
         "name": "ACC",
         "orientation": "v",
         "showlegend": true,
         "type": "scatter",
         "x": [
          2023,
          2024,
          2025,
          2026,
          2027,
          2028,
          2029,
          2030,
          2031,
          2032,
          2033,
          2034,
          2035,
          2036,
          2037,
          2038,
          2039,
          2040,
          2041,
          2042,
          2043,
          2044,
          2045,
          2046,
          2047,
          2048,
          2049,
          2050,
          2051,
          2052,
          2053
         ],
         "xaxis": "x",
         "y": [
          24,
          32,
          32,
          32,
          32,
          32,
          32,
          32,
          32,
          32,
          32,
          32,
          32,
          32,
          32,
          32,
          32,
          32,
          32,
          32,
          32,
          32,
          32,
          32,
          32,
          32,
          32,
          32,
          32,
          32,
          32
         ],
         "yaxis": "y"
        },
        {
         "hovertemplate": "desig=ACC{HQ}<br>year=%{x}<br>eid=%{y}<extra></extra>",
         "legendgroup": "ACC{HQ}",
         "line": {
          "color": "#EF553B",
          "dash": "solid"
         },
         "marker": {
          "symbol": "circle"
         },
         "mode": "lines",
         "name": "ACC{HQ}",
         "orientation": "v",
         "showlegend": true,
         "type": "scatter",
         "x": [
          2023,
          2024,
          2025,
          2026,
          2027,
          2028,
          2029,
          2030,
          2031,
          2032,
          2033,
          2034,
          2035,
          2036,
          2037,
          2038,
          2039,
          2040,
          2041,
          2042,
          2043,
          2044,
          2045,
          2046,
          2047,
          2048,
          2049,
          2050
         ],
         "xaxis": "x",
         "y": [
          7,
          11,
          11,
          11,
          11,
          11,
          11,
          11,
          11,
          11,
          11,
          11,
          11,
          11,
          11,
          11,
          11,
          11,
          11,
          11,
          11,
          11,
          11,
          11,
          11,
          11,
          8,
          5
         ],
         "yaxis": "y"
        },
        {
         "hovertemplate": "desig=APFC<br>year=%{x}<br>eid=%{y}<extra></extra>",
         "legendgroup": "APFC",
         "line": {
          "color": "#00cc96",
          "dash": "solid"
         },
         "marker": {
          "symbol": "circle"
         },
         "mode": "lines",
         "name": "APFC",
         "orientation": "v",
         "showlegend": true,
         "type": "scatter",
         "x": [
          2023,
          2024,
          2025,
          2026,
          2027,
          2028,
          2029,
          2030,
          2031,
          2032,
          2033,
          2034,
          2035,
          2036,
          2037,
          2038,
          2039,
          2040,
          2041,
          2042,
          2043,
          2044,
          2045,
          2046,
          2047,
          2048,
          2049,
          2050,
          2051,
          2052,
          2053
         ],
         "xaxis": "x",
         "y": [
          243,
          445,
          445,
          445,
          445,
          445,
          445,
          445,
          445,
          445,
          445,
          445,
          445,
          445,
          445,
          445,
          445,
          445,
          445,
          445,
          445,
          445,
          445,
          445,
          445,
          445,
          445,
          445,
          445,
          445,
          445
         ],
         "yaxis": "y"
        },
        {
         "hovertemplate": "desig=RPFC-I<br>year=%{x}<br>eid=%{y}<extra></extra>",
         "legendgroup": "RPFC-I",
         "line": {
          "color": "#ab63fa",
          "dash": "solid"
         },
         "marker": {
          "symbol": "circle"
         },
         "mode": "lines",
         "name": "RPFC-I",
         "orientation": "v",
         "showlegend": true,
         "type": "scatter",
         "x": [
          2023,
          2024,
          2025,
          2026,
          2027,
          2028,
          2029,
          2030,
          2031,
          2032,
          2033,
          2034,
          2035,
          2036,
          2037,
          2038,
          2039,
          2040,
          2041,
          2042,
          2043,
          2044,
          2045,
          2046,
          2047,
          2048,
          2049,
          2050,
          2051,
          2052,
          2053
         ],
         "xaxis": "x",
         "y": [
          163,
          240,
          240,
          240,
          240,
          240,
          240,
          240,
          240,
          240,
          240,
          240,
          240,
          240,
          240,
          240,
          240,
          240,
          240,
          240,
          240,
          240,
          240,
          240,
          240,
          240,
          240,
          240,
          240,
          240,
          240
         ],
         "yaxis": "y"
        },
        {
         "hovertemplate": "desig=RPFC-II<br>year=%{x}<br>eid=%{y}<extra></extra>",
         "legendgroup": "RPFC-II",
         "line": {
          "color": "#FFA15A",
          "dash": "solid"
         },
         "marker": {
          "symbol": "circle"
         },
         "mode": "lines",
         "name": "RPFC-II",
         "orientation": "v",
         "showlegend": true,
         "type": "scatter",
         "x": [
          2023,
          2024,
          2025,
          2026,
          2027,
          2028,
          2029,
          2030,
          2031,
          2032,
          2033,
          2034,
          2035,
          2036,
          2037,
          2038,
          2039,
          2040,
          2041,
          2042,
          2043,
          2044,
          2045,
          2046,
          2047,
          2048,
          2049,
          2050,
          2051,
          2052,
          2053
         ],
         "xaxis": "x",
         "y": [
          286,
          269,
          301,
          302,
          302,
          302,
          302,
          302,
          302,
          302,
          302,
          302,
          302,
          302,
          302,
          302,
          302,
          302,
          302,
          302,
          302,
          302,
          302,
          302,
          302,
          302,
          302,
          302,
          302,
          302,
          302
         ],
         "yaxis": "y"
        }
       ],
       "layout": {
        "legend": {
         "title": {
          "text": "desig"
         },
         "tracegroupgap": 0
        },
        "margin": {
         "t": 60
        },
        "template": {
         "data": {
          "bar": [
           {
            "error_x": {
             "color": "#2a3f5f"
            },
            "error_y": {
             "color": "#2a3f5f"
            },
            "marker": {
             "line": {
              "color": "#E5ECF6",
              "width": 0.5
             },
             "pattern": {
              "fillmode": "overlay",
              "size": 10,
              "solidity": 0.2
             }
            },
            "type": "bar"
           }
          ],
          "barpolar": [
           {
            "marker": {
             "line": {
              "color": "#E5ECF6",
              "width": 0.5
             },
             "pattern": {
              "fillmode": "overlay",
              "size": 10,
              "solidity": 0.2
             }
            },
            "type": "barpolar"
           }
          ],
          "carpet": [
           {
            "aaxis": {
             "endlinecolor": "#2a3f5f",
             "gridcolor": "white",
             "linecolor": "white",
             "minorgridcolor": "white",
             "startlinecolor": "#2a3f5f"
            },
            "baxis": {
             "endlinecolor": "#2a3f5f",
             "gridcolor": "white",
             "linecolor": "white",
             "minorgridcolor": "white",
             "startlinecolor": "#2a3f5f"
            },
            "type": "carpet"
           }
          ],
          "choropleth": [
           {
            "colorbar": {
             "outlinewidth": 0,
             "ticks": ""
            },
            "type": "choropleth"
           }
          ],
          "contour": [
           {
            "colorbar": {
             "outlinewidth": 0,
             "ticks": ""
            },
            "colorscale": [
             [
              0,
              "#0d0887"
             ],
             [
              0.1111111111111111,
              "#46039f"
             ],
             [
              0.2222222222222222,
              "#7201a8"
             ],
             [
              0.3333333333333333,
              "#9c179e"
             ],
             [
              0.4444444444444444,
              "#bd3786"
             ],
             [
              0.5555555555555556,
              "#d8576b"
             ],
             [
              0.6666666666666666,
              "#ed7953"
             ],
             [
              0.7777777777777778,
              "#fb9f3a"
             ],
             [
              0.8888888888888888,
              "#fdca26"
             ],
             [
              1,
              "#f0f921"
             ]
            ],
            "type": "contour"
           }
          ],
          "contourcarpet": [
           {
            "colorbar": {
             "outlinewidth": 0,
             "ticks": ""
            },
            "type": "contourcarpet"
           }
          ],
          "heatmap": [
           {
            "colorbar": {
             "outlinewidth": 0,
             "ticks": ""
            },
            "colorscale": [
             [
              0,
              "#0d0887"
             ],
             [
              0.1111111111111111,
              "#46039f"
             ],
             [
              0.2222222222222222,
              "#7201a8"
             ],
             [
              0.3333333333333333,
              "#9c179e"
             ],
             [
              0.4444444444444444,
              "#bd3786"
             ],
             [
              0.5555555555555556,
              "#d8576b"
             ],
             [
              0.6666666666666666,
              "#ed7953"
             ],
             [
              0.7777777777777778,
              "#fb9f3a"
             ],
             [
              0.8888888888888888,
              "#fdca26"
             ],
             [
              1,
              "#f0f921"
             ]
            ],
            "type": "heatmap"
           }
          ],
          "heatmapgl": [
           {
            "colorbar": {
             "outlinewidth": 0,
             "ticks": ""
            },
            "colorscale": [
             [
              0,
              "#0d0887"
             ],
             [
              0.1111111111111111,
              "#46039f"
             ],
             [
              0.2222222222222222,
              "#7201a8"
             ],
             [
              0.3333333333333333,
              "#9c179e"
             ],
             [
              0.4444444444444444,
              "#bd3786"
             ],
             [
              0.5555555555555556,
              "#d8576b"
             ],
             [
              0.6666666666666666,
              "#ed7953"
             ],
             [
              0.7777777777777778,
              "#fb9f3a"
             ],
             [
              0.8888888888888888,
              "#fdca26"
             ],
             [
              1,
              "#f0f921"
             ]
            ],
            "type": "heatmapgl"
           }
          ],
          "histogram": [
           {
            "marker": {
             "pattern": {
              "fillmode": "overlay",
              "size": 10,
              "solidity": 0.2
             }
            },
            "type": "histogram"
           }
          ],
          "histogram2d": [
           {
            "colorbar": {
             "outlinewidth": 0,
             "ticks": ""
            },
            "colorscale": [
             [
              0,
              "#0d0887"
             ],
             [
              0.1111111111111111,
              "#46039f"
             ],
             [
              0.2222222222222222,
              "#7201a8"
             ],
             [
              0.3333333333333333,
              "#9c179e"
             ],
             [
              0.4444444444444444,
              "#bd3786"
             ],
             [
              0.5555555555555556,
              "#d8576b"
             ],
             [
              0.6666666666666666,
              "#ed7953"
             ],
             [
              0.7777777777777778,
              "#fb9f3a"
             ],
             [
              0.8888888888888888,
              "#fdca26"
             ],
             [
              1,
              "#f0f921"
             ]
            ],
            "type": "histogram2d"
           }
          ],
          "histogram2dcontour": [
           {
            "colorbar": {
             "outlinewidth": 0,
             "ticks": ""
            },
            "colorscale": [
             [
              0,
              "#0d0887"
             ],
             [
              0.1111111111111111,
              "#46039f"
             ],
             [
              0.2222222222222222,
              "#7201a8"
             ],
             [
              0.3333333333333333,
              "#9c179e"
             ],
             [
              0.4444444444444444,
              "#bd3786"
             ],
             [
              0.5555555555555556,
              "#d8576b"
             ],
             [
              0.6666666666666666,
              "#ed7953"
             ],
             [
              0.7777777777777778,
              "#fb9f3a"
             ],
             [
              0.8888888888888888,
              "#fdca26"
             ],
             [
              1,
              "#f0f921"
             ]
            ],
            "type": "histogram2dcontour"
           }
          ],
          "mesh3d": [
           {
            "colorbar": {
             "outlinewidth": 0,
             "ticks": ""
            },
            "type": "mesh3d"
           }
          ],
          "parcoords": [
           {
            "line": {
             "colorbar": {
              "outlinewidth": 0,
              "ticks": ""
             }
            },
            "type": "parcoords"
           }
          ],
          "pie": [
           {
            "automargin": true,
            "type": "pie"
           }
          ],
          "scatter": [
           {
            "fillpattern": {
             "fillmode": "overlay",
             "size": 10,
             "solidity": 0.2
            },
            "type": "scatter"
           }
          ],
          "scatter3d": [
           {
            "line": {
             "colorbar": {
              "outlinewidth": 0,
              "ticks": ""
             }
            },
            "marker": {
             "colorbar": {
              "outlinewidth": 0,
              "ticks": ""
             }
            },
            "type": "scatter3d"
           }
          ],
          "scattercarpet": [
           {
            "marker": {
             "colorbar": {
              "outlinewidth": 0,
              "ticks": ""
             }
            },
            "type": "scattercarpet"
           }
          ],
          "scattergeo": [
           {
            "marker": {
             "colorbar": {
              "outlinewidth": 0,
              "ticks": ""
             }
            },
            "type": "scattergeo"
           }
          ],
          "scattergl": [
           {
            "marker": {
             "colorbar": {
              "outlinewidth": 0,
              "ticks": ""
             }
            },
            "type": "scattergl"
           }
          ],
          "scattermapbox": [
           {
            "marker": {
             "colorbar": {
              "outlinewidth": 0,
              "ticks": ""
             }
            },
            "type": "scattermapbox"
           }
          ],
          "scatterpolar": [
           {
            "marker": {
             "colorbar": {
              "outlinewidth": 0,
              "ticks": ""
             }
            },
            "type": "scatterpolar"
           }
          ],
          "scatterpolargl": [
           {
            "marker": {
             "colorbar": {
              "outlinewidth": 0,
              "ticks": ""
             }
            },
            "type": "scatterpolargl"
           }
          ],
          "scatterternary": [
           {
            "marker": {
             "colorbar": {
              "outlinewidth": 0,
              "ticks": ""
             }
            },
            "type": "scatterternary"
           }
          ],
          "surface": [
           {
            "colorbar": {
             "outlinewidth": 0,
             "ticks": ""
            },
            "colorscale": [
             [
              0,
              "#0d0887"
             ],
             [
              0.1111111111111111,
              "#46039f"
             ],
             [
              0.2222222222222222,
              "#7201a8"
             ],
             [
              0.3333333333333333,
              "#9c179e"
             ],
             [
              0.4444444444444444,
              "#bd3786"
             ],
             [
              0.5555555555555556,
              "#d8576b"
             ],
             [
              0.6666666666666666,
              "#ed7953"
             ],
             [
              0.7777777777777778,
              "#fb9f3a"
             ],
             [
              0.8888888888888888,
              "#fdca26"
             ],
             [
              1,
              "#f0f921"
             ]
            ],
            "type": "surface"
           }
          ],
          "table": [
           {
            "cells": {
             "fill": {
              "color": "#EBF0F8"
             },
             "line": {
              "color": "white"
             }
            },
            "header": {
             "fill": {
              "color": "#C8D4E3"
             },
             "line": {
              "color": "white"
             }
            },
            "type": "table"
           }
          ]
         },
         "layout": {
          "annotationdefaults": {
           "arrowcolor": "#2a3f5f",
           "arrowhead": 0,
           "arrowwidth": 1
          },
          "autotypenumbers": "strict",
          "coloraxis": {
           "colorbar": {
            "outlinewidth": 0,
            "ticks": ""
           }
          },
          "colorscale": {
           "diverging": [
            [
             0,
             "#8e0152"
            ],
            [
             0.1,
             "#c51b7d"
            ],
            [
             0.2,
             "#de77ae"
            ],
            [
             0.3,
             "#f1b6da"
            ],
            [
             0.4,
             "#fde0ef"
            ],
            [
             0.5,
             "#f7f7f7"
            ],
            [
             0.6,
             "#e6f5d0"
            ],
            [
             0.7,
             "#b8e186"
            ],
            [
             0.8,
             "#7fbc41"
            ],
            [
             0.9,
             "#4d9221"
            ],
            [
             1,
             "#276419"
            ]
           ],
           "sequential": [
            [
             0,
             "#0d0887"
            ],
            [
             0.1111111111111111,
             "#46039f"
            ],
            [
             0.2222222222222222,
             "#7201a8"
            ],
            [
             0.3333333333333333,
             "#9c179e"
            ],
            [
             0.4444444444444444,
             "#bd3786"
            ],
            [
             0.5555555555555556,
             "#d8576b"
            ],
            [
             0.6666666666666666,
             "#ed7953"
            ],
            [
             0.7777777777777778,
             "#fb9f3a"
            ],
            [
             0.8888888888888888,
             "#fdca26"
            ],
            [
             1,
             "#f0f921"
            ]
           ],
           "sequentialminus": [
            [
             0,
             "#0d0887"
            ],
            [
             0.1111111111111111,
             "#46039f"
            ],
            [
             0.2222222222222222,
             "#7201a8"
            ],
            [
             0.3333333333333333,
             "#9c179e"
            ],
            [
             0.4444444444444444,
             "#bd3786"
            ],
            [
             0.5555555555555556,
             "#d8576b"
            ],
            [
             0.6666666666666666,
             "#ed7953"
            ],
            [
             0.7777777777777778,
             "#fb9f3a"
            ],
            [
             0.8888888888888888,
             "#fdca26"
            ],
            [
             1,
             "#f0f921"
            ]
           ]
          },
          "colorway": [
           "#636efa",
           "#EF553B",
           "#00cc96",
           "#ab63fa",
           "#FFA15A",
           "#19d3f3",
           "#FF6692",
           "#B6E880",
           "#FF97FF",
           "#FECB52"
          ],
          "font": {
           "color": "#2a3f5f"
          },
          "geo": {
           "bgcolor": "white",
           "lakecolor": "white",
           "landcolor": "#E5ECF6",
           "showlakes": true,
           "showland": true,
           "subunitcolor": "white"
          },
          "hoverlabel": {
           "align": "left"
          },
          "hovermode": "closest",
          "mapbox": {
           "style": "light"
          },
          "paper_bgcolor": "white",
          "plot_bgcolor": "#E5ECF6",
          "polar": {
           "angularaxis": {
            "gridcolor": "white",
            "linecolor": "white",
            "ticks": ""
           },
           "bgcolor": "#E5ECF6",
           "radialaxis": {
            "gridcolor": "white",
            "linecolor": "white",
            "ticks": ""
           }
          },
          "scene": {
           "xaxis": {
            "backgroundcolor": "#E5ECF6",
            "gridcolor": "white",
            "gridwidth": 2,
            "linecolor": "white",
            "showbackground": true,
            "ticks": "",
            "zerolinecolor": "white"
           },
           "yaxis": {
            "backgroundcolor": "#E5ECF6",
            "gridcolor": "white",
            "gridwidth": 2,
            "linecolor": "white",
            "showbackground": true,
            "ticks": "",
            "zerolinecolor": "white"
           },
           "zaxis": {
            "backgroundcolor": "#E5ECF6",
            "gridcolor": "white",
            "gridwidth": 2,
            "linecolor": "white",
            "showbackground": true,
            "ticks": "",
            "zerolinecolor": "white"
           }
          },
          "shapedefaults": {
           "line": {
            "color": "#2a3f5f"
           }
          },
          "ternary": {
           "aaxis": {
            "gridcolor": "white",
            "linecolor": "white",
            "ticks": ""
           },
           "baxis": {
            "gridcolor": "white",
            "linecolor": "white",
            "ticks": ""
           },
           "bgcolor": "#E5ECF6",
           "caxis": {
            "gridcolor": "white",
            "linecolor": "white",
            "ticks": ""
           }
          },
          "title": {
           "x": 0.05
          },
          "xaxis": {
           "automargin": true,
           "gridcolor": "white",
           "linecolor": "white",
           "ticks": "",
           "title": {
            "standoff": 15
           },
           "zerolinecolor": "white",
           "zerolinewidth": 2
          },
          "yaxis": {
           "automargin": true,
           "gridcolor": "white",
           "linecolor": "white",
           "ticks": "",
           "title": {
            "standoff": 15
           },
           "zerolinecolor": "white",
           "zerolinewidth": 2
          }
         }
        },
        "xaxis": {
         "anchor": "y",
         "domain": [
          0,
          1
         ],
         "title": {
          "text": "year"
         }
        },
        "yaxis": {
         "anchor": "x",
         "domain": [
          0,
          1
         ],
         "title": {
          "text": "eid"
         }
        }
       }
      }
     },
     "metadata": {},
     "output_type": "display_data"
    },
    {
     "data": {
      "application/vnd.plotly.v1+json": {
       "config": {
        "plotlyServerURL": "https://plot.ly"
       },
       "data": [
        {
         "hovertemplate": "desig=ACC<br>year=%{x}<br>waiting=%{y}<extra></extra>",
         "legendgroup": "ACC",
         "line": {
          "color": "#636efa",
          "dash": "solid"
         },
         "marker": {
          "symbol": "circle"
         },
         "mode": "lines",
         "name": "ACC",
         "orientation": "v",
         "showlegend": true,
         "type": "scatter",
         "x": [
          2023,
          2024,
          2025,
          2026,
          2027,
          2028,
          2029,
          2030,
          2031,
          2032,
          2033,
          2034,
          2035,
          2036,
          2037,
          2038,
          2039,
          2040,
          2041,
          2042,
          2043,
          2044,
          2045,
          2046,
          2047,
          2048,
          2049,
          2050,
          2051,
          2052,
          2053
         ],
         "xaxis": "x",
         "y": [
          0,
          0,
          0,
          0,
          0,
          1,
          3,
          10,
          8,
          16,
          14,
          12,
          8,
          9,
          6,
          8,
          13,
          17,
          20,
          23,
          28,
          26,
          18,
          11,
          5,
          1,
          0,
          0,
          0,
          0,
          0
         ],
         "yaxis": "y"
        },
        {
         "hovertemplate": "desig=ACC{HQ}<br>year=%{x}<br>waiting=%{y}<extra></extra>",
         "legendgroup": "ACC{HQ}",
         "line": {
          "color": "#EF553B",
          "dash": "solid"
         },
         "marker": {
          "symbol": "circle"
         },
         "mode": "lines",
         "name": "ACC{HQ}",
         "orientation": "v",
         "showlegend": true,
         "type": "scatter",
         "x": [
          2023,
          2024,
          2025,
          2026,
          2027,
          2028,
          2029,
          2030,
          2031,
          2032,
          2033,
          2034,
          2035,
          2036,
          2037,
          2038,
          2039,
          2040,
          2041,
          2042,
          2043,
          2044,
          2045,
          2046,
          2047,
          2048,
          2049,
          2050
         ],
         "xaxis": "x",
         "y": [
          0,
          0,
          0,
          0,
          0,
          0,
          0,
          0,
          0,
          0,
          0,
          0,
          0,
          0,
          0,
          0,
          0,
          0,
          0,
          0,
          0,
          0,
          0,
          0,
          0,
          0,
          0,
          0
         ],
         "yaxis": "y"
        },
        {
         "hovertemplate": "desig=APFC<br>year=%{x}<br>waiting=%{y}<extra></extra>",
         "legendgroup": "APFC",
         "line": {
          "color": "#00cc96",
          "dash": "solid"
         },
         "marker": {
          "symbol": "circle"
         },
         "mode": "lines",
         "name": "APFC",
         "orientation": "v",
         "showlegend": true,
         "type": "scatter",
         "x": [
          2023,
          2024,
          2025,
          2026,
          2027,
          2028,
          2029,
          2030,
          2031,
          2032,
          2033,
          2034,
          2035,
          2036,
          2037,
          2038,
          2039,
          2040,
          2041,
          2042,
          2043,
          2044,
          2045,
          2046,
          2047,
          2048,
          2049,
          2050,
          2051,
          2052,
          2053
         ],
         "xaxis": "x",
         "y": [
          0,
          0,
          0,
          0,
          0,
          0,
          38,
          78,
          126,
          396,
          426,
          425,
          421,
          422,
          419,
          421,
          426,
          430,
          433,
          436,
          441,
          428,
          406,
          382,
          362,
          347,
          324,
          253,
          206,
          182,
          177
         ],
         "yaxis": "y"
        },
        {
         "hovertemplate": "desig=RPFC-I<br>year=%{x}<br>waiting=%{y}<extra></extra>",
         "legendgroup": "RPFC-I",
         "line": {
          "color": "#ab63fa",
          "dash": "solid"
         },
         "marker": {
          "symbol": "circle"
         },
         "mode": "lines",
         "name": "RPFC-I",
         "orientation": "v",
         "showlegend": true,
         "type": "scatter",
         "x": [
          2023,
          2024,
          2025,
          2026,
          2027,
          2028,
          2029,
          2030,
          2031,
          2032,
          2033,
          2034,
          2035,
          2036,
          2037,
          2038,
          2039,
          2040,
          2041,
          2042,
          2043,
          2044,
          2045,
          2046,
          2047,
          2048,
          2049,
          2050,
          2051,
          2052,
          2053
         ],
         "xaxis": "x",
         "y": [
          0,
          0,
          0,
          0,
          0,
          0,
          0,
          0,
          0,
          0,
          0,
          0,
          0,
          0,
          0,
          0,
          0,
          0,
          0,
          0,
          0,
          0,
          0,
          0,
          0,
          0,
          0,
          0,
          0,
          0,
          0
         ],
         "yaxis": "y"
        },
        {
         "hovertemplate": "desig=RPFC-II<br>year=%{x}<br>waiting=%{y}<extra></extra>",
         "legendgroup": "RPFC-II",
         "line": {
          "color": "#FFA15A",
          "dash": "solid"
         },
         "marker": {
          "symbol": "circle"
         },
         "mode": "lines",
         "name": "RPFC-II",
         "orientation": "v",
         "showlegend": true,
         "type": "scatter",
         "x": [
          2023,
          2024,
          2025,
          2026,
          2027,
          2028,
          2029,
          2030,
          2031,
          2032,
          2033,
          2034,
          2035,
          2036,
          2037,
          2038,
          2039,
          2040,
          2041,
          2042,
          2043,
          2044,
          2045,
          2046,
          2047,
          2048,
          2049,
          2050,
          2051,
          2052,
          2053
         ],
         "xaxis": "x",
         "y": [
          0,
          0,
          0,
          0,
          6,
          45,
          99,
          144,
          185,
          253,
          283,
          282,
          278,
          279,
          276,
          278,
          283,
          287,
          290,
          293,
          298,
          285,
          263,
          239,
          219,
          204,
          181,
          110,
          63,
          39,
          34
         ],
         "yaxis": "y"
        }
       ],
       "layout": {
        "legend": {
         "title": {
          "text": "desig"
         },
         "tracegroupgap": 0
        },
        "margin": {
         "t": 60
        },
        "template": {
         "data": {
          "bar": [
           {
            "error_x": {
             "color": "#2a3f5f"
            },
            "error_y": {
             "color": "#2a3f5f"
            },
            "marker": {
             "line": {
              "color": "#E5ECF6",
              "width": 0.5
             },
             "pattern": {
              "fillmode": "overlay",
              "size": 10,
              "solidity": 0.2
             }
            },
            "type": "bar"
           }
          ],
          "barpolar": [
           {
            "marker": {
             "line": {
              "color": "#E5ECF6",
              "width": 0.5
             },
             "pattern": {
              "fillmode": "overlay",
              "size": 10,
              "solidity": 0.2
             }
            },
            "type": "barpolar"
           }
          ],
          "carpet": [
           {
            "aaxis": {
             "endlinecolor": "#2a3f5f",
             "gridcolor": "white",
             "linecolor": "white",
             "minorgridcolor": "white",
             "startlinecolor": "#2a3f5f"
            },
            "baxis": {
             "endlinecolor": "#2a3f5f",
             "gridcolor": "white",
             "linecolor": "white",
             "minorgridcolor": "white",
             "startlinecolor": "#2a3f5f"
            },
            "type": "carpet"
           }
          ],
          "choropleth": [
           {
            "colorbar": {
             "outlinewidth": 0,
             "ticks": ""
            },
            "type": "choropleth"
           }
          ],
          "contour": [
           {
            "colorbar": {
             "outlinewidth": 0,
             "ticks": ""
            },
            "colorscale": [
             [
              0,
              "#0d0887"
             ],
             [
              0.1111111111111111,
              "#46039f"
             ],
             [
              0.2222222222222222,
              "#7201a8"
             ],
             [
              0.3333333333333333,
              "#9c179e"
             ],
             [
              0.4444444444444444,
              "#bd3786"
             ],
             [
              0.5555555555555556,
              "#d8576b"
             ],
             [
              0.6666666666666666,
              "#ed7953"
             ],
             [
              0.7777777777777778,
              "#fb9f3a"
             ],
             [
              0.8888888888888888,
              "#fdca26"
             ],
             [
              1,
              "#f0f921"
             ]
            ],
            "type": "contour"
           }
          ],
          "contourcarpet": [
           {
            "colorbar": {
             "outlinewidth": 0,
             "ticks": ""
            },
            "type": "contourcarpet"
           }
          ],
          "heatmap": [
           {
            "colorbar": {
             "outlinewidth": 0,
             "ticks": ""
            },
            "colorscale": [
             [
              0,
              "#0d0887"
             ],
             [
              0.1111111111111111,
              "#46039f"
             ],
             [
              0.2222222222222222,
              "#7201a8"
             ],
             [
              0.3333333333333333,
              "#9c179e"
             ],
             [
              0.4444444444444444,
              "#bd3786"
             ],
             [
              0.5555555555555556,
              "#d8576b"
             ],
             [
              0.6666666666666666,
              "#ed7953"
             ],
             [
              0.7777777777777778,
              "#fb9f3a"
             ],
             [
              0.8888888888888888,
              "#fdca26"
             ],
             [
              1,
              "#f0f921"
             ]
            ],
            "type": "heatmap"
           }
          ],
          "heatmapgl": [
           {
            "colorbar": {
             "outlinewidth": 0,
             "ticks": ""
            },
            "colorscale": [
             [
              0,
              "#0d0887"
             ],
             [
              0.1111111111111111,
              "#46039f"
             ],
             [
              0.2222222222222222,
              "#7201a8"
             ],
             [
              0.3333333333333333,
              "#9c179e"
             ],
             [
              0.4444444444444444,
              "#bd3786"
             ],
             [
              0.5555555555555556,
              "#d8576b"
             ],
             [
              0.6666666666666666,
              "#ed7953"
             ],
             [
              0.7777777777777778,
              "#fb9f3a"
             ],
             [
              0.8888888888888888,
              "#fdca26"
             ],
             [
              1,
              "#f0f921"
             ]
            ],
            "type": "heatmapgl"
           }
          ],
          "histogram": [
           {
            "marker": {
             "pattern": {
              "fillmode": "overlay",
              "size": 10,
              "solidity": 0.2
             }
            },
            "type": "histogram"
           }
          ],
          "histogram2d": [
           {
            "colorbar": {
             "outlinewidth": 0,
             "ticks": ""
            },
            "colorscale": [
             [
              0,
              "#0d0887"
             ],
             [
              0.1111111111111111,
              "#46039f"
             ],
             [
              0.2222222222222222,
              "#7201a8"
             ],
             [
              0.3333333333333333,
              "#9c179e"
             ],
             [
              0.4444444444444444,
              "#bd3786"
             ],
             [
              0.5555555555555556,
              "#d8576b"
             ],
             [
              0.6666666666666666,
              "#ed7953"
             ],
             [
              0.7777777777777778,
              "#fb9f3a"
             ],
             [
              0.8888888888888888,
              "#fdca26"
             ],
             [
              1,
              "#f0f921"
             ]
            ],
            "type": "histogram2d"
           }
          ],
          "histogram2dcontour": [
           {
            "colorbar": {
             "outlinewidth": 0,
             "ticks": ""
            },
            "colorscale": [
             [
              0,
              "#0d0887"
             ],
             [
              0.1111111111111111,
              "#46039f"
             ],
             [
              0.2222222222222222,
              "#7201a8"
             ],
             [
              0.3333333333333333,
              "#9c179e"
             ],
             [
              0.4444444444444444,
              "#bd3786"
             ],
             [
              0.5555555555555556,
              "#d8576b"
             ],
             [
              0.6666666666666666,
              "#ed7953"
             ],
             [
              0.7777777777777778,
              "#fb9f3a"
             ],
             [
              0.8888888888888888,
              "#fdca26"
             ],
             [
              1,
              "#f0f921"
             ]
            ],
            "type": "histogram2dcontour"
           }
          ],
          "mesh3d": [
           {
            "colorbar": {
             "outlinewidth": 0,
             "ticks": ""
            },
            "type": "mesh3d"
           }
          ],
          "parcoords": [
           {
            "line": {
             "colorbar": {
              "outlinewidth": 0,
              "ticks": ""
             }
            },
            "type": "parcoords"
           }
          ],
          "pie": [
           {
            "automargin": true,
            "type": "pie"
           }
          ],
          "scatter": [
           {
            "fillpattern": {
             "fillmode": "overlay",
             "size": 10,
             "solidity": 0.2
            },
            "type": "scatter"
           }
          ],
          "scatter3d": [
           {
            "line": {
             "colorbar": {
              "outlinewidth": 0,
              "ticks": ""
             }
            },
            "marker": {
             "colorbar": {
              "outlinewidth": 0,
              "ticks": ""
             }
            },
            "type": "scatter3d"
           }
          ],
          "scattercarpet": [
           {
            "marker": {
             "colorbar": {
              "outlinewidth": 0,
              "ticks": ""
             }
            },
            "type": "scattercarpet"
           }
          ],
          "scattergeo": [
           {
            "marker": {
             "colorbar": {
              "outlinewidth": 0,
              "ticks": ""
             }
            },
            "type": "scattergeo"
           }
          ],
          "scattergl": [
           {
            "marker": {
             "colorbar": {
              "outlinewidth": 0,
              "ticks": ""
             }
            },
            "type": "scattergl"
           }
          ],
          "scattermapbox": [
           {
            "marker": {
             "colorbar": {
              "outlinewidth": 0,
              "ticks": ""
             }
            },
            "type": "scattermapbox"
           }
          ],
          "scatterpolar": [
           {
            "marker": {
             "colorbar": {
              "outlinewidth": 0,
              "ticks": ""
             }
            },
            "type": "scatterpolar"
           }
          ],
          "scatterpolargl": [
           {
            "marker": {
             "colorbar": {
              "outlinewidth": 0,
              "ticks": ""
             }
            },
            "type": "scatterpolargl"
           }
          ],
          "scatterternary": [
           {
            "marker": {
             "colorbar": {
              "outlinewidth": 0,
              "ticks": ""
             }
            },
            "type": "scatterternary"
           }
          ],
          "surface": [
           {
            "colorbar": {
             "outlinewidth": 0,
             "ticks": ""
            },
            "colorscale": [
             [
              0,
              "#0d0887"
             ],
             [
              0.1111111111111111,
              "#46039f"
             ],
             [
              0.2222222222222222,
              "#7201a8"
             ],
             [
              0.3333333333333333,
              "#9c179e"
             ],
             [
              0.4444444444444444,
              "#bd3786"
             ],
             [
              0.5555555555555556,
              "#d8576b"
             ],
             [
              0.6666666666666666,
              "#ed7953"
             ],
             [
              0.7777777777777778,
              "#fb9f3a"
             ],
             [
              0.8888888888888888,
              "#fdca26"
             ],
             [
              1,
              "#f0f921"
             ]
            ],
            "type": "surface"
           }
          ],
          "table": [
           {
            "cells": {
             "fill": {
              "color": "#EBF0F8"
             },
             "line": {
              "color": "white"
             }
            },
            "header": {
             "fill": {
              "color": "#C8D4E3"
             },
             "line": {
              "color": "white"
             }
            },
            "type": "table"
           }
          ]
         },
         "layout": {
          "annotationdefaults": {
           "arrowcolor": "#2a3f5f",
           "arrowhead": 0,
           "arrowwidth": 1
          },
          "autotypenumbers": "strict",
          "coloraxis": {
           "colorbar": {
            "outlinewidth": 0,
            "ticks": ""
           }
          },
          "colorscale": {
           "diverging": [
            [
             0,
             "#8e0152"
            ],
            [
             0.1,
             "#c51b7d"
            ],
            [
             0.2,
             "#de77ae"
            ],
            [
             0.3,
             "#f1b6da"
            ],
            [
             0.4,
             "#fde0ef"
            ],
            [
             0.5,
             "#f7f7f7"
            ],
            [
             0.6,
             "#e6f5d0"
            ],
            [
             0.7,
             "#b8e186"
            ],
            [
             0.8,
             "#7fbc41"
            ],
            [
             0.9,
             "#4d9221"
            ],
            [
             1,
             "#276419"
            ]
           ],
           "sequential": [
            [
             0,
             "#0d0887"
            ],
            [
             0.1111111111111111,
             "#46039f"
            ],
            [
             0.2222222222222222,
             "#7201a8"
            ],
            [
             0.3333333333333333,
             "#9c179e"
            ],
            [
             0.4444444444444444,
             "#bd3786"
            ],
            [
             0.5555555555555556,
             "#d8576b"
            ],
            [
             0.6666666666666666,
             "#ed7953"
            ],
            [
             0.7777777777777778,
             "#fb9f3a"
            ],
            [
             0.8888888888888888,
             "#fdca26"
            ],
            [
             1,
             "#f0f921"
            ]
           ],
           "sequentialminus": [
            [
             0,
             "#0d0887"
            ],
            [
             0.1111111111111111,
             "#46039f"
            ],
            [
             0.2222222222222222,
             "#7201a8"
            ],
            [
             0.3333333333333333,
             "#9c179e"
            ],
            [
             0.4444444444444444,
             "#bd3786"
            ],
            [
             0.5555555555555556,
             "#d8576b"
            ],
            [
             0.6666666666666666,
             "#ed7953"
            ],
            [
             0.7777777777777778,
             "#fb9f3a"
            ],
            [
             0.8888888888888888,
             "#fdca26"
            ],
            [
             1,
             "#f0f921"
            ]
           ]
          },
          "colorway": [
           "#636efa",
           "#EF553B",
           "#00cc96",
           "#ab63fa",
           "#FFA15A",
           "#19d3f3",
           "#FF6692",
           "#B6E880",
           "#FF97FF",
           "#FECB52"
          ],
          "font": {
           "color": "#2a3f5f"
          },
          "geo": {
           "bgcolor": "white",
           "lakecolor": "white",
           "landcolor": "#E5ECF6",
           "showlakes": true,
           "showland": true,
           "subunitcolor": "white"
          },
          "hoverlabel": {
           "align": "left"
          },
          "hovermode": "closest",
          "mapbox": {
           "style": "light"
          },
          "paper_bgcolor": "white",
          "plot_bgcolor": "#E5ECF6",
          "polar": {
           "angularaxis": {
            "gridcolor": "white",
            "linecolor": "white",
            "ticks": ""
           },
           "bgcolor": "#E5ECF6",
           "radialaxis": {
            "gridcolor": "white",
            "linecolor": "white",
            "ticks": ""
           }
          },
          "scene": {
           "xaxis": {
            "backgroundcolor": "#E5ECF6",
            "gridcolor": "white",
            "gridwidth": 2,
            "linecolor": "white",
            "showbackground": true,
            "ticks": "",
            "zerolinecolor": "white"
           },
           "yaxis": {
            "backgroundcolor": "#E5ECF6",
            "gridcolor": "white",
            "gridwidth": 2,
            "linecolor": "white",
            "showbackground": true,
            "ticks": "",
            "zerolinecolor": "white"
           },
           "zaxis": {
            "backgroundcolor": "#E5ECF6",
            "gridcolor": "white",
            "gridwidth": 2,
            "linecolor": "white",
            "showbackground": true,
            "ticks": "",
            "zerolinecolor": "white"
           }
          },
          "shapedefaults": {
           "line": {
            "color": "#2a3f5f"
           }
          },
          "ternary": {
           "aaxis": {
            "gridcolor": "white",
            "linecolor": "white",
            "ticks": ""
           },
           "baxis": {
            "gridcolor": "white",
            "linecolor": "white",
            "ticks": ""
           },
           "bgcolor": "#E5ECF6",
           "caxis": {
            "gridcolor": "white",
            "linecolor": "white",
            "ticks": ""
           }
          },
          "title": {
           "x": 0.05
          },
          "xaxis": {
           "automargin": true,
           "gridcolor": "white",
           "linecolor": "white",
           "ticks": "",
           "title": {
            "standoff": 15
           },
           "zerolinecolor": "white",
           "zerolinewidth": 2
          },
          "yaxis": {
           "automargin": true,
           "gridcolor": "white",
           "linecolor": "white",
           "ticks": "",
           "title": {
            "standoff": 15
           },
           "zerolinecolor": "white",
           "zerolinewidth": 2
          }
         }
        },
        "xaxis": {
         "anchor": "y",
         "domain": [
          0,
          1
         ],
         "title": {
          "text": "year"
         }
        },
        "yaxis": {
         "anchor": "x",
         "domain": [
          0,
          1
         ],
         "title": {
          "text": "waiting"
         }
        }
       }
      }
     },
     "metadata": {},
     "output_type": "display_data"
    }
   ],
   "source": []
  },
  {
   "cell_type": "code",
   "execution_count": null,
   "metadata": {},
   "outputs": [
    {
     "name": "stdout",
     "output_type": "stream",
     "text": [
      "       desig  eid  year waiting\n",
      "109  RPFC-II  164  2051       0\n",
      "110     APFC  445  2052       0\n",
      "111  RPFC-II  128  2052       0\n",
      "112     APFC  445  2053       0\n",
      "113  RPFC-II   94  2053       0\n"
     ]
    },
    {
     "data": {
      "application/vnd.plotly.v1+json": {
       "config": {
        "plotlyServerURL": "https://plot.ly"
       },
       "data": [
        {
         "alignmentgroup": "True",
         "bingroup": "x",
         "histfunc": "sum",
         "ids": [
          "ACC"
         ],
         "legendgroup": "ACC",
         "marker": {
          "color": "#4C78A8",
          "pattern": {
           "shape": ""
          }
         },
         "name": "ACC",
         "offsetgroup": "ACC",
         "orientation": "v",
         "showlegend": true,
         "type": "histogram",
         "x": [
          "ACC"
         ],
         "xaxis": "x",
         "y": [
          27
         ],
         "yaxis": "y"
        },
        {
         "alignmentgroup": "True",
         "bingroup": "x",
         "histfunc": "sum",
         "ids": [
          "ACC{HQ}"
         ],
         "legendgroup": "ACC{HQ}",
         "marker": {
          "color": "#F58518",
          "pattern": {
           "shape": ""
          }
         },
         "name": "ACC{HQ}",
         "offsetgroup": "ACC{HQ}",
         "orientation": "v",
         "showlegend": true,
         "type": "histogram",
         "x": [
          "ACC{HQ}"
         ],
         "xaxis": "x",
         "y": [
          10
         ],
         "yaxis": "y"
        },
        {
         "alignmentgroup": "True",
         "bingroup": "x",
         "histfunc": "sum",
         "ids": [
          "APFC"
         ],
         "legendgroup": "APFC",
         "marker": {
          "color": "#E45756",
          "pattern": {
           "shape": ""
          }
         },
         "name": "APFC",
         "offsetgroup": "APFC",
         "orientation": "v",
         "showlegend": true,
         "type": "histogram",
         "x": [
          "APFC"
         ],
         "xaxis": "x",
         "y": [
          445
         ],
         "yaxis": "y"
        },
        {
         "alignmentgroup": "True",
         "bingroup": "x",
         "histfunc": "sum",
         "ids": [
          "RPFC-I"
         ],
         "legendgroup": "RPFC-I",
         "marker": {
          "color": "#72B7B2",
          "pattern": {
           "shape": ""
          }
         },
         "name": "RPFC-I",
         "offsetgroup": "RPFC-I",
         "orientation": "v",
         "showlegend": true,
         "type": "histogram",
         "x": [
          "RPFC-I"
         ],
         "xaxis": "x",
         "y": [
          206
         ],
         "yaxis": "y"
        },
        {
         "alignmentgroup": "True",
         "bingroup": "x",
         "histfunc": "sum",
         "ids": [
          "RPFC-II"
         ],
         "legendgroup": "RPFC-II",
         "marker": {
          "color": "#54A24B",
          "pattern": {
           "shape": ""
          }
         },
         "name": "RPFC-II",
         "offsetgroup": "RPFC-II",
         "orientation": "v",
         "showlegend": true,
         "type": "histogram",
         "x": [
          "RPFC-II"
         ],
         "xaxis": "x",
         "y": [
          251
         ],
         "yaxis": "y"
        }
       ],
       "frames": [
        {
         "data": [
          {
           "alignmentgroup": "True",
           "bingroup": "x",
           "histfunc": "sum",
           "hovertemplate": "desig=%{x}<br>year=2024<br>sum of eid=%{y}<extra></extra>",
           "ids": [
            "ACC"
           ],
           "legendgroup": "ACC",
           "marker": {
            "color": "#4C78A8",
            "pattern": {
             "shape": ""
            }
           },
           "name": "ACC",
           "offsetgroup": "ACC",
           "orientation": "v",
           "showlegend": true,
           "type": "histogram",
           "x": [
            "ACC"
           ],
           "xaxis": "x",
           "y": [
            27
           ],
           "yaxis": "y"
          },
          {
           "alignmentgroup": "True",
           "bingroup": "x",
           "histfunc": "sum",
           "hovertemplate": "desig=%{x}<br>year=2024<br>sum of eid=%{y}<extra></extra>",
           "ids": [
            "ACC{HQ}"
           ],
           "legendgroup": "ACC{HQ}",
           "marker": {
            "color": "#F58518",
            "pattern": {
             "shape": ""
            }
           },
           "name": "ACC{HQ}",
           "offsetgroup": "ACC{HQ}",
           "orientation": "v",
           "showlegend": true,
           "type": "histogram",
           "x": [
            "ACC{HQ}"
           ],
           "xaxis": "x",
           "y": [
            10
           ],
           "yaxis": "y"
          },
          {
           "alignmentgroup": "True",
           "bingroup": "x",
           "histfunc": "sum",
           "hovertemplate": "desig=%{x}<br>year=2024<br>sum of eid=%{y}<extra></extra>",
           "ids": [
            "APFC"
           ],
           "legendgroup": "APFC",
           "marker": {
            "color": "#E45756",
            "pattern": {
             "shape": ""
            }
           },
           "name": "APFC",
           "offsetgroup": "APFC",
           "orientation": "v",
           "showlegend": true,
           "type": "histogram",
           "x": [
            "APFC"
           ],
           "xaxis": "x",
           "y": [
            445
           ],
           "yaxis": "y"
          },
          {
           "alignmentgroup": "True",
           "bingroup": "x",
           "histfunc": "sum",
           "hovertemplate": "desig=%{x}<br>year=2024<br>sum of eid=%{y}<extra></extra>",
           "ids": [
            "RPFC-I"
           ],
           "legendgroup": "RPFC-I",
           "marker": {
            "color": "#72B7B2",
            "pattern": {
             "shape": ""
            }
           },
           "name": "RPFC-I",
           "offsetgroup": "RPFC-I",
           "orientation": "v",
           "showlegend": true,
           "type": "histogram",
           "x": [
            "RPFC-I"
           ],
           "xaxis": "x",
           "y": [
            206
           ],
           "yaxis": "y"
          },
          {
           "alignmentgroup": "True",
           "bingroup": "x",
           "histfunc": "sum",
           "hovertemplate": "desig=%{x}<br>year=2024<br>sum of eid=%{y}<extra></extra>",
           "ids": [
            "RPFC-II"
           ],
           "legendgroup": "RPFC-II",
           "marker": {
            "color": "#54A24B",
            "pattern": {
             "shape": ""
            }
           },
           "name": "RPFC-II",
           "offsetgroup": "RPFC-II",
           "orientation": "v",
           "showlegend": true,
           "type": "histogram",
           "x": [
            "RPFC-II"
           ],
           "xaxis": "x",
           "y": [
            251
           ],
           "yaxis": "y"
          }
         ],
         "name": "2024"
        },
        {
         "data": [
          {
           "alignmentgroup": "True",
           "bingroup": "x",
           "histfunc": "sum",
           "hovertemplate": "desig=%{x}<br>year=2025<br>sum of eid=%{y}<extra></extra>",
           "ids": [
            "ACC"
           ],
           "legendgroup": "ACC",
           "marker": {
            "color": "#4C78A8",
            "pattern": {
             "shape": ""
            }
           },
           "name": "ACC",
           "offsetgroup": "ACC",
           "orientation": "v",
           "showlegend": true,
           "type": "histogram",
           "x": [
            "ACC"
           ],
           "xaxis": "x",
           "y": [
            32
           ],
           "yaxis": "y"
          },
          {
           "alignmentgroup": "True",
           "bingroup": "x",
           "histfunc": "sum",
           "hovertemplate": "desig=%{x}<br>year=2025<br>sum of eid=%{y}<extra></extra>",
           "ids": [
            "ACC{HQ}"
           ],
           "legendgroup": "ACC{HQ}",
           "marker": {
            "color": "#F58518",
            "pattern": {
             "shape": ""
            }
           },
           "name": "ACC{HQ}",
           "offsetgroup": "ACC{HQ}",
           "orientation": "v",
           "showlegend": true,
           "type": "histogram",
           "x": [
            "ACC{HQ}"
           ],
           "xaxis": "x",
           "y": [
            8
           ],
           "yaxis": "y"
          },
          {
           "alignmentgroup": "True",
           "bingroup": "x",
           "histfunc": "sum",
           "hovertemplate": "desig=%{x}<br>year=2025<br>sum of eid=%{y}<extra></extra>",
           "ids": [
            "APFC"
           ],
           "legendgroup": "APFC",
           "marker": {
            "color": "#E45756",
            "pattern": {
             "shape": ""
            }
           },
           "name": "APFC",
           "offsetgroup": "APFC",
           "orientation": "v",
           "showlegend": true,
           "type": "histogram",
           "x": [
            "APFC"
           ],
           "xaxis": "x",
           "y": [
            445
           ],
           "yaxis": "y"
          },
          {
           "alignmentgroup": "True",
           "bingroup": "x",
           "histfunc": "sum",
           "hovertemplate": "desig=%{x}<br>year=2025<br>sum of eid=%{y}<extra></extra>",
           "ids": [
            "RPFC-I"
           ],
           "legendgroup": "RPFC-I",
           "marker": {
            "color": "#72B7B2",
            "pattern": {
             "shape": ""
            }
           },
           "name": "RPFC-I",
           "offsetgroup": "RPFC-I",
           "orientation": "v",
           "showlegend": true,
           "type": "histogram",
           "x": [
            "RPFC-I"
           ],
           "xaxis": "x",
           "y": [
            201
           ],
           "yaxis": "y"
          },
          {
           "alignmentgroup": "True",
           "bingroup": "x",
           "histfunc": "sum",
           "hovertemplate": "desig=%{x}<br>year=2025<br>sum of eid=%{y}<extra></extra>",
           "ids": [
            "RPFC-II"
           ],
           "legendgroup": "RPFC-II",
           "marker": {
            "color": "#54A24B",
            "pattern": {
             "shape": ""
            }
           },
           "name": "RPFC-II",
           "offsetgroup": "RPFC-II",
           "orientation": "v",
           "showlegend": true,
           "type": "histogram",
           "x": [
            "RPFC-II"
           ],
           "xaxis": "x",
           "y": [
            287
           ],
           "yaxis": "y"
          }
         ],
         "name": "2025"
        },
        {
         "data": [
          {
           "alignmentgroup": "True",
           "bingroup": "x",
           "histfunc": "sum",
           "hovertemplate": "desig=%{x}<br>year=2026<br>sum of eid=%{y}<extra></extra>",
           "ids": [
            "ACC"
           ],
           "legendgroup": "ACC",
           "marker": {
            "color": "#4C78A8",
            "pattern": {
             "shape": ""
            }
           },
           "name": "ACC",
           "offsetgroup": "ACC",
           "orientation": "v",
           "showlegend": true,
           "type": "histogram",
           "x": [
            "ACC"
           ],
           "xaxis": "x",
           "y": [
            32
           ],
           "yaxis": "y"
          },
          {
           "alignmentgroup": "True",
           "bingroup": "x",
           "histfunc": "sum",
           "hovertemplate": "desig=%{x}<br>year=2026<br>sum of eid=%{y}<extra></extra>",
           "ids": [
            "ACC{HQ}"
           ],
           "legendgroup": "ACC{HQ}",
           "marker": {
            "color": "#F58518",
            "pattern": {
             "shape": ""
            }
           },
           "name": "ACC{HQ}",
           "offsetgroup": "ACC{HQ}",
           "orientation": "v",
           "showlegend": true,
           "type": "histogram",
           "x": [
            "ACC{HQ}"
           ],
           "xaxis": "x",
           "y": [
            7
           ],
           "yaxis": "y"
          },
          {
           "alignmentgroup": "True",
           "bingroup": "x",
           "histfunc": "sum",
           "hovertemplate": "desig=%{x}<br>year=2026<br>sum of eid=%{y}<extra></extra>",
           "ids": [
            "APFC"
           ],
           "legendgroup": "APFC",
           "marker": {
            "color": "#E45756",
            "pattern": {
             "shape": ""
            }
           },
           "name": "APFC",
           "offsetgroup": "APFC",
           "orientation": "v",
           "showlegend": true,
           "type": "histogram",
           "x": [
            "APFC"
           ],
           "xaxis": "x",
           "y": [
            445
           ],
           "yaxis": "y"
          },
          {
           "alignmentgroup": "True",
           "bingroup": "x",
           "histfunc": "sum",
           "hovertemplate": "desig=%{x}<br>year=2026<br>sum of eid=%{y}<extra></extra>",
           "ids": [
            "RPFC-I"
           ],
           "legendgroup": "RPFC-I",
           "marker": {
            "color": "#72B7B2",
            "pattern": {
             "shape": ""
            }
           },
           "name": "RPFC-I",
           "offsetgroup": "RPFC-I",
           "orientation": "v",
           "showlegend": true,
           "type": "histogram",
           "x": [
            "RPFC-I"
           ],
           "xaxis": "x",
           "y": [
            201
           ],
           "yaxis": "y"
          },
          {
           "alignmentgroup": "True",
           "bingroup": "x",
           "histfunc": "sum",
           "hovertemplate": "desig=%{x}<br>year=2026<br>sum of eid=%{y}<extra></extra>",
           "ids": [
            "RPFC-II"
           ],
           "legendgroup": "RPFC-II",
           "marker": {
            "color": "#54A24B",
            "pattern": {
             "shape": ""
            }
           },
           "name": "RPFC-II",
           "offsetgroup": "RPFC-II",
           "orientation": "v",
           "showlegend": true,
           "type": "histogram",
           "x": [
            "RPFC-II"
           ],
           "xaxis": "x",
           "y": [
            287
           ],
           "yaxis": "y"
          }
         ],
         "name": "2026"
        },
        {
         "data": [
          {
           "alignmentgroup": "True",
           "bingroup": "x",
           "histfunc": "sum",
           "hovertemplate": "desig=%{x}<br>year=2027<br>sum of eid=%{y}<extra></extra>",
           "ids": [
            "ACC"
           ],
           "legendgroup": "ACC",
           "marker": {
            "color": "#4C78A8",
            "pattern": {
             "shape": ""
            }
           },
           "name": "ACC",
           "offsetgroup": "ACC",
           "orientation": "v",
           "showlegend": true,
           "type": "histogram",
           "x": [
            "ACC"
           ],
           "xaxis": "x",
           "y": [
            32
           ],
           "yaxis": "y"
          },
          {
           "alignmentgroup": "True",
           "bingroup": "x",
           "histfunc": "sum",
           "hovertemplate": "desig=%{x}<br>year=2027<br>sum of eid=%{y}<extra></extra>",
           "ids": [
            "ACC{HQ}"
           ],
           "legendgroup": "ACC{HQ}",
           "marker": {
            "color": "#F58518",
            "pattern": {
             "shape": ""
            }
           },
           "name": "ACC{HQ}",
           "offsetgroup": "ACC{HQ}",
           "orientation": "v",
           "showlegend": true,
           "type": "histogram",
           "x": [
            "ACC{HQ}"
           ],
           "xaxis": "x",
           "y": [
            3
           ],
           "yaxis": "y"
          },
          {
           "alignmentgroup": "True",
           "bingroup": "x",
           "histfunc": "sum",
           "hovertemplate": "desig=%{x}<br>year=2027<br>sum of eid=%{y}<extra></extra>",
           "ids": [
            "APFC"
           ],
           "legendgroup": "APFC",
           "marker": {
            "color": "#E45756",
            "pattern": {
             "shape": ""
            }
           },
           "name": "APFC",
           "offsetgroup": "APFC",
           "orientation": "v",
           "showlegend": true,
           "type": "histogram",
           "x": [
            "APFC"
           ],
           "xaxis": "x",
           "y": [
            445
           ],
           "yaxis": "y"
          },
          {
           "alignmentgroup": "True",
           "bingroup": "x",
           "histfunc": "sum",
           "hovertemplate": "desig=%{x}<br>year=2027<br>sum of eid=%{y}<extra></extra>",
           "ids": [
            "RPFC-I"
           ],
           "legendgroup": "RPFC-I",
           "marker": {
            "color": "#72B7B2",
            "pattern": {
             "shape": ""
            }
           },
           "name": "RPFC-I",
           "offsetgroup": "RPFC-I",
           "orientation": "v",
           "showlegend": true,
           "type": "histogram",
           "x": [
            "RPFC-I"
           ],
           "xaxis": "x",
           "y": [
            200
           ],
           "yaxis": "y"
          },
          {
           "alignmentgroup": "True",
           "bingroup": "x",
           "histfunc": "sum",
           "hovertemplate": "desig=%{x}<br>year=2027<br>sum of eid=%{y}<extra></extra>",
           "ids": [
            "RPFC-II"
           ],
           "legendgroup": "RPFC-II",
           "marker": {
            "color": "#54A24B",
            "pattern": {
             "shape": ""
            }
           },
           "name": "RPFC-II",
           "offsetgroup": "RPFC-II",
           "orientation": "v",
           "showlegend": true,
           "type": "histogram",
           "x": [
            "RPFC-II"
           ],
           "xaxis": "x",
           "y": [
            287
           ],
           "yaxis": "y"
          }
         ],
         "name": "2027"
        },
        {
         "data": [
          {
           "alignmentgroup": "True",
           "bingroup": "x",
           "histfunc": "sum",
           "hovertemplate": "desig=%{x}<br>year=2028<br>sum of eid=%{y}<extra></extra>",
           "ids": [
            "ACC"
           ],
           "legendgroup": "ACC",
           "marker": {
            "color": "#4C78A8",
            "pattern": {
             "shape": ""
            }
           },
           "name": "ACC",
           "offsetgroup": "ACC",
           "orientation": "v",
           "showlegend": true,
           "type": "histogram",
           "x": [
            "ACC"
           ],
           "xaxis": "x",
           "y": [
            32
           ],
           "yaxis": "y"
          },
          {
           "alignmentgroup": "True",
           "bingroup": "x",
           "histfunc": "sum",
           "hovertemplate": "desig=%{x}<br>year=2028<br>sum of eid=%{y}<extra></extra>",
           "ids": [
            "APFC"
           ],
           "legendgroup": "APFC",
           "marker": {
            "color": "#E45756",
            "pattern": {
             "shape": ""
            }
           },
           "name": "APFC",
           "offsetgroup": "APFC",
           "orientation": "v",
           "showlegend": true,
           "type": "histogram",
           "x": [
            "APFC"
           ],
           "xaxis": "x",
           "y": [
            445
           ],
           "yaxis": "y"
          },
          {
           "alignmentgroup": "True",
           "bingroup": "x",
           "histfunc": "sum",
           "hovertemplate": "desig=%{x}<br>year=2028<br>sum of eid=%{y}<extra></extra>",
           "ids": [
            "RPFC-I"
           ],
           "legendgroup": "RPFC-I",
           "marker": {
            "color": "#72B7B2",
            "pattern": {
             "shape": ""
            }
           },
           "name": "RPFC-I",
           "offsetgroup": "RPFC-I",
           "orientation": "v",
           "showlegend": true,
           "type": "histogram",
           "x": [
            "RPFC-I"
           ],
           "xaxis": "x",
           "y": [
            198
           ],
           "yaxis": "y"
          },
          {
           "alignmentgroup": "True",
           "bingroup": "x",
           "histfunc": "sum",
           "hovertemplate": "desig=%{x}<br>year=2028<br>sum of eid=%{y}<extra></extra>",
           "ids": [
            "RPFC-II"
           ],
           "legendgroup": "RPFC-II",
           "marker": {
            "color": "#54A24B",
            "pattern": {
             "shape": ""
            }
           },
           "name": "RPFC-II",
           "offsetgroup": "RPFC-II",
           "orientation": "v",
           "showlegend": true,
           "type": "histogram",
           "x": [
            "RPFC-II"
           ],
           "xaxis": "x",
           "y": [
            287
           ],
           "yaxis": "y"
          }
         ],
         "name": "2028"
        },
        {
         "data": [
          {
           "alignmentgroup": "True",
           "bingroup": "x",
           "histfunc": "sum",
           "hovertemplate": "desig=%{x}<br>year=2029<br>sum of eid=%{y}<extra></extra>",
           "ids": [
            "ACC"
           ],
           "legendgroup": "ACC",
           "marker": {
            "color": "#4C78A8",
            "pattern": {
             "shape": ""
            }
           },
           "name": "ACC",
           "offsetgroup": "ACC",
           "orientation": "v",
           "showlegend": true,
           "type": "histogram",
           "x": [
            "ACC"
           ],
           "xaxis": "x",
           "y": [
            32
           ],
           "yaxis": "y"
          },
          {
           "alignmentgroup": "True",
           "bingroup": "x",
           "histfunc": "sum",
           "hovertemplate": "desig=%{x}<br>year=2029<br>sum of eid=%{y}<extra></extra>",
           "ids": [
            "APFC"
           ],
           "legendgroup": "APFC",
           "marker": {
            "color": "#E45756",
            "pattern": {
             "shape": ""
            }
           },
           "name": "APFC",
           "offsetgroup": "APFC",
           "orientation": "v",
           "showlegend": true,
           "type": "histogram",
           "x": [
            "APFC"
           ],
           "xaxis": "x",
           "y": [
            445
           ],
           "yaxis": "y"
          },
          {
           "alignmentgroup": "True",
           "bingroup": "x",
           "histfunc": "sum",
           "hovertemplate": "desig=%{x}<br>year=2029<br>sum of eid=%{y}<extra></extra>",
           "ids": [
            "RPFC-I"
           ],
           "legendgroup": "RPFC-I",
           "marker": {
            "color": "#72B7B2",
            "pattern": {
             "shape": ""
            }
           },
           "name": "RPFC-I",
           "offsetgroup": "RPFC-I",
           "orientation": "v",
           "showlegend": true,
           "type": "histogram",
           "x": [
            "RPFC-I"
           ],
           "xaxis": "x",
           "y": [
            198
           ],
           "yaxis": "y"
          },
          {
           "alignmentgroup": "True",
           "bingroup": "x",
           "histfunc": "sum",
           "hovertemplate": "desig=%{x}<br>year=2029<br>sum of eid=%{y}<extra></extra>",
           "ids": [
            "RPFC-II"
           ],
           "legendgroup": "RPFC-II",
           "marker": {
            "color": "#54A24B",
            "pattern": {
             "shape": ""
            }
           },
           "name": "RPFC-II",
           "offsetgroup": "RPFC-II",
           "orientation": "v",
           "showlegend": true,
           "type": "histogram",
           "x": [
            "RPFC-II"
           ],
           "xaxis": "x",
           "y": [
            287
           ],
           "yaxis": "y"
          }
         ],
         "name": "2029"
        },
        {
         "data": [
          {
           "alignmentgroup": "True",
           "bingroup": "x",
           "histfunc": "sum",
           "hovertemplate": "desig=%{x}<br>year=2030<br>sum of eid=%{y}<extra></extra>",
           "ids": [
            "ACC"
           ],
           "legendgroup": "ACC",
           "marker": {
            "color": "#4C78A8",
            "pattern": {
             "shape": ""
            }
           },
           "name": "ACC",
           "offsetgroup": "ACC",
           "orientation": "v",
           "showlegend": true,
           "type": "histogram",
           "x": [
            "ACC"
           ],
           "xaxis": "x",
           "y": [
            32
           ],
           "yaxis": "y"
          },
          {
           "alignmentgroup": "True",
           "bingroup": "x",
           "histfunc": "sum",
           "hovertemplate": "desig=%{x}<br>year=2030<br>sum of eid=%{y}<extra></extra>",
           "ids": [
            "APFC"
           ],
           "legendgroup": "APFC",
           "marker": {
            "color": "#E45756",
            "pattern": {
             "shape": ""
            }
           },
           "name": "APFC",
           "offsetgroup": "APFC",
           "orientation": "v",
           "showlegend": true,
           "type": "histogram",
           "x": [
            "APFC"
           ],
           "xaxis": "x",
           "y": [
            445
           ],
           "yaxis": "y"
          },
          {
           "alignmentgroup": "True",
           "bingroup": "x",
           "histfunc": "sum",
           "hovertemplate": "desig=%{x}<br>year=2030<br>sum of eid=%{y}<extra></extra>",
           "ids": [
            "RPFC-I"
           ],
           "legendgroup": "RPFC-I",
           "marker": {
            "color": "#72B7B2",
            "pattern": {
             "shape": ""
            }
           },
           "name": "RPFC-I",
           "offsetgroup": "RPFC-I",
           "orientation": "v",
           "showlegend": true,
           "type": "histogram",
           "x": [
            "RPFC-I"
           ],
           "xaxis": "x",
           "y": [
            195
           ],
           "yaxis": "y"
          },
          {
           "alignmentgroup": "True",
           "bingroup": "x",
           "histfunc": "sum",
           "hovertemplate": "desig=%{x}<br>year=2030<br>sum of eid=%{y}<extra></extra>",
           "ids": [
            "RPFC-II"
           ],
           "legendgroup": "RPFC-II",
           "marker": {
            "color": "#54A24B",
            "pattern": {
             "shape": ""
            }
           },
           "name": "RPFC-II",
           "offsetgroup": "RPFC-II",
           "orientation": "v",
           "showlegend": true,
           "type": "histogram",
           "x": [
            "RPFC-II"
           ],
           "xaxis": "x",
           "y": [
            287
           ],
           "yaxis": "y"
          }
         ],
         "name": "2030"
        },
        {
         "data": [
          {
           "alignmentgroup": "True",
           "bingroup": "x",
           "histfunc": "sum",
           "hovertemplate": "desig=%{x}<br>year=2031<br>sum of eid=%{y}<extra></extra>",
           "ids": [
            "ACC"
           ],
           "legendgroup": "ACC",
           "marker": {
            "color": "#4C78A8",
            "pattern": {
             "shape": ""
            }
           },
           "name": "ACC",
           "offsetgroup": "ACC",
           "orientation": "v",
           "showlegend": true,
           "type": "histogram",
           "x": [
            "ACC"
           ],
           "xaxis": "x",
           "y": [
            32
           ],
           "yaxis": "y"
          },
          {
           "alignmentgroup": "True",
           "bingroup": "x",
           "histfunc": "sum",
           "hovertemplate": "desig=%{x}<br>year=2031<br>sum of eid=%{y}<extra></extra>",
           "ids": [
            "APFC"
           ],
           "legendgroup": "APFC",
           "marker": {
            "color": "#E45756",
            "pattern": {
             "shape": ""
            }
           },
           "name": "APFC",
           "offsetgroup": "APFC",
           "orientation": "v",
           "showlegend": true,
           "type": "histogram",
           "x": [
            "APFC"
           ],
           "xaxis": "x",
           "y": [
            445
           ],
           "yaxis": "y"
          },
          {
           "alignmentgroup": "True",
           "bingroup": "x",
           "histfunc": "sum",
           "hovertemplate": "desig=%{x}<br>year=2031<br>sum of eid=%{y}<extra></extra>",
           "ids": [
            "RPFC-I"
           ],
           "legendgroup": "RPFC-I",
           "marker": {
            "color": "#72B7B2",
            "pattern": {
             "shape": ""
            }
           },
           "name": "RPFC-I",
           "offsetgroup": "RPFC-I",
           "orientation": "v",
           "showlegend": true,
           "type": "histogram",
           "x": [
            "RPFC-I"
           ],
           "xaxis": "x",
           "y": [
            193
           ],
           "yaxis": "y"
          },
          {
           "alignmentgroup": "True",
           "bingroup": "x",
           "histfunc": "sum",
           "hovertemplate": "desig=%{x}<br>year=2031<br>sum of eid=%{y}<extra></extra>",
           "ids": [
            "RPFC-II"
           ],
           "legendgroup": "RPFC-II",
           "marker": {
            "color": "#54A24B",
            "pattern": {
             "shape": ""
            }
           },
           "name": "RPFC-II",
           "offsetgroup": "RPFC-II",
           "orientation": "v",
           "showlegend": true,
           "type": "histogram",
           "x": [
            "RPFC-II"
           ],
           "xaxis": "x",
           "y": [
            287
           ],
           "yaxis": "y"
          }
         ],
         "name": "2031"
        },
        {
         "data": [
          {
           "alignmentgroup": "True",
           "bingroup": "x",
           "histfunc": "sum",
           "hovertemplate": "desig=%{x}<br>year=2032<br>sum of eid=%{y}<extra></extra>",
           "ids": [
            "ACC"
           ],
           "legendgroup": "ACC",
           "marker": {
            "color": "#4C78A8",
            "pattern": {
             "shape": ""
            }
           },
           "name": "ACC",
           "offsetgroup": "ACC",
           "orientation": "v",
           "showlegend": true,
           "type": "histogram",
           "x": [
            "ACC"
           ],
           "xaxis": "x",
           "y": [
            32
           ],
           "yaxis": "y"
          },
          {
           "alignmentgroup": "True",
           "bingroup": "x",
           "histfunc": "sum",
           "hovertemplate": "desig=%{x}<br>year=2032<br>sum of eid=%{y}<extra></extra>",
           "ids": [
            "APFC"
           ],
           "legendgroup": "APFC",
           "marker": {
            "color": "#E45756",
            "pattern": {
             "shape": ""
            }
           },
           "name": "APFC",
           "offsetgroup": "APFC",
           "orientation": "v",
           "showlegend": true,
           "type": "histogram",
           "x": [
            "APFC"
           ],
           "xaxis": "x",
           "y": [
            445
           ],
           "yaxis": "y"
          },
          {
           "alignmentgroup": "True",
           "bingroup": "x",
           "histfunc": "sum",
           "hovertemplate": "desig=%{x}<br>year=2032<br>sum of eid=%{y}<extra></extra>",
           "ids": [
            "RPFC-I"
           ],
           "legendgroup": "RPFC-I",
           "marker": {
            "color": "#72B7B2",
            "pattern": {
             "shape": ""
            }
           },
           "name": "RPFC-I",
           "offsetgroup": "RPFC-I",
           "orientation": "v",
           "showlegend": true,
           "type": "histogram",
           "x": [
            "RPFC-I"
           ],
           "xaxis": "x",
           "y": [
            192
           ],
           "yaxis": "y"
          },
          {
           "alignmentgroup": "True",
           "bingroup": "x",
           "histfunc": "sum",
           "hovertemplate": "desig=%{x}<br>year=2032<br>sum of eid=%{y}<extra></extra>",
           "ids": [
            "RPFC-II"
           ],
           "legendgroup": "RPFC-II",
           "marker": {
            "color": "#54A24B",
            "pattern": {
             "shape": ""
            }
           },
           "name": "RPFC-II",
           "offsetgroup": "RPFC-II",
           "orientation": "v",
           "showlegend": true,
           "type": "histogram",
           "x": [
            "RPFC-II"
           ],
           "xaxis": "x",
           "y": [
            287
           ],
           "yaxis": "y"
          }
         ],
         "name": "2032"
        },
        {
         "data": [
          {
           "alignmentgroup": "True",
           "bingroup": "x",
           "histfunc": "sum",
           "hovertemplate": "desig=%{x}<br>year=2033<br>sum of eid=%{y}<extra></extra>",
           "ids": [
            "ACC"
           ],
           "legendgroup": "ACC",
           "marker": {
            "color": "#4C78A8",
            "pattern": {
             "shape": ""
            }
           },
           "name": "ACC",
           "offsetgroup": "ACC",
           "orientation": "v",
           "showlegend": true,
           "type": "histogram",
           "x": [
            "ACC"
           ],
           "xaxis": "x",
           "y": [
            32
           ],
           "yaxis": "y"
          },
          {
           "alignmentgroup": "True",
           "bingroup": "x",
           "histfunc": "sum",
           "hovertemplate": "desig=%{x}<br>year=2033<br>sum of eid=%{y}<extra></extra>",
           "ids": [
            "APFC"
           ],
           "legendgroup": "APFC",
           "marker": {
            "color": "#E45756",
            "pattern": {
             "shape": ""
            }
           },
           "name": "APFC",
           "offsetgroup": "APFC",
           "orientation": "v",
           "showlegend": true,
           "type": "histogram",
           "x": [
            "APFC"
           ],
           "xaxis": "x",
           "y": [
            445
           ],
           "yaxis": "y"
          },
          {
           "alignmentgroup": "True",
           "bingroup": "x",
           "histfunc": "sum",
           "hovertemplate": "desig=%{x}<br>year=2033<br>sum of eid=%{y}<extra></extra>",
           "ids": [
            "RPFC-I"
           ],
           "legendgroup": "RPFC-I",
           "marker": {
            "color": "#72B7B2",
            "pattern": {
             "shape": ""
            }
           },
           "name": "RPFC-I",
           "offsetgroup": "RPFC-I",
           "orientation": "v",
           "showlegend": true,
           "type": "histogram",
           "x": [
            "RPFC-I"
           ],
           "xaxis": "x",
           "y": [
            192
           ],
           "yaxis": "y"
          },
          {
           "alignmentgroup": "True",
           "bingroup": "x",
           "histfunc": "sum",
           "hovertemplate": "desig=%{x}<br>year=2033<br>sum of eid=%{y}<extra></extra>",
           "ids": [
            "RPFC-II"
           ],
           "legendgroup": "RPFC-II",
           "marker": {
            "color": "#54A24B",
            "pattern": {
             "shape": ""
            }
           },
           "name": "RPFC-II",
           "offsetgroup": "RPFC-II",
           "orientation": "v",
           "showlegend": true,
           "type": "histogram",
           "x": [
            "RPFC-II"
           ],
           "xaxis": "x",
           "y": [
            287
           ],
           "yaxis": "y"
          }
         ],
         "name": "2033"
        },
        {
         "data": [
          {
           "alignmentgroup": "True",
           "bingroup": "x",
           "histfunc": "sum",
           "hovertemplate": "desig=%{x}<br>year=2034<br>sum of eid=%{y}<extra></extra>",
           "ids": [
            "ACC"
           ],
           "legendgroup": "ACC",
           "marker": {
            "color": "#4C78A8",
            "pattern": {
             "shape": ""
            }
           },
           "name": "ACC",
           "offsetgroup": "ACC",
           "orientation": "v",
           "showlegend": true,
           "type": "histogram",
           "x": [
            "ACC"
           ],
           "xaxis": "x",
           "y": [
            32
           ],
           "yaxis": "y"
          },
          {
           "alignmentgroup": "True",
           "bingroup": "x",
           "histfunc": "sum",
           "hovertemplate": "desig=%{x}<br>year=2034<br>sum of eid=%{y}<extra></extra>",
           "ids": [
            "APFC"
           ],
           "legendgroup": "APFC",
           "marker": {
            "color": "#E45756",
            "pattern": {
             "shape": ""
            }
           },
           "name": "APFC",
           "offsetgroup": "APFC",
           "orientation": "v",
           "showlegend": true,
           "type": "histogram",
           "x": [
            "APFC"
           ],
           "xaxis": "x",
           "y": [
            445
           ],
           "yaxis": "y"
          },
          {
           "alignmentgroup": "True",
           "bingroup": "x",
           "histfunc": "sum",
           "hovertemplate": "desig=%{x}<br>year=2034<br>sum of eid=%{y}<extra></extra>",
           "ids": [
            "RPFC-I"
           ],
           "legendgroup": "RPFC-I",
           "marker": {
            "color": "#72B7B2",
            "pattern": {
             "shape": ""
            }
           },
           "name": "RPFC-I",
           "offsetgroup": "RPFC-I",
           "orientation": "v",
           "showlegend": true,
           "type": "histogram",
           "x": [
            "RPFC-I"
           ],
           "xaxis": "x",
           "y": [
            189
           ],
           "yaxis": "y"
          },
          {
           "alignmentgroup": "True",
           "bingroup": "x",
           "histfunc": "sum",
           "hovertemplate": "desig=%{x}<br>year=2034<br>sum of eid=%{y}<extra></extra>",
           "ids": [
            "RPFC-II"
           ],
           "legendgroup": "RPFC-II",
           "marker": {
            "color": "#54A24B",
            "pattern": {
             "shape": ""
            }
           },
           "name": "RPFC-II",
           "offsetgroup": "RPFC-II",
           "orientation": "v",
           "showlegend": true,
           "type": "histogram",
           "x": [
            "RPFC-II"
           ],
           "xaxis": "x",
           "y": [
            287
           ],
           "yaxis": "y"
          }
         ],
         "name": "2034"
        },
        {
         "data": [
          {
           "alignmentgroup": "True",
           "bingroup": "x",
           "histfunc": "sum",
           "hovertemplate": "desig=%{x}<br>year=2035<br>sum of eid=%{y}<extra></extra>",
           "ids": [
            "ACC"
           ],
           "legendgroup": "ACC",
           "marker": {
            "color": "#4C78A8",
            "pattern": {
             "shape": ""
            }
           },
           "name": "ACC",
           "offsetgroup": "ACC",
           "orientation": "v",
           "showlegend": true,
           "type": "histogram",
           "x": [
            "ACC"
           ],
           "xaxis": "x",
           "y": [
            29
           ],
           "yaxis": "y"
          },
          {
           "alignmentgroup": "True",
           "bingroup": "x",
           "histfunc": "sum",
           "hovertemplate": "desig=%{x}<br>year=2035<br>sum of eid=%{y}<extra></extra>",
           "ids": [
            "APFC"
           ],
           "legendgroup": "APFC",
           "marker": {
            "color": "#E45756",
            "pattern": {
             "shape": ""
            }
           },
           "name": "APFC",
           "offsetgroup": "APFC",
           "orientation": "v",
           "showlegend": true,
           "type": "histogram",
           "x": [
            "APFC"
           ],
           "xaxis": "x",
           "y": [
            445
           ],
           "yaxis": "y"
          },
          {
           "alignmentgroup": "True",
           "bingroup": "x",
           "histfunc": "sum",
           "hovertemplate": "desig=%{x}<br>year=2035<br>sum of eid=%{y}<extra></extra>",
           "ids": [
            "RPFC-I"
           ],
           "legendgroup": "RPFC-I",
           "marker": {
            "color": "#72B7B2",
            "pattern": {
             "shape": ""
            }
           },
           "name": "RPFC-I",
           "offsetgroup": "RPFC-I",
           "orientation": "v",
           "showlegend": true,
           "type": "histogram",
           "x": [
            "RPFC-I"
           ],
           "xaxis": "x",
           "y": [
            188
           ],
           "yaxis": "y"
          },
          {
           "alignmentgroup": "True",
           "bingroup": "x",
           "histfunc": "sum",
           "hovertemplate": "desig=%{x}<br>year=2035<br>sum of eid=%{y}<extra></extra>",
           "ids": [
            "RPFC-II"
           ],
           "legendgroup": "RPFC-II",
           "marker": {
            "color": "#54A24B",
            "pattern": {
             "shape": ""
            }
           },
           "name": "RPFC-II",
           "offsetgroup": "RPFC-II",
           "orientation": "v",
           "showlegend": true,
           "type": "histogram",
           "x": [
            "RPFC-II"
           ],
           "xaxis": "x",
           "y": [
            287
           ],
           "yaxis": "y"
          }
         ],
         "name": "2035"
        },
        {
         "data": [
          {
           "alignmentgroup": "True",
           "bingroup": "x",
           "histfunc": "sum",
           "hovertemplate": "desig=%{x}<br>year=2036<br>sum of eid=%{y}<extra></extra>",
           "ids": [
            "ACC"
           ],
           "legendgroup": "ACC",
           "marker": {
            "color": "#4C78A8",
            "pattern": {
             "shape": ""
            }
           },
           "name": "ACC",
           "offsetgroup": "ACC",
           "orientation": "v",
           "showlegend": true,
           "type": "histogram",
           "x": [
            "ACC"
           ],
           "xaxis": "x",
           "y": [
            28
           ],
           "yaxis": "y"
          },
          {
           "alignmentgroup": "True",
           "bingroup": "x",
           "histfunc": "sum",
           "hovertemplate": "desig=%{x}<br>year=2036<br>sum of eid=%{y}<extra></extra>",
           "ids": [
            "APFC"
           ],
           "legendgroup": "APFC",
           "marker": {
            "color": "#E45756",
            "pattern": {
             "shape": ""
            }
           },
           "name": "APFC",
           "offsetgroup": "APFC",
           "orientation": "v",
           "showlegend": true,
           "type": "histogram",
           "x": [
            "APFC"
           ],
           "xaxis": "x",
           "y": [
            445
           ],
           "yaxis": "y"
          },
          {
           "alignmentgroup": "True",
           "bingroup": "x",
           "histfunc": "sum",
           "hovertemplate": "desig=%{x}<br>year=2036<br>sum of eid=%{y}<extra></extra>",
           "ids": [
            "RPFC-I"
           ],
           "legendgroup": "RPFC-I",
           "marker": {
            "color": "#72B7B2",
            "pattern": {
             "shape": ""
            }
           },
           "name": "RPFC-I",
           "offsetgroup": "RPFC-I",
           "orientation": "v",
           "showlegend": true,
           "type": "histogram",
           "x": [
            "RPFC-I"
           ],
           "xaxis": "x",
           "y": [
            188
           ],
           "yaxis": "y"
          },
          {
           "alignmentgroup": "True",
           "bingroup": "x",
           "histfunc": "sum",
           "hovertemplate": "desig=%{x}<br>year=2036<br>sum of eid=%{y}<extra></extra>",
           "ids": [
            "RPFC-II"
           ],
           "legendgroup": "RPFC-II",
           "marker": {
            "color": "#54A24B",
            "pattern": {
             "shape": ""
            }
           },
           "name": "RPFC-II",
           "offsetgroup": "RPFC-II",
           "orientation": "v",
           "showlegend": true,
           "type": "histogram",
           "x": [
            "RPFC-II"
           ],
           "xaxis": "x",
           "y": [
            287
           ],
           "yaxis": "y"
          }
         ],
         "name": "2036"
        },
        {
         "data": [
          {
           "alignmentgroup": "True",
           "bingroup": "x",
           "histfunc": "sum",
           "hovertemplate": "desig=%{x}<br>year=2037<br>sum of eid=%{y}<extra></extra>",
           "ids": [
            "ACC"
           ],
           "legendgroup": "ACC",
           "marker": {
            "color": "#4C78A8",
            "pattern": {
             "shape": ""
            }
           },
           "name": "ACC",
           "offsetgroup": "ACC",
           "orientation": "v",
           "showlegend": true,
           "type": "histogram",
           "x": [
            "ACC"
           ],
           "xaxis": "x",
           "y": [
            26
           ],
           "yaxis": "y"
          },
          {
           "alignmentgroup": "True",
           "bingroup": "x",
           "histfunc": "sum",
           "hovertemplate": "desig=%{x}<br>year=2037<br>sum of eid=%{y}<extra></extra>",
           "ids": [
            "APFC"
           ],
           "legendgroup": "APFC",
           "marker": {
            "color": "#E45756",
            "pattern": {
             "shape": ""
            }
           },
           "name": "APFC",
           "offsetgroup": "APFC",
           "orientation": "v",
           "showlegend": true,
           "type": "histogram",
           "x": [
            "APFC"
           ],
           "xaxis": "x",
           "y": [
            445
           ],
           "yaxis": "y"
          },
          {
           "alignmentgroup": "True",
           "bingroup": "x",
           "histfunc": "sum",
           "hovertemplate": "desig=%{x}<br>year=2037<br>sum of eid=%{y}<extra></extra>",
           "ids": [
            "RPFC-I"
           ],
           "legendgroup": "RPFC-I",
           "marker": {
            "color": "#72B7B2",
            "pattern": {
             "shape": ""
            }
           },
           "name": "RPFC-I",
           "offsetgroup": "RPFC-I",
           "orientation": "v",
           "showlegend": true,
           "type": "histogram",
           "x": [
            "RPFC-I"
           ],
           "xaxis": "x",
           "y": [
            188
           ],
           "yaxis": "y"
          },
          {
           "alignmentgroup": "True",
           "bingroup": "x",
           "histfunc": "sum",
           "hovertemplate": "desig=%{x}<br>year=2037<br>sum of eid=%{y}<extra></extra>",
           "ids": [
            "RPFC-II"
           ],
           "legendgroup": "RPFC-II",
           "marker": {
            "color": "#54A24B",
            "pattern": {
             "shape": ""
            }
           },
           "name": "RPFC-II",
           "offsetgroup": "RPFC-II",
           "orientation": "v",
           "showlegend": true,
           "type": "histogram",
           "x": [
            "RPFC-II"
           ],
           "xaxis": "x",
           "y": [
            287
           ],
           "yaxis": "y"
          }
         ],
         "name": "2037"
        },
        {
         "data": [
          {
           "alignmentgroup": "True",
           "bingroup": "x",
           "histfunc": "sum",
           "hovertemplate": "desig=%{x}<br>year=2038<br>sum of eid=%{y}<extra></extra>",
           "ids": [
            "ACC"
           ],
           "legendgroup": "ACC",
           "marker": {
            "color": "#4C78A8",
            "pattern": {
             "shape": ""
            }
           },
           "name": "ACC",
           "offsetgroup": "ACC",
           "orientation": "v",
           "showlegend": true,
           "type": "histogram",
           "x": [
            "ACC"
           ],
           "xaxis": "x",
           "y": [
            26
           ],
           "yaxis": "y"
          },
          {
           "alignmentgroup": "True",
           "bingroup": "x",
           "histfunc": "sum",
           "hovertemplate": "desig=%{x}<br>year=2038<br>sum of eid=%{y}<extra></extra>",
           "ids": [
            "APFC"
           ],
           "legendgroup": "APFC",
           "marker": {
            "color": "#E45756",
            "pattern": {
             "shape": ""
            }
           },
           "name": "APFC",
           "offsetgroup": "APFC",
           "orientation": "v",
           "showlegend": true,
           "type": "histogram",
           "x": [
            "APFC"
           ],
           "xaxis": "x",
           "y": [
            445
           ],
           "yaxis": "y"
          },
          {
           "alignmentgroup": "True",
           "bingroup": "x",
           "histfunc": "sum",
           "hovertemplate": "desig=%{x}<br>year=2038<br>sum of eid=%{y}<extra></extra>",
           "ids": [
            "RPFC-I"
           ],
           "legendgroup": "RPFC-I",
           "marker": {
            "color": "#72B7B2",
            "pattern": {
             "shape": ""
            }
           },
           "name": "RPFC-I",
           "offsetgroup": "RPFC-I",
           "orientation": "v",
           "showlegend": true,
           "type": "histogram",
           "x": [
            "RPFC-I"
           ],
           "xaxis": "x",
           "y": [
            188
           ],
           "yaxis": "y"
          },
          {
           "alignmentgroup": "True",
           "bingroup": "x",
           "histfunc": "sum",
           "hovertemplate": "desig=%{x}<br>year=2038<br>sum of eid=%{y}<extra></extra>",
           "ids": [
            "RPFC-II"
           ],
           "legendgroup": "RPFC-II",
           "marker": {
            "color": "#54A24B",
            "pattern": {
             "shape": ""
            }
           },
           "name": "RPFC-II",
           "offsetgroup": "RPFC-II",
           "orientation": "v",
           "showlegend": true,
           "type": "histogram",
           "x": [
            "RPFC-II"
           ],
           "xaxis": "x",
           "y": [
            287
           ],
           "yaxis": "y"
          }
         ],
         "name": "2038"
        },
        {
         "data": [
          {
           "alignmentgroup": "True",
           "bingroup": "x",
           "histfunc": "sum",
           "hovertemplate": "desig=%{x}<br>year=2039<br>sum of eid=%{y}<extra></extra>",
           "ids": [
            "ACC"
           ],
           "legendgroup": "ACC",
           "marker": {
            "color": "#4C78A8",
            "pattern": {
             "shape": ""
            }
           },
           "name": "ACC",
           "offsetgroup": "ACC",
           "orientation": "v",
           "showlegend": true,
           "type": "histogram",
           "x": [
            "ACC"
           ],
           "xaxis": "x",
           "y": [
            24
           ],
           "yaxis": "y"
          },
          {
           "alignmentgroup": "True",
           "bingroup": "x",
           "histfunc": "sum",
           "hovertemplate": "desig=%{x}<br>year=2039<br>sum of eid=%{y}<extra></extra>",
           "ids": [
            "APFC"
           ],
           "legendgroup": "APFC",
           "marker": {
            "color": "#E45756",
            "pattern": {
             "shape": ""
            }
           },
           "name": "APFC",
           "offsetgroup": "APFC",
           "orientation": "v",
           "showlegend": true,
           "type": "histogram",
           "x": [
            "APFC"
           ],
           "xaxis": "x",
           "y": [
            445
           ],
           "yaxis": "y"
          },
          {
           "alignmentgroup": "True",
           "bingroup": "x",
           "histfunc": "sum",
           "hovertemplate": "desig=%{x}<br>year=2039<br>sum of eid=%{y}<extra></extra>",
           "ids": [
            "RPFC-I"
           ],
           "legendgroup": "RPFC-I",
           "marker": {
            "color": "#72B7B2",
            "pattern": {
             "shape": ""
            }
           },
           "name": "RPFC-I",
           "offsetgroup": "RPFC-I",
           "orientation": "v",
           "showlegend": true,
           "type": "histogram",
           "x": [
            "RPFC-I"
           ],
           "xaxis": "x",
           "y": [
            188
           ],
           "yaxis": "y"
          },
          {
           "alignmentgroup": "True",
           "bingroup": "x",
           "histfunc": "sum",
           "hovertemplate": "desig=%{x}<br>year=2039<br>sum of eid=%{y}<extra></extra>",
           "ids": [
            "RPFC-II"
           ],
           "legendgroup": "RPFC-II",
           "marker": {
            "color": "#54A24B",
            "pattern": {
             "shape": ""
            }
           },
           "name": "RPFC-II",
           "offsetgroup": "RPFC-II",
           "orientation": "v",
           "showlegend": true,
           "type": "histogram",
           "x": [
            "RPFC-II"
           ],
           "xaxis": "x",
           "y": [
            287
           ],
           "yaxis": "y"
          }
         ],
         "name": "2039"
        },
        {
         "data": [
          {
           "alignmentgroup": "True",
           "bingroup": "x",
           "histfunc": "sum",
           "hovertemplate": "desig=%{x}<br>year=2040<br>sum of eid=%{y}<extra></extra>",
           "ids": [
            "ACC"
           ],
           "legendgroup": "ACC",
           "marker": {
            "color": "#4C78A8",
            "pattern": {
             "shape": ""
            }
           },
           "name": "ACC",
           "offsetgroup": "ACC",
           "orientation": "v",
           "showlegend": true,
           "type": "histogram",
           "x": [
            "ACC"
           ],
           "xaxis": "x",
           "y": [
            19
           ],
           "yaxis": "y"
          },
          {
           "alignmentgroup": "True",
           "bingroup": "x",
           "histfunc": "sum",
           "hovertemplate": "desig=%{x}<br>year=2040<br>sum of eid=%{y}<extra></extra>",
           "ids": [
            "APFC"
           ],
           "legendgroup": "APFC",
           "marker": {
            "color": "#E45756",
            "pattern": {
             "shape": ""
            }
           },
           "name": "APFC",
           "offsetgroup": "APFC",
           "orientation": "v",
           "showlegend": true,
           "type": "histogram",
           "x": [
            "APFC"
           ],
           "xaxis": "x",
           "y": [
            445
           ],
           "yaxis": "y"
          },
          {
           "alignmentgroup": "True",
           "bingroup": "x",
           "histfunc": "sum",
           "hovertemplate": "desig=%{x}<br>year=2040<br>sum of eid=%{y}<extra></extra>",
           "ids": [
            "RPFC-I"
           ],
           "legendgroup": "RPFC-I",
           "marker": {
            "color": "#72B7B2",
            "pattern": {
             "shape": ""
            }
           },
           "name": "RPFC-I",
           "offsetgroup": "RPFC-I",
           "orientation": "v",
           "showlegend": true,
           "type": "histogram",
           "x": [
            "RPFC-I"
           ],
           "xaxis": "x",
           "y": [
            187
           ],
           "yaxis": "y"
          },
          {
           "alignmentgroup": "True",
           "bingroup": "x",
           "histfunc": "sum",
           "hovertemplate": "desig=%{x}<br>year=2040<br>sum of eid=%{y}<extra></extra>",
           "ids": [
            "RPFC-II"
           ],
           "legendgroup": "RPFC-II",
           "marker": {
            "color": "#54A24B",
            "pattern": {
             "shape": ""
            }
           },
           "name": "RPFC-II",
           "offsetgroup": "RPFC-II",
           "orientation": "v",
           "showlegend": true,
           "type": "histogram",
           "x": [
            "RPFC-II"
           ],
           "xaxis": "x",
           "y": [
            287
           ],
           "yaxis": "y"
          }
         ],
         "name": "2040"
        },
        {
         "data": [
          {
           "alignmentgroup": "True",
           "bingroup": "x",
           "histfunc": "sum",
           "hovertemplate": "desig=%{x}<br>year=2041<br>sum of eid=%{y}<extra></extra>",
           "ids": [
            "ACC"
           ],
           "legendgroup": "ACC",
           "marker": {
            "color": "#4C78A8",
            "pattern": {
             "shape": ""
            }
           },
           "name": "ACC",
           "offsetgroup": "ACC",
           "orientation": "v",
           "showlegend": true,
           "type": "histogram",
           "x": [
            "ACC"
           ],
           "xaxis": "x",
           "y": [
            16
           ],
           "yaxis": "y"
          },
          {
           "alignmentgroup": "True",
           "bingroup": "x",
           "histfunc": "sum",
           "hovertemplate": "desig=%{x}<br>year=2041<br>sum of eid=%{y}<extra></extra>",
           "ids": [
            "APFC"
           ],
           "legendgroup": "APFC",
           "marker": {
            "color": "#E45756",
            "pattern": {
             "shape": ""
            }
           },
           "name": "APFC",
           "offsetgroup": "APFC",
           "orientation": "v",
           "showlegend": true,
           "type": "histogram",
           "x": [
            "APFC"
           ],
           "xaxis": "x",
           "y": [
            445
           ],
           "yaxis": "y"
          },
          {
           "alignmentgroup": "True",
           "bingroup": "x",
           "histfunc": "sum",
           "hovertemplate": "desig=%{x}<br>year=2041<br>sum of eid=%{y}<extra></extra>",
           "ids": [
            "RPFC-I"
           ],
           "legendgroup": "RPFC-I",
           "marker": {
            "color": "#72B7B2",
            "pattern": {
             "shape": ""
            }
           },
           "name": "RPFC-I",
           "offsetgroup": "RPFC-I",
           "orientation": "v",
           "showlegend": true,
           "type": "histogram",
           "x": [
            "RPFC-I"
           ],
           "xaxis": "x",
           "y": [
            180
           ],
           "yaxis": "y"
          },
          {
           "alignmentgroup": "True",
           "bingroup": "x",
           "histfunc": "sum",
           "hovertemplate": "desig=%{x}<br>year=2041<br>sum of eid=%{y}<extra></extra>",
           "ids": [
            "RPFC-II"
           ],
           "legendgroup": "RPFC-II",
           "marker": {
            "color": "#54A24B",
            "pattern": {
             "shape": ""
            }
           },
           "name": "RPFC-II",
           "offsetgroup": "RPFC-II",
           "orientation": "v",
           "showlegend": true,
           "type": "histogram",
           "x": [
            "RPFC-II"
           ],
           "xaxis": "x",
           "y": [
            287
           ],
           "yaxis": "y"
          }
         ],
         "name": "2041"
        },
        {
         "data": [
          {
           "alignmentgroup": "True",
           "bingroup": "x",
           "histfunc": "sum",
           "hovertemplate": "desig=%{x}<br>year=2042<br>sum of eid=%{y}<extra></extra>",
           "ids": [
            "ACC"
           ],
           "legendgroup": "ACC",
           "marker": {
            "color": "#4C78A8",
            "pattern": {
             "shape": ""
            }
           },
           "name": "ACC",
           "offsetgroup": "ACC",
           "orientation": "v",
           "showlegend": true,
           "type": "histogram",
           "x": [
            "ACC"
           ],
           "xaxis": "x",
           "y": [
            12
           ],
           "yaxis": "y"
          },
          {
           "alignmentgroup": "True",
           "bingroup": "x",
           "histfunc": "sum",
           "hovertemplate": "desig=%{x}<br>year=2042<br>sum of eid=%{y}<extra></extra>",
           "ids": [
            "APFC"
           ],
           "legendgroup": "APFC",
           "marker": {
            "color": "#E45756",
            "pattern": {
             "shape": ""
            }
           },
           "name": "APFC",
           "offsetgroup": "APFC",
           "orientation": "v",
           "showlegend": true,
           "type": "histogram",
           "x": [
            "APFC"
           ],
           "xaxis": "x",
           "y": [
            445
           ],
           "yaxis": "y"
          },
          {
           "alignmentgroup": "True",
           "bingroup": "x",
           "histfunc": "sum",
           "hovertemplate": "desig=%{x}<br>year=2042<br>sum of eid=%{y}<extra></extra>",
           "ids": [
            "RPFC-I"
           ],
           "legendgroup": "RPFC-I",
           "marker": {
            "color": "#72B7B2",
            "pattern": {
             "shape": ""
            }
           },
           "name": "RPFC-I",
           "offsetgroup": "RPFC-I",
           "orientation": "v",
           "showlegend": true,
           "type": "histogram",
           "x": [
            "RPFC-I"
           ],
           "xaxis": "x",
           "y": [
            171
           ],
           "yaxis": "y"
          },
          {
           "alignmentgroup": "True",
           "bingroup": "x",
           "histfunc": "sum",
           "hovertemplate": "desig=%{x}<br>year=2042<br>sum of eid=%{y}<extra></extra>",
           "ids": [
            "RPFC-II"
           ],
           "legendgroup": "RPFC-II",
           "marker": {
            "color": "#54A24B",
            "pattern": {
             "shape": ""
            }
           },
           "name": "RPFC-II",
           "offsetgroup": "RPFC-II",
           "orientation": "v",
           "showlegend": true,
           "type": "histogram",
           "x": [
            "RPFC-II"
           ],
           "xaxis": "x",
           "y": [
            287
           ],
           "yaxis": "y"
          }
         ],
         "name": "2042"
        },
        {
         "data": [
          {
           "alignmentgroup": "True",
           "bingroup": "x",
           "histfunc": "sum",
           "hovertemplate": "desig=%{x}<br>year=2043<br>sum of eid=%{y}<extra></extra>",
           "ids": [
            "ACC"
           ],
           "legendgroup": "ACC",
           "marker": {
            "color": "#4C78A8",
            "pattern": {
             "shape": ""
            }
           },
           "name": "ACC",
           "offsetgroup": "ACC",
           "orientation": "v",
           "showlegend": true,
           "type": "histogram",
           "x": [
            "ACC"
           ],
           "xaxis": "x",
           "y": [
            6
           ],
           "yaxis": "y"
          },
          {
           "alignmentgroup": "True",
           "bingroup": "x",
           "histfunc": "sum",
           "hovertemplate": "desig=%{x}<br>year=2043<br>sum of eid=%{y}<extra></extra>",
           "ids": [
            "APFC"
           ],
           "legendgroup": "APFC",
           "marker": {
            "color": "#E45756",
            "pattern": {
             "shape": ""
            }
           },
           "name": "APFC",
           "offsetgroup": "APFC",
           "orientation": "v",
           "showlegend": true,
           "type": "histogram",
           "x": [
            "APFC"
           ],
           "xaxis": "x",
           "y": [
            445
           ],
           "yaxis": "y"
          },
          {
           "alignmentgroup": "True",
           "bingroup": "x",
           "histfunc": "sum",
           "hovertemplate": "desig=%{x}<br>year=2043<br>sum of eid=%{y}<extra></extra>",
           "ids": [
            "RPFC-I"
           ],
           "legendgroup": "RPFC-I",
           "marker": {
            "color": "#72B7B2",
            "pattern": {
             "shape": ""
            }
           },
           "name": "RPFC-I",
           "offsetgroup": "RPFC-I",
           "orientation": "v",
           "showlegend": true,
           "type": "histogram",
           "x": [
            "RPFC-I"
           ],
           "xaxis": "x",
           "y": [
            158
           ],
           "yaxis": "y"
          },
          {
           "alignmentgroup": "True",
           "bingroup": "x",
           "histfunc": "sum",
           "hovertemplate": "desig=%{x}<br>year=2043<br>sum of eid=%{y}<extra></extra>",
           "ids": [
            "RPFC-II"
           ],
           "legendgroup": "RPFC-II",
           "marker": {
            "color": "#54A24B",
            "pattern": {
             "shape": ""
            }
           },
           "name": "RPFC-II",
           "offsetgroup": "RPFC-II",
           "orientation": "v",
           "showlegend": true,
           "type": "histogram",
           "x": [
            "RPFC-II"
           ],
           "xaxis": "x",
           "y": [
            287
           ],
           "yaxis": "y"
          }
         ],
         "name": "2043"
        },
        {
         "data": [
          {
           "alignmentgroup": "True",
           "bingroup": "x",
           "histfunc": "sum",
           "hovertemplate": "desig=%{x}<br>year=2044<br>sum of eid=%{y}<extra></extra>",
           "ids": [
            "ACC"
           ],
           "legendgroup": "ACC",
           "marker": {
            "color": "#4C78A8",
            "pattern": {
             "shape": ""
            }
           },
           "name": "ACC",
           "offsetgroup": "ACC",
           "orientation": "v",
           "showlegend": true,
           "type": "histogram",
           "x": [
            "ACC"
           ],
           "xaxis": "x",
           "y": [
            6
           ],
           "yaxis": "y"
          },
          {
           "alignmentgroup": "True",
           "bingroup": "x",
           "histfunc": "sum",
           "hovertemplate": "desig=%{x}<br>year=2044<br>sum of eid=%{y}<extra></extra>",
           "ids": [
            "APFC"
           ],
           "legendgroup": "APFC",
           "marker": {
            "color": "#E45756",
            "pattern": {
             "shape": ""
            }
           },
           "name": "APFC",
           "offsetgroup": "APFC",
           "orientation": "v",
           "showlegend": true,
           "type": "histogram",
           "x": [
            "APFC"
           ],
           "xaxis": "x",
           "y": [
            445
           ],
           "yaxis": "y"
          },
          {
           "alignmentgroup": "True",
           "bingroup": "x",
           "histfunc": "sum",
           "hovertemplate": "desig=%{x}<br>year=2044<br>sum of eid=%{y}<extra></extra>",
           "ids": [
            "RPFC-I"
           ],
           "legendgroup": "RPFC-I",
           "marker": {
            "color": "#72B7B2",
            "pattern": {
             "shape": ""
            }
           },
           "name": "RPFC-I",
           "offsetgroup": "RPFC-I",
           "orientation": "v",
           "showlegend": true,
           "type": "histogram",
           "x": [
            "RPFC-I"
           ],
           "xaxis": "x",
           "y": [
            143
           ],
           "yaxis": "y"
          },
          {
           "alignmentgroup": "True",
           "bingroup": "x",
           "histfunc": "sum",
           "hovertemplate": "desig=%{x}<br>year=2044<br>sum of eid=%{y}<extra></extra>",
           "ids": [
            "RPFC-II"
           ],
           "legendgroup": "RPFC-II",
           "marker": {
            "color": "#54A24B",
            "pattern": {
             "shape": ""
            }
           },
           "name": "RPFC-II",
           "offsetgroup": "RPFC-II",
           "orientation": "v",
           "showlegend": true,
           "type": "histogram",
           "x": [
            "RPFC-II"
           ],
           "xaxis": "x",
           "y": [
            287
           ],
           "yaxis": "y"
          }
         ],
         "name": "2044"
        },
        {
         "data": [
          {
           "alignmentgroup": "True",
           "bingroup": "x",
           "histfunc": "sum",
           "hovertemplate": "desig=%{x}<br>year=2045<br>sum of eid=%{y}<extra></extra>",
           "ids": [
            "ACC"
           ],
           "legendgroup": "ACC",
           "marker": {
            "color": "#4C78A8",
            "pattern": {
             "shape": ""
            }
           },
           "name": "ACC",
           "offsetgroup": "ACC",
           "orientation": "v",
           "showlegend": true,
           "type": "histogram",
           "x": [
            "ACC"
           ],
           "xaxis": "x",
           "y": [
            3
           ],
           "yaxis": "y"
          },
          {
           "alignmentgroup": "True",
           "bingroup": "x",
           "histfunc": "sum",
           "hovertemplate": "desig=%{x}<br>year=2045<br>sum of eid=%{y}<extra></extra>",
           "ids": [
            "APFC"
           ],
           "legendgroup": "APFC",
           "marker": {
            "color": "#E45756",
            "pattern": {
             "shape": ""
            }
           },
           "name": "APFC",
           "offsetgroup": "APFC",
           "orientation": "v",
           "showlegend": true,
           "type": "histogram",
           "x": [
            "APFC"
           ],
           "xaxis": "x",
           "y": [
            445
           ],
           "yaxis": "y"
          },
          {
           "alignmentgroup": "True",
           "bingroup": "x",
           "histfunc": "sum",
           "hovertemplate": "desig=%{x}<br>year=2045<br>sum of eid=%{y}<extra></extra>",
           "ids": [
            "RPFC-I"
           ],
           "legendgroup": "RPFC-I",
           "marker": {
            "color": "#72B7B2",
            "pattern": {
             "shape": ""
            }
           },
           "name": "RPFC-I",
           "offsetgroup": "RPFC-I",
           "orientation": "v",
           "showlegend": true,
           "type": "histogram",
           "x": [
            "RPFC-I"
           ],
           "xaxis": "x",
           "y": [
            119
           ],
           "yaxis": "y"
          },
          {
           "alignmentgroup": "True",
           "bingroup": "x",
           "histfunc": "sum",
           "hovertemplate": "desig=%{x}<br>year=2045<br>sum of eid=%{y}<extra></extra>",
           "ids": [
            "RPFC-II"
           ],
           "legendgroup": "RPFC-II",
           "marker": {
            "color": "#54A24B",
            "pattern": {
             "shape": ""
            }
           },
           "name": "RPFC-II",
           "offsetgroup": "RPFC-II",
           "orientation": "v",
           "showlegend": true,
           "type": "histogram",
           "x": [
            "RPFC-II"
           ],
           "xaxis": "x",
           "y": [
            287
           ],
           "yaxis": "y"
          }
         ],
         "name": "2045"
        },
        {
         "data": [
          {
           "alignmentgroup": "True",
           "bingroup": "x",
           "histfunc": "sum",
           "hovertemplate": "desig=%{x}<br>year=2046<br>sum of eid=%{y}<extra></extra>",
           "ids": [
            "APFC"
           ],
           "legendgroup": "APFC",
           "marker": {
            "color": "#E45756",
            "pattern": {
             "shape": ""
            }
           },
           "name": "APFC",
           "offsetgroup": "APFC",
           "orientation": "v",
           "showlegend": true,
           "type": "histogram",
           "x": [
            "APFC"
           ],
           "xaxis": "x",
           "y": [
            445
           ],
           "yaxis": "y"
          },
          {
           "alignmentgroup": "True",
           "bingroup": "x",
           "histfunc": "sum",
           "hovertemplate": "desig=%{x}<br>year=2046<br>sum of eid=%{y}<extra></extra>",
           "ids": [
            "RPFC-I"
           ],
           "legendgroup": "RPFC-I",
           "marker": {
            "color": "#72B7B2",
            "pattern": {
             "shape": ""
            }
           },
           "name": "RPFC-I",
           "offsetgroup": "RPFC-I",
           "orientation": "v",
           "showlegend": true,
           "type": "histogram",
           "x": [
            "RPFC-I"
           ],
           "xaxis": "x",
           "y": [
            90
           ],
           "yaxis": "y"
          },
          {
           "alignmentgroup": "True",
           "bingroup": "x",
           "histfunc": "sum",
           "hovertemplate": "desig=%{x}<br>year=2046<br>sum of eid=%{y}<extra></extra>",
           "ids": [
            "RPFC-II"
           ],
           "legendgroup": "RPFC-II",
           "marker": {
            "color": "#54A24B",
            "pattern": {
             "shape": ""
            }
           },
           "name": "RPFC-II",
           "offsetgroup": "RPFC-II",
           "orientation": "v",
           "showlegend": true,
           "type": "histogram",
           "x": [
            "RPFC-II"
           ],
           "xaxis": "x",
           "y": [
            283
           ],
           "yaxis": "y"
          }
         ],
         "name": "2046"
        },
        {
         "data": [
          {
           "alignmentgroup": "True",
           "bingroup": "x",
           "histfunc": "sum",
           "hovertemplate": "desig=%{x}<br>year=2047<br>sum of eid=%{y}<extra></extra>",
           "ids": [
            "APFC"
           ],
           "legendgroup": "APFC",
           "marker": {
            "color": "#E45756",
            "pattern": {
             "shape": ""
            }
           },
           "name": "APFC",
           "offsetgroup": "APFC",
           "orientation": "v",
           "showlegend": true,
           "type": "histogram",
           "x": [
            "APFC"
           ],
           "xaxis": "x",
           "y": [
            445
           ],
           "yaxis": "y"
          },
          {
           "alignmentgroup": "True",
           "bingroup": "x",
           "histfunc": "sum",
           "hovertemplate": "desig=%{x}<br>year=2047<br>sum of eid=%{y}<extra></extra>",
           "ids": [
            "RPFC-I"
           ],
           "legendgroup": "RPFC-I",
           "marker": {
            "color": "#72B7B2",
            "pattern": {
             "shape": ""
            }
           },
           "name": "RPFC-I",
           "offsetgroup": "RPFC-I",
           "orientation": "v",
           "showlegend": true,
           "type": "histogram",
           "x": [
            "RPFC-I"
           ],
           "xaxis": "x",
           "y": [
            68
           ],
           "yaxis": "y"
          },
          {
           "alignmentgroup": "True",
           "bingroup": "x",
           "histfunc": "sum",
           "hovertemplate": "desig=%{x}<br>year=2047<br>sum of eid=%{y}<extra></extra>",
           "ids": [
            "RPFC-II"
           ],
           "legendgroup": "RPFC-II",
           "marker": {
            "color": "#54A24B",
            "pattern": {
             "shape": ""
            }
           },
           "name": "RPFC-II",
           "offsetgroup": "RPFC-II",
           "orientation": "v",
           "showlegend": true,
           "type": "histogram",
           "x": [
            "RPFC-II"
           ],
           "xaxis": "x",
           "y": [
            268
           ],
           "yaxis": "y"
          }
         ],
         "name": "2047"
        },
        {
         "data": [
          {
           "alignmentgroup": "True",
           "bingroup": "x",
           "histfunc": "sum",
           "hovertemplate": "desig=%{x}<br>year=2048<br>sum of eid=%{y}<extra></extra>",
           "ids": [
            "APFC"
           ],
           "legendgroup": "APFC",
           "marker": {
            "color": "#E45756",
            "pattern": {
             "shape": ""
            }
           },
           "name": "APFC",
           "offsetgroup": "APFC",
           "orientation": "v",
           "showlegend": true,
           "type": "histogram",
           "x": [
            "APFC"
           ],
           "xaxis": "x",
           "y": [
            445
           ],
           "yaxis": "y"
          },
          {
           "alignmentgroup": "True",
           "bingroup": "x",
           "histfunc": "sum",
           "hovertemplate": "desig=%{x}<br>year=2048<br>sum of eid=%{y}<extra></extra>",
           "ids": [
            "RPFC-I"
           ],
           "legendgroup": "RPFC-I",
           "marker": {
            "color": "#72B7B2",
            "pattern": {
             "shape": ""
            }
           },
           "name": "RPFC-I",
           "offsetgroup": "RPFC-I",
           "orientation": "v",
           "showlegend": true,
           "type": "histogram",
           "x": [
            "RPFC-I"
           ],
           "xaxis": "x",
           "y": [
            48
           ],
           "yaxis": "y"
          },
          {
           "alignmentgroup": "True",
           "bingroup": "x",
           "histfunc": "sum",
           "hovertemplate": "desig=%{x}<br>year=2048<br>sum of eid=%{y}<extra></extra>",
           "ids": [
            "RPFC-II"
           ],
           "legendgroup": "RPFC-II",
           "marker": {
            "color": "#54A24B",
            "pattern": {
             "shape": ""
            }
           },
           "name": "RPFC-II",
           "offsetgroup": "RPFC-II",
           "orientation": "v",
           "showlegend": true,
           "type": "histogram",
           "x": [
            "RPFC-II"
           ],
           "xaxis": "x",
           "y": [
            248
           ],
           "yaxis": "y"
          }
         ],
         "name": "2048"
        },
        {
         "data": [
          {
           "alignmentgroup": "True",
           "bingroup": "x",
           "histfunc": "sum",
           "hovertemplate": "desig=%{x}<br>year=2049<br>sum of eid=%{y}<extra></extra>",
           "ids": [
            "APFC"
           ],
           "legendgroup": "APFC",
           "marker": {
            "color": "#E45756",
            "pattern": {
             "shape": ""
            }
           },
           "name": "APFC",
           "offsetgroup": "APFC",
           "orientation": "v",
           "showlegend": true,
           "type": "histogram",
           "x": [
            "APFC"
           ],
           "xaxis": "x",
           "y": [
            445
           ],
           "yaxis": "y"
          },
          {
           "alignmentgroup": "True",
           "bingroup": "x",
           "histfunc": "sum",
           "hovertemplate": "desig=%{x}<br>year=2049<br>sum of eid=%{y}<extra></extra>",
           "ids": [
            "RPFC-I"
           ],
           "legendgroup": "RPFC-I",
           "marker": {
            "color": "#72B7B2",
            "pattern": {
             "shape": ""
            }
           },
           "name": "RPFC-I",
           "offsetgroup": "RPFC-I",
           "orientation": "v",
           "showlegend": true,
           "type": "histogram",
           "x": [
            "RPFC-I"
           ],
           "xaxis": "x",
           "y": [
            34
           ],
           "yaxis": "y"
          },
          {
           "alignmentgroup": "True",
           "bingroup": "x",
           "histfunc": "sum",
           "hovertemplate": "desig=%{x}<br>year=2049<br>sum of eid=%{y}<extra></extra>",
           "ids": [
            "RPFC-II"
           ],
           "legendgroup": "RPFC-II",
           "marker": {
            "color": "#54A24B",
            "pattern": {
             "shape": ""
            }
           },
           "name": "RPFC-II",
           "offsetgroup": "RPFC-II",
           "orientation": "v",
           "showlegend": true,
           "type": "histogram",
           "x": [
            "RPFC-II"
           ],
           "xaxis": "x",
           "y": [
            220
           ],
           "yaxis": "y"
          }
         ],
         "name": "2049"
        },
        {
         "data": [
          {
           "alignmentgroup": "True",
           "bingroup": "x",
           "histfunc": "sum",
           "hovertemplate": "desig=%{x}<br>year=2050<br>sum of eid=%{y}<extra></extra>",
           "ids": [
            "APFC"
           ],
           "legendgroup": "APFC",
           "marker": {
            "color": "#E45756",
            "pattern": {
             "shape": ""
            }
           },
           "name": "APFC",
           "offsetgroup": "APFC",
           "orientation": "v",
           "showlegend": true,
           "type": "histogram",
           "x": [
            "APFC"
           ],
           "xaxis": "x",
           "y": [
            445
           ],
           "yaxis": "y"
          },
          {
           "alignmentgroup": "True",
           "bingroup": "x",
           "histfunc": "sum",
           "hovertemplate": "desig=%{x}<br>year=2050<br>sum of eid=%{y}<extra></extra>",
           "ids": [
            "RPFC-I"
           ],
           "legendgroup": "RPFC-I",
           "marker": {
            "color": "#72B7B2",
            "pattern": {
             "shape": ""
            }
           },
           "name": "RPFC-I",
           "offsetgroup": "RPFC-I",
           "orientation": "v",
           "showlegend": true,
           "type": "histogram",
           "x": [
            "RPFC-I"
           ],
           "xaxis": "x",
           "y": [
            18
           ],
           "yaxis": "y"
          },
          {
           "alignmentgroup": "True",
           "bingroup": "x",
           "histfunc": "sum",
           "hovertemplate": "desig=%{x}<br>year=2050<br>sum of eid=%{y}<extra></extra>",
           "ids": [
            "RPFC-II"
           ],
           "legendgroup": "RPFC-II",
           "marker": {
            "color": "#54A24B",
            "pattern": {
             "shape": ""
            }
           },
           "name": "RPFC-II",
           "offsetgroup": "RPFC-II",
           "orientation": "v",
           "showlegend": true,
           "type": "histogram",
           "x": [
            "RPFC-II"
           ],
           "xaxis": "x",
           "y": [
            193
           ],
           "yaxis": "y"
          }
         ],
         "name": "2050"
        },
        {
         "data": [
          {
           "alignmentgroup": "True",
           "bingroup": "x",
           "histfunc": "sum",
           "hovertemplate": "desig=%{x}<br>year=2051<br>sum of eid=%{y}<extra></extra>",
           "ids": [
            "APFC"
           ],
           "legendgroup": "APFC",
           "marker": {
            "color": "#E45756",
            "pattern": {
             "shape": ""
            }
           },
           "name": "APFC",
           "offsetgroup": "APFC",
           "orientation": "v",
           "showlegend": true,
           "type": "histogram",
           "x": [
            "APFC"
           ],
           "xaxis": "x",
           "y": [
            445
           ],
           "yaxis": "y"
          },
          {
           "alignmentgroup": "True",
           "bingroup": "x",
           "histfunc": "sum",
           "hovertemplate": "desig=%{x}<br>year=2051<br>sum of eid=%{y}<extra></extra>",
           "ids": [
            "RPFC-I"
           ],
           "legendgroup": "RPFC-I",
           "marker": {
            "color": "#72B7B2",
            "pattern": {
             "shape": ""
            }
           },
           "name": "RPFC-I",
           "offsetgroup": "RPFC-I",
           "orientation": "v",
           "showlegend": true,
           "type": "histogram",
           "x": [
            "RPFC-I"
           ],
           "xaxis": "x",
           "y": [
            7
           ],
           "yaxis": "y"
          },
          {
           "alignmentgroup": "True",
           "bingroup": "x",
           "histfunc": "sum",
           "hovertemplate": "desig=%{x}<br>year=2051<br>sum of eid=%{y}<extra></extra>",
           "ids": [
            "RPFC-II"
           ],
           "legendgroup": "RPFC-II",
           "marker": {
            "color": "#54A24B",
            "pattern": {
             "shape": ""
            }
           },
           "name": "RPFC-II",
           "offsetgroup": "RPFC-II",
           "orientation": "v",
           "showlegend": true,
           "type": "histogram",
           "x": [
            "RPFC-II"
           ],
           "xaxis": "x",
           "y": [
            164
           ],
           "yaxis": "y"
          }
         ],
         "name": "2051"
        },
        {
         "data": [
          {
           "alignmentgroup": "True",
           "bingroup": "x",
           "histfunc": "sum",
           "hovertemplate": "desig=%{x}<br>year=2052<br>sum of eid=%{y}<extra></extra>",
           "ids": [
            "APFC"
           ],
           "legendgroup": "APFC",
           "marker": {
            "color": "#E45756",
            "pattern": {
             "shape": ""
            }
           },
           "name": "APFC",
           "offsetgroup": "APFC",
           "orientation": "v",
           "showlegend": true,
           "type": "histogram",
           "x": [
            "APFC"
           ],
           "xaxis": "x",
           "y": [
            445
           ],
           "yaxis": "y"
          },
          {
           "alignmentgroup": "True",
           "bingroup": "x",
           "histfunc": "sum",
           "hovertemplate": "desig=%{x}<br>year=2052<br>sum of eid=%{y}<extra></extra>",
           "ids": [
            "RPFC-II"
           ],
           "legendgroup": "RPFC-II",
           "marker": {
            "color": "#54A24B",
            "pattern": {
             "shape": ""
            }
           },
           "name": "RPFC-II",
           "offsetgroup": "RPFC-II",
           "orientation": "v",
           "showlegend": true,
           "type": "histogram",
           "x": [
            "RPFC-II"
           ],
           "xaxis": "x",
           "y": [
            128
           ],
           "yaxis": "y"
          }
         ],
         "name": "2052"
        },
        {
         "data": [
          {
           "alignmentgroup": "True",
           "bingroup": "x",
           "histfunc": "sum",
           "hovertemplate": "desig=%{x}<br>year=2053<br>sum of eid=%{y}<extra></extra>",
           "ids": [
            "APFC"
           ],
           "legendgroup": "APFC",
           "marker": {
            "color": "#E45756",
            "pattern": {
             "shape": ""
            }
           },
           "name": "APFC",
           "offsetgroup": "APFC",
           "orientation": "v",
           "showlegend": true,
           "type": "histogram",
           "x": [
            "APFC"
           ],
           "xaxis": "x",
           "y": [
            445
           ],
           "yaxis": "y"
          },
          {
           "alignmentgroup": "True",
           "bingroup": "x",
           "histfunc": "sum",
           "hovertemplate": "desig=%{x}<br>year=2053<br>sum of eid=%{y}<extra></extra>",
           "ids": [
            "RPFC-II"
           ],
           "legendgroup": "RPFC-II",
           "marker": {
            "color": "#54A24B",
            "pattern": {
             "shape": ""
            }
           },
           "name": "RPFC-II",
           "offsetgroup": "RPFC-II",
           "orientation": "v",
           "showlegend": true,
           "type": "histogram",
           "x": [
            "RPFC-II"
           ],
           "xaxis": "x",
           "y": [
            94
           ],
           "yaxis": "y"
          }
         ],
         "name": "2053"
        }
       ],
       "layout": {
        "barmode": "relative",
        "font": {
         "color": "#8a8d93"
        },
        "hovermode": "x unified",
        "legend": {
         "orientation": "h",
         "title": {
          "text": "desig"
         },
         "tracegroupgap": 0,
         "x": 1,
         "xanchor": "right",
         "y": 1.02,
         "yanchor": "bottom"
        },
        "margin": {
         "b": 0,
         "l": 70,
         "r": 40,
         "t": 70
        },
        "paper_bgcolor": "#2d3035",
        "plot_bgcolor": "#2d3035",
        "sliders": [
         {
          "active": 0,
          "currentvalue": {
           "prefix": "year="
          },
          "len": 0.9,
          "pad": {
           "b": 10,
           "t": 60
          },
          "steps": [
           {
            "args": [
             [
              "2024"
             ],
             {
              "frame": {
               "duration": 0,
               "redraw": true
              },
              "fromcurrent": true,
              "mode": "immediate",
              "transition": {
               "duration": 0,
               "easing": "linear"
              }
             }
            ],
            "label": "2024",
            "method": "animate"
           },
           {
            "args": [
             [
              "2025"
             ],
             {
              "frame": {
               "duration": 0,
               "redraw": true
              },
              "fromcurrent": true,
              "mode": "immediate",
              "transition": {
               "duration": 0,
               "easing": "linear"
              }
             }
            ],
            "label": "2025",
            "method": "animate"
           },
           {
            "args": [
             [
              "2026"
             ],
             {
              "frame": {
               "duration": 0,
               "redraw": true
              },
              "fromcurrent": true,
              "mode": "immediate",
              "transition": {
               "duration": 0,
               "easing": "linear"
              }
             }
            ],
            "label": "2026",
            "method": "animate"
           },
           {
            "args": [
             [
              "2027"
             ],
             {
              "frame": {
               "duration": 0,
               "redraw": true
              },
              "fromcurrent": true,
              "mode": "immediate",
              "transition": {
               "duration": 0,
               "easing": "linear"
              }
             }
            ],
            "label": "2027",
            "method": "animate"
           },
           {
            "args": [
             [
              "2028"
             ],
             {
              "frame": {
               "duration": 0,
               "redraw": true
              },
              "fromcurrent": true,
              "mode": "immediate",
              "transition": {
               "duration": 0,
               "easing": "linear"
              }
             }
            ],
            "label": "2028",
            "method": "animate"
           },
           {
            "args": [
             [
              "2029"
             ],
             {
              "frame": {
               "duration": 0,
               "redraw": true
              },
              "fromcurrent": true,
              "mode": "immediate",
              "transition": {
               "duration": 0,
               "easing": "linear"
              }
             }
            ],
            "label": "2029",
            "method": "animate"
           },
           {
            "args": [
             [
              "2030"
             ],
             {
              "frame": {
               "duration": 0,
               "redraw": true
              },
              "fromcurrent": true,
              "mode": "immediate",
              "transition": {
               "duration": 0,
               "easing": "linear"
              }
             }
            ],
            "label": "2030",
            "method": "animate"
           },
           {
            "args": [
             [
              "2031"
             ],
             {
              "frame": {
               "duration": 0,
               "redraw": true
              },
              "fromcurrent": true,
              "mode": "immediate",
              "transition": {
               "duration": 0,
               "easing": "linear"
              }
             }
            ],
            "label": "2031",
            "method": "animate"
           },
           {
            "args": [
             [
              "2032"
             ],
             {
              "frame": {
               "duration": 0,
               "redraw": true
              },
              "fromcurrent": true,
              "mode": "immediate",
              "transition": {
               "duration": 0,
               "easing": "linear"
              }
             }
            ],
            "label": "2032",
            "method": "animate"
           },
           {
            "args": [
             [
              "2033"
             ],
             {
              "frame": {
               "duration": 0,
               "redraw": true
              },
              "fromcurrent": true,
              "mode": "immediate",
              "transition": {
               "duration": 0,
               "easing": "linear"
              }
             }
            ],
            "label": "2033",
            "method": "animate"
           },
           {
            "args": [
             [
              "2034"
             ],
             {
              "frame": {
               "duration": 0,
               "redraw": true
              },
              "fromcurrent": true,
              "mode": "immediate",
              "transition": {
               "duration": 0,
               "easing": "linear"
              }
             }
            ],
            "label": "2034",
            "method": "animate"
           },
           {
            "args": [
             [
              "2035"
             ],
             {
              "frame": {
               "duration": 0,
               "redraw": true
              },
              "fromcurrent": true,
              "mode": "immediate",
              "transition": {
               "duration": 0,
               "easing": "linear"
              }
             }
            ],
            "label": "2035",
            "method": "animate"
           },
           {
            "args": [
             [
              "2036"
             ],
             {
              "frame": {
               "duration": 0,
               "redraw": true
              },
              "fromcurrent": true,
              "mode": "immediate",
              "transition": {
               "duration": 0,
               "easing": "linear"
              }
             }
            ],
            "label": "2036",
            "method": "animate"
           },
           {
            "args": [
             [
              "2037"
             ],
             {
              "frame": {
               "duration": 0,
               "redraw": true
              },
              "fromcurrent": true,
              "mode": "immediate",
              "transition": {
               "duration": 0,
               "easing": "linear"
              }
             }
            ],
            "label": "2037",
            "method": "animate"
           },
           {
            "args": [
             [
              "2038"
             ],
             {
              "frame": {
               "duration": 0,
               "redraw": true
              },
              "fromcurrent": true,
              "mode": "immediate",
              "transition": {
               "duration": 0,
               "easing": "linear"
              }
             }
            ],
            "label": "2038",
            "method": "animate"
           },
           {
            "args": [
             [
              "2039"
             ],
             {
              "frame": {
               "duration": 0,
               "redraw": true
              },
              "fromcurrent": true,
              "mode": "immediate",
              "transition": {
               "duration": 0,
               "easing": "linear"
              }
             }
            ],
            "label": "2039",
            "method": "animate"
           },
           {
            "args": [
             [
              "2040"
             ],
             {
              "frame": {
               "duration": 0,
               "redraw": true
              },
              "fromcurrent": true,
              "mode": "immediate",
              "transition": {
               "duration": 0,
               "easing": "linear"
              }
             }
            ],
            "label": "2040",
            "method": "animate"
           },
           {
            "args": [
             [
              "2041"
             ],
             {
              "frame": {
               "duration": 0,
               "redraw": true
              },
              "fromcurrent": true,
              "mode": "immediate",
              "transition": {
               "duration": 0,
               "easing": "linear"
              }
             }
            ],
            "label": "2041",
            "method": "animate"
           },
           {
            "args": [
             [
              "2042"
             ],
             {
              "frame": {
               "duration": 0,
               "redraw": true
              },
              "fromcurrent": true,
              "mode": "immediate",
              "transition": {
               "duration": 0,
               "easing": "linear"
              }
             }
            ],
            "label": "2042",
            "method": "animate"
           },
           {
            "args": [
             [
              "2043"
             ],
             {
              "frame": {
               "duration": 0,
               "redraw": true
              },
              "fromcurrent": true,
              "mode": "immediate",
              "transition": {
               "duration": 0,
               "easing": "linear"
              }
             }
            ],
            "label": "2043",
            "method": "animate"
           },
           {
            "args": [
             [
              "2044"
             ],
             {
              "frame": {
               "duration": 0,
               "redraw": true
              },
              "fromcurrent": true,
              "mode": "immediate",
              "transition": {
               "duration": 0,
               "easing": "linear"
              }
             }
            ],
            "label": "2044",
            "method": "animate"
           },
           {
            "args": [
             [
              "2045"
             ],
             {
              "frame": {
               "duration": 0,
               "redraw": true
              },
              "fromcurrent": true,
              "mode": "immediate",
              "transition": {
               "duration": 0,
               "easing": "linear"
              }
             }
            ],
            "label": "2045",
            "method": "animate"
           },
           {
            "args": [
             [
              "2046"
             ],
             {
              "frame": {
               "duration": 0,
               "redraw": true
              },
              "fromcurrent": true,
              "mode": "immediate",
              "transition": {
               "duration": 0,
               "easing": "linear"
              }
             }
            ],
            "label": "2046",
            "method": "animate"
           },
           {
            "args": [
             [
              "2047"
             ],
             {
              "frame": {
               "duration": 0,
               "redraw": true
              },
              "fromcurrent": true,
              "mode": "immediate",
              "transition": {
               "duration": 0,
               "easing": "linear"
              }
             }
            ],
            "label": "2047",
            "method": "animate"
           },
           {
            "args": [
             [
              "2048"
             ],
             {
              "frame": {
               "duration": 0,
               "redraw": true
              },
              "fromcurrent": true,
              "mode": "immediate",
              "transition": {
               "duration": 0,
               "easing": "linear"
              }
             }
            ],
            "label": "2048",
            "method": "animate"
           },
           {
            "args": [
             [
              "2049"
             ],
             {
              "frame": {
               "duration": 0,
               "redraw": true
              },
              "fromcurrent": true,
              "mode": "immediate",
              "transition": {
               "duration": 0,
               "easing": "linear"
              }
             }
            ],
            "label": "2049",
            "method": "animate"
           },
           {
            "args": [
             [
              "2050"
             ],
             {
              "frame": {
               "duration": 0,
               "redraw": true
              },
              "fromcurrent": true,
              "mode": "immediate",
              "transition": {
               "duration": 0,
               "easing": "linear"
              }
             }
            ],
            "label": "2050",
            "method": "animate"
           },
           {
            "args": [
             [
              "2051"
             ],
             {
              "frame": {
               "duration": 0,
               "redraw": true
              },
              "fromcurrent": true,
              "mode": "immediate",
              "transition": {
               "duration": 0,
               "easing": "linear"
              }
             }
            ],
            "label": "2051",
            "method": "animate"
           },
           {
            "args": [
             [
              "2052"
             ],
             {
              "frame": {
               "duration": 0,
               "redraw": true
              },
              "fromcurrent": true,
              "mode": "immediate",
              "transition": {
               "duration": 0,
               "easing": "linear"
              }
             }
            ],
            "label": "2052",
            "method": "animate"
           },
           {
            "args": [
             [
              "2053"
             ],
             {
              "frame": {
               "duration": 0,
               "redraw": true
              },
              "fromcurrent": true,
              "mode": "immediate",
              "transition": {
               "duration": 0,
               "easing": "linear"
              }
             }
            ],
            "label": "2053",
            "method": "animate"
           }
          ],
          "x": 0.1,
          "xanchor": "left",
          "y": 0,
          "yanchor": "top"
         }
        ],
        "template": {
         "data": {
          "bar": [
           {
            "error_x": {
             "color": "#2a3f5f"
            },
            "error_y": {
             "color": "#2a3f5f"
            },
            "marker": {
             "line": {
              "color": "#E5ECF6",
              "width": 0.5
             },
             "pattern": {
              "fillmode": "overlay",
              "size": 10,
              "solidity": 0.2
             }
            },
            "type": "bar"
           }
          ],
          "barpolar": [
           {
            "marker": {
             "line": {
              "color": "#E5ECF6",
              "width": 0.5
             },
             "pattern": {
              "fillmode": "overlay",
              "size": 10,
              "solidity": 0.2
             }
            },
            "type": "barpolar"
           }
          ],
          "carpet": [
           {
            "aaxis": {
             "endlinecolor": "#2a3f5f",
             "gridcolor": "white",
             "linecolor": "white",
             "minorgridcolor": "white",
             "startlinecolor": "#2a3f5f"
            },
            "baxis": {
             "endlinecolor": "#2a3f5f",
             "gridcolor": "white",
             "linecolor": "white",
             "minorgridcolor": "white",
             "startlinecolor": "#2a3f5f"
            },
            "type": "carpet"
           }
          ],
          "choropleth": [
           {
            "colorbar": {
             "outlinewidth": 0,
             "ticks": ""
            },
            "type": "choropleth"
           }
          ],
          "contour": [
           {
            "colorbar": {
             "outlinewidth": 0,
             "ticks": ""
            },
            "colorscale": [
             [
              0,
              "#0d0887"
             ],
             [
              0.1111111111111111,
              "#46039f"
             ],
             [
              0.2222222222222222,
              "#7201a8"
             ],
             [
              0.3333333333333333,
              "#9c179e"
             ],
             [
              0.4444444444444444,
              "#bd3786"
             ],
             [
              0.5555555555555556,
              "#d8576b"
             ],
             [
              0.6666666666666666,
              "#ed7953"
             ],
             [
              0.7777777777777778,
              "#fb9f3a"
             ],
             [
              0.8888888888888888,
              "#fdca26"
             ],
             [
              1,
              "#f0f921"
             ]
            ],
            "type": "contour"
           }
          ],
          "contourcarpet": [
           {
            "colorbar": {
             "outlinewidth": 0,
             "ticks": ""
            },
            "type": "contourcarpet"
           }
          ],
          "heatmap": [
           {
            "colorbar": {
             "outlinewidth": 0,
             "ticks": ""
            },
            "colorscale": [
             [
              0,
              "#0d0887"
             ],
             [
              0.1111111111111111,
              "#46039f"
             ],
             [
              0.2222222222222222,
              "#7201a8"
             ],
             [
              0.3333333333333333,
              "#9c179e"
             ],
             [
              0.4444444444444444,
              "#bd3786"
             ],
             [
              0.5555555555555556,
              "#d8576b"
             ],
             [
              0.6666666666666666,
              "#ed7953"
             ],
             [
              0.7777777777777778,
              "#fb9f3a"
             ],
             [
              0.8888888888888888,
              "#fdca26"
             ],
             [
              1,
              "#f0f921"
             ]
            ],
            "type": "heatmap"
           }
          ],
          "heatmapgl": [
           {
            "colorbar": {
             "outlinewidth": 0,
             "ticks": ""
            },
            "colorscale": [
             [
              0,
              "#0d0887"
             ],
             [
              0.1111111111111111,
              "#46039f"
             ],
             [
              0.2222222222222222,
              "#7201a8"
             ],
             [
              0.3333333333333333,
              "#9c179e"
             ],
             [
              0.4444444444444444,
              "#bd3786"
             ],
             [
              0.5555555555555556,
              "#d8576b"
             ],
             [
              0.6666666666666666,
              "#ed7953"
             ],
             [
              0.7777777777777778,
              "#fb9f3a"
             ],
             [
              0.8888888888888888,
              "#fdca26"
             ],
             [
              1,
              "#f0f921"
             ]
            ],
            "type": "heatmapgl"
           }
          ],
          "histogram": [
           {
            "marker": {
             "pattern": {
              "fillmode": "overlay",
              "size": 10,
              "solidity": 0.2
             }
            },
            "type": "histogram"
           }
          ],
          "histogram2d": [
           {
            "colorbar": {
             "outlinewidth": 0,
             "ticks": ""
            },
            "colorscale": [
             [
              0,
              "#0d0887"
             ],
             [
              0.1111111111111111,
              "#46039f"
             ],
             [
              0.2222222222222222,
              "#7201a8"
             ],
             [
              0.3333333333333333,
              "#9c179e"
             ],
             [
              0.4444444444444444,
              "#bd3786"
             ],
             [
              0.5555555555555556,
              "#d8576b"
             ],
             [
              0.6666666666666666,
              "#ed7953"
             ],
             [
              0.7777777777777778,
              "#fb9f3a"
             ],
             [
              0.8888888888888888,
              "#fdca26"
             ],
             [
              1,
              "#f0f921"
             ]
            ],
            "type": "histogram2d"
           }
          ],
          "histogram2dcontour": [
           {
            "colorbar": {
             "outlinewidth": 0,
             "ticks": ""
            },
            "colorscale": [
             [
              0,
              "#0d0887"
             ],
             [
              0.1111111111111111,
              "#46039f"
             ],
             [
              0.2222222222222222,
              "#7201a8"
             ],
             [
              0.3333333333333333,
              "#9c179e"
             ],
             [
              0.4444444444444444,
              "#bd3786"
             ],
             [
              0.5555555555555556,
              "#d8576b"
             ],
             [
              0.6666666666666666,
              "#ed7953"
             ],
             [
              0.7777777777777778,
              "#fb9f3a"
             ],
             [
              0.8888888888888888,
              "#fdca26"
             ],
             [
              1,
              "#f0f921"
             ]
            ],
            "type": "histogram2dcontour"
           }
          ],
          "mesh3d": [
           {
            "colorbar": {
             "outlinewidth": 0,
             "ticks": ""
            },
            "type": "mesh3d"
           }
          ],
          "parcoords": [
           {
            "line": {
             "colorbar": {
              "outlinewidth": 0,
              "ticks": ""
             }
            },
            "type": "parcoords"
           }
          ],
          "pie": [
           {
            "automargin": true,
            "type": "pie"
           }
          ],
          "scatter": [
           {
            "fillpattern": {
             "fillmode": "overlay",
             "size": 10,
             "solidity": 0.2
            },
            "type": "scatter"
           }
          ],
          "scatter3d": [
           {
            "line": {
             "colorbar": {
              "outlinewidth": 0,
              "ticks": ""
             }
            },
            "marker": {
             "colorbar": {
              "outlinewidth": 0,
              "ticks": ""
             }
            },
            "type": "scatter3d"
           }
          ],
          "scattercarpet": [
           {
            "marker": {
             "colorbar": {
              "outlinewidth": 0,
              "ticks": ""
             }
            },
            "type": "scattercarpet"
           }
          ],
          "scattergeo": [
           {
            "marker": {
             "colorbar": {
              "outlinewidth": 0,
              "ticks": ""
             }
            },
            "type": "scattergeo"
           }
          ],
          "scattergl": [
           {
            "marker": {
             "colorbar": {
              "outlinewidth": 0,
              "ticks": ""
             }
            },
            "type": "scattergl"
           }
          ],
          "scattermapbox": [
           {
            "marker": {
             "colorbar": {
              "outlinewidth": 0,
              "ticks": ""
             }
            },
            "type": "scattermapbox"
           }
          ],
          "scatterpolar": [
           {
            "marker": {
             "colorbar": {
              "outlinewidth": 0,
              "ticks": ""
             }
            },
            "type": "scatterpolar"
           }
          ],
          "scatterpolargl": [
           {
            "marker": {
             "colorbar": {
              "outlinewidth": 0,
              "ticks": ""
             }
            },
            "type": "scatterpolargl"
           }
          ],
          "scatterternary": [
           {
            "marker": {
             "colorbar": {
              "outlinewidth": 0,
              "ticks": ""
             }
            },
            "type": "scatterternary"
           }
          ],
          "surface": [
           {
            "colorbar": {
             "outlinewidth": 0,
             "ticks": ""
            },
            "colorscale": [
             [
              0,
              "#0d0887"
             ],
             [
              0.1111111111111111,
              "#46039f"
             ],
             [
              0.2222222222222222,
              "#7201a8"
             ],
             [
              0.3333333333333333,
              "#9c179e"
             ],
             [
              0.4444444444444444,
              "#bd3786"
             ],
             [
              0.5555555555555556,
              "#d8576b"
             ],
             [
              0.6666666666666666,
              "#ed7953"
             ],
             [
              0.7777777777777778,
              "#fb9f3a"
             ],
             [
              0.8888888888888888,
              "#fdca26"
             ],
             [
              1,
              "#f0f921"
             ]
            ],
            "type": "surface"
           }
          ],
          "table": [
           {
            "cells": {
             "fill": {
              "color": "#EBF0F8"
             },
             "line": {
              "color": "white"
             }
            },
            "header": {
             "fill": {
              "color": "#C8D4E3"
             },
             "line": {
              "color": "white"
             }
            },
            "type": "table"
           }
          ]
         },
         "layout": {
          "annotationdefaults": {
           "arrowcolor": "#2a3f5f",
           "arrowhead": 0,
           "arrowwidth": 1
          },
          "autotypenumbers": "strict",
          "coloraxis": {
           "colorbar": {
            "outlinewidth": 0,
            "ticks": ""
           }
          },
          "colorscale": {
           "diverging": [
            [
             0,
             "#8e0152"
            ],
            [
             0.1,
             "#c51b7d"
            ],
            [
             0.2,
             "#de77ae"
            ],
            [
             0.3,
             "#f1b6da"
            ],
            [
             0.4,
             "#fde0ef"
            ],
            [
             0.5,
             "#f7f7f7"
            ],
            [
             0.6,
             "#e6f5d0"
            ],
            [
             0.7,
             "#b8e186"
            ],
            [
             0.8,
             "#7fbc41"
            ],
            [
             0.9,
             "#4d9221"
            ],
            [
             1,
             "#276419"
            ]
           ],
           "sequential": [
            [
             0,
             "#0d0887"
            ],
            [
             0.1111111111111111,
             "#46039f"
            ],
            [
             0.2222222222222222,
             "#7201a8"
            ],
            [
             0.3333333333333333,
             "#9c179e"
            ],
            [
             0.4444444444444444,
             "#bd3786"
            ],
            [
             0.5555555555555556,
             "#d8576b"
            ],
            [
             0.6666666666666666,
             "#ed7953"
            ],
            [
             0.7777777777777778,
             "#fb9f3a"
            ],
            [
             0.8888888888888888,
             "#fdca26"
            ],
            [
             1,
             "#f0f921"
            ]
           ],
           "sequentialminus": [
            [
             0,
             "#0d0887"
            ],
            [
             0.1111111111111111,
             "#46039f"
            ],
            [
             0.2222222222222222,
             "#7201a8"
            ],
            [
             0.3333333333333333,
             "#9c179e"
            ],
            [
             0.4444444444444444,
             "#bd3786"
            ],
            [
             0.5555555555555556,
             "#d8576b"
            ],
            [
             0.6666666666666666,
             "#ed7953"
            ],
            [
             0.7777777777777778,
             "#fb9f3a"
            ],
            [
             0.8888888888888888,
             "#fdca26"
            ],
            [
             1,
             "#f0f921"
            ]
           ]
          },
          "colorway": [
           "#636efa",
           "#EF553B",
           "#00cc96",
           "#ab63fa",
           "#FFA15A",
           "#19d3f3",
           "#FF6692",
           "#B6E880",
           "#FF97FF",
           "#FECB52"
          ],
          "font": {
           "color": "#2a3f5f"
          },
          "geo": {
           "bgcolor": "white",
           "lakecolor": "white",
           "landcolor": "#E5ECF6",
           "showlakes": true,
           "showland": true,
           "subunitcolor": "white"
          },
          "hoverlabel": {
           "align": "left"
          },
          "hovermode": "closest",
          "mapbox": {
           "style": "light"
          },
          "paper_bgcolor": "white",
          "plot_bgcolor": "#E5ECF6",
          "polar": {
           "angularaxis": {
            "gridcolor": "white",
            "linecolor": "white",
            "ticks": ""
           },
           "bgcolor": "#E5ECF6",
           "radialaxis": {
            "gridcolor": "white",
            "linecolor": "white",
            "ticks": ""
           }
          },
          "scene": {
           "xaxis": {
            "backgroundcolor": "#E5ECF6",
            "gridcolor": "white",
            "gridwidth": 2,
            "linecolor": "white",
            "showbackground": true,
            "ticks": "",
            "zerolinecolor": "white"
           },
           "yaxis": {
            "backgroundcolor": "#E5ECF6",
            "gridcolor": "white",
            "gridwidth": 2,
            "linecolor": "white",
            "showbackground": true,
            "ticks": "",
            "zerolinecolor": "white"
           },
           "zaxis": {
            "backgroundcolor": "#E5ECF6",
            "gridcolor": "white",
            "gridwidth": 2,
            "linecolor": "white",
            "showbackground": true,
            "ticks": "",
            "zerolinecolor": "white"
           }
          },
          "shapedefaults": {
           "line": {
            "color": "#2a3f5f"
           }
          },
          "ternary": {
           "aaxis": {
            "gridcolor": "white",
            "linecolor": "white",
            "ticks": ""
           },
           "baxis": {
            "gridcolor": "white",
            "linecolor": "white",
            "ticks": ""
           },
           "bgcolor": "#E5ECF6",
           "caxis": {
            "gridcolor": "white",
            "linecolor": "white",
            "ticks": ""
           }
          },
          "title": {
           "x": 0.05
          },
          "xaxis": {
           "automargin": true,
           "gridcolor": "white",
           "linecolor": "white",
           "ticks": "",
           "title": {
            "standoff": 15
           },
           "zerolinecolor": "white",
           "zerolinewidth": 2
          },
          "yaxis": {
           "automargin": true,
           "gridcolor": "white",
           "linecolor": "white",
           "ticks": "",
           "title": {
            "standoff": 15
           },
           "zerolinecolor": "white",
           "zerolinewidth": 2
          }
         }
        },
        "title": {
         "font": {
          "color": "#a5a7ab",
          "family": "Lato, sans-serif",
          "size": 25
         }
        },
        "updatemenus": [
         {
          "buttons": [
           {
            "args": [
             null,
             {
              "frame": {
               "duration": 500,
               "redraw": true
              },
              "fromcurrent": true,
              "mode": "immediate",
              "transition": {
               "duration": 500,
               "easing": "linear"
              }
             }
            ],
            "label": "&#9654;",
            "method": "animate"
           },
           {
            "args": [
             [
              null
             ],
             {
              "frame": {
               "duration": 0,
               "redraw": true
              },
              "fromcurrent": true,
              "mode": "immediate",
              "transition": {
               "duration": 0,
               "easing": "linear"
              }
             }
            ],
            "label": "&#9724;",
            "method": "animate"
           }
          ],
          "direction": "left",
          "pad": {
           "r": 10,
           "t": 70
          },
          "showactive": false,
          "type": "buttons",
          "x": 0.1,
          "xanchor": "right",
          "y": 0,
          "yanchor": "top"
         }
        ],
        "xaxis": {
         "anchor": "y",
         "categoryarray": [
          "ACC",
          "ACC{HQ}",
          "APFC",
          "RPFC-I",
          "RPFC-II"
         ],
         "categoryorder": "array",
         "domain": [
          0,
          1
         ],
         "tickangle": 0,
         "title": {
          "text": " "
         }
        },
        "yaxis": {
         "anchor": "x",
         "domain": [
          0,
          1
         ],
         "range": [
          0,
          900
         ],
         "showgrid": false,
         "title": {
          "text": " "
         }
        }
       }
      }
     },
     "metadata": {},
     "output_type": "display_data"
    },
    {
     "data": {
      "application/vnd.plotly.v1+json": {
       "config": {
        "plotlyServerURL": "https://plot.ly"
       },
       "data": [
        {
         "hovertemplate": "desig=ACC<br>year=%{x}<br>eid=%{y}<extra></extra>",
         "legendgroup": "ACC",
         "line": {
          "color": "#636efa",
          "dash": "solid"
         },
         "marker": {
          "symbol": "circle"
         },
         "mode": "lines",
         "name": "ACC",
         "orientation": "v",
         "showlegend": true,
         "type": "scatter",
         "x": [
          2024,
          2025,
          2026,
          2027,
          2028,
          2029,
          2030,
          2031,
          2032,
          2033,
          2034,
          2035,
          2036,
          2037,
          2038,
          2039,
          2040,
          2041,
          2042,
          2043,
          2044,
          2045
         ],
         "xaxis": "x",
         "y": [
          27,
          32,
          32,
          32,
          32,
          32,
          32,
          32,
          32,
          32,
          32,
          29,
          28,
          26,
          26,
          24,
          19,
          16,
          12,
          6,
          6,
          3
         ],
         "yaxis": "y"
        },
        {
         "hovertemplate": "desig=ACC{HQ}<br>year=%{x}<br>eid=%{y}<extra></extra>",
         "legendgroup": "ACC{HQ}",
         "line": {
          "color": "#EF553B",
          "dash": "solid"
         },
         "marker": {
          "symbol": "circle"
         },
         "mode": "lines",
         "name": "ACC{HQ}",
         "orientation": "v",
         "showlegend": true,
         "type": "scatter",
         "x": [
          2024,
          2025,
          2026,
          2027
         ],
         "xaxis": "x",
         "y": [
          10,
          8,
          7,
          3
         ],
         "yaxis": "y"
        },
        {
         "hovertemplate": "desig=APFC<br>year=%{x}<br>eid=%{y}<extra></extra>",
         "legendgroup": "APFC",
         "line": {
          "color": "#00cc96",
          "dash": "solid"
         },
         "marker": {
          "symbol": "circle"
         },
         "mode": "lines",
         "name": "APFC",
         "orientation": "v",
         "showlegend": true,
         "type": "scatter",
         "x": [
          2024,
          2025,
          2026,
          2027,
          2028,
          2029,
          2030,
          2031,
          2032,
          2033,
          2034,
          2035,
          2036,
          2037,
          2038,
          2039,
          2040,
          2041,
          2042,
          2043,
          2044,
          2045,
          2046,
          2047,
          2048,
          2049,
          2050,
          2051,
          2052,
          2053
         ],
         "xaxis": "x",
         "y": [
          445,
          445,
          445,
          445,
          445,
          445,
          445,
          445,
          445,
          445,
          445,
          445,
          445,
          445,
          445,
          445,
          445,
          445,
          445,
          445,
          445,
          445,
          445,
          445,
          445,
          445,
          445,
          445,
          445,
          445
         ],
         "yaxis": "y"
        },
        {
         "hovertemplate": "desig=RPFC-I<br>year=%{x}<br>eid=%{y}<extra></extra>",
         "legendgroup": "RPFC-I",
         "line": {
          "color": "#ab63fa",
          "dash": "solid"
         },
         "marker": {
          "symbol": "circle"
         },
         "mode": "lines",
         "name": "RPFC-I",
         "orientation": "v",
         "showlegend": true,
         "type": "scatter",
         "x": [
          2024,
          2025,
          2026,
          2027,
          2028,
          2029,
          2030,
          2031,
          2032,
          2033,
          2034,
          2035,
          2036,
          2037,
          2038,
          2039,
          2040,
          2041,
          2042,
          2043,
          2044,
          2045,
          2046,
          2047,
          2048,
          2049,
          2050,
          2051
         ],
         "xaxis": "x",
         "y": [
          206,
          201,
          201,
          200,
          198,
          198,
          195,
          193,
          192,
          192,
          189,
          188,
          188,
          188,
          188,
          188,
          187,
          180,
          171,
          158,
          143,
          119,
          90,
          68,
          48,
          34,
          18,
          7
         ],
         "yaxis": "y"
        },
        {
         "hovertemplate": "desig=RPFC-II<br>year=%{x}<br>eid=%{y}<extra></extra>",
         "legendgroup": "RPFC-II",
         "line": {
          "color": "#FFA15A",
          "dash": "solid"
         },
         "marker": {
          "symbol": "circle"
         },
         "mode": "lines",
         "name": "RPFC-II",
         "orientation": "v",
         "showlegend": true,
         "type": "scatter",
         "x": [
          2024,
          2025,
          2026,
          2027,
          2028,
          2029,
          2030,
          2031,
          2032,
          2033,
          2034,
          2035,
          2036,
          2037,
          2038,
          2039,
          2040,
          2041,
          2042,
          2043,
          2044,
          2045,
          2046,
          2047,
          2048,
          2049,
          2050,
          2051,
          2052,
          2053
         ],
         "xaxis": "x",
         "y": [
          251,
          287,
          287,
          287,
          287,
          287,
          287,
          287,
          287,
          287,
          287,
          287,
          287,
          287,
          287,
          287,
          287,
          287,
          287,
          287,
          287,
          287,
          283,
          268,
          248,
          220,
          193,
          164,
          128,
          94
         ],
         "yaxis": "y"
        }
       ],
       "layout": {
        "legend": {
         "title": {
          "text": "desig"
         },
         "tracegroupgap": 0
        },
        "margin": {
         "t": 60
        },
        "template": {
         "data": {
          "bar": [
           {
            "error_x": {
             "color": "#2a3f5f"
            },
            "error_y": {
             "color": "#2a3f5f"
            },
            "marker": {
             "line": {
              "color": "#E5ECF6",
              "width": 0.5
             },
             "pattern": {
              "fillmode": "overlay",
              "size": 10,
              "solidity": 0.2
             }
            },
            "type": "bar"
           }
          ],
          "barpolar": [
           {
            "marker": {
             "line": {
              "color": "#E5ECF6",
              "width": 0.5
             },
             "pattern": {
              "fillmode": "overlay",
              "size": 10,
              "solidity": 0.2
             }
            },
            "type": "barpolar"
           }
          ],
          "carpet": [
           {
            "aaxis": {
             "endlinecolor": "#2a3f5f",
             "gridcolor": "white",
             "linecolor": "white",
             "minorgridcolor": "white",
             "startlinecolor": "#2a3f5f"
            },
            "baxis": {
             "endlinecolor": "#2a3f5f",
             "gridcolor": "white",
             "linecolor": "white",
             "minorgridcolor": "white",
             "startlinecolor": "#2a3f5f"
            },
            "type": "carpet"
           }
          ],
          "choropleth": [
           {
            "colorbar": {
             "outlinewidth": 0,
             "ticks": ""
            },
            "type": "choropleth"
           }
          ],
          "contour": [
           {
            "colorbar": {
             "outlinewidth": 0,
             "ticks": ""
            },
            "colorscale": [
             [
              0,
              "#0d0887"
             ],
             [
              0.1111111111111111,
              "#46039f"
             ],
             [
              0.2222222222222222,
              "#7201a8"
             ],
             [
              0.3333333333333333,
              "#9c179e"
             ],
             [
              0.4444444444444444,
              "#bd3786"
             ],
             [
              0.5555555555555556,
              "#d8576b"
             ],
             [
              0.6666666666666666,
              "#ed7953"
             ],
             [
              0.7777777777777778,
              "#fb9f3a"
             ],
             [
              0.8888888888888888,
              "#fdca26"
             ],
             [
              1,
              "#f0f921"
             ]
            ],
            "type": "contour"
           }
          ],
          "contourcarpet": [
           {
            "colorbar": {
             "outlinewidth": 0,
             "ticks": ""
            },
            "type": "contourcarpet"
           }
          ],
          "heatmap": [
           {
            "colorbar": {
             "outlinewidth": 0,
             "ticks": ""
            },
            "colorscale": [
             [
              0,
              "#0d0887"
             ],
             [
              0.1111111111111111,
              "#46039f"
             ],
             [
              0.2222222222222222,
              "#7201a8"
             ],
             [
              0.3333333333333333,
              "#9c179e"
             ],
             [
              0.4444444444444444,
              "#bd3786"
             ],
             [
              0.5555555555555556,
              "#d8576b"
             ],
             [
              0.6666666666666666,
              "#ed7953"
             ],
             [
              0.7777777777777778,
              "#fb9f3a"
             ],
             [
              0.8888888888888888,
              "#fdca26"
             ],
             [
              1,
              "#f0f921"
             ]
            ],
            "type": "heatmap"
           }
          ],
          "heatmapgl": [
           {
            "colorbar": {
             "outlinewidth": 0,
             "ticks": ""
            },
            "colorscale": [
             [
              0,
              "#0d0887"
             ],
             [
              0.1111111111111111,
              "#46039f"
             ],
             [
              0.2222222222222222,
              "#7201a8"
             ],
             [
              0.3333333333333333,
              "#9c179e"
             ],
             [
              0.4444444444444444,
              "#bd3786"
             ],
             [
              0.5555555555555556,
              "#d8576b"
             ],
             [
              0.6666666666666666,
              "#ed7953"
             ],
             [
              0.7777777777777778,
              "#fb9f3a"
             ],
             [
              0.8888888888888888,
              "#fdca26"
             ],
             [
              1,
              "#f0f921"
             ]
            ],
            "type": "heatmapgl"
           }
          ],
          "histogram": [
           {
            "marker": {
             "pattern": {
              "fillmode": "overlay",
              "size": 10,
              "solidity": 0.2
             }
            },
            "type": "histogram"
           }
          ],
          "histogram2d": [
           {
            "colorbar": {
             "outlinewidth": 0,
             "ticks": ""
            },
            "colorscale": [
             [
              0,
              "#0d0887"
             ],
             [
              0.1111111111111111,
              "#46039f"
             ],
             [
              0.2222222222222222,
              "#7201a8"
             ],
             [
              0.3333333333333333,
              "#9c179e"
             ],
             [
              0.4444444444444444,
              "#bd3786"
             ],
             [
              0.5555555555555556,
              "#d8576b"
             ],
             [
              0.6666666666666666,
              "#ed7953"
             ],
             [
              0.7777777777777778,
              "#fb9f3a"
             ],
             [
              0.8888888888888888,
              "#fdca26"
             ],
             [
              1,
              "#f0f921"
             ]
            ],
            "type": "histogram2d"
           }
          ],
          "histogram2dcontour": [
           {
            "colorbar": {
             "outlinewidth": 0,
             "ticks": ""
            },
            "colorscale": [
             [
              0,
              "#0d0887"
             ],
             [
              0.1111111111111111,
              "#46039f"
             ],
             [
              0.2222222222222222,
              "#7201a8"
             ],
             [
              0.3333333333333333,
              "#9c179e"
             ],
             [
              0.4444444444444444,
              "#bd3786"
             ],
             [
              0.5555555555555556,
              "#d8576b"
             ],
             [
              0.6666666666666666,
              "#ed7953"
             ],
             [
              0.7777777777777778,
              "#fb9f3a"
             ],
             [
              0.8888888888888888,
              "#fdca26"
             ],
             [
              1,
              "#f0f921"
             ]
            ],
            "type": "histogram2dcontour"
           }
          ],
          "mesh3d": [
           {
            "colorbar": {
             "outlinewidth": 0,
             "ticks": ""
            },
            "type": "mesh3d"
           }
          ],
          "parcoords": [
           {
            "line": {
             "colorbar": {
              "outlinewidth": 0,
              "ticks": ""
             }
            },
            "type": "parcoords"
           }
          ],
          "pie": [
           {
            "automargin": true,
            "type": "pie"
           }
          ],
          "scatter": [
           {
            "fillpattern": {
             "fillmode": "overlay",
             "size": 10,
             "solidity": 0.2
            },
            "type": "scatter"
           }
          ],
          "scatter3d": [
           {
            "line": {
             "colorbar": {
              "outlinewidth": 0,
              "ticks": ""
             }
            },
            "marker": {
             "colorbar": {
              "outlinewidth": 0,
              "ticks": ""
             }
            },
            "type": "scatter3d"
           }
          ],
          "scattercarpet": [
           {
            "marker": {
             "colorbar": {
              "outlinewidth": 0,
              "ticks": ""
             }
            },
            "type": "scattercarpet"
           }
          ],
          "scattergeo": [
           {
            "marker": {
             "colorbar": {
              "outlinewidth": 0,
              "ticks": ""
             }
            },
            "type": "scattergeo"
           }
          ],
          "scattergl": [
           {
            "marker": {
             "colorbar": {
              "outlinewidth": 0,
              "ticks": ""
             }
            },
            "type": "scattergl"
           }
          ],
          "scattermapbox": [
           {
            "marker": {
             "colorbar": {
              "outlinewidth": 0,
              "ticks": ""
             }
            },
            "type": "scattermapbox"
           }
          ],
          "scatterpolar": [
           {
            "marker": {
             "colorbar": {
              "outlinewidth": 0,
              "ticks": ""
             }
            },
            "type": "scatterpolar"
           }
          ],
          "scatterpolargl": [
           {
            "marker": {
             "colorbar": {
              "outlinewidth": 0,
              "ticks": ""
             }
            },
            "type": "scatterpolargl"
           }
          ],
          "scatterternary": [
           {
            "marker": {
             "colorbar": {
              "outlinewidth": 0,
              "ticks": ""
             }
            },
            "type": "scatterternary"
           }
          ],
          "surface": [
           {
            "colorbar": {
             "outlinewidth": 0,
             "ticks": ""
            },
            "colorscale": [
             [
              0,
              "#0d0887"
             ],
             [
              0.1111111111111111,
              "#46039f"
             ],
             [
              0.2222222222222222,
              "#7201a8"
             ],
             [
              0.3333333333333333,
              "#9c179e"
             ],
             [
              0.4444444444444444,
              "#bd3786"
             ],
             [
              0.5555555555555556,
              "#d8576b"
             ],
             [
              0.6666666666666666,
              "#ed7953"
             ],
             [
              0.7777777777777778,
              "#fb9f3a"
             ],
             [
              0.8888888888888888,
              "#fdca26"
             ],
             [
              1,
              "#f0f921"
             ]
            ],
            "type": "surface"
           }
          ],
          "table": [
           {
            "cells": {
             "fill": {
              "color": "#EBF0F8"
             },
             "line": {
              "color": "white"
             }
            },
            "header": {
             "fill": {
              "color": "#C8D4E3"
             },
             "line": {
              "color": "white"
             }
            },
            "type": "table"
           }
          ]
         },
         "layout": {
          "annotationdefaults": {
           "arrowcolor": "#2a3f5f",
           "arrowhead": 0,
           "arrowwidth": 1
          },
          "autotypenumbers": "strict",
          "coloraxis": {
           "colorbar": {
            "outlinewidth": 0,
            "ticks": ""
           }
          },
          "colorscale": {
           "diverging": [
            [
             0,
             "#8e0152"
            ],
            [
             0.1,
             "#c51b7d"
            ],
            [
             0.2,
             "#de77ae"
            ],
            [
             0.3,
             "#f1b6da"
            ],
            [
             0.4,
             "#fde0ef"
            ],
            [
             0.5,
             "#f7f7f7"
            ],
            [
             0.6,
             "#e6f5d0"
            ],
            [
             0.7,
             "#b8e186"
            ],
            [
             0.8,
             "#7fbc41"
            ],
            [
             0.9,
             "#4d9221"
            ],
            [
             1,
             "#276419"
            ]
           ],
           "sequential": [
            [
             0,
             "#0d0887"
            ],
            [
             0.1111111111111111,
             "#46039f"
            ],
            [
             0.2222222222222222,
             "#7201a8"
            ],
            [
             0.3333333333333333,
             "#9c179e"
            ],
            [
             0.4444444444444444,
             "#bd3786"
            ],
            [
             0.5555555555555556,
             "#d8576b"
            ],
            [
             0.6666666666666666,
             "#ed7953"
            ],
            [
             0.7777777777777778,
             "#fb9f3a"
            ],
            [
             0.8888888888888888,
             "#fdca26"
            ],
            [
             1,
             "#f0f921"
            ]
           ],
           "sequentialminus": [
            [
             0,
             "#0d0887"
            ],
            [
             0.1111111111111111,
             "#46039f"
            ],
            [
             0.2222222222222222,
             "#7201a8"
            ],
            [
             0.3333333333333333,
             "#9c179e"
            ],
            [
             0.4444444444444444,
             "#bd3786"
            ],
            [
             0.5555555555555556,
             "#d8576b"
            ],
            [
             0.6666666666666666,
             "#ed7953"
            ],
            [
             0.7777777777777778,
             "#fb9f3a"
            ],
            [
             0.8888888888888888,
             "#fdca26"
            ],
            [
             1,
             "#f0f921"
            ]
           ]
          },
          "colorway": [
           "#636efa",
           "#EF553B",
           "#00cc96",
           "#ab63fa",
           "#FFA15A",
           "#19d3f3",
           "#FF6692",
           "#B6E880",
           "#FF97FF",
           "#FECB52"
          ],
          "font": {
           "color": "#2a3f5f"
          },
          "geo": {
           "bgcolor": "white",
           "lakecolor": "white",
           "landcolor": "#E5ECF6",
           "showlakes": true,
           "showland": true,
           "subunitcolor": "white"
          },
          "hoverlabel": {
           "align": "left"
          },
          "hovermode": "closest",
          "mapbox": {
           "style": "light"
          },
          "paper_bgcolor": "white",
          "plot_bgcolor": "#E5ECF6",
          "polar": {
           "angularaxis": {
            "gridcolor": "white",
            "linecolor": "white",
            "ticks": ""
           },
           "bgcolor": "#E5ECF6",
           "radialaxis": {
            "gridcolor": "white",
            "linecolor": "white",
            "ticks": ""
           }
          },
          "scene": {
           "xaxis": {
            "backgroundcolor": "#E5ECF6",
            "gridcolor": "white",
            "gridwidth": 2,
            "linecolor": "white",
            "showbackground": true,
            "ticks": "",
            "zerolinecolor": "white"
           },
           "yaxis": {
            "backgroundcolor": "#E5ECF6",
            "gridcolor": "white",
            "gridwidth": 2,
            "linecolor": "white",
            "showbackground": true,
            "ticks": "",
            "zerolinecolor": "white"
           },
           "zaxis": {
            "backgroundcolor": "#E5ECF6",
            "gridcolor": "white",
            "gridwidth": 2,
            "linecolor": "white",
            "showbackground": true,
            "ticks": "",
            "zerolinecolor": "white"
           }
          },
          "shapedefaults": {
           "line": {
            "color": "#2a3f5f"
           }
          },
          "ternary": {
           "aaxis": {
            "gridcolor": "white",
            "linecolor": "white",
            "ticks": ""
           },
           "baxis": {
            "gridcolor": "white",
            "linecolor": "white",
            "ticks": ""
           },
           "bgcolor": "#E5ECF6",
           "caxis": {
            "gridcolor": "white",
            "linecolor": "white",
            "ticks": ""
           }
          },
          "title": {
           "x": 0.05
          },
          "xaxis": {
           "automargin": true,
           "gridcolor": "white",
           "linecolor": "white",
           "ticks": "",
           "title": {
            "standoff": 15
           },
           "zerolinecolor": "white",
           "zerolinewidth": 2
          },
          "yaxis": {
           "automargin": true,
           "gridcolor": "white",
           "linecolor": "white",
           "ticks": "",
           "title": {
            "standoff": 15
           },
           "zerolinecolor": "white",
           "zerolinewidth": 2
          }
         }
        },
        "xaxis": {
         "anchor": "y",
         "domain": [
          0,
          1
         ],
         "title": {
          "text": "year"
         }
        },
        "yaxis": {
         "anchor": "x",
         "domain": [
          0,
          1
         ],
         "title": {
          "text": "eid"
         }
        }
       }
      }
     },
     "metadata": {},
     "output_type": "display_data"
    },
    {
     "data": {
      "application/vnd.plotly.v1+json": {
       "config": {
        "plotlyServerURL": "https://plot.ly"
       },
       "data": [
        {
         "hovertemplate": "desig=ACC<br>year=%{x}<br>waiting=%{y}<extra></extra>",
         "legendgroup": "ACC",
         "line": {
          "color": "#636efa",
          "dash": "solid"
         },
         "marker": {
          "symbol": "circle"
         },
         "mode": "lines",
         "name": "ACC",
         "orientation": "v",
         "showlegend": true,
         "type": "scatter",
         "x": [
          2024,
          2025,
          2026,
          2027,
          2028,
          2029,
          2030,
          2031,
          2032,
          2033,
          2034,
          2035,
          2036,
          2037,
          2038,
          2039,
          2040,
          2041,
          2042,
          2043,
          2044,
          2045
         ],
         "xaxis": "x",
         "y": [
          0,
          0,
          0,
          0,
          0,
          0,
          0,
          0,
          0,
          0,
          0,
          0,
          0,
          0,
          0,
          0,
          0,
          0,
          0,
          0,
          0,
          0
         ],
         "yaxis": "y"
        },
        {
         "hovertemplate": "desig=ACC{HQ}<br>year=%{x}<br>waiting=%{y}<extra></extra>",
         "legendgroup": "ACC{HQ}",
         "line": {
          "color": "#EF553B",
          "dash": "solid"
         },
         "marker": {
          "symbol": "circle"
         },
         "mode": "lines",
         "name": "ACC{HQ}",
         "orientation": "v",
         "showlegend": true,
         "type": "scatter",
         "x": [
          2024,
          2025,
          2026,
          2027
         ],
         "xaxis": "x",
         "y": [
          0,
          0,
          0,
          0
         ],
         "yaxis": "y"
        },
        {
         "hovertemplate": "desig=APFC<br>year=%{x}<br>waiting=%{y}<extra></extra>",
         "legendgroup": "APFC",
         "line": {
          "color": "#00cc96",
          "dash": "solid"
         },
         "marker": {
          "symbol": "circle"
         },
         "mode": "lines",
         "name": "APFC",
         "orientation": "v",
         "showlegend": true,
         "type": "scatter",
         "x": [
          2024,
          2025,
          2026,
          2027,
          2028,
          2029,
          2030,
          2031,
          2032,
          2033,
          2034,
          2035,
          2036,
          2037,
          2038,
          2039,
          2040,
          2041,
          2042,
          2043,
          2044,
          2045,
          2046,
          2047,
          2048,
          2049,
          2050,
          2051,
          2052,
          2053
         ],
         "xaxis": "x",
         "y": [
          0,
          0,
          0,
          0,
          0,
          0,
          0,
          0,
          0,
          0,
          0,
          0,
          0,
          0,
          0,
          0,
          0,
          0,
          0,
          0,
          0,
          0,
          0,
          0,
          0,
          0,
          0,
          0,
          0,
          0
         ],
         "yaxis": "y"
        },
        {
         "hovertemplate": "desig=RPFC-I<br>year=%{x}<br>waiting=%{y}<extra></extra>",
         "legendgroup": "RPFC-I",
         "line": {
          "color": "#ab63fa",
          "dash": "solid"
         },
         "marker": {
          "symbol": "circle"
         },
         "mode": "lines",
         "name": "RPFC-I",
         "orientation": "v",
         "showlegend": true,
         "type": "scatter",
         "x": [
          2024,
          2025,
          2026,
          2027,
          2028,
          2029,
          2030,
          2031,
          2032,
          2033,
          2034,
          2035,
          2036,
          2037,
          2038,
          2039,
          2040,
          2041,
          2042,
          2043,
          2044,
          2045,
          2046,
          2047,
          2048,
          2049,
          2050,
          2051
         ],
         "xaxis": "x",
         "y": [
          0,
          0,
          0,
          0,
          0,
          0,
          0,
          0,
          0,
          0,
          0,
          0,
          0,
          0,
          0,
          0,
          0,
          0,
          0,
          0,
          0,
          0,
          0,
          0,
          0,
          0,
          0,
          0
         ],
         "yaxis": "y"
        },
        {
         "hovertemplate": "desig=RPFC-II<br>year=%{x}<br>waiting=%{y}<extra></extra>",
         "legendgroup": "RPFC-II",
         "line": {
          "color": "#FFA15A",
          "dash": "solid"
         },
         "marker": {
          "symbol": "circle"
         },
         "mode": "lines",
         "name": "RPFC-II",
         "orientation": "v",
         "showlegend": true,
         "type": "scatter",
         "x": [
          2024,
          2025,
          2026,
          2027,
          2028,
          2029,
          2030,
          2031,
          2032,
          2033,
          2034,
          2035,
          2036,
          2037,
          2038,
          2039,
          2040,
          2041,
          2042,
          2043,
          2044,
          2045,
          2046,
          2047,
          2048,
          2049,
          2050,
          2051,
          2052,
          2053
         ],
         "xaxis": "x",
         "y": [
          0,
          0,
          0,
          0,
          0,
          0,
          0,
          0,
          0,
          0,
          0,
          0,
          0,
          0,
          0,
          0,
          0,
          0,
          0,
          0,
          0,
          0,
          0,
          0,
          0,
          0,
          0,
          0,
          0,
          0
         ],
         "yaxis": "y"
        }
       ],
       "layout": {
        "legend": {
         "title": {
          "text": "desig"
         },
         "tracegroupgap": 0
        },
        "margin": {
         "t": 60
        },
        "template": {
         "data": {
          "bar": [
           {
            "error_x": {
             "color": "#2a3f5f"
            },
            "error_y": {
             "color": "#2a3f5f"
            },
            "marker": {
             "line": {
              "color": "#E5ECF6",
              "width": 0.5
             },
             "pattern": {
              "fillmode": "overlay",
              "size": 10,
              "solidity": 0.2
             }
            },
            "type": "bar"
           }
          ],
          "barpolar": [
           {
            "marker": {
             "line": {
              "color": "#E5ECF6",
              "width": 0.5
             },
             "pattern": {
              "fillmode": "overlay",
              "size": 10,
              "solidity": 0.2
             }
            },
            "type": "barpolar"
           }
          ],
          "carpet": [
           {
            "aaxis": {
             "endlinecolor": "#2a3f5f",
             "gridcolor": "white",
             "linecolor": "white",
             "minorgridcolor": "white",
             "startlinecolor": "#2a3f5f"
            },
            "baxis": {
             "endlinecolor": "#2a3f5f",
             "gridcolor": "white",
             "linecolor": "white",
             "minorgridcolor": "white",
             "startlinecolor": "#2a3f5f"
            },
            "type": "carpet"
           }
          ],
          "choropleth": [
           {
            "colorbar": {
             "outlinewidth": 0,
             "ticks": ""
            },
            "type": "choropleth"
           }
          ],
          "contour": [
           {
            "colorbar": {
             "outlinewidth": 0,
             "ticks": ""
            },
            "colorscale": [
             [
              0,
              "#0d0887"
             ],
             [
              0.1111111111111111,
              "#46039f"
             ],
             [
              0.2222222222222222,
              "#7201a8"
             ],
             [
              0.3333333333333333,
              "#9c179e"
             ],
             [
              0.4444444444444444,
              "#bd3786"
             ],
             [
              0.5555555555555556,
              "#d8576b"
             ],
             [
              0.6666666666666666,
              "#ed7953"
             ],
             [
              0.7777777777777778,
              "#fb9f3a"
             ],
             [
              0.8888888888888888,
              "#fdca26"
             ],
             [
              1,
              "#f0f921"
             ]
            ],
            "type": "contour"
           }
          ],
          "contourcarpet": [
           {
            "colorbar": {
             "outlinewidth": 0,
             "ticks": ""
            },
            "type": "contourcarpet"
           }
          ],
          "heatmap": [
           {
            "colorbar": {
             "outlinewidth": 0,
             "ticks": ""
            },
            "colorscale": [
             [
              0,
              "#0d0887"
             ],
             [
              0.1111111111111111,
              "#46039f"
             ],
             [
              0.2222222222222222,
              "#7201a8"
             ],
             [
              0.3333333333333333,
              "#9c179e"
             ],
             [
              0.4444444444444444,
              "#bd3786"
             ],
             [
              0.5555555555555556,
              "#d8576b"
             ],
             [
              0.6666666666666666,
              "#ed7953"
             ],
             [
              0.7777777777777778,
              "#fb9f3a"
             ],
             [
              0.8888888888888888,
              "#fdca26"
             ],
             [
              1,
              "#f0f921"
             ]
            ],
            "type": "heatmap"
           }
          ],
          "heatmapgl": [
           {
            "colorbar": {
             "outlinewidth": 0,
             "ticks": ""
            },
            "colorscale": [
             [
              0,
              "#0d0887"
             ],
             [
              0.1111111111111111,
              "#46039f"
             ],
             [
              0.2222222222222222,
              "#7201a8"
             ],
             [
              0.3333333333333333,
              "#9c179e"
             ],
             [
              0.4444444444444444,
              "#bd3786"
             ],
             [
              0.5555555555555556,
              "#d8576b"
             ],
             [
              0.6666666666666666,
              "#ed7953"
             ],
             [
              0.7777777777777778,
              "#fb9f3a"
             ],
             [
              0.8888888888888888,
              "#fdca26"
             ],
             [
              1,
              "#f0f921"
             ]
            ],
            "type": "heatmapgl"
           }
          ],
          "histogram": [
           {
            "marker": {
             "pattern": {
              "fillmode": "overlay",
              "size": 10,
              "solidity": 0.2
             }
            },
            "type": "histogram"
           }
          ],
          "histogram2d": [
           {
            "colorbar": {
             "outlinewidth": 0,
             "ticks": ""
            },
            "colorscale": [
             [
              0,
              "#0d0887"
             ],
             [
              0.1111111111111111,
              "#46039f"
             ],
             [
              0.2222222222222222,
              "#7201a8"
             ],
             [
              0.3333333333333333,
              "#9c179e"
             ],
             [
              0.4444444444444444,
              "#bd3786"
             ],
             [
              0.5555555555555556,
              "#d8576b"
             ],
             [
              0.6666666666666666,
              "#ed7953"
             ],
             [
              0.7777777777777778,
              "#fb9f3a"
             ],
             [
              0.8888888888888888,
              "#fdca26"
             ],
             [
              1,
              "#f0f921"
             ]
            ],
            "type": "histogram2d"
           }
          ],
          "histogram2dcontour": [
           {
            "colorbar": {
             "outlinewidth": 0,
             "ticks": ""
            },
            "colorscale": [
             [
              0,
              "#0d0887"
             ],
             [
              0.1111111111111111,
              "#46039f"
             ],
             [
              0.2222222222222222,
              "#7201a8"
             ],
             [
              0.3333333333333333,
              "#9c179e"
             ],
             [
              0.4444444444444444,
              "#bd3786"
             ],
             [
              0.5555555555555556,
              "#d8576b"
             ],
             [
              0.6666666666666666,
              "#ed7953"
             ],
             [
              0.7777777777777778,
              "#fb9f3a"
             ],
             [
              0.8888888888888888,
              "#fdca26"
             ],
             [
              1,
              "#f0f921"
             ]
            ],
            "type": "histogram2dcontour"
           }
          ],
          "mesh3d": [
           {
            "colorbar": {
             "outlinewidth": 0,
             "ticks": ""
            },
            "type": "mesh3d"
           }
          ],
          "parcoords": [
           {
            "line": {
             "colorbar": {
              "outlinewidth": 0,
              "ticks": ""
             }
            },
            "type": "parcoords"
           }
          ],
          "pie": [
           {
            "automargin": true,
            "type": "pie"
           }
          ],
          "scatter": [
           {
            "fillpattern": {
             "fillmode": "overlay",
             "size": 10,
             "solidity": 0.2
            },
            "type": "scatter"
           }
          ],
          "scatter3d": [
           {
            "line": {
             "colorbar": {
              "outlinewidth": 0,
              "ticks": ""
             }
            },
            "marker": {
             "colorbar": {
              "outlinewidth": 0,
              "ticks": ""
             }
            },
            "type": "scatter3d"
           }
          ],
          "scattercarpet": [
           {
            "marker": {
             "colorbar": {
              "outlinewidth": 0,
              "ticks": ""
             }
            },
            "type": "scattercarpet"
           }
          ],
          "scattergeo": [
           {
            "marker": {
             "colorbar": {
              "outlinewidth": 0,
              "ticks": ""
             }
            },
            "type": "scattergeo"
           }
          ],
          "scattergl": [
           {
            "marker": {
             "colorbar": {
              "outlinewidth": 0,
              "ticks": ""
             }
            },
            "type": "scattergl"
           }
          ],
          "scattermapbox": [
           {
            "marker": {
             "colorbar": {
              "outlinewidth": 0,
              "ticks": ""
             }
            },
            "type": "scattermapbox"
           }
          ],
          "scatterpolar": [
           {
            "marker": {
             "colorbar": {
              "outlinewidth": 0,
              "ticks": ""
             }
            },
            "type": "scatterpolar"
           }
          ],
          "scatterpolargl": [
           {
            "marker": {
             "colorbar": {
              "outlinewidth": 0,
              "ticks": ""
             }
            },
            "type": "scatterpolargl"
           }
          ],
          "scatterternary": [
           {
            "marker": {
             "colorbar": {
              "outlinewidth": 0,
              "ticks": ""
             }
            },
            "type": "scatterternary"
           }
          ],
          "surface": [
           {
            "colorbar": {
             "outlinewidth": 0,
             "ticks": ""
            },
            "colorscale": [
             [
              0,
              "#0d0887"
             ],
             [
              0.1111111111111111,
              "#46039f"
             ],
             [
              0.2222222222222222,
              "#7201a8"
             ],
             [
              0.3333333333333333,
              "#9c179e"
             ],
             [
              0.4444444444444444,
              "#bd3786"
             ],
             [
              0.5555555555555556,
              "#d8576b"
             ],
             [
              0.6666666666666666,
              "#ed7953"
             ],
             [
              0.7777777777777778,
              "#fb9f3a"
             ],
             [
              0.8888888888888888,
              "#fdca26"
             ],
             [
              1,
              "#f0f921"
             ]
            ],
            "type": "surface"
           }
          ],
          "table": [
           {
            "cells": {
             "fill": {
              "color": "#EBF0F8"
             },
             "line": {
              "color": "white"
             }
            },
            "header": {
             "fill": {
              "color": "#C8D4E3"
             },
             "line": {
              "color": "white"
             }
            },
            "type": "table"
           }
          ]
         },
         "layout": {
          "annotationdefaults": {
           "arrowcolor": "#2a3f5f",
           "arrowhead": 0,
           "arrowwidth": 1
          },
          "autotypenumbers": "strict",
          "coloraxis": {
           "colorbar": {
            "outlinewidth": 0,
            "ticks": ""
           }
          },
          "colorscale": {
           "diverging": [
            [
             0,
             "#8e0152"
            ],
            [
             0.1,
             "#c51b7d"
            ],
            [
             0.2,
             "#de77ae"
            ],
            [
             0.3,
             "#f1b6da"
            ],
            [
             0.4,
             "#fde0ef"
            ],
            [
             0.5,
             "#f7f7f7"
            ],
            [
             0.6,
             "#e6f5d0"
            ],
            [
             0.7,
             "#b8e186"
            ],
            [
             0.8,
             "#7fbc41"
            ],
            [
             0.9,
             "#4d9221"
            ],
            [
             1,
             "#276419"
            ]
           ],
           "sequential": [
            [
             0,
             "#0d0887"
            ],
            [
             0.1111111111111111,
             "#46039f"
            ],
            [
             0.2222222222222222,
             "#7201a8"
            ],
            [
             0.3333333333333333,
             "#9c179e"
            ],
            [
             0.4444444444444444,
             "#bd3786"
            ],
            [
             0.5555555555555556,
             "#d8576b"
            ],
            [
             0.6666666666666666,
             "#ed7953"
            ],
            [
             0.7777777777777778,
             "#fb9f3a"
            ],
            [
             0.8888888888888888,
             "#fdca26"
            ],
            [
             1,
             "#f0f921"
            ]
           ],
           "sequentialminus": [
            [
             0,
             "#0d0887"
            ],
            [
             0.1111111111111111,
             "#46039f"
            ],
            [
             0.2222222222222222,
             "#7201a8"
            ],
            [
             0.3333333333333333,
             "#9c179e"
            ],
            [
             0.4444444444444444,
             "#bd3786"
            ],
            [
             0.5555555555555556,
             "#d8576b"
            ],
            [
             0.6666666666666666,
             "#ed7953"
            ],
            [
             0.7777777777777778,
             "#fb9f3a"
            ],
            [
             0.8888888888888888,
             "#fdca26"
            ],
            [
             1,
             "#f0f921"
            ]
           ]
          },
          "colorway": [
           "#636efa",
           "#EF553B",
           "#00cc96",
           "#ab63fa",
           "#FFA15A",
           "#19d3f3",
           "#FF6692",
           "#B6E880",
           "#FF97FF",
           "#FECB52"
          ],
          "font": {
           "color": "#2a3f5f"
          },
          "geo": {
           "bgcolor": "white",
           "lakecolor": "white",
           "landcolor": "#E5ECF6",
           "showlakes": true,
           "showland": true,
           "subunitcolor": "white"
          },
          "hoverlabel": {
           "align": "left"
          },
          "hovermode": "closest",
          "mapbox": {
           "style": "light"
          },
          "paper_bgcolor": "white",
          "plot_bgcolor": "#E5ECF6",
          "polar": {
           "angularaxis": {
            "gridcolor": "white",
            "linecolor": "white",
            "ticks": ""
           },
           "bgcolor": "#E5ECF6",
           "radialaxis": {
            "gridcolor": "white",
            "linecolor": "white",
            "ticks": ""
           }
          },
          "scene": {
           "xaxis": {
            "backgroundcolor": "#E5ECF6",
            "gridcolor": "white",
            "gridwidth": 2,
            "linecolor": "white",
            "showbackground": true,
            "ticks": "",
            "zerolinecolor": "white"
           },
           "yaxis": {
            "backgroundcolor": "#E5ECF6",
            "gridcolor": "white",
            "gridwidth": 2,
            "linecolor": "white",
            "showbackground": true,
            "ticks": "",
            "zerolinecolor": "white"
           },
           "zaxis": {
            "backgroundcolor": "#E5ECF6",
            "gridcolor": "white",
            "gridwidth": 2,
            "linecolor": "white",
            "showbackground": true,
            "ticks": "",
            "zerolinecolor": "white"
           }
          },
          "shapedefaults": {
           "line": {
            "color": "#2a3f5f"
           }
          },
          "ternary": {
           "aaxis": {
            "gridcolor": "white",
            "linecolor": "white",
            "ticks": ""
           },
           "baxis": {
            "gridcolor": "white",
            "linecolor": "white",
            "ticks": ""
           },
           "bgcolor": "#E5ECF6",
           "caxis": {
            "gridcolor": "white",
            "linecolor": "white",
            "ticks": ""
           }
          },
          "title": {
           "x": 0.05
          },
          "xaxis": {
           "automargin": true,
           "gridcolor": "white",
           "linecolor": "white",
           "ticks": "",
           "title": {
            "standoff": 15
           },
           "zerolinecolor": "white",
           "zerolinewidth": 2
          },
          "yaxis": {
           "automargin": true,
           "gridcolor": "white",
           "linecolor": "white",
           "ticks": "",
           "title": {
            "standoff": 15
           },
           "zerolinecolor": "white",
           "zerolinewidth": 2
          }
         }
        },
        "xaxis": {
         "anchor": "y",
         "domain": [
          0,
          1
         ],
         "title": {
          "text": "year"
         }
        },
        "yaxis": {
         "anchor": "x",
         "domain": [
          0,
          1
         ],
         "title": {
          "text": "waiting"
         }
        }
       }
      }
     },
     "metadata": {},
     "output_type": "display_data"
    }
   ],
   "source": []
  },
  {
   "cell_type": "code",
   "execution_count": null,
   "metadata": {},
   "outputs": [
    {
     "name": "stdout",
     "output_type": "stream",
     "text": [
      "Employee found: ID 979, Age 26, Designation APFC\n"
     ]
    }
   ],
   "source": [
    "def guess_employee_by_age_and_rank(age, rank_at_apfc):\n",
    "    # Find all employees at the APFC level\n",
    "    apfc_employees = [emp for emp in employees if emp.desig == \"APFC\"]\n",
    "    \n",
    "    # Filter employees by age and rank\n",
    "    possible_employees = [emp for emp in apfc_employees if emp.age == age]\n",
    "    \n",
    "    # Rank them based on their experience and check if the rank matches\n",
    "    sorted_employees = sorted(possible_employees, key=lambda x: x.exp, reverse=True)\n",
    "    if len(sorted_employees):\n",
    "        matched_employee = sorted_employees[0]\n",
    "        return matched_employee\n",
    "    else:\n",
    "        return f\"No employee found at rank {rank_at_apfc} with age {age}.\"\n",
    "\n",
    "# Example usage:\n",
    "age = 26  # Example age\n",
    "rank_at_apfc = 5  # Example rank (e.g., 5th in the list of employees with this age at APFC level)\n",
    "\n",
    "employee = guess_employee_by_age_and_rank(age, rank_at_apfc)\n",
    "\n"
   ]
  },
  {
   "cell_type": "code",
   "execution_count": null,
   "metadata": {},
   "outputs": [
    {
     "name": "stdout",
     "output_type": "stream",
     "text": [
      "Employee found: ID 979, Age 26, Designation APFC\n"
     ]
    },
    {
     "ename": "KeyError",
     "evalue": "-1",
     "output_type": "error",
     "traceback": [
      "\u001b[0;31m---------------------------------------------------------------------------\u001b[0m",
      "\u001b[0;31mKeyError\u001b[0m                                  Traceback (most recent call last)",
      "Cell \u001b[0;32mIn[22], line 55\u001b[0m\n\u001b[1;32m     53\u001b[0m \u001b[38;5;28;01mif\u001b[39;00m \u001b[38;5;28misinstance\u001b[39m(employee, Employee):\n\u001b[1;32m     54\u001b[0m     \u001b[38;5;28mprint\u001b[39m(\u001b[38;5;124mf\u001b[39m\u001b[38;5;124m\"\u001b[39m\u001b[38;5;124mEmployee found: ID \u001b[39m\u001b[38;5;132;01m{\u001b[39;00memployee\u001b[38;5;241m.\u001b[39meid\u001b[38;5;132;01m}\u001b[39;00m\u001b[38;5;124m, Age \u001b[39m\u001b[38;5;132;01m{\u001b[39;00memployee\u001b[38;5;241m.\u001b[39mage\u001b[38;5;132;01m}\u001b[39;00m\u001b[38;5;124m, Designation \u001b[39m\u001b[38;5;132;01m{\u001b[39;00memployee\u001b[38;5;241m.\u001b[39mdesig\u001b[38;5;132;01m}\u001b[39;00m\u001b[38;5;124m\"\u001b[39m)\n\u001b[0;32m---> 55\u001b[0m     promotions, retirement_designation \u001b[38;5;241m=\u001b[39m \u001b[43msimulate_career\u001b[49m\u001b[43m(\u001b[49m\u001b[43memployee\u001b[49m\u001b[43m,\u001b[49m\u001b[43m \u001b[49m\u001b[43mhierarchy\u001b[49m\u001b[43m)\u001b[49m\n\u001b[1;32m     56\u001b[0m     \u001b[38;5;28mprint\u001b[39m(\u001b[38;5;124m\"\u001b[39m\u001b[38;5;130;01m\\n\u001b[39;00m\u001b[38;5;124mPromotions Timeline:\u001b[39m\u001b[38;5;124m\"\u001b[39m)\n\u001b[1;32m     57\u001b[0m     \u001b[38;5;28;01mfor\u001b[39;00m desig, promotion_age \u001b[38;5;129;01min\u001b[39;00m promotions\u001b[38;5;241m.\u001b[39mitems():\n",
      "Cell \u001b[0;32mIn[22], line 25\u001b[0m, in \u001b[0;36msimulate_career\u001b[0;34m(employee, hierarchy)\u001b[0m\n\u001b[1;32m     22\u001b[0m \u001b[38;5;66;03m# Simulate promotions until retirement\u001b[39;00m\n\u001b[1;32m     23\u001b[0m \u001b[38;5;28;01mwhile\u001b[39;00m employee\u001b[38;5;241m.\u001b[39mactive:\n\u001b[1;32m     24\u001b[0m     \u001b[38;5;66;03m# Check if the employee is eligible for promotion at this level\u001b[39;00m\n\u001b[0;32m---> 25\u001b[0m     \u001b[38;5;28;01mif\u001b[39;00m \u001b[43memployee\u001b[49m\u001b[38;5;241;43m.\u001b[39;49m\u001b[43mcan_be_promoted\u001b[49m\u001b[43m(\u001b[49m\u001b[43mhierarchy\u001b[49m\u001b[43m)\u001b[49m:\n\u001b[1;32m     26\u001b[0m         next_level \u001b[38;5;241m=\u001b[39m hierarchy[current_desig][\u001b[38;5;124m\"\u001b[39m\u001b[38;5;124mnext_level\u001b[39m\u001b[38;5;124m\"\u001b[39m]\n\u001b[1;32m     27\u001b[0m         \u001b[38;5;28;01mif\u001b[39;00m next_level:\n\u001b[1;32m     28\u001b[0m             \u001b[38;5;66;03m# Calculate the age at which the promotion will happen\u001b[39;00m\n",
      "Cell \u001b[0;32mIn[13], line 31\u001b[0m, in \u001b[0;36mEmployee.can_be_promoted\u001b[0;34m(self, hierarchy)\u001b[0m\n\u001b[1;32m     30\u001b[0m \u001b[38;5;28;01mdef\u001b[39;00m \u001b[38;5;21mcan_be_promoted\u001b[39m(\u001b[38;5;28mself\u001b[39m, hierarchy):\n\u001b[0;32m---> 31\u001b[0m     \u001b[38;5;28;01mif\u001b[39;00m \u001b[38;5;129;01mnot\u001b[39;00m \u001b[38;5;28mself\u001b[39m\u001b[38;5;241m.\u001b[39mactive \u001b[38;5;129;01mor\u001b[39;00m \u001b[38;5;28mself\u001b[39m\u001b[38;5;241m.\u001b[39mdesig \u001b[38;5;241m==\u001b[39m \u001b[43mhierarchy\u001b[49m\u001b[43m[\u001b[49m\u001b[38;5;241;43m-\u001b[39;49m\u001b[38;5;241;43m1\u001b[39;49m\u001b[43m]\u001b[49m[\u001b[38;5;124m\"\u001b[39m\u001b[38;5;124mname\u001b[39m\u001b[38;5;124m\"\u001b[39m]:\n\u001b[1;32m     32\u001b[0m         \u001b[38;5;28;01mreturn\u001b[39;00m \u001b[38;5;28;01mFalse\u001b[39;00m\n\u001b[1;32m     33\u001b[0m     \u001b[38;5;28;01mreturn\u001b[39;00m \u001b[38;5;28mself\u001b[39m\u001b[38;5;241m.\u001b[39mexp \u001b[38;5;241m>\u001b[39m\u001b[38;5;241m=\u001b[39m hierarchy[\u001b[38;5;28mself\u001b[39m\u001b[38;5;241m.\u001b[39mdesig][\u001b[38;5;124m\"\u001b[39m\u001b[38;5;124myears_exp\u001b[39m\u001b[38;5;124m\"\u001b[39m]\n",
      "\u001b[0;31mKeyError\u001b[0m: -1"
     ]
    }
   ],
   "source": []
  },
  {
   "cell_type": "code",
   "execution_count": 33,
   "metadata": {},
   "outputs": [
    {
     "name": "stdout",
     "output_type": "stream",
     "text": [
      "Employee(eid=0, desig='APFC', exp=3, age=75, active=False, joining_year=2020, retirement_year=2038, retirement_designation=APFC, joining_as_APFC=42, joining_as_RPFCII=0, joining_as_RPFCI=0, joining_as_ACC=0, joining_as_ACCHQ=0)\n",
      "Employee(eid=1, desig='APFC', exp=1, age=81, active=False, joining_year=2022, retirement_year=2032, retirement_designation=APFC, joining_as_APFC=50, joining_as_RPFCII=0, joining_as_RPFCI=0, joining_as_ACC=0, joining_as_ACCHQ=0)\n",
      "Employee(eid=2, desig='APFC', exp=0, age=71, active=False, joining_year=2023, retirement_year=2042, retirement_designation=APFC, joining_as_APFC=41, joining_as_RPFCII=0, joining_as_RPFCI=0, joining_as_ACC=0, joining_as_ACCHQ=0)\n",
      "Employee(eid=3, desig='APFC', exp=4, age=90, active=False, joining_year=2019, retirement_year=2023, retirement_designation=APFC, joining_as_APFC=56, joining_as_RPFCII=0, joining_as_RPFCI=0, joining_as_ACC=0, joining_as_ACCHQ=0)\n",
      "Employee(eid=4, desig='APFC', exp=0, age=76, active=False, joining_year=2023, retirement_year=2037, retirement_designation=APFC, joining_as_APFC=46, joining_as_RPFCII=0, joining_as_RPFCI=0, joining_as_ACC=0, joining_as_ACCHQ=0)\n",
      "Employee(eid=5, desig='APFC', exp=0, age=52, active=True, joining_year=2023, retirement_year=2061, retirement_designation=APFC, joining_as_APFC=22, joining_as_RPFCII=0, joining_as_RPFCI=0, joining_as_ACC=0, joining_as_ACCHQ=0)\n",
      "Employee(eid=6, desig='APFC', exp=3, age=85, active=False, joining_year=2020, retirement_year=2028, retirement_designation=APFC, joining_as_APFC=52, joining_as_RPFCII=0, joining_as_RPFCI=0, joining_as_ACC=0, joining_as_ACCHQ=0)\n",
      "Employee(eid=7, desig='APFC', exp=2, age=71, active=False, joining_year=2021, retirement_year=2042, retirement_designation=APFC, joining_as_APFC=39, joining_as_RPFCII=0, joining_as_RPFCI=0, joining_as_ACC=0, joining_as_ACCHQ=0)\n",
      "Employee(eid=8, desig='APFC', exp=2, age=75, active=False, joining_year=2021, retirement_year=2038, retirement_designation=APFC, joining_as_APFC=43, joining_as_RPFCII=0, joining_as_RPFCI=0, joining_as_ACC=0, joining_as_ACCHQ=0)\n",
      "Employee(eid=9, desig='APFC', exp=4, age=73, active=False, joining_year=2019, retirement_year=2040, retirement_designation=APFC, joining_as_APFC=39, joining_as_RPFCII=0, joining_as_RPFCI=0, joining_as_ACC=0, joining_as_ACCHQ=0)\n",
      "Employee(eid=10, desig='APFC', exp=1, age=65, active=False, joining_year=2022, retirement_year=2048, retirement_designation=APFC, joining_as_APFC=34, joining_as_RPFCII=0, joining_as_RPFCI=0, joining_as_ACC=0, joining_as_ACCHQ=0)\n",
      "Employee(eid=11, desig='APFC', exp=1, age=87, active=False, joining_year=2022, retirement_year=2026, retirement_designation=APFC, joining_as_APFC=56, joining_as_RPFCII=0, joining_as_RPFCI=0, joining_as_ACC=0, joining_as_ACCHQ=0)\n",
      "Employee(eid=12, desig='APFC', exp=1, age=87, active=False, joining_year=2022, retirement_year=2026, retirement_designation=APFC, joining_as_APFC=56, joining_as_RPFCII=0, joining_as_RPFCI=0, joining_as_ACC=0, joining_as_ACCHQ=0)\n",
      "Employee(eid=13, desig='RPFC-II', exp=0, age=60, active=True, joining_year=2018, retirement_year=2053, retirement_designation=RPFC-II, joining_as_APFC=25, joining_as_RPFCII=31, joining_as_RPFCI=0, joining_as_ACC=0, joining_as_ACCHQ=0)\n",
      "Employee(eid=14, desig='RPFC-II', exp=0, age=89, active=False, joining_year=2018, retirement_year=2024, retirement_designation=RPFC-II, joining_as_APFC=54, joining_as_RPFCII=60, joining_as_RPFCI=0, joining_as_ACC=0, joining_as_ACCHQ=0)\n",
      "Employee(eid=15, desig='APFC', exp=2, age=68, active=False, joining_year=2021, retirement_year=2045, retirement_designation=APFC, joining_as_APFC=36, joining_as_RPFCII=0, joining_as_RPFCI=0, joining_as_ACC=0, joining_as_ACCHQ=0)\n",
      "Employee(eid=16, desig='APFC', exp=0, age=68, active=False, joining_year=2023, retirement_year=2045, retirement_designation=APFC, joining_as_APFC=38, joining_as_RPFCII=0, joining_as_RPFCI=0, joining_as_ACC=0, joining_as_ACCHQ=0)\n",
      "Employee(eid=17, desig='APFC', exp=1, age=55, active=True, joining_year=2022, retirement_year=2058, retirement_designation=APFC, joining_as_APFC=24, joining_as_RPFCII=0, joining_as_RPFCI=0, joining_as_ACC=0, joining_as_ACCHQ=0)\n",
      "Employee(eid=18, desig='APFC', exp=1, age=69, active=False, joining_year=2022, retirement_year=2044, retirement_designation=APFC, joining_as_APFC=38, joining_as_RPFCII=0, joining_as_RPFCI=0, joining_as_ACC=0, joining_as_ACCHQ=0)\n",
      "Employee(eid=19, desig='APFC', exp=0, age=85, active=False, joining_year=2023, retirement_year=2028, retirement_designation=APFC, joining_as_APFC=55, joining_as_RPFCII=0, joining_as_RPFCI=0, joining_as_ACC=0, joining_as_ACCHQ=0)\n",
      "Employee(eid=20, desig='APFC', exp=4, age=83, active=False, joining_year=2019, retirement_year=2030, retirement_designation=APFC, joining_as_APFC=49, joining_as_RPFCII=0, joining_as_RPFCI=0, joining_as_ACC=0, joining_as_ACCHQ=0)\n",
      "Employee(eid=21, desig='APFC', exp=4, age=82, active=False, joining_year=2019, retirement_year=2031, retirement_designation=APFC, joining_as_APFC=48, joining_as_RPFCII=0, joining_as_RPFCI=0, joining_as_ACC=0, joining_as_ACCHQ=0)\n",
      "Employee(eid=22, desig='APFC', exp=2, age=56, active=True, joining_year=2021, retirement_year=2057, retirement_designation=APFC, joining_as_APFC=24, joining_as_RPFCII=0, joining_as_RPFCI=0, joining_as_ACC=0, joining_as_ACCHQ=0)\n",
      "Employee(eid=23, desig='RPFC-II', exp=0, age=61, active=False, joining_year=2018, retirement_year=2052, retirement_designation=RPFC-II, joining_as_APFC=26, joining_as_RPFCII=32, joining_as_RPFCI=0, joining_as_ACC=0, joining_as_ACCHQ=0)\n",
      "Employee(eid=24, desig='APFC', exp=1, age=86, active=False, joining_year=2022, retirement_year=2027, retirement_designation=APFC, joining_as_APFC=55, joining_as_RPFCII=0, joining_as_RPFCI=0, joining_as_ACC=0, joining_as_ACCHQ=0)\n",
      "Employee(eid=25, desig='APFC', exp=0, age=66, active=False, joining_year=2023, retirement_year=2047, retirement_designation=APFC, joining_as_APFC=36, joining_as_RPFCII=0, joining_as_RPFCI=0, joining_as_ACC=0, joining_as_ACCHQ=0)\n",
      "Employee(eid=26, desig='APFC', exp=0, age=62, active=False, joining_year=2023, retirement_year=2051, retirement_designation=APFC, joining_as_APFC=32, joining_as_RPFCII=0, joining_as_RPFCI=0, joining_as_ACC=0, joining_as_ACCHQ=0)\n",
      "Employee(eid=27, desig='APFC', exp=2, age=78, active=False, joining_year=2021, retirement_year=2035, retirement_designation=APFC, joining_as_APFC=46, joining_as_RPFCII=0, joining_as_RPFCI=0, joining_as_ACC=0, joining_as_ACCHQ=0)\n",
      "Employee(eid=28, desig='APFC', exp=1, age=60, active=True, joining_year=2022, retirement_year=2053, retirement_designation=APFC, joining_as_APFC=29, joining_as_RPFCII=0, joining_as_RPFCI=0, joining_as_ACC=0, joining_as_ACCHQ=0)\n",
      "Employee(eid=29, desig='APFC', exp=0, age=77, active=False, joining_year=2023, retirement_year=2036, retirement_designation=APFC, joining_as_APFC=47, joining_as_RPFCII=0, joining_as_RPFCI=0, joining_as_ACC=0, joining_as_ACCHQ=0)\n",
      "Employee(eid=30, desig='APFC', exp=4, age=88, active=False, joining_year=2019, retirement_year=2025, retirement_designation=APFC, joining_as_APFC=54, joining_as_RPFCII=0, joining_as_RPFCI=0, joining_as_ACC=0, joining_as_ACCHQ=0)\n",
      "Employee(eid=31, desig='APFC', exp=3, age=54, active=True, joining_year=2020, retirement_year=2059, retirement_designation=APFC, joining_as_APFC=21, joining_as_RPFCII=0, joining_as_RPFCI=0, joining_as_ACC=0, joining_as_ACCHQ=0)\n",
      "Employee(eid=32, desig='APFC', exp=0, age=80, active=False, joining_year=2023, retirement_year=2033, retirement_designation=APFC, joining_as_APFC=50, joining_as_RPFCII=0, joining_as_RPFCI=0, joining_as_ACC=0, joining_as_ACCHQ=0)\n",
      "Employee(eid=33, desig='APFC', exp=3, age=67, active=False, joining_year=2020, retirement_year=2046, retirement_designation=APFC, joining_as_APFC=34, joining_as_RPFCII=0, joining_as_RPFCI=0, joining_as_ACC=0, joining_as_ACCHQ=0)\n",
      "Employee(eid=34, desig='APFC', exp=1, age=58, active=True, joining_year=2022, retirement_year=2055, retirement_designation=APFC, joining_as_APFC=27, joining_as_RPFCII=0, joining_as_RPFCI=0, joining_as_ACC=0, joining_as_ACCHQ=0)\n",
      "Employee(eid=35, desig='APFC', exp=0, age=87, active=False, joining_year=2023, retirement_year=2026, retirement_designation=APFC, joining_as_APFC=57, joining_as_RPFCII=0, joining_as_RPFCI=0, joining_as_ACC=0, joining_as_ACCHQ=0)\n",
      "Employee(eid=36, desig='RPFC-II', exp=0, age=81, active=False, joining_year=2018, retirement_year=2032, retirement_designation=RPFC-II, joining_as_APFC=46, joining_as_RPFCII=52, joining_as_RPFCI=0, joining_as_ACC=0, joining_as_ACCHQ=0)\n",
      "Employee(eid=37, desig='APFC', exp=3, age=67, active=False, joining_year=2020, retirement_year=2046, retirement_designation=APFC, joining_as_APFC=34, joining_as_RPFCII=0, joining_as_RPFCI=0, joining_as_ACC=0, joining_as_ACCHQ=0)\n",
      "Employee(eid=38, desig='APFC', exp=4, age=59, active=True, joining_year=2019, retirement_year=2054, retirement_designation=APFC, joining_as_APFC=25, joining_as_RPFCII=0, joining_as_RPFCI=0, joining_as_ACC=0, joining_as_ACCHQ=0)\n",
      "Employee(eid=39, desig='RPFC-II', exp=0, age=71, active=False, joining_year=2018, retirement_year=2042, retirement_designation=RPFC-II, joining_as_APFC=36, joining_as_RPFCII=42, joining_as_RPFCI=0, joining_as_ACC=0, joining_as_ACCHQ=0)\n",
      "Employee(eid=40, desig='APFC', exp=1, age=60, active=True, joining_year=2022, retirement_year=2053, retirement_designation=APFC, joining_as_APFC=29, joining_as_RPFCII=0, joining_as_RPFCI=0, joining_as_ACC=0, joining_as_ACCHQ=0)\n",
      "Employee(eid=41, desig='APFC', exp=1, age=59, active=True, joining_year=2022, retirement_year=2054, retirement_designation=APFC, joining_as_APFC=28, joining_as_RPFCII=0, joining_as_RPFCI=0, joining_as_ACC=0, joining_as_ACCHQ=0)\n",
      "Employee(eid=42, desig='APFC', exp=1, age=85, active=False, joining_year=2022, retirement_year=2028, retirement_designation=APFC, joining_as_APFC=54, joining_as_RPFCII=0, joining_as_RPFCI=0, joining_as_ACC=0, joining_as_ACCHQ=0)\n",
      "Employee(eid=43, desig='APFC', exp=3, age=77, active=False, joining_year=2020, retirement_year=2036, retirement_designation=APFC, joining_as_APFC=44, joining_as_RPFCII=0, joining_as_RPFCI=0, joining_as_ACC=0, joining_as_ACCHQ=0)\n",
      "Employee(eid=44, desig='APFC', exp=0, age=78, active=False, joining_year=2023, retirement_year=2035, retirement_designation=APFC, joining_as_APFC=48, joining_as_RPFCII=0, joining_as_RPFCI=0, joining_as_ACC=0, joining_as_ACCHQ=0)\n",
      "Employee(eid=45, desig='APFC', exp=4, age=58, active=True, joining_year=2019, retirement_year=2055, retirement_designation=APFC, joining_as_APFC=24, joining_as_RPFCII=0, joining_as_RPFCI=0, joining_as_ACC=0, joining_as_ACCHQ=0)\n",
      "Employee(eid=46, desig='APFC', exp=0, age=69, active=False, joining_year=2023, retirement_year=2044, retirement_designation=APFC, joining_as_APFC=39, joining_as_RPFCII=0, joining_as_RPFCI=0, joining_as_ACC=0, joining_as_ACCHQ=0)\n",
      "Employee(eid=47, desig='APFC', exp=0, age=58, active=True, joining_year=2023, retirement_year=2055, retirement_designation=APFC, joining_as_APFC=28, joining_as_RPFCII=0, joining_as_RPFCI=0, joining_as_ACC=0, joining_as_ACCHQ=0)\n",
      "Employee(eid=48, desig='APFC', exp=3, age=78, active=False, joining_year=2020, retirement_year=2035, retirement_designation=APFC, joining_as_APFC=45, joining_as_RPFCII=0, joining_as_RPFCI=0, joining_as_ACC=0, joining_as_ACCHQ=0)\n",
      "Employee(eid=49, desig='APFC', exp=0, age=50, active=True, joining_year=2023, retirement_year=2063, retirement_designation=APFC, joining_as_APFC=20, joining_as_RPFCII=0, joining_as_RPFCI=0, joining_as_ACC=0, joining_as_ACCHQ=0)\n",
      "Employee(eid=50, desig='APFC', exp=4, age=74, active=False, joining_year=2019, retirement_year=2039, retirement_designation=APFC, joining_as_APFC=40, joining_as_RPFCII=0, joining_as_RPFCI=0, joining_as_ACC=0, joining_as_ACCHQ=0)\n",
      "Employee(eid=51, desig='APFC', exp=1, age=85, active=False, joining_year=2022, retirement_year=2028, retirement_designation=APFC, joining_as_APFC=54, joining_as_RPFCII=0, joining_as_RPFCI=0, joining_as_ACC=0, joining_as_ACCHQ=0)\n",
      "Employee(eid=52, desig='APFC', exp=2, age=58, active=True, joining_year=2021, retirement_year=2055, retirement_designation=APFC, joining_as_APFC=26, joining_as_RPFCII=0, joining_as_RPFCI=0, joining_as_ACC=0, joining_as_ACCHQ=0)\n",
      "Employee(eid=53, desig='APFC', exp=1, age=77, active=False, joining_year=2022, retirement_year=2036, retirement_designation=APFC, joining_as_APFC=46, joining_as_RPFCII=0, joining_as_RPFCI=0, joining_as_ACC=0, joining_as_ACCHQ=0)\n",
      "Employee(eid=54, desig='APFC', exp=2, age=64, active=False, joining_year=2021, retirement_year=2049, retirement_designation=APFC, joining_as_APFC=32, joining_as_RPFCII=0, joining_as_RPFCI=0, joining_as_ACC=0, joining_as_ACCHQ=0)\n",
      "Employee(eid=55, desig='RPFC-II', exp=0, age=86, active=False, joining_year=2018, retirement_year=2027, retirement_designation=RPFC-II, joining_as_APFC=51, joining_as_RPFCII=57, joining_as_RPFCI=0, joining_as_ACC=0, joining_as_ACCHQ=0)\n",
      "Employee(eid=56, desig='RPFC-II', exp=0, age=70, active=False, joining_year=2018, retirement_year=2043, retirement_designation=RPFC-II, joining_as_APFC=35, joining_as_RPFCII=41, joining_as_RPFCI=0, joining_as_ACC=0, joining_as_ACCHQ=0)\n",
      "Employee(eid=57, desig='RPFC-II', exp=0, age=89, active=False, joining_year=2018, retirement_year=2024, retirement_designation=RPFC-II, joining_as_APFC=54, joining_as_RPFCII=60, joining_as_RPFCI=0, joining_as_ACC=0, joining_as_ACCHQ=0)\n",
      "Employee(eid=58, desig='RPFC-II', exp=0, age=75, active=False, joining_year=2018, retirement_year=2038, retirement_designation=RPFC-II, joining_as_APFC=40, joining_as_RPFCII=46, joining_as_RPFCI=0, joining_as_ACC=0, joining_as_ACCHQ=0)\n",
      "Employee(eid=59, desig='APFC', exp=2, age=78, active=False, joining_year=2021, retirement_year=2035, retirement_designation=APFC, joining_as_APFC=46, joining_as_RPFCII=0, joining_as_RPFCI=0, joining_as_ACC=0, joining_as_ACCHQ=0)\n",
      "Employee(eid=60, desig='RPFC-II', exp=0, age=77, active=False, joining_year=2018, retirement_year=2036, retirement_designation=RPFC-II, joining_as_APFC=42, joining_as_RPFCII=48, joining_as_RPFCI=0, joining_as_ACC=0, joining_as_ACCHQ=0)\n",
      "Employee(eid=61, desig='APFC', exp=4, age=69, active=False, joining_year=2019, retirement_year=2044, retirement_designation=APFC, joining_as_APFC=35, joining_as_RPFCII=0, joining_as_RPFCI=0, joining_as_ACC=0, joining_as_ACCHQ=0)\n",
      "Employee(eid=62, desig='APFC', exp=3, age=62, active=False, joining_year=2020, retirement_year=2051, retirement_designation=APFC, joining_as_APFC=29, joining_as_RPFCII=0, joining_as_RPFCI=0, joining_as_ACC=0, joining_as_ACCHQ=0)\n",
      "Employee(eid=63, desig='RPFC-II', exp=0, age=62, active=False, joining_year=2018, retirement_year=2051, retirement_designation=RPFC-II, joining_as_APFC=27, joining_as_RPFCII=33, joining_as_RPFCI=0, joining_as_ACC=0, joining_as_ACCHQ=0)\n",
      "Employee(eid=64, desig='APFC', exp=0, age=83, active=False, joining_year=2023, retirement_year=2030, retirement_designation=APFC, joining_as_APFC=53, joining_as_RPFCII=0, joining_as_RPFCI=0, joining_as_ACC=0, joining_as_ACCHQ=0)\n",
      "Employee(eid=65, desig='APFC', exp=2, age=69, active=False, joining_year=2021, retirement_year=2044, retirement_designation=APFC, joining_as_APFC=37, joining_as_RPFCII=0, joining_as_RPFCI=0, joining_as_ACC=0, joining_as_ACCHQ=0)\n",
      "Employee(eid=66, desig='RPFC-II', exp=0, age=57, active=True, joining_year=2018, retirement_year=2056, retirement_designation=RPFC-II, joining_as_APFC=22, joining_as_RPFCII=28, joining_as_RPFCI=0, joining_as_ACC=0, joining_as_ACCHQ=0)\n",
      "Employee(eid=67, desig='APFC', exp=3, age=68, active=False, joining_year=2020, retirement_year=2045, retirement_designation=APFC, joining_as_APFC=35, joining_as_RPFCII=0, joining_as_RPFCI=0, joining_as_ACC=0, joining_as_ACCHQ=0)\n",
      "Employee(eid=68, desig='APFC', exp=0, age=73, active=False, joining_year=2023, retirement_year=2040, retirement_designation=APFC, joining_as_APFC=43, joining_as_RPFCII=0, joining_as_RPFCI=0, joining_as_ACC=0, joining_as_ACCHQ=0)\n",
      "Employee(eid=69, desig='APFC', exp=4, age=82, active=False, joining_year=2019, retirement_year=2031, retirement_designation=APFC, joining_as_APFC=48, joining_as_RPFCII=0, joining_as_RPFCI=0, joining_as_ACC=0, joining_as_ACCHQ=0)\n",
      "Employee(eid=70, desig='APFC', exp=0, age=65, active=False, joining_year=2023, retirement_year=2048, retirement_designation=APFC, joining_as_APFC=35, joining_as_RPFCII=0, joining_as_RPFCI=0, joining_as_ACC=0, joining_as_ACCHQ=0)\n",
      "Employee(eid=71, desig='RPFC-II', exp=0, age=80, active=False, joining_year=2018, retirement_year=2033, retirement_designation=RPFC-II, joining_as_APFC=45, joining_as_RPFCII=51, joining_as_RPFCI=0, joining_as_ACC=0, joining_as_ACCHQ=0)\n",
      "Employee(eid=72, desig='APFC', exp=4, age=75, active=False, joining_year=2019, retirement_year=2038, retirement_designation=APFC, joining_as_APFC=41, joining_as_RPFCII=0, joining_as_RPFCI=0, joining_as_ACC=0, joining_as_ACCHQ=0)\n",
      "Employee(eid=73, desig='APFC', exp=1, age=64, active=False, joining_year=2022, retirement_year=2049, retirement_designation=APFC, joining_as_APFC=33, joining_as_RPFCII=0, joining_as_RPFCI=0, joining_as_ACC=0, joining_as_ACCHQ=0)\n",
      "Employee(eid=74, desig='APFC', exp=3, age=63, active=False, joining_year=2020, retirement_year=2050, retirement_designation=APFC, joining_as_APFC=30, joining_as_RPFCII=0, joining_as_RPFCI=0, joining_as_ACC=0, joining_as_ACCHQ=0)\n",
      "Employee(eid=75, desig='RPFC-II', exp=0, age=68, active=False, joining_year=2018, retirement_year=2045, retirement_designation=RPFC-II, joining_as_APFC=33, joining_as_RPFCII=39, joining_as_RPFCI=0, joining_as_ACC=0, joining_as_ACCHQ=0)\n",
      "Employee(eid=76, desig='RPFC-II', exp=0, age=57, active=True, joining_year=2018, retirement_year=2056, retirement_designation=RPFC-II, joining_as_APFC=22, joining_as_RPFCII=28, joining_as_RPFCI=0, joining_as_ACC=0, joining_as_ACCHQ=0)\n",
      "Employee(eid=77, desig='RPFC-II', exp=0, age=76, active=False, joining_year=2018, retirement_year=2037, retirement_designation=RPFC-II, joining_as_APFC=41, joining_as_RPFCII=47, joining_as_RPFCI=0, joining_as_ACC=0, joining_as_ACCHQ=0)\n",
      "Employee(eid=78, desig='RPFC-II', exp=0, age=86, active=False, joining_year=2018, retirement_year=2027, retirement_designation=RPFC-II, joining_as_APFC=51, joining_as_RPFCII=57, joining_as_RPFCI=0, joining_as_ACC=0, joining_as_ACCHQ=0)\n",
      "Employee(eid=79, desig='APFC', exp=1, age=81, active=False, joining_year=2022, retirement_year=2032, retirement_designation=APFC, joining_as_APFC=50, joining_as_RPFCII=0, joining_as_RPFCI=0, joining_as_ACC=0, joining_as_ACCHQ=0)\n",
      "Employee(eid=80, desig='APFC', exp=2, age=62, active=False, joining_year=2021, retirement_year=2051, retirement_designation=APFC, joining_as_APFC=30, joining_as_RPFCII=0, joining_as_RPFCI=0, joining_as_ACC=0, joining_as_ACCHQ=0)\n",
      "Employee(eid=81, desig='APFC', exp=2, age=54, active=True, joining_year=2021, retirement_year=2059, retirement_designation=APFC, joining_as_APFC=22, joining_as_RPFCII=0, joining_as_RPFCI=0, joining_as_ACC=0, joining_as_ACCHQ=0)\n",
      "Employee(eid=82, desig='APFC', exp=1, age=84, active=False, joining_year=2022, retirement_year=2029, retirement_designation=APFC, joining_as_APFC=53, joining_as_RPFCII=0, joining_as_RPFCI=0, joining_as_ACC=0, joining_as_ACCHQ=0)\n",
      "Employee(eid=83, desig='RPFC-II', exp=0, age=77, active=False, joining_year=2018, retirement_year=2036, retirement_designation=RPFC-II, joining_as_APFC=42, joining_as_RPFCII=48, joining_as_RPFCI=0, joining_as_ACC=0, joining_as_ACCHQ=0)\n",
      "Employee(eid=84, desig='APFC', exp=2, age=90, active=False, joining_year=2021, retirement_year=2023, retirement_designation=APFC, joining_as_APFC=58, joining_as_RPFCII=0, joining_as_RPFCI=0, joining_as_ACC=0, joining_as_ACCHQ=0)\n",
      "Employee(eid=85, desig='APFC', exp=3, age=54, active=True, joining_year=2020, retirement_year=2059, retirement_designation=APFC, joining_as_APFC=21, joining_as_RPFCII=0, joining_as_RPFCI=0, joining_as_ACC=0, joining_as_ACCHQ=0)\n",
      "Employee(eid=86, desig='APFC', exp=1, age=84, active=False, joining_year=2022, retirement_year=2029, retirement_designation=APFC, joining_as_APFC=53, joining_as_RPFCII=0, joining_as_RPFCI=0, joining_as_ACC=0, joining_as_ACCHQ=0)\n",
      "Employee(eid=87, desig='RPFC-II', exp=0, age=66, active=False, joining_year=2018, retirement_year=2047, retirement_designation=RPFC-II, joining_as_APFC=31, joining_as_RPFCII=37, joining_as_RPFCI=0, joining_as_ACC=0, joining_as_ACCHQ=0)\n",
      "Employee(eid=88, desig='APFC', exp=2, age=66, active=False, joining_year=2021, retirement_year=2047, retirement_designation=APFC, joining_as_APFC=34, joining_as_RPFCII=0, joining_as_RPFCI=0, joining_as_ACC=0, joining_as_ACCHQ=0)\n",
      "Employee(eid=89, desig='APFC', exp=4, age=72, active=False, joining_year=2019, retirement_year=2041, retirement_designation=APFC, joining_as_APFC=38, joining_as_RPFCII=0, joining_as_RPFCI=0, joining_as_ACC=0, joining_as_ACCHQ=0)\n",
      "Employee(eid=90, desig='APFC', exp=4, age=65, active=False, joining_year=2019, retirement_year=2048, retirement_designation=APFC, joining_as_APFC=31, joining_as_RPFCII=0, joining_as_RPFCI=0, joining_as_ACC=0, joining_as_ACCHQ=0)\n",
      "Employee(eid=91, desig='APFC', exp=0, age=75, active=False, joining_year=2023, retirement_year=2038, retirement_designation=APFC, joining_as_APFC=45, joining_as_RPFCII=0, joining_as_RPFCI=0, joining_as_ACC=0, joining_as_ACCHQ=0)\n",
      "Employee(eid=92, desig='APFC', exp=5, age=90, active=False, joining_year=2018, retirement_year=2023, retirement_designation=APFC, joining_as_APFC=55, joining_as_RPFCII=0, joining_as_RPFCI=0, joining_as_ACC=0, joining_as_ACCHQ=0)\n",
      "Employee(eid=93, desig='APFC', exp=1, age=54, active=True, joining_year=2022, retirement_year=2059, retirement_designation=APFC, joining_as_APFC=23, joining_as_RPFCII=0, joining_as_RPFCI=0, joining_as_ACC=0, joining_as_ACCHQ=0)\n",
      "Employee(eid=94, desig='APFC', exp=3, age=73, active=False, joining_year=2020, retirement_year=2040, retirement_designation=APFC, joining_as_APFC=40, joining_as_RPFCII=0, joining_as_RPFCI=0, joining_as_ACC=0, joining_as_ACCHQ=0)\n",
      "Employee(eid=95, desig='RPFC-II', exp=0, age=66, active=False, joining_year=2018, retirement_year=2047, retirement_designation=RPFC-II, joining_as_APFC=31, joining_as_RPFCII=37, joining_as_RPFCI=0, joining_as_ACC=0, joining_as_ACCHQ=0)\n",
      "Employee(eid=96, desig='APFC', exp=0, age=82, active=False, joining_year=2023, retirement_year=2031, retirement_designation=APFC, joining_as_APFC=52, joining_as_RPFCII=0, joining_as_RPFCI=0, joining_as_ACC=0, joining_as_ACCHQ=0)\n",
      "Employee(eid=97, desig='APFC', exp=4, age=76, active=False, joining_year=2019, retirement_year=2037, retirement_designation=APFC, joining_as_APFC=42, joining_as_RPFCII=0, joining_as_RPFCI=0, joining_as_ACC=0, joining_as_ACCHQ=0)\n",
      "Employee(eid=98, desig='APFC', exp=2, age=80, active=False, joining_year=2021, retirement_year=2033, retirement_designation=APFC, joining_as_APFC=48, joining_as_RPFCII=0, joining_as_RPFCI=0, joining_as_ACC=0, joining_as_ACCHQ=0)\n",
      "Employee(eid=99, desig='APFC', exp=3, age=82, active=False, joining_year=2020, retirement_year=2031, retirement_designation=APFC, joining_as_APFC=49, joining_as_RPFCII=0, joining_as_RPFCI=0, joining_as_ACC=0, joining_as_ACCHQ=0)\n",
      "Employee(eid=100, desig='APFC', exp=1, age=68, active=False, joining_year=2022, retirement_year=2045, retirement_designation=APFC, joining_as_APFC=37, joining_as_RPFCII=0, joining_as_RPFCI=0, joining_as_ACC=0, joining_as_ACCHQ=0)\n",
      "Employee(eid=101, desig='APFC', exp=2, age=53, active=True, joining_year=2021, retirement_year=2060, retirement_designation=APFC, joining_as_APFC=21, joining_as_RPFCII=0, joining_as_RPFCI=0, joining_as_ACC=0, joining_as_ACCHQ=0)\n",
      "Employee(eid=102, desig='RPFC-II', exp=0, age=60, active=True, joining_year=2018, retirement_year=2053, retirement_designation=RPFC-II, joining_as_APFC=25, joining_as_RPFCII=31, joining_as_RPFCI=0, joining_as_ACC=0, joining_as_ACCHQ=0)\n",
      "Employee(eid=103, desig='APFC', exp=0, age=88, active=False, joining_year=2023, retirement_year=2025, retirement_designation=APFC, joining_as_APFC=58, joining_as_RPFCII=0, joining_as_RPFCI=0, joining_as_ACC=0, joining_as_ACCHQ=0)\n",
      "Employee(eid=104, desig='APFC', exp=4, age=84, active=False, joining_year=2019, retirement_year=2029, retirement_designation=APFC, joining_as_APFC=50, joining_as_RPFCII=0, joining_as_RPFCI=0, joining_as_ACC=0, joining_as_ACCHQ=0)\n",
      "Employee(eid=105, desig='APFC', exp=3, age=65, active=False, joining_year=2020, retirement_year=2048, retirement_designation=APFC, joining_as_APFC=32, joining_as_RPFCII=0, joining_as_RPFCI=0, joining_as_ACC=0, joining_as_ACCHQ=0)\n",
      "Employee(eid=106, desig='APFC', exp=4, age=90, active=False, joining_year=2019, retirement_year=2023, retirement_designation=APFC, joining_as_APFC=56, joining_as_RPFCII=0, joining_as_RPFCI=0, joining_as_ACC=0, joining_as_ACCHQ=0)\n",
      "Employee(eid=107, desig='APFC', exp=2, age=68, active=False, joining_year=2021, retirement_year=2045, retirement_designation=APFC, joining_as_APFC=36, joining_as_RPFCII=0, joining_as_RPFCI=0, joining_as_ACC=0, joining_as_ACCHQ=0)\n",
      "Employee(eid=108, desig='APFC', exp=4, age=88, active=False, joining_year=2019, retirement_year=2025, retirement_designation=APFC, joining_as_APFC=54, joining_as_RPFCII=0, joining_as_RPFCI=0, joining_as_ACC=0, joining_as_ACCHQ=0)\n",
      "Employee(eid=109, desig='APFC', exp=3, age=84, active=False, joining_year=2020, retirement_year=2029, retirement_designation=APFC, joining_as_APFC=51, joining_as_RPFCII=0, joining_as_RPFCI=0, joining_as_ACC=0, joining_as_ACCHQ=0)\n",
      "Employee(eid=110, desig='RPFC-II', exp=0, age=88, active=False, joining_year=2018, retirement_year=2025, retirement_designation=RPFC-II, joining_as_APFC=53, joining_as_RPFCII=59, joining_as_RPFCI=0, joining_as_ACC=0, joining_as_ACCHQ=0)\n",
      "Employee(eid=111, desig='APFC', exp=2, age=80, active=False, joining_year=2021, retirement_year=2033, retirement_designation=APFC, joining_as_APFC=48, joining_as_RPFCII=0, joining_as_RPFCI=0, joining_as_ACC=0, joining_as_ACCHQ=0)\n",
      "Employee(eid=112, desig='APFC', exp=4, age=69, active=False, joining_year=2019, retirement_year=2044, retirement_designation=APFC, joining_as_APFC=35, joining_as_RPFCII=0, joining_as_RPFCI=0, joining_as_ACC=0, joining_as_ACCHQ=0)\n",
      "Employee(eid=113, desig='RPFC-II', exp=0, age=57, active=True, joining_year=2018, retirement_year=2056, retirement_designation=RPFC-II, joining_as_APFC=22, joining_as_RPFCII=29, joining_as_RPFCI=0, joining_as_ACC=0, joining_as_ACCHQ=0)\n",
      "Employee(eid=114, desig='APFC', exp=3, age=68, active=False, joining_year=2020, retirement_year=2045, retirement_designation=APFC, joining_as_APFC=35, joining_as_RPFCII=0, joining_as_RPFCI=0, joining_as_ACC=0, joining_as_ACCHQ=0)\n",
      "Employee(eid=115, desig='APFC', exp=0, age=74, active=False, joining_year=2023, retirement_year=2039, retirement_designation=APFC, joining_as_APFC=44, joining_as_RPFCII=0, joining_as_RPFCI=0, joining_as_ACC=0, joining_as_ACCHQ=0)\n",
      "Employee(eid=116, desig='APFC', exp=1, age=83, active=False, joining_year=2022, retirement_year=2030, retirement_designation=APFC, joining_as_APFC=52, joining_as_RPFCII=0, joining_as_RPFCI=0, joining_as_ACC=0, joining_as_ACCHQ=0)\n",
      "Employee(eid=117, desig='RPFC-II', exp=0, age=67, active=False, joining_year=2018, retirement_year=2046, retirement_designation=RPFC-II, joining_as_APFC=32, joining_as_RPFCII=39, joining_as_RPFCI=0, joining_as_ACC=0, joining_as_ACCHQ=0)\n",
      "Employee(eid=118, desig='RPFC-II', exp=0, age=67, active=False, joining_year=2018, retirement_year=2046, retirement_designation=RPFC-II, joining_as_APFC=32, joining_as_RPFCII=39, joining_as_RPFCI=0, joining_as_ACC=0, joining_as_ACCHQ=0)\n",
      "Employee(eid=119, desig='APFC', exp=0, age=61, active=False, joining_year=2023, retirement_year=2052, retirement_designation=APFC, joining_as_APFC=31, joining_as_RPFCII=0, joining_as_RPFCI=0, joining_as_ACC=0, joining_as_ACCHQ=0)\n",
      "Employee(eid=120, desig='RPFC-II', exp=0, age=72, active=False, joining_year=2018, retirement_year=2041, retirement_designation=RPFC-II, joining_as_APFC=37, joining_as_RPFCII=44, joining_as_RPFCI=0, joining_as_ACC=0, joining_as_ACCHQ=0)\n",
      "Employee(eid=121, desig='APFC', exp=1, age=81, active=False, joining_year=2022, retirement_year=2032, retirement_designation=APFC, joining_as_APFC=50, joining_as_RPFCII=0, joining_as_RPFCI=0, joining_as_ACC=0, joining_as_ACCHQ=0)\n",
      "Employee(eid=122, desig='APFC', exp=1, age=90, active=False, joining_year=2022, retirement_year=2023, retirement_designation=APFC, joining_as_APFC=59, joining_as_RPFCII=0, joining_as_RPFCI=0, joining_as_ACC=0, joining_as_ACCHQ=0)\n",
      "Employee(eid=123, desig='RPFC-II', exp=0, age=86, active=False, joining_year=2018, retirement_year=2027, retirement_designation=RPFC-II, joining_as_APFC=51, joining_as_RPFCII=58, joining_as_RPFCI=0, joining_as_ACC=0, joining_as_ACCHQ=0)\n",
      "Employee(eid=124, desig='APFC', exp=2, age=73, active=False, joining_year=2021, retirement_year=2040, retirement_designation=APFC, joining_as_APFC=41, joining_as_RPFCII=0, joining_as_RPFCI=0, joining_as_ACC=0, joining_as_ACCHQ=0)\n",
      "Employee(eid=125, desig='APFC', exp=2, age=52, active=True, joining_year=2021, retirement_year=2061, retirement_designation=APFC, joining_as_APFC=20, joining_as_RPFCII=0, joining_as_RPFCI=0, joining_as_ACC=0, joining_as_ACCHQ=0)\n",
      "Employee(eid=126, desig='APFC', exp=0, age=72, active=False, joining_year=2023, retirement_year=2041, retirement_designation=APFC, joining_as_APFC=42, joining_as_RPFCII=0, joining_as_RPFCI=0, joining_as_ACC=0, joining_as_ACCHQ=0)\n",
      "Employee(eid=127, desig='RPFC-II', exp=0, age=80, active=False, joining_year=2018, retirement_year=2033, retirement_designation=RPFC-II, joining_as_APFC=45, joining_as_RPFCII=52, joining_as_RPFCI=0, joining_as_ACC=0, joining_as_ACCHQ=0)\n",
      "Employee(eid=128, desig='RPFC-II', exp=0, age=84, active=False, joining_year=2018, retirement_year=2029, retirement_designation=RPFC-II, joining_as_APFC=49, joining_as_RPFCII=56, joining_as_RPFCI=0, joining_as_ACC=0, joining_as_ACCHQ=0)\n",
      "Employee(eid=129, desig='APFC', exp=4, age=85, active=False, joining_year=2019, retirement_year=2028, retirement_designation=APFC, joining_as_APFC=51, joining_as_RPFCII=0, joining_as_RPFCI=0, joining_as_ACC=0, joining_as_ACCHQ=0)\n",
      "Employee(eid=130, desig='APFC', exp=2, age=78, active=False, joining_year=2021, retirement_year=2035, retirement_designation=APFC, joining_as_APFC=46, joining_as_RPFCII=0, joining_as_RPFCI=0, joining_as_ACC=0, joining_as_ACCHQ=0)\n",
      "Employee(eid=131, desig='APFC', exp=0, age=67, active=False, joining_year=2023, retirement_year=2046, retirement_designation=APFC, joining_as_APFC=37, joining_as_RPFCII=0, joining_as_RPFCI=0, joining_as_ACC=0, joining_as_ACCHQ=0)\n",
      "Employee(eid=132, desig='APFC', exp=1, age=74, active=False, joining_year=2022, retirement_year=2039, retirement_designation=APFC, joining_as_APFC=43, joining_as_RPFCII=0, joining_as_RPFCI=0, joining_as_ACC=0, joining_as_ACCHQ=0)\n",
      "Employee(eid=133, desig='APFC', exp=0, age=85, active=False, joining_year=2023, retirement_year=2028, retirement_designation=APFC, joining_as_APFC=55, joining_as_RPFCII=0, joining_as_RPFCI=0, joining_as_ACC=0, joining_as_ACCHQ=0)\n",
      "Employee(eid=134, desig='RPFC-II', exp=0, age=87, active=False, joining_year=2018, retirement_year=2026, retirement_designation=RPFC-II, joining_as_APFC=52, joining_as_RPFCII=59, joining_as_RPFCI=0, joining_as_ACC=0, joining_as_ACCHQ=0)\n",
      "Employee(eid=135, desig='APFC', exp=1, age=62, active=False, joining_year=2022, retirement_year=2051, retirement_designation=APFC, joining_as_APFC=31, joining_as_RPFCII=0, joining_as_RPFCI=0, joining_as_ACC=0, joining_as_ACCHQ=0)\n",
      "Employee(eid=136, desig='APFC', exp=3, age=80, active=False, joining_year=2020, retirement_year=2033, retirement_designation=APFC, joining_as_APFC=47, joining_as_RPFCII=0, joining_as_RPFCI=0, joining_as_ACC=0, joining_as_ACCHQ=0)\n",
      "Employee(eid=137, desig='APFC', exp=3, age=87, active=False, joining_year=2020, retirement_year=2026, retirement_designation=APFC, joining_as_APFC=54, joining_as_RPFCII=0, joining_as_RPFCI=0, joining_as_ACC=0, joining_as_ACCHQ=0)\n",
      "Employee(eid=138, desig='APFC', exp=2, age=78, active=False, joining_year=2021, retirement_year=2035, retirement_designation=APFC, joining_as_APFC=46, joining_as_RPFCII=0, joining_as_RPFCI=0, joining_as_ACC=0, joining_as_ACCHQ=0)\n",
      "Employee(eid=139, desig='APFC', exp=3, age=85, active=False, joining_year=2020, retirement_year=2028, retirement_designation=APFC, joining_as_APFC=52, joining_as_RPFCII=0, joining_as_RPFCI=0, joining_as_ACC=0, joining_as_ACCHQ=0)\n",
      "Employee(eid=140, desig='RPFC-II', exp=0, age=79, active=False, joining_year=2018, retirement_year=2034, retirement_designation=RPFC-II, joining_as_APFC=44, joining_as_RPFCII=51, joining_as_RPFCI=0, joining_as_ACC=0, joining_as_ACCHQ=0)\n",
      "Employee(eid=141, desig='APFC', exp=3, age=78, active=False, joining_year=2020, retirement_year=2035, retirement_designation=APFC, joining_as_APFC=45, joining_as_RPFCII=0, joining_as_RPFCI=0, joining_as_ACC=0, joining_as_ACCHQ=0)\n",
      "Employee(eid=142, desig='APFC', exp=3, age=53, active=True, joining_year=2020, retirement_year=2060, retirement_designation=APFC, joining_as_APFC=20, joining_as_RPFCII=0, joining_as_RPFCI=0, joining_as_ACC=0, joining_as_ACCHQ=0)\n",
      "Employee(eid=143, desig='RPFC-II', exp=0, age=79, active=False, joining_year=2018, retirement_year=2034, retirement_designation=RPFC-II, joining_as_APFC=44, joining_as_RPFCII=51, joining_as_RPFCI=0, joining_as_ACC=0, joining_as_ACCHQ=0)\n",
      "Employee(eid=144, desig='APFC', exp=1, age=62, active=False, joining_year=2022, retirement_year=2051, retirement_designation=APFC, joining_as_APFC=31, joining_as_RPFCII=0, joining_as_RPFCI=0, joining_as_ACC=0, joining_as_ACCHQ=0)\n",
      "Employee(eid=145, desig='APFC', exp=3, age=83, active=False, joining_year=2020, retirement_year=2030, retirement_designation=APFC, joining_as_APFC=50, joining_as_RPFCII=0, joining_as_RPFCI=0, joining_as_ACC=0, joining_as_ACCHQ=0)\n",
      "Employee(eid=146, desig='APFC', exp=4, age=65, active=False, joining_year=2019, retirement_year=2048, retirement_designation=APFC, joining_as_APFC=31, joining_as_RPFCII=0, joining_as_RPFCI=0, joining_as_ACC=0, joining_as_ACCHQ=0)\n",
      "Employee(eid=147, desig='RPFC-II', exp=0, age=88, active=False, joining_year=2018, retirement_year=2025, retirement_designation=RPFC-II, joining_as_APFC=53, joining_as_RPFCII=60, joining_as_RPFCI=0, joining_as_ACC=0, joining_as_ACCHQ=0)\n",
      "Employee(eid=148, desig='APFC', exp=1, age=74, active=False, joining_year=2022, retirement_year=2039, retirement_designation=APFC, joining_as_APFC=43, joining_as_RPFCII=0, joining_as_RPFCI=0, joining_as_ACC=0, joining_as_ACCHQ=0)\n",
      "Employee(eid=149, desig='RPFC-II', exp=0, age=74, active=False, joining_year=2018, retirement_year=2039, retirement_designation=RPFC-II, joining_as_APFC=39, joining_as_RPFCII=46, joining_as_RPFCI=0, joining_as_ACC=0, joining_as_ACCHQ=0)\n",
      "Employee(eid=150, desig='APFC', exp=1, age=82, active=False, joining_year=2022, retirement_year=2031, retirement_designation=APFC, joining_as_APFC=51, joining_as_RPFCII=0, joining_as_RPFCI=0, joining_as_ACC=0, joining_as_ACCHQ=0)\n",
      "Employee(eid=151, desig='APFC', exp=3, age=90, active=False, joining_year=2020, retirement_year=2023, retirement_designation=APFC, joining_as_APFC=57, joining_as_RPFCII=0, joining_as_RPFCI=0, joining_as_ACC=0, joining_as_ACCHQ=0)\n",
      "Employee(eid=152, desig='APFC', exp=0, age=72, active=False, joining_year=2023, retirement_year=2041, retirement_designation=APFC, joining_as_APFC=42, joining_as_RPFCII=0, joining_as_RPFCI=0, joining_as_ACC=0, joining_as_ACCHQ=0)\n",
      "Employee(eid=153, desig='APFC', exp=2, age=79, active=False, joining_year=2021, retirement_year=2034, retirement_designation=APFC, joining_as_APFC=47, joining_as_RPFCII=0, joining_as_RPFCI=0, joining_as_ACC=0, joining_as_ACCHQ=0)\n",
      "Employee(eid=154, desig='APFC', exp=1, age=84, active=False, joining_year=2022, retirement_year=2029, retirement_designation=APFC, joining_as_APFC=53, joining_as_RPFCII=0, joining_as_RPFCI=0, joining_as_ACC=0, joining_as_ACCHQ=0)\n",
      "Employee(eid=155, desig='APFC', exp=4, age=63, active=False, joining_year=2019, retirement_year=2050, retirement_designation=APFC, joining_as_APFC=29, joining_as_RPFCII=0, joining_as_RPFCI=0, joining_as_ACC=0, joining_as_ACCHQ=0)\n",
      "Employee(eid=156, desig='RPFC-II', exp=0, age=67, active=False, joining_year=2018, retirement_year=2046, retirement_designation=RPFC-II, joining_as_APFC=32, joining_as_RPFCII=39, joining_as_RPFCI=0, joining_as_ACC=0, joining_as_ACCHQ=0)\n",
      "Employee(eid=157, desig='RPFC-II', exp=0, age=72, active=False, joining_year=2018, retirement_year=2041, retirement_designation=RPFC-II, joining_as_APFC=37, joining_as_RPFCII=44, joining_as_RPFCI=0, joining_as_ACC=0, joining_as_ACCHQ=0)\n",
      "Employee(eid=158, desig='APFC', exp=2, age=67, active=False, joining_year=2021, retirement_year=2046, retirement_designation=APFC, joining_as_APFC=35, joining_as_RPFCII=0, joining_as_RPFCI=0, joining_as_ACC=0, joining_as_ACCHQ=0)\n",
      "Employee(eid=159, desig='APFC', exp=1, age=68, active=False, joining_year=2022, retirement_year=2045, retirement_designation=APFC, joining_as_APFC=37, joining_as_RPFCII=0, joining_as_RPFCI=0, joining_as_ACC=0, joining_as_ACCHQ=0)\n",
      "Employee(eid=160, desig='APFC', exp=1, age=84, active=False, joining_year=2022, retirement_year=2029, retirement_designation=APFC, joining_as_APFC=53, joining_as_RPFCII=0, joining_as_RPFCI=0, joining_as_ACC=0, joining_as_ACCHQ=0)\n",
      "Employee(eid=161, desig='RPFC-II', exp=0, age=71, active=False, joining_year=2018, retirement_year=2042, retirement_designation=RPFC-II, joining_as_APFC=36, joining_as_RPFCII=43, joining_as_RPFCI=0, joining_as_ACC=0, joining_as_ACCHQ=0)\n",
      "Employee(eid=162, desig='APFC', exp=1, age=76, active=False, joining_year=2022, retirement_year=2037, retirement_designation=APFC, joining_as_APFC=45, joining_as_RPFCII=0, joining_as_RPFCI=0, joining_as_ACC=0, joining_as_ACCHQ=0)\n",
      "Employee(eid=163, desig='APFC', exp=4, age=87, active=False, joining_year=2019, retirement_year=2026, retirement_designation=APFC, joining_as_APFC=53, joining_as_RPFCII=0, joining_as_RPFCI=0, joining_as_ACC=0, joining_as_ACCHQ=0)\n",
      "Employee(eid=164, desig='APFC', exp=1, age=62, active=False, joining_year=2022, retirement_year=2051, retirement_designation=APFC, joining_as_APFC=31, joining_as_RPFCII=0, joining_as_RPFCI=0, joining_as_ACC=0, joining_as_ACCHQ=0)\n",
      "Employee(eid=165, desig='APFC', exp=4, age=54, active=True, joining_year=2019, retirement_year=2059, retirement_designation=APFC, joining_as_APFC=20, joining_as_RPFCII=0, joining_as_RPFCI=0, joining_as_ACC=0, joining_as_ACCHQ=0)\n",
      "Employee(eid=166, desig='APFC', exp=2, age=59, active=True, joining_year=2021, retirement_year=2054, retirement_designation=APFC, joining_as_APFC=27, joining_as_RPFCII=0, joining_as_RPFCI=0, joining_as_ACC=0, joining_as_ACCHQ=0)\n",
      "Employee(eid=167, desig='RPFC-II', exp=0, age=67, active=False, joining_year=2018, retirement_year=2046, retirement_designation=RPFC-II, joining_as_APFC=32, joining_as_RPFCII=39, joining_as_RPFCI=0, joining_as_ACC=0, joining_as_ACCHQ=0)\n",
      "Employee(eid=168, desig='RPFC-II', exp=0, age=67, active=False, joining_year=2018, retirement_year=2046, retirement_designation=RPFC-II, joining_as_APFC=32, joining_as_RPFCII=39, joining_as_RPFCI=0, joining_as_ACC=0, joining_as_ACCHQ=0)\n",
      "Employee(eid=169, desig='APFC', exp=5, age=89, active=False, joining_year=2018, retirement_year=2024, retirement_designation=APFC, joining_as_APFC=54, joining_as_RPFCII=0, joining_as_RPFCI=0, joining_as_ACC=0, joining_as_ACCHQ=0)\n",
      "Employee(eid=170, desig='APFC', exp=1, age=64, active=False, joining_year=2022, retirement_year=2049, retirement_designation=APFC, joining_as_APFC=33, joining_as_RPFCII=0, joining_as_RPFCI=0, joining_as_ACC=0, joining_as_ACCHQ=0)\n",
      "Employee(eid=171, desig='APFC', exp=4, age=69, active=False, joining_year=2019, retirement_year=2044, retirement_designation=APFC, joining_as_APFC=35, joining_as_RPFCII=0, joining_as_RPFCI=0, joining_as_ACC=0, joining_as_ACCHQ=0)\n",
      "Employee(eid=172, desig='APFC', exp=3, age=78, active=False, joining_year=2020, retirement_year=2035, retirement_designation=APFC, joining_as_APFC=45, joining_as_RPFCII=0, joining_as_RPFCI=0, joining_as_ACC=0, joining_as_ACCHQ=0)\n",
      "Employee(eid=173, desig='APFC', exp=2, age=53, active=True, joining_year=2021, retirement_year=2060, retirement_designation=APFC, joining_as_APFC=21, joining_as_RPFCII=0, joining_as_RPFCI=0, joining_as_ACC=0, joining_as_ACCHQ=0)\n",
      "Employee(eid=174, desig='APFC', exp=0, age=60, active=True, joining_year=2023, retirement_year=2053, retirement_designation=APFC, joining_as_APFC=30, joining_as_RPFCII=0, joining_as_RPFCI=0, joining_as_ACC=0, joining_as_ACCHQ=0)\n",
      "Employee(eid=175, desig='APFC', exp=1, age=69, active=False, joining_year=2022, retirement_year=2044, retirement_designation=APFC, joining_as_APFC=38, joining_as_RPFCII=0, joining_as_RPFCI=0, joining_as_ACC=0, joining_as_ACCHQ=0)\n",
      "Employee(eid=176, desig='APFC', exp=3, age=75, active=False, joining_year=2020, retirement_year=2038, retirement_designation=APFC, joining_as_APFC=42, joining_as_RPFCII=0, joining_as_RPFCI=0, joining_as_ACC=0, joining_as_ACCHQ=0)\n",
      "Employee(eid=177, desig='APFC', exp=1, age=59, active=True, joining_year=2022, retirement_year=2054, retirement_designation=APFC, joining_as_APFC=28, joining_as_RPFCII=0, joining_as_RPFCI=0, joining_as_ACC=0, joining_as_ACCHQ=0)\n",
      "Employee(eid=178, desig='APFC', exp=3, age=86, active=False, joining_year=2020, retirement_year=2027, retirement_designation=APFC, joining_as_APFC=53, joining_as_RPFCII=0, joining_as_RPFCI=0, joining_as_ACC=0, joining_as_ACCHQ=0)\n",
      "Employee(eid=179, desig='APFC', exp=1, age=64, active=False, joining_year=2022, retirement_year=2049, retirement_designation=APFC, joining_as_APFC=33, joining_as_RPFCII=0, joining_as_RPFCI=0, joining_as_ACC=0, joining_as_ACCHQ=0)\n",
      "Employee(eid=180, desig='RPFC-II', exp=0, age=59, active=True, joining_year=2018, retirement_year=2054, retirement_designation=RPFC-II, joining_as_APFC=24, joining_as_RPFCII=31, joining_as_RPFCI=0, joining_as_ACC=0, joining_as_ACCHQ=0)\n",
      "Employee(eid=181, desig='APFC', exp=3, age=75, active=False, joining_year=2020, retirement_year=2038, retirement_designation=APFC, joining_as_APFC=42, joining_as_RPFCII=0, joining_as_RPFCI=0, joining_as_ACC=0, joining_as_ACCHQ=0)\n",
      "Employee(eid=182, desig='RPFC-II', exp=0, age=59, active=True, joining_year=2018, retirement_year=2054, retirement_designation=RPFC-II, joining_as_APFC=24, joining_as_RPFCII=31, joining_as_RPFCI=0, joining_as_ACC=0, joining_as_ACCHQ=0)\n",
      "Employee(eid=183, desig='APFC', exp=5, age=89, active=False, joining_year=2018, retirement_year=2024, retirement_designation=APFC, joining_as_APFC=54, joining_as_RPFCII=0, joining_as_RPFCI=0, joining_as_ACC=0, joining_as_ACCHQ=0)\n",
      "Employee(eid=184, desig='APFC', exp=0, age=80, active=False, joining_year=2023, retirement_year=2033, retirement_designation=APFC, joining_as_APFC=50, joining_as_RPFCII=0, joining_as_RPFCI=0, joining_as_ACC=0, joining_as_ACCHQ=0)\n",
      "Employee(eid=185, desig='APFC', exp=1, age=65, active=False, joining_year=2022, retirement_year=2048, retirement_designation=APFC, joining_as_APFC=34, joining_as_RPFCII=0, joining_as_RPFCI=0, joining_as_ACC=0, joining_as_ACCHQ=0)\n",
      "Employee(eid=186, desig='APFC', exp=3, age=73, active=False, joining_year=2020, retirement_year=2040, retirement_designation=APFC, joining_as_APFC=40, joining_as_RPFCII=0, joining_as_RPFCI=0, joining_as_ACC=0, joining_as_ACCHQ=0)\n",
      "Employee(eid=187, desig='APFC', exp=3, age=80, active=False, joining_year=2020, retirement_year=2033, retirement_designation=APFC, joining_as_APFC=47, joining_as_RPFCII=0, joining_as_RPFCI=0, joining_as_ACC=0, joining_as_ACCHQ=0)\n",
      "Employee(eid=188, desig='APFC', exp=4, age=66, active=False, joining_year=2019, retirement_year=2047, retirement_designation=APFC, joining_as_APFC=32, joining_as_RPFCII=0, joining_as_RPFCI=0, joining_as_ACC=0, joining_as_ACCHQ=0)\n",
      "Employee(eid=189, desig='APFC', exp=1, age=87, active=False, joining_year=2022, retirement_year=2026, retirement_designation=APFC, joining_as_APFC=56, joining_as_RPFCII=0, joining_as_RPFCI=0, joining_as_ACC=0, joining_as_ACCHQ=0)\n",
      "Employee(eid=190, desig='RPFC-II', exp=0, age=62, active=False, joining_year=2018, retirement_year=2051, retirement_designation=RPFC-II, joining_as_APFC=27, joining_as_RPFCII=34, joining_as_RPFCI=0, joining_as_ACC=0, joining_as_ACCHQ=0)\n",
      "Employee(eid=191, desig='APFC', exp=1, age=86, active=False, joining_year=2022, retirement_year=2027, retirement_designation=APFC, joining_as_APFC=55, joining_as_RPFCII=0, joining_as_RPFCI=0, joining_as_ACC=0, joining_as_ACCHQ=0)\n",
      "Employee(eid=192, desig='APFC', exp=1, age=62, active=False, joining_year=2022, retirement_year=2051, retirement_designation=APFC, joining_as_APFC=31, joining_as_RPFCII=0, joining_as_RPFCI=0, joining_as_ACC=0, joining_as_ACCHQ=0)\n",
      "Employee(eid=193, desig='APFC', exp=2, age=83, active=False, joining_year=2021, retirement_year=2030, retirement_designation=APFC, joining_as_APFC=51, joining_as_RPFCII=0, joining_as_RPFCI=0, joining_as_ACC=0, joining_as_ACCHQ=0)\n",
      "Employee(eid=194, desig='RPFC-II', exp=0, age=66, active=False, joining_year=2018, retirement_year=2047, retirement_designation=RPFC-II, joining_as_APFC=31, joining_as_RPFCII=38, joining_as_RPFCI=0, joining_as_ACC=0, joining_as_ACCHQ=0)\n",
      "Employee(eid=195, desig='APFC', exp=2, age=81, active=False, joining_year=2021, retirement_year=2032, retirement_designation=APFC, joining_as_APFC=49, joining_as_RPFCII=0, joining_as_RPFCI=0, joining_as_ACC=0, joining_as_ACCHQ=0)\n",
      "Employee(eid=196, desig='APFC', exp=2, age=61, active=False, joining_year=2021, retirement_year=2052, retirement_designation=APFC, joining_as_APFC=29, joining_as_RPFCII=0, joining_as_RPFCI=0, joining_as_ACC=0, joining_as_ACCHQ=0)\n",
      "Employee(eid=197, desig='APFC', exp=1, age=62, active=False, joining_year=2022, retirement_year=2051, retirement_designation=APFC, joining_as_APFC=31, joining_as_RPFCII=0, joining_as_RPFCI=0, joining_as_ACC=0, joining_as_ACCHQ=0)\n",
      "Employee(eid=198, desig='APFC', exp=2, age=67, active=False, joining_year=2021, retirement_year=2046, retirement_designation=APFC, joining_as_APFC=35, joining_as_RPFCII=0, joining_as_RPFCI=0, joining_as_ACC=0, joining_as_ACCHQ=0)\n",
      "Employee(eid=199, desig='APFC', exp=1, age=58, active=True, joining_year=2022, retirement_year=2055, retirement_designation=APFC, joining_as_APFC=27, joining_as_RPFCII=0, joining_as_RPFCI=0, joining_as_ACC=0, joining_as_ACCHQ=0)\n",
      "Employee(eid=200, desig='APFC', exp=4, age=84, active=False, joining_year=2019, retirement_year=2029, retirement_designation=APFC, joining_as_APFC=50, joining_as_RPFCII=0, joining_as_RPFCI=0, joining_as_ACC=0, joining_as_ACCHQ=0)\n",
      "Employee(eid=201, desig='APFC', exp=0, age=84, active=False, joining_year=2023, retirement_year=2029, retirement_designation=APFC, joining_as_APFC=54, joining_as_RPFCII=0, joining_as_RPFCI=0, joining_as_ACC=0, joining_as_ACCHQ=0)\n",
      "Employee(eid=202, desig='APFC', exp=3, age=61, active=False, joining_year=2020, retirement_year=2052, retirement_designation=APFC, joining_as_APFC=28, joining_as_RPFCII=0, joining_as_RPFCI=0, joining_as_ACC=0, joining_as_ACCHQ=0)\n",
      "Employee(eid=203, desig='APFC', exp=2, age=58, active=True, joining_year=2021, retirement_year=2055, retirement_designation=APFC, joining_as_APFC=26, joining_as_RPFCII=0, joining_as_RPFCI=0, joining_as_ACC=0, joining_as_ACCHQ=0)\n",
      "Employee(eid=204, desig='APFC', exp=2, age=77, active=False, joining_year=2021, retirement_year=2036, retirement_designation=APFC, joining_as_APFC=45, joining_as_RPFCII=0, joining_as_RPFCI=0, joining_as_ACC=0, joining_as_ACCHQ=0)\n",
      "Employee(eid=205, desig='RPFC-II', exp=0, age=71, active=False, joining_year=2018, retirement_year=2042, retirement_designation=RPFC-II, joining_as_APFC=36, joining_as_RPFCII=43, joining_as_RPFCI=0, joining_as_ACC=0, joining_as_ACCHQ=0)\n",
      "Employee(eid=206, desig='APFC', exp=1, age=72, active=False, joining_year=2022, retirement_year=2041, retirement_designation=APFC, joining_as_APFC=41, joining_as_RPFCII=0, joining_as_RPFCI=0, joining_as_ACC=0, joining_as_ACCHQ=0)\n",
      "Employee(eid=207, desig='APFC', exp=1, age=86, active=False, joining_year=2022, retirement_year=2027, retirement_designation=APFC, joining_as_APFC=55, joining_as_RPFCII=0, joining_as_RPFCI=0, joining_as_ACC=0, joining_as_ACCHQ=0)\n",
      "Employee(eid=208, desig='APFC', exp=0, age=74, active=False, joining_year=2023, retirement_year=2039, retirement_designation=APFC, joining_as_APFC=44, joining_as_RPFCII=0, joining_as_RPFCI=0, joining_as_ACC=0, joining_as_ACCHQ=0)\n",
      "Employee(eid=209, desig='APFC', exp=1, age=67, active=False, joining_year=2022, retirement_year=2046, retirement_designation=APFC, joining_as_APFC=36, joining_as_RPFCII=0, joining_as_RPFCI=0, joining_as_ACC=0, joining_as_ACCHQ=0)\n",
      "Employee(eid=210, desig='APFC', exp=4, age=56, active=True, joining_year=2019, retirement_year=2057, retirement_designation=APFC, joining_as_APFC=22, joining_as_RPFCII=0, joining_as_RPFCI=0, joining_as_ACC=0, joining_as_ACCHQ=0)\n",
      "Employee(eid=211, desig='RPFC-II', exp=0, age=55, active=True, joining_year=2018, retirement_year=2058, retirement_designation=RPFC-II, joining_as_APFC=20, joining_as_RPFCII=27, joining_as_RPFCI=0, joining_as_ACC=0, joining_as_ACCHQ=0)\n",
      "Employee(eid=212, desig='APFC', exp=2, age=81, active=False, joining_year=2021, retirement_year=2032, retirement_designation=APFC, joining_as_APFC=49, joining_as_RPFCII=0, joining_as_RPFCI=0, joining_as_ACC=0, joining_as_ACCHQ=0)\n",
      "Employee(eid=213, desig='APFC', exp=2, age=89, active=False, joining_year=2021, retirement_year=2024, retirement_designation=APFC, joining_as_APFC=57, joining_as_RPFCII=0, joining_as_RPFCI=0, joining_as_ACC=0, joining_as_ACCHQ=0)\n",
      "Employee(eid=214, desig='APFC', exp=0, age=60, active=True, joining_year=2023, retirement_year=2053, retirement_designation=APFC, joining_as_APFC=30, joining_as_RPFCII=0, joining_as_RPFCI=0, joining_as_ACC=0, joining_as_ACCHQ=0)\n",
      "Employee(eid=215, desig='APFC', exp=2, age=81, active=False, joining_year=2021, retirement_year=2032, retirement_designation=APFC, joining_as_APFC=49, joining_as_RPFCII=0, joining_as_RPFCI=0, joining_as_ACC=0, joining_as_ACCHQ=0)\n",
      "Employee(eid=216, desig='APFC', exp=4, age=86, active=False, joining_year=2019, retirement_year=2027, retirement_designation=APFC, joining_as_APFC=52, joining_as_RPFCII=0, joining_as_RPFCI=0, joining_as_ACC=0, joining_as_ACCHQ=0)\n",
      "Employee(eid=217, desig='RPFC-II', exp=0, age=56, active=True, joining_year=2018, retirement_year=2057, retirement_designation=RPFC-II, joining_as_APFC=21, joining_as_RPFCII=28, joining_as_RPFCI=0, joining_as_ACC=0, joining_as_ACCHQ=0)\n",
      "Employee(eid=218, desig='APFC', exp=3, age=78, active=False, joining_year=2020, retirement_year=2035, retirement_designation=APFC, joining_as_APFC=45, joining_as_RPFCII=0, joining_as_RPFCI=0, joining_as_ACC=0, joining_as_ACCHQ=0)\n",
      "Employee(eid=219, desig='RPFC-II', exp=0, age=66, active=False, joining_year=2018, retirement_year=2047, retirement_designation=RPFC-II, joining_as_APFC=31, joining_as_RPFCII=38, joining_as_RPFCI=0, joining_as_ACC=0, joining_as_ACCHQ=0)\n",
      "Employee(eid=220, desig='APFC', exp=1, age=52, active=True, joining_year=2022, retirement_year=2061, retirement_designation=APFC, joining_as_APFC=21, joining_as_RPFCII=0, joining_as_RPFCI=0, joining_as_ACC=0, joining_as_ACCHQ=0)\n",
      "Employee(eid=221, desig='APFC', exp=4, age=59, active=True, joining_year=2019, retirement_year=2054, retirement_designation=APFC, joining_as_APFC=25, joining_as_RPFCII=0, joining_as_RPFCI=0, joining_as_ACC=0, joining_as_ACCHQ=0)\n",
      "Employee(eid=222, desig='APFC', exp=1, age=53, active=True, joining_year=2022, retirement_year=2060, retirement_designation=APFC, joining_as_APFC=22, joining_as_RPFCII=0, joining_as_RPFCI=0, joining_as_ACC=0, joining_as_ACCHQ=0)\n",
      "Employee(eid=223, desig='APFC', exp=1, age=90, active=False, joining_year=2022, retirement_year=2023, retirement_designation=APFC, joining_as_APFC=59, joining_as_RPFCII=0, joining_as_RPFCI=0, joining_as_ACC=0, joining_as_ACCHQ=0)\n",
      "Employee(eid=224, desig='APFC', exp=0, age=53, active=True, joining_year=2023, retirement_year=2060, retirement_designation=APFC, joining_as_APFC=23, joining_as_RPFCII=0, joining_as_RPFCI=0, joining_as_ACC=0, joining_as_ACCHQ=0)\n",
      "Employee(eid=225, desig='RPFC-II', exp=0, age=56, active=True, joining_year=2018, retirement_year=2057, retirement_designation=RPFC-II, joining_as_APFC=21, joining_as_RPFCII=28, joining_as_RPFCI=0, joining_as_ACC=0, joining_as_ACCHQ=0)\n",
      "Employee(eid=226, desig='APFC', exp=0, age=88, active=False, joining_year=2023, retirement_year=2025, retirement_designation=APFC, joining_as_APFC=58, joining_as_RPFCII=0, joining_as_RPFCI=0, joining_as_ACC=0, joining_as_ACCHQ=0)\n",
      "Employee(eid=227, desig='RPFC-II', exp=0, age=64, active=False, joining_year=2018, retirement_year=2049, retirement_designation=RPFC-II, joining_as_APFC=29, joining_as_RPFCII=36, joining_as_RPFCI=0, joining_as_ACC=0, joining_as_ACCHQ=0)\n",
      "Employee(eid=228, desig='APFC', exp=1, age=85, active=False, joining_year=2022, retirement_year=2028, retirement_designation=APFC, joining_as_APFC=54, joining_as_RPFCII=0, joining_as_RPFCI=0, joining_as_ACC=0, joining_as_ACCHQ=0)\n",
      "Employee(eid=229, desig='APFC', exp=0, age=53, active=True, joining_year=2023, retirement_year=2060, retirement_designation=APFC, joining_as_APFC=23, joining_as_RPFCII=0, joining_as_RPFCI=0, joining_as_ACC=0, joining_as_ACCHQ=0)\n",
      "Employee(eid=230, desig='APFC', exp=1, age=72, active=False, joining_year=2022, retirement_year=2041, retirement_designation=APFC, joining_as_APFC=41, joining_as_RPFCII=0, joining_as_RPFCI=0, joining_as_ACC=0, joining_as_ACCHQ=0)\n",
      "Employee(eid=231, desig='APFC', exp=3, age=71, active=False, joining_year=2020, retirement_year=2042, retirement_designation=APFC, joining_as_APFC=38, joining_as_RPFCII=0, joining_as_RPFCI=0, joining_as_ACC=0, joining_as_ACCHQ=0)\n",
      "Employee(eid=232, desig='APFC', exp=0, age=89, active=False, joining_year=2023, retirement_year=2024, retirement_designation=APFC, joining_as_APFC=59, joining_as_RPFCII=0, joining_as_RPFCI=0, joining_as_ACC=0, joining_as_ACCHQ=0)\n",
      "Employee(eid=233, desig='APFC', exp=2, age=57, active=True, joining_year=2021, retirement_year=2056, retirement_designation=APFC, joining_as_APFC=25, joining_as_RPFCII=0, joining_as_RPFCI=0, joining_as_ACC=0, joining_as_ACCHQ=0)\n",
      "Employee(eid=234, desig='APFC', exp=4, age=88, active=False, joining_year=2019, retirement_year=2025, retirement_designation=APFC, joining_as_APFC=54, joining_as_RPFCII=0, joining_as_RPFCI=0, joining_as_ACC=0, joining_as_ACCHQ=0)\n",
      "Employee(eid=235, desig='APFC', exp=3, age=56, active=True, joining_year=2020, retirement_year=2057, retirement_designation=APFC, joining_as_APFC=23, joining_as_RPFCII=0, joining_as_RPFCI=0, joining_as_ACC=0, joining_as_ACCHQ=0)\n",
      "Employee(eid=236, desig='APFC', exp=1, age=70, active=False, joining_year=2022, retirement_year=2043, retirement_designation=APFC, joining_as_APFC=39, joining_as_RPFCII=0, joining_as_RPFCI=0, joining_as_ACC=0, joining_as_ACCHQ=0)\n",
      "Employee(eid=237, desig='APFC', exp=0, age=79, active=False, joining_year=2023, retirement_year=2034, retirement_designation=APFC, joining_as_APFC=49, joining_as_RPFCII=0, joining_as_RPFCI=0, joining_as_ACC=0, joining_as_ACCHQ=0)\n",
      "Employee(eid=238, desig='APFC', exp=3, age=79, active=False, joining_year=2020, retirement_year=2034, retirement_designation=APFC, joining_as_APFC=46, joining_as_RPFCII=0, joining_as_RPFCI=0, joining_as_ACC=0, joining_as_ACCHQ=0)\n",
      "Employee(eid=239, desig='APFC', exp=2, age=53, active=True, joining_year=2021, retirement_year=2060, retirement_designation=APFC, joining_as_APFC=21, joining_as_RPFCII=0, joining_as_RPFCI=0, joining_as_ACC=0, joining_as_ACCHQ=0)\n",
      "Employee(eid=240, desig='RPFC-II', exp=0, age=87, active=False, joining_year=2018, retirement_year=2026, retirement_designation=RPFC-II, joining_as_APFC=52, joining_as_RPFCII=59, joining_as_RPFCI=0, joining_as_ACC=0, joining_as_ACCHQ=0)\n",
      "Employee(eid=241, desig='APFC', exp=3, age=86, active=False, joining_year=2020, retirement_year=2027, retirement_designation=APFC, joining_as_APFC=53, joining_as_RPFCII=0, joining_as_RPFCI=0, joining_as_ACC=0, joining_as_ACCHQ=0)\n",
      "Employee(eid=242, desig='APFC', exp=1, age=80, active=False, joining_year=2022, retirement_year=2033, retirement_designation=APFC, joining_as_APFC=49, joining_as_RPFCII=0, joining_as_RPFCI=0, joining_as_ACC=0, joining_as_ACCHQ=0)\n",
      "Employee(eid=243, desig='RPFC-I', exp=0, age=76, active=False, joining_year=2018, retirement_year=2037, retirement_designation=RPFC-I, joining_as_APFC=0, joining_as_RPFCII=0, joining_as_RPFCI=47, joining_as_ACC=0, joining_as_ACCHQ=0)\n",
      "Employee(eid=244, desig='RPFC-II', exp=2, age=83, active=False, joining_year=2021, retirement_year=2030, retirement_designation=RPFC-II, joining_as_APFC=0, joining_as_RPFCII=0, joining_as_RPFCI=0, joining_as_ACC=0, joining_as_ACCHQ=0)\n",
      "Employee(eid=245, desig='RPFC-II', exp=0, age=68, active=False, joining_year=2023, retirement_year=2045, retirement_designation=RPFC-II, joining_as_APFC=0, joining_as_RPFCII=0, joining_as_RPFCI=0, joining_as_ACC=0, joining_as_ACCHQ=0)\n",
      "Employee(eid=246, desig='RPFC-II', exp=4, age=75, active=False, joining_year=2019, retirement_year=2038, retirement_designation=RPFC-II, joining_as_APFC=0, joining_as_RPFCII=0, joining_as_RPFCI=0, joining_as_ACC=0, joining_as_ACCHQ=0)\n",
      "Employee(eid=247, desig='RPFC-II', exp=2, age=66, active=False, joining_year=2021, retirement_year=2047, retirement_designation=RPFC-II, joining_as_APFC=0, joining_as_RPFCII=0, joining_as_RPFCI=0, joining_as_ACC=0, joining_as_ACCHQ=0)\n",
      "Employee(eid=248, desig='RPFC-II', exp=0, age=58, active=True, joining_year=2023, retirement_year=2055, retirement_designation=RPFC-II, joining_as_APFC=0, joining_as_RPFCII=0, joining_as_RPFCI=0, joining_as_ACC=0, joining_as_ACCHQ=0)\n",
      "Employee(eid=249, desig='RPFC-II', exp=3, age=77, active=False, joining_year=2020, retirement_year=2036, retirement_designation=RPFC-II, joining_as_APFC=0, joining_as_RPFCII=0, joining_as_RPFCI=0, joining_as_ACC=0, joining_as_ACCHQ=0)\n",
      "Employee(eid=250, desig='RPFC-II', exp=2, age=81, active=False, joining_year=2021, retirement_year=2032, retirement_designation=RPFC-II, joining_as_APFC=0, joining_as_RPFCII=0, joining_as_RPFCI=0, joining_as_ACC=0, joining_as_ACCHQ=0)\n",
      "Employee(eid=251, desig='RPFC-I', exp=0, age=86, active=False, joining_year=2018, retirement_year=2027, retirement_designation=RPFC-I, joining_as_APFC=0, joining_as_RPFCII=0, joining_as_RPFCI=57, joining_as_ACC=0, joining_as_ACCHQ=0)\n",
      "Employee(eid=252, desig='RPFC-I', exp=0, age=87, active=False, joining_year=2018, retirement_year=2026, retirement_designation=RPFC-I, joining_as_APFC=0, joining_as_RPFCII=0, joining_as_RPFCI=58, joining_as_ACC=0, joining_as_ACCHQ=0)\n",
      "Employee(eid=253, desig='RPFC-II', exp=3, age=70, active=False, joining_year=2020, retirement_year=2043, retirement_designation=RPFC-II, joining_as_APFC=0, joining_as_RPFCII=0, joining_as_RPFCI=0, joining_as_ACC=0, joining_as_ACCHQ=0)\n",
      "Employee(eid=254, desig='RPFC-I', exp=0, age=78, active=False, joining_year=2018, retirement_year=2035, retirement_designation=RPFC-I, joining_as_APFC=0, joining_as_RPFCII=0, joining_as_RPFCI=49, joining_as_ACC=0, joining_as_ACCHQ=0)\n",
      "Employee(eid=255, desig='RPFC-II', exp=2, age=64, active=False, joining_year=2021, retirement_year=2049, retirement_designation=RPFC-II, joining_as_APFC=0, joining_as_RPFCII=0, joining_as_RPFCI=0, joining_as_ACC=0, joining_as_ACCHQ=0)\n",
      "Employee(eid=256, desig='RPFC-II', exp=1, age=86, active=False, joining_year=2022, retirement_year=2027, retirement_designation=RPFC-II, joining_as_APFC=0, joining_as_RPFCII=0, joining_as_RPFCI=0, joining_as_ACC=0, joining_as_ACCHQ=0)\n",
      "Employee(eid=257, desig='RPFC-II', exp=2, age=81, active=False, joining_year=2021, retirement_year=2032, retirement_designation=RPFC-II, joining_as_APFC=0, joining_as_RPFCII=0, joining_as_RPFCI=0, joining_as_ACC=0, joining_as_ACCHQ=0)\n",
      "Employee(eid=258, desig='RPFC-II', exp=2, age=61, active=False, joining_year=2021, retirement_year=2052, retirement_designation=RPFC-II, joining_as_APFC=0, joining_as_RPFCII=0, joining_as_RPFCI=0, joining_as_ACC=0, joining_as_ACCHQ=0)\n",
      "Employee(eid=259, desig='RPFC-II', exp=1, age=65, active=False, joining_year=2022, retirement_year=2048, retirement_designation=RPFC-II, joining_as_APFC=0, joining_as_RPFCII=0, joining_as_RPFCI=0, joining_as_ACC=0, joining_as_ACCHQ=0)\n",
      "Employee(eid=260, desig='RPFC-II', exp=0, age=64, active=False, joining_year=2023, retirement_year=2049, retirement_designation=RPFC-II, joining_as_APFC=0, joining_as_RPFCII=0, joining_as_RPFCI=0, joining_as_ACC=0, joining_as_ACCHQ=0)\n",
      "Employee(eid=261, desig='RPFC-II', exp=1, age=80, active=False, joining_year=2022, retirement_year=2033, retirement_designation=RPFC-II, joining_as_APFC=0, joining_as_RPFCII=0, joining_as_RPFCI=0, joining_as_ACC=0, joining_as_ACCHQ=0)\n",
      "Employee(eid=262, desig='RPFC-II', exp=2, age=68, active=False, joining_year=2021, retirement_year=2045, retirement_designation=RPFC-II, joining_as_APFC=0, joining_as_RPFCII=0, joining_as_RPFCI=0, joining_as_ACC=0, joining_as_ACCHQ=0)\n",
      "Employee(eid=263, desig='RPFC-II', exp=2, age=84, active=False, joining_year=2021, retirement_year=2029, retirement_designation=RPFC-II, joining_as_APFC=0, joining_as_RPFCII=0, joining_as_RPFCI=0, joining_as_ACC=0, joining_as_ACCHQ=0)\n",
      "Employee(eid=264, desig='RPFC-II', exp=4, age=87, active=False, joining_year=2019, retirement_year=2026, retirement_designation=RPFC-II, joining_as_APFC=0, joining_as_RPFCII=0, joining_as_RPFCI=0, joining_as_ACC=0, joining_as_ACCHQ=0)\n",
      "Employee(eid=265, desig='RPFC-II', exp=0, age=75, active=False, joining_year=2023, retirement_year=2038, retirement_designation=RPFC-II, joining_as_APFC=0, joining_as_RPFCII=0, joining_as_RPFCI=0, joining_as_ACC=0, joining_as_ACCHQ=0)\n",
      "Employee(eid=266, desig='RPFC-I', exp=0, age=62, active=False, joining_year=2018, retirement_year=2051, retirement_designation=RPFC-I, joining_as_APFC=0, joining_as_RPFCII=0, joining_as_RPFCI=33, joining_as_ACC=0, joining_as_ACCHQ=0)\n",
      "Employee(eid=267, desig='RPFC-II', exp=2, age=77, active=False, joining_year=2021, retirement_year=2036, retirement_designation=RPFC-II, joining_as_APFC=0, joining_as_RPFCII=0, joining_as_RPFCI=0, joining_as_ACC=0, joining_as_ACCHQ=0)\n",
      "Employee(eid=268, desig='RPFC-II', exp=2, age=59, active=True, joining_year=2021, retirement_year=2054, retirement_designation=RPFC-II, joining_as_APFC=0, joining_as_RPFCII=0, joining_as_RPFCI=0, joining_as_ACC=0, joining_as_ACCHQ=0)\n",
      "Employee(eid=269, desig='RPFC-II', exp=1, age=63, active=False, joining_year=2022, retirement_year=2050, retirement_designation=RPFC-II, joining_as_APFC=0, joining_as_RPFCII=0, joining_as_RPFCI=0, joining_as_ACC=0, joining_as_ACCHQ=0)\n",
      "Employee(eid=270, desig='RPFC-I', exp=0, age=83, active=False, joining_year=2018, retirement_year=2030, retirement_designation=RPFC-I, joining_as_APFC=0, joining_as_RPFCII=0, joining_as_RPFCI=54, joining_as_ACC=0, joining_as_ACCHQ=0)\n",
      "Employee(eid=271, desig='RPFC-II', exp=3, age=86, active=False, joining_year=2020, retirement_year=2027, retirement_designation=RPFC-II, joining_as_APFC=0, joining_as_RPFCII=0, joining_as_RPFCI=0, joining_as_ACC=0, joining_as_ACCHQ=0)\n",
      "Employee(eid=272, desig='RPFC-II', exp=0, age=79, active=False, joining_year=2023, retirement_year=2034, retirement_designation=RPFC-II, joining_as_APFC=0, joining_as_RPFCII=0, joining_as_RPFCI=0, joining_as_ACC=0, joining_as_ACCHQ=0)\n",
      "Employee(eid=273, desig='RPFC-II', exp=0, age=67, active=False, joining_year=2023, retirement_year=2046, retirement_designation=RPFC-II, joining_as_APFC=0, joining_as_RPFCII=0, joining_as_RPFCI=0, joining_as_ACC=0, joining_as_ACCHQ=0)\n",
      "Employee(eid=274, desig='RPFC-II', exp=1, age=87, active=False, joining_year=2022, retirement_year=2026, retirement_designation=RPFC-II, joining_as_APFC=0, joining_as_RPFCII=0, joining_as_RPFCI=0, joining_as_ACC=0, joining_as_ACCHQ=0)\n",
      "Employee(eid=275, desig='RPFC-II', exp=2, age=66, active=False, joining_year=2021, retirement_year=2047, retirement_designation=RPFC-II, joining_as_APFC=0, joining_as_RPFCII=0, joining_as_RPFCI=0, joining_as_ACC=0, joining_as_ACCHQ=0)\n",
      "Employee(eid=276, desig='RPFC-II', exp=4, age=88, active=False, joining_year=2019, retirement_year=2025, retirement_designation=RPFC-II, joining_as_APFC=0, joining_as_RPFCII=0, joining_as_RPFCI=0, joining_as_ACC=0, joining_as_ACCHQ=0)\n",
      "Employee(eid=277, desig='RPFC-II', exp=0, age=61, active=False, joining_year=2023, retirement_year=2052, retirement_designation=RPFC-II, joining_as_APFC=0, joining_as_RPFCII=0, joining_as_RPFCI=0, joining_as_ACC=0, joining_as_ACCHQ=0)\n",
      "Employee(eid=278, desig='RPFC-II', exp=1, age=71, active=False, joining_year=2022, retirement_year=2042, retirement_designation=RPFC-II, joining_as_APFC=0, joining_as_RPFCII=0, joining_as_RPFCI=0, joining_as_ACC=0, joining_as_ACCHQ=0)\n",
      "Employee(eid=279, desig='RPFC-II', exp=3, age=62, active=False, joining_year=2020, retirement_year=2051, retirement_designation=RPFC-II, joining_as_APFC=0, joining_as_RPFCII=0, joining_as_RPFCI=0, joining_as_ACC=0, joining_as_ACCHQ=0)\n",
      "Employee(eid=280, desig='RPFC-II', exp=3, age=62, active=False, joining_year=2020, retirement_year=2051, retirement_designation=RPFC-II, joining_as_APFC=0, joining_as_RPFCII=0, joining_as_RPFCI=0, joining_as_ACC=0, joining_as_ACCHQ=0)\n",
      "Employee(eid=281, desig='RPFC-II', exp=1, age=89, active=False, joining_year=2022, retirement_year=2024, retirement_designation=RPFC-II, joining_as_APFC=0, joining_as_RPFCII=0, joining_as_RPFCI=0, joining_as_ACC=0, joining_as_ACCHQ=0)\n",
      "Employee(eid=282, desig='RPFC-I', exp=0, age=80, active=False, joining_year=2018, retirement_year=2033, retirement_designation=RPFC-I, joining_as_APFC=0, joining_as_RPFCII=0, joining_as_RPFCI=51, joining_as_ACC=0, joining_as_ACCHQ=0)\n",
      "Employee(eid=283, desig='RPFC-II', exp=2, age=63, active=False, joining_year=2021, retirement_year=2050, retirement_designation=RPFC-II, joining_as_APFC=0, joining_as_RPFCII=0, joining_as_RPFCI=0, joining_as_ACC=0, joining_as_ACCHQ=0)\n",
      "Employee(eid=284, desig='RPFC-II', exp=3, age=68, active=False, joining_year=2020, retirement_year=2045, retirement_designation=RPFC-II, joining_as_APFC=0, joining_as_RPFCII=0, joining_as_RPFCI=0, joining_as_ACC=0, joining_as_ACCHQ=0)\n",
      "Employee(eid=285, desig='RPFC-II', exp=4, age=84, active=False, joining_year=2019, retirement_year=2029, retirement_designation=RPFC-II, joining_as_APFC=0, joining_as_RPFCII=0, joining_as_RPFCI=0, joining_as_ACC=0, joining_as_ACCHQ=0)\n",
      "Employee(eid=286, desig='RPFC-II', exp=3, age=66, active=False, joining_year=2020, retirement_year=2047, retirement_designation=RPFC-II, joining_as_APFC=0, joining_as_RPFCII=0, joining_as_RPFCI=0, joining_as_ACC=0, joining_as_ACCHQ=0)\n",
      "Employee(eid=287, desig='RPFC-II', exp=4, age=73, active=False, joining_year=2019, retirement_year=2040, retirement_designation=RPFC-II, joining_as_APFC=0, joining_as_RPFCII=0, joining_as_RPFCI=0, joining_as_ACC=0, joining_as_ACCHQ=0)\n",
      "Employee(eid=288, desig='RPFC-II', exp=2, age=89, active=False, joining_year=2021, retirement_year=2024, retirement_designation=RPFC-II, joining_as_APFC=0, joining_as_RPFCII=0, joining_as_RPFCI=0, joining_as_ACC=0, joining_as_ACCHQ=0)\n",
      "Employee(eid=289, desig='RPFC-II', exp=0, age=74, active=False, joining_year=2023, retirement_year=2039, retirement_designation=RPFC-II, joining_as_APFC=0, joining_as_RPFCII=0, joining_as_RPFCI=0, joining_as_ACC=0, joining_as_ACCHQ=0)\n",
      "Employee(eid=290, desig='RPFC-II', exp=2, age=61, active=False, joining_year=2021, retirement_year=2052, retirement_designation=RPFC-II, joining_as_APFC=0, joining_as_RPFCII=0, joining_as_RPFCI=0, joining_as_ACC=0, joining_as_ACCHQ=0)\n",
      "Employee(eid=291, desig='RPFC-II', exp=0, age=80, active=False, joining_year=2023, retirement_year=2033, retirement_designation=RPFC-II, joining_as_APFC=0, joining_as_RPFCII=0, joining_as_RPFCI=0, joining_as_ACC=0, joining_as_ACCHQ=0)\n",
      "Employee(eid=292, desig='RPFC-II', exp=4, age=61, active=False, joining_year=2019, retirement_year=2052, retirement_designation=RPFC-II, joining_as_APFC=0, joining_as_RPFCII=0, joining_as_RPFCI=0, joining_as_ACC=0, joining_as_ACCHQ=0)\n",
      "Employee(eid=293, desig='RPFC-II', exp=4, age=71, active=False, joining_year=2019, retirement_year=2042, retirement_designation=RPFC-II, joining_as_APFC=0, joining_as_RPFCII=0, joining_as_RPFCI=0, joining_as_ACC=0, joining_as_ACCHQ=0)\n",
      "Employee(eid=294, desig='RPFC-II', exp=4, age=74, active=False, joining_year=2019, retirement_year=2039, retirement_designation=RPFC-II, joining_as_APFC=0, joining_as_RPFCII=0, joining_as_RPFCI=0, joining_as_ACC=0, joining_as_ACCHQ=0)\n",
      "Employee(eid=295, desig='RPFC-II', exp=3, age=82, active=False, joining_year=2020, retirement_year=2031, retirement_designation=RPFC-II, joining_as_APFC=0, joining_as_RPFCII=0, joining_as_RPFCI=0, joining_as_ACC=0, joining_as_ACCHQ=0)\n",
      "Employee(eid=296, desig='RPFC-II', exp=2, age=63, active=False, joining_year=2021, retirement_year=2050, retirement_designation=RPFC-II, joining_as_APFC=0, joining_as_RPFCII=0, joining_as_RPFCI=0, joining_as_ACC=0, joining_as_ACCHQ=0)\n",
      "Employee(eid=297, desig='RPFC-II', exp=0, age=66, active=False, joining_year=2023, retirement_year=2047, retirement_designation=RPFC-II, joining_as_APFC=0, joining_as_RPFCII=0, joining_as_RPFCI=0, joining_as_ACC=0, joining_as_ACCHQ=0)\n",
      "Employee(eid=298, desig='RPFC-II', exp=1, age=85, active=False, joining_year=2022, retirement_year=2028, retirement_designation=RPFC-II, joining_as_APFC=0, joining_as_RPFCII=0, joining_as_RPFCI=0, joining_as_ACC=0, joining_as_ACCHQ=0)\n",
      "Employee(eid=299, desig='RPFC-II', exp=0, age=79, active=False, joining_year=2023, retirement_year=2034, retirement_designation=RPFC-II, joining_as_APFC=0, joining_as_RPFCII=0, joining_as_RPFCI=0, joining_as_ACC=0, joining_as_ACCHQ=0)\n",
      "Employee(eid=300, desig='RPFC-II', exp=1, age=61, active=False, joining_year=2022, retirement_year=2052, retirement_designation=RPFC-II, joining_as_APFC=0, joining_as_RPFCII=0, joining_as_RPFCI=0, joining_as_ACC=0, joining_as_ACCHQ=0)\n",
      "Employee(eid=301, desig='RPFC-II', exp=4, age=76, active=False, joining_year=2019, retirement_year=2037, retirement_designation=RPFC-II, joining_as_APFC=0, joining_as_RPFCII=0, joining_as_RPFCI=0, joining_as_ACC=0, joining_as_ACCHQ=0)\n",
      "Employee(eid=302, desig='RPFC-II', exp=0, age=65, active=False, joining_year=2023, retirement_year=2048, retirement_designation=RPFC-II, joining_as_APFC=0, joining_as_RPFCII=0, joining_as_RPFCI=0, joining_as_ACC=0, joining_as_ACCHQ=0)\n",
      "Employee(eid=303, desig='RPFC-II', exp=4, age=71, active=False, joining_year=2019, retirement_year=2042, retirement_designation=RPFC-II, joining_as_APFC=0, joining_as_RPFCII=0, joining_as_RPFCI=0, joining_as_ACC=0, joining_as_ACCHQ=0)\n",
      "Employee(eid=304, desig='RPFC-II', exp=3, age=74, active=False, joining_year=2020, retirement_year=2039, retirement_designation=RPFC-II, joining_as_APFC=0, joining_as_RPFCII=0, joining_as_RPFCI=0, joining_as_ACC=0, joining_as_ACCHQ=0)\n",
      "Employee(eid=305, desig='RPFC-II', exp=4, age=70, active=False, joining_year=2019, retirement_year=2043, retirement_designation=RPFC-II, joining_as_APFC=0, joining_as_RPFCII=0, joining_as_RPFCI=0, joining_as_ACC=0, joining_as_ACCHQ=0)\n",
      "Employee(eid=306, desig='RPFC-II', exp=3, age=64, active=False, joining_year=2020, retirement_year=2049, retirement_designation=RPFC-II, joining_as_APFC=0, joining_as_RPFCII=0, joining_as_RPFCI=0, joining_as_ACC=0, joining_as_ACCHQ=0)\n",
      "Employee(eid=307, desig='RPFC-II', exp=1, age=60, active=True, joining_year=2022, retirement_year=2053, retirement_designation=RPFC-II, joining_as_APFC=0, joining_as_RPFCII=0, joining_as_RPFCI=0, joining_as_ACC=0, joining_as_ACCHQ=0)\n",
      "Employee(eid=308, desig='RPFC-I', exp=0, age=76, active=False, joining_year=2018, retirement_year=2037, retirement_designation=RPFC-I, joining_as_APFC=0, joining_as_RPFCII=0, joining_as_RPFCI=47, joining_as_ACC=0, joining_as_ACCHQ=0)\n",
      "Employee(eid=309, desig='RPFC-II', exp=0, age=79, active=False, joining_year=2023, retirement_year=2034, retirement_designation=RPFC-II, joining_as_APFC=0, joining_as_RPFCII=0, joining_as_RPFCI=0, joining_as_ACC=0, joining_as_ACCHQ=0)\n",
      "Employee(eid=310, desig='RPFC-I', exp=0, age=71, active=False, joining_year=2018, retirement_year=2042, retirement_designation=RPFC-I, joining_as_APFC=0, joining_as_RPFCII=0, joining_as_RPFCI=42, joining_as_ACC=0, joining_as_ACCHQ=0)\n",
      "Employee(eid=311, desig='RPFC-II', exp=0, age=66, active=False, joining_year=2023, retirement_year=2047, retirement_designation=RPFC-II, joining_as_APFC=0, joining_as_RPFCII=0, joining_as_RPFCI=0, joining_as_ACC=0, joining_as_ACCHQ=0)\n",
      "Employee(eid=312, desig='RPFC-II', exp=4, age=67, active=False, joining_year=2019, retirement_year=2046, retirement_designation=RPFC-II, joining_as_APFC=0, joining_as_RPFCII=0, joining_as_RPFCI=0, joining_as_ACC=0, joining_as_ACCHQ=0)\n",
      "Employee(eid=313, desig='RPFC-II', exp=3, age=88, active=False, joining_year=2020, retirement_year=2025, retirement_designation=RPFC-II, joining_as_APFC=0, joining_as_RPFCII=0, joining_as_RPFCI=0, joining_as_ACC=0, joining_as_ACCHQ=0)\n",
      "Employee(eid=314, desig='RPFC-II', exp=0, age=85, active=False, joining_year=2023, retirement_year=2028, retirement_designation=RPFC-II, joining_as_APFC=0, joining_as_RPFCII=0, joining_as_RPFCI=0, joining_as_ACC=0, joining_as_ACCHQ=0)\n",
      "Employee(eid=315, desig='RPFC-II', exp=1, age=83, active=False, joining_year=2022, retirement_year=2030, retirement_designation=RPFC-II, joining_as_APFC=0, joining_as_RPFCII=0, joining_as_RPFCI=0, joining_as_ACC=0, joining_as_ACCHQ=0)\n",
      "Employee(eid=316, desig='RPFC-II', exp=4, age=64, active=False, joining_year=2019, retirement_year=2049, retirement_designation=RPFC-II, joining_as_APFC=0, joining_as_RPFCII=0, joining_as_RPFCI=0, joining_as_ACC=0, joining_as_ACCHQ=0)\n",
      "Employee(eid=317, desig='RPFC-II', exp=1, age=63, active=False, joining_year=2022, retirement_year=2050, retirement_designation=RPFC-II, joining_as_APFC=0, joining_as_RPFCII=0, joining_as_RPFCI=0, joining_as_ACC=0, joining_as_ACCHQ=0)\n",
      "Employee(eid=318, desig='RPFC-II', exp=3, age=87, active=False, joining_year=2020, retirement_year=2026, retirement_designation=RPFC-II, joining_as_APFC=0, joining_as_RPFCII=0, joining_as_RPFCI=0, joining_as_ACC=0, joining_as_ACCHQ=0)\n",
      "Employee(eid=319, desig='RPFC-II', exp=1, age=66, active=False, joining_year=2022, retirement_year=2047, retirement_designation=RPFC-II, joining_as_APFC=0, joining_as_RPFCII=0, joining_as_RPFCI=0, joining_as_ACC=0, joining_as_ACCHQ=0)\n",
      "Employee(eid=320, desig='RPFC-I', exp=0, age=83, active=False, joining_year=2018, retirement_year=2030, retirement_designation=RPFC-I, joining_as_APFC=0, joining_as_RPFCII=0, joining_as_RPFCI=54, joining_as_ACC=0, joining_as_ACCHQ=0)\n",
      "Employee(eid=321, desig='RPFC-II', exp=3, age=90, active=False, joining_year=2020, retirement_year=2023, retirement_designation=RPFC-II, joining_as_APFC=0, joining_as_RPFCII=0, joining_as_RPFCI=0, joining_as_ACC=0, joining_as_ACCHQ=0)\n",
      "Employee(eid=322, desig='RPFC-II', exp=3, age=82, active=False, joining_year=2020, retirement_year=2031, retirement_designation=RPFC-II, joining_as_APFC=0, joining_as_RPFCII=0, joining_as_RPFCI=0, joining_as_ACC=0, joining_as_ACCHQ=0)\n",
      "Employee(eid=323, desig='RPFC-I', exp=0, age=68, active=False, joining_year=2018, retirement_year=2045, retirement_designation=RPFC-I, joining_as_APFC=0, joining_as_RPFCII=0, joining_as_RPFCI=39, joining_as_ACC=0, joining_as_ACCHQ=0)\n",
      "Employee(eid=324, desig='RPFC-II', exp=4, age=61, active=False, joining_year=2019, retirement_year=2052, retirement_designation=RPFC-II, joining_as_APFC=0, joining_as_RPFCII=0, joining_as_RPFCI=0, joining_as_ACC=0, joining_as_ACCHQ=0)\n",
      "Employee(eid=325, desig='RPFC-II', exp=2, age=67, active=False, joining_year=2021, retirement_year=2046, retirement_designation=RPFC-II, joining_as_APFC=0, joining_as_RPFCII=0, joining_as_RPFCI=0, joining_as_ACC=0, joining_as_ACCHQ=0)\n",
      "Employee(eid=326, desig='RPFC-II', exp=1, age=74, active=False, joining_year=2022, retirement_year=2039, retirement_designation=RPFC-II, joining_as_APFC=0, joining_as_RPFCII=0, joining_as_RPFCI=0, joining_as_ACC=0, joining_as_ACCHQ=0)\n",
      "Employee(eid=327, desig='RPFC-II', exp=1, age=62, active=False, joining_year=2022, retirement_year=2051, retirement_designation=RPFC-II, joining_as_APFC=0, joining_as_RPFCII=0, joining_as_RPFCI=0, joining_as_ACC=0, joining_as_ACCHQ=0)\n",
      "Employee(eid=328, desig='RPFC-II', exp=0, age=58, active=True, joining_year=2023, retirement_year=2055, retirement_designation=RPFC-II, joining_as_APFC=0, joining_as_RPFCII=0, joining_as_RPFCI=0, joining_as_ACC=0, joining_as_ACCHQ=0)\n",
      "Employee(eid=329, desig='RPFC-I', exp=0, age=64, active=False, joining_year=2018, retirement_year=2049, retirement_designation=RPFC-I, joining_as_APFC=0, joining_as_RPFCII=0, joining_as_RPFCI=35, joining_as_ACC=0, joining_as_ACCHQ=0)\n",
      "Employee(eid=330, desig='RPFC-I', exp=0, age=88, active=False, joining_year=2018, retirement_year=2025, retirement_designation=RPFC-I, joining_as_APFC=0, joining_as_RPFCII=0, joining_as_RPFCI=59, joining_as_ACC=0, joining_as_ACCHQ=0)\n",
      "Employee(eid=331, desig='RPFC-II', exp=4, age=75, active=False, joining_year=2019, retirement_year=2038, retirement_designation=RPFC-II, joining_as_APFC=0, joining_as_RPFCII=0, joining_as_RPFCI=0, joining_as_ACC=0, joining_as_ACCHQ=0)\n",
      "Employee(eid=332, desig='RPFC-II', exp=3, age=68, active=False, joining_year=2020, retirement_year=2045, retirement_designation=RPFC-II, joining_as_APFC=0, joining_as_RPFCII=0, joining_as_RPFCI=0, joining_as_ACC=0, joining_as_ACCHQ=0)\n",
      "Employee(eid=333, desig='RPFC-II', exp=2, age=60, active=True, joining_year=2021, retirement_year=2053, retirement_designation=RPFC-II, joining_as_APFC=0, joining_as_RPFCII=0, joining_as_RPFCI=0, joining_as_ACC=0, joining_as_ACCHQ=0)\n",
      "Employee(eid=334, desig='RPFC-II', exp=0, age=68, active=False, joining_year=2023, retirement_year=2045, retirement_designation=RPFC-II, joining_as_APFC=0, joining_as_RPFCII=0, joining_as_RPFCI=0, joining_as_ACC=0, joining_as_ACCHQ=0)\n",
      "Employee(eid=335, desig='RPFC-II', exp=3, age=67, active=False, joining_year=2020, retirement_year=2046, retirement_designation=RPFC-II, joining_as_APFC=0, joining_as_RPFCII=0, joining_as_RPFCI=0, joining_as_ACC=0, joining_as_ACCHQ=0)\n",
      "Employee(eid=336, desig='RPFC-II', exp=2, age=83, active=False, joining_year=2021, retirement_year=2030, retirement_designation=RPFC-II, joining_as_APFC=0, joining_as_RPFCII=0, joining_as_RPFCI=0, joining_as_ACC=0, joining_as_ACCHQ=0)\n",
      "Employee(eid=337, desig='RPFC-II', exp=2, age=62, active=False, joining_year=2021, retirement_year=2051, retirement_designation=RPFC-II, joining_as_APFC=0, joining_as_RPFCII=0, joining_as_RPFCI=0, joining_as_ACC=0, joining_as_ACCHQ=0)\n",
      "Employee(eid=338, desig='RPFC-II', exp=0, age=65, active=False, joining_year=2023, retirement_year=2048, retirement_designation=RPFC-II, joining_as_APFC=0, joining_as_RPFCII=0, joining_as_RPFCI=0, joining_as_ACC=0, joining_as_ACCHQ=0)\n",
      "Employee(eid=339, desig='RPFC-I', exp=0, age=68, active=False, joining_year=2018, retirement_year=2045, retirement_designation=RPFC-I, joining_as_APFC=0, joining_as_RPFCII=0, joining_as_RPFCI=39, joining_as_ACC=0, joining_as_ACCHQ=0)\n",
      "Employee(eid=340, desig='RPFC-II', exp=0, age=71, active=False, joining_year=2023, retirement_year=2042, retirement_designation=RPFC-II, joining_as_APFC=0, joining_as_RPFCII=0, joining_as_RPFCI=0, joining_as_ACC=0, joining_as_ACCHQ=0)\n",
      "Employee(eid=341, desig='RPFC-II', exp=1, age=69, active=False, joining_year=2022, retirement_year=2044, retirement_designation=RPFC-II, joining_as_APFC=0, joining_as_RPFCII=0, joining_as_RPFCI=0, joining_as_ACC=0, joining_as_ACCHQ=0)\n",
      "Employee(eid=342, desig='RPFC-II', exp=2, age=69, active=False, joining_year=2021, retirement_year=2044, retirement_designation=RPFC-II, joining_as_APFC=0, joining_as_RPFCII=0, joining_as_RPFCI=0, joining_as_ACC=0, joining_as_ACCHQ=0)\n",
      "Employee(eid=343, desig='RPFC-II', exp=1, age=68, active=False, joining_year=2022, retirement_year=2045, retirement_designation=RPFC-II, joining_as_APFC=0, joining_as_RPFCII=0, joining_as_RPFCI=0, joining_as_ACC=0, joining_as_ACCHQ=0)\n",
      "Employee(eid=344, desig='RPFC-II', exp=3, age=62, active=False, joining_year=2020, retirement_year=2051, retirement_designation=RPFC-II, joining_as_APFC=0, joining_as_RPFCII=0, joining_as_RPFCI=0, joining_as_ACC=0, joining_as_ACCHQ=0)\n",
      "Employee(eid=345, desig='RPFC-II', exp=2, age=71, active=False, joining_year=2021, retirement_year=2042, retirement_designation=RPFC-II, joining_as_APFC=0, joining_as_RPFCII=0, joining_as_RPFCI=0, joining_as_ACC=0, joining_as_ACCHQ=0)\n",
      "Employee(eid=346, desig='RPFC-II', exp=1, age=77, active=False, joining_year=2022, retirement_year=2036, retirement_designation=RPFC-II, joining_as_APFC=0, joining_as_RPFCII=0, joining_as_RPFCI=0, joining_as_ACC=0, joining_as_ACCHQ=0)\n",
      "Employee(eid=347, desig='RPFC-II', exp=1, age=90, active=False, joining_year=2022, retirement_year=2023, retirement_designation=RPFC-II, joining_as_APFC=0, joining_as_RPFCII=0, joining_as_RPFCI=0, joining_as_ACC=0, joining_as_ACCHQ=0)\n",
      "Employee(eid=348, desig='RPFC-I', exp=0, age=89, active=False, joining_year=2018, retirement_year=2024, retirement_designation=RPFC-I, joining_as_APFC=0, joining_as_RPFCII=0, joining_as_RPFCI=60, joining_as_ACC=0, joining_as_ACCHQ=0)\n",
      "Employee(eid=349, desig='RPFC-I', exp=0, age=73, active=False, joining_year=2018, retirement_year=2040, retirement_designation=RPFC-I, joining_as_APFC=0, joining_as_RPFCII=0, joining_as_RPFCI=44, joining_as_ACC=0, joining_as_ACCHQ=0)\n",
      "Employee(eid=350, desig='RPFC-II', exp=3, age=72, active=False, joining_year=2020, retirement_year=2041, retirement_designation=RPFC-II, joining_as_APFC=0, joining_as_RPFCII=0, joining_as_RPFCI=0, joining_as_ACC=0, joining_as_ACCHQ=0)\n",
      "Employee(eid=351, desig='RPFC-II', exp=1, age=83, active=False, joining_year=2022, retirement_year=2030, retirement_designation=RPFC-II, joining_as_APFC=0, joining_as_RPFCII=0, joining_as_RPFCI=0, joining_as_ACC=0, joining_as_ACCHQ=0)\n",
      "Employee(eid=352, desig='RPFC-II', exp=0, age=62, active=False, joining_year=2023, retirement_year=2051, retirement_designation=RPFC-II, joining_as_APFC=0, joining_as_RPFCII=0, joining_as_RPFCI=0, joining_as_ACC=0, joining_as_ACCHQ=0)\n",
      "Employee(eid=353, desig='RPFC-II', exp=2, age=79, active=False, joining_year=2021, retirement_year=2034, retirement_designation=RPFC-II, joining_as_APFC=0, joining_as_RPFCII=0, joining_as_RPFCI=0, joining_as_ACC=0, joining_as_ACCHQ=0)\n",
      "Employee(eid=354, desig='RPFC-II', exp=0, age=68, active=False, joining_year=2023, retirement_year=2045, retirement_designation=RPFC-II, joining_as_APFC=0, joining_as_RPFCII=0, joining_as_RPFCI=0, joining_as_ACC=0, joining_as_ACCHQ=0)\n",
      "Employee(eid=355, desig='RPFC-II', exp=3, age=81, active=False, joining_year=2020, retirement_year=2032, retirement_designation=RPFC-II, joining_as_APFC=0, joining_as_RPFCII=0, joining_as_RPFCI=0, joining_as_ACC=0, joining_as_ACCHQ=0)\n",
      "Employee(eid=356, desig='RPFC-II', exp=2, age=80, active=False, joining_year=2021, retirement_year=2033, retirement_designation=RPFC-II, joining_as_APFC=0, joining_as_RPFCII=0, joining_as_RPFCI=0, joining_as_ACC=0, joining_as_ACCHQ=0)\n",
      "Employee(eid=357, desig='RPFC-II', exp=0, age=75, active=False, joining_year=2023, retirement_year=2038, retirement_designation=RPFC-II, joining_as_APFC=0, joining_as_RPFCII=0, joining_as_RPFCI=0, joining_as_ACC=0, joining_as_ACCHQ=0)\n",
      "Employee(eid=358, desig='RPFC-II', exp=1, age=69, active=False, joining_year=2022, retirement_year=2044, retirement_designation=RPFC-II, joining_as_APFC=0, joining_as_RPFCII=0, joining_as_RPFCI=0, joining_as_ACC=0, joining_as_ACCHQ=0)\n",
      "Employee(eid=359, desig='RPFC-II', exp=2, age=63, active=False, joining_year=2021, retirement_year=2050, retirement_designation=RPFC-II, joining_as_APFC=0, joining_as_RPFCII=0, joining_as_RPFCI=0, joining_as_ACC=0, joining_as_ACCHQ=0)\n",
      "Employee(eid=360, desig='RPFC-I', exp=0, age=85, active=False, joining_year=2018, retirement_year=2028, retirement_designation=RPFC-I, joining_as_APFC=0, joining_as_RPFCII=0, joining_as_RPFCI=56, joining_as_ACC=0, joining_as_ACCHQ=0)\n",
      "Employee(eid=361, desig='RPFC-II', exp=0, age=71, active=False, joining_year=2023, retirement_year=2042, retirement_designation=RPFC-II, joining_as_APFC=0, joining_as_RPFCII=0, joining_as_RPFCI=0, joining_as_ACC=0, joining_as_ACCHQ=0)\n",
      "Employee(eid=362, desig='RPFC-II', exp=0, age=61, active=False, joining_year=2023, retirement_year=2052, retirement_designation=RPFC-II, joining_as_APFC=0, joining_as_RPFCII=0, joining_as_RPFCI=0, joining_as_ACC=0, joining_as_ACCHQ=0)\n",
      "Employee(eid=363, desig='RPFC-II', exp=1, age=90, active=False, joining_year=2022, retirement_year=2023, retirement_designation=RPFC-II, joining_as_APFC=0, joining_as_RPFCII=0, joining_as_RPFCI=0, joining_as_ACC=0, joining_as_ACCHQ=0)\n",
      "Employee(eid=364, desig='RPFC-II', exp=0, age=86, active=False, joining_year=2023, retirement_year=2027, retirement_designation=RPFC-II, joining_as_APFC=0, joining_as_RPFCII=0, joining_as_RPFCI=0, joining_as_ACC=0, joining_as_ACCHQ=0)\n",
      "Employee(eid=365, desig='RPFC-II', exp=3, age=65, active=False, joining_year=2020, retirement_year=2048, retirement_designation=RPFC-II, joining_as_APFC=0, joining_as_RPFCII=0, joining_as_RPFCI=0, joining_as_ACC=0, joining_as_ACCHQ=0)\n",
      "Employee(eid=366, desig='RPFC-II', exp=2, age=67, active=False, joining_year=2021, retirement_year=2046, retirement_designation=RPFC-II, joining_as_APFC=0, joining_as_RPFCII=0, joining_as_RPFCI=0, joining_as_ACC=0, joining_as_ACCHQ=0)\n",
      "Employee(eid=367, desig='RPFC-II', exp=2, age=87, active=False, joining_year=2021, retirement_year=2026, retirement_designation=RPFC-II, joining_as_APFC=0, joining_as_RPFCII=0, joining_as_RPFCI=0, joining_as_ACC=0, joining_as_ACCHQ=0)\n",
      "Employee(eid=368, desig='RPFC-II', exp=2, age=84, active=False, joining_year=2021, retirement_year=2029, retirement_designation=RPFC-II, joining_as_APFC=0, joining_as_RPFCII=0, joining_as_RPFCI=0, joining_as_ACC=0, joining_as_ACCHQ=0)\n",
      "Employee(eid=369, desig='RPFC-II', exp=1, age=78, active=False, joining_year=2022, retirement_year=2035, retirement_designation=RPFC-II, joining_as_APFC=0, joining_as_RPFCII=0, joining_as_RPFCI=0, joining_as_ACC=0, joining_as_ACCHQ=0)\n",
      "Employee(eid=370, desig='RPFC-II', exp=4, age=61, active=False, joining_year=2019, retirement_year=2052, retirement_designation=RPFC-II, joining_as_APFC=0, joining_as_RPFCII=0, joining_as_RPFCI=0, joining_as_ACC=0, joining_as_ACCHQ=0)\n",
      "Employee(eid=371, desig='RPFC-II', exp=3, age=60, active=True, joining_year=2020, retirement_year=2053, retirement_designation=RPFC-II, joining_as_APFC=0, joining_as_RPFCII=0, joining_as_RPFCI=0, joining_as_ACC=0, joining_as_ACCHQ=0)\n",
      "Employee(eid=372, desig='RPFC-II', exp=4, age=61, active=False, joining_year=2019, retirement_year=2052, retirement_designation=RPFC-II, joining_as_APFC=0, joining_as_RPFCII=0, joining_as_RPFCI=0, joining_as_ACC=0, joining_as_ACCHQ=0)\n",
      "Employee(eid=373, desig='RPFC-I', exp=0, age=69, active=False, joining_year=2018, retirement_year=2044, retirement_designation=RPFC-I, joining_as_APFC=0, joining_as_RPFCII=0, joining_as_RPFCI=40, joining_as_ACC=0, joining_as_ACCHQ=0)\n",
      "Employee(eid=374, desig='RPFC-II', exp=3, age=86, active=False, joining_year=2020, retirement_year=2027, retirement_designation=RPFC-II, joining_as_APFC=0, joining_as_RPFCII=0, joining_as_RPFCI=0, joining_as_ACC=0, joining_as_ACCHQ=0)\n",
      "Employee(eid=375, desig='RPFC-I', exp=0, age=74, active=False, joining_year=2018, retirement_year=2039, retirement_designation=RPFC-I, joining_as_APFC=0, joining_as_RPFCII=0, joining_as_RPFCI=45, joining_as_ACC=0, joining_as_ACCHQ=0)\n",
      "Employee(eid=376, desig='RPFC-II', exp=2, age=72, active=False, joining_year=2021, retirement_year=2041, retirement_designation=RPFC-II, joining_as_APFC=0, joining_as_RPFCII=0, joining_as_RPFCI=0, joining_as_ACC=0, joining_as_ACCHQ=0)\n",
      "Employee(eid=377, desig='RPFC-II', exp=3, age=67, active=False, joining_year=2020, retirement_year=2046, retirement_designation=RPFC-II, joining_as_APFC=0, joining_as_RPFCII=0, joining_as_RPFCI=0, joining_as_ACC=0, joining_as_ACCHQ=0)\n",
      "Employee(eid=378, desig='RPFC-II', exp=2, age=60, active=True, joining_year=2021, retirement_year=2053, retirement_designation=RPFC-II, joining_as_APFC=0, joining_as_RPFCII=0, joining_as_RPFCI=0, joining_as_ACC=0, joining_as_ACCHQ=0)\n",
      "Employee(eid=379, desig='RPFC-I', exp=0, age=87, active=False, joining_year=2018, retirement_year=2026, retirement_designation=RPFC-I, joining_as_APFC=0, joining_as_RPFCII=0, joining_as_RPFCI=58, joining_as_ACC=0, joining_as_ACCHQ=0)\n",
      "Employee(eid=380, desig='RPFC-II', exp=3, age=69, active=False, joining_year=2020, retirement_year=2044, retirement_designation=RPFC-II, joining_as_APFC=0, joining_as_RPFCII=0, joining_as_RPFCI=0, joining_as_ACC=0, joining_as_ACCHQ=0)\n",
      "Employee(eid=381, desig='RPFC-II', exp=1, age=83, active=False, joining_year=2022, retirement_year=2030, retirement_designation=RPFC-II, joining_as_APFC=0, joining_as_RPFCII=0, joining_as_RPFCI=0, joining_as_ACC=0, joining_as_ACCHQ=0)\n",
      "Employee(eid=382, desig='RPFC-II', exp=4, age=67, active=False, joining_year=2019, retirement_year=2046, retirement_designation=RPFC-II, joining_as_APFC=0, joining_as_RPFCII=0, joining_as_RPFCI=0, joining_as_ACC=0, joining_as_ACCHQ=0)\n",
      "Employee(eid=383, desig='RPFC-II', exp=1, age=73, active=False, joining_year=2022, retirement_year=2040, retirement_designation=RPFC-II, joining_as_APFC=0, joining_as_RPFCII=0, joining_as_RPFCI=0, joining_as_ACC=0, joining_as_ACCHQ=0)\n",
      "Employee(eid=384, desig='RPFC-II', exp=3, age=61, active=False, joining_year=2020, retirement_year=2052, retirement_designation=RPFC-II, joining_as_APFC=0, joining_as_RPFCII=0, joining_as_RPFCI=0, joining_as_ACC=0, joining_as_ACCHQ=0)\n",
      "Employee(eid=385, desig='RPFC-II', exp=3, age=86, active=False, joining_year=2020, retirement_year=2027, retirement_designation=RPFC-II, joining_as_APFC=0, joining_as_RPFCII=0, joining_as_RPFCI=0, joining_as_ACC=0, joining_as_ACCHQ=0)\n",
      "Employee(eid=386, desig='RPFC-II', exp=2, age=90, active=False, joining_year=2021, retirement_year=2023, retirement_designation=RPFC-II, joining_as_APFC=0, joining_as_RPFCII=0, joining_as_RPFCI=0, joining_as_ACC=0, joining_as_ACCHQ=0)\n",
      "Employee(eid=387, desig='RPFC-II', exp=1, age=83, active=False, joining_year=2022, retirement_year=2030, retirement_designation=RPFC-II, joining_as_APFC=0, joining_as_RPFCII=0, joining_as_RPFCI=0, joining_as_ACC=0, joining_as_ACCHQ=0)\n",
      "Employee(eid=388, desig='RPFC-II', exp=3, age=73, active=False, joining_year=2020, retirement_year=2040, retirement_designation=RPFC-II, joining_as_APFC=0, joining_as_RPFCII=0, joining_as_RPFCI=0, joining_as_ACC=0, joining_as_ACCHQ=0)\n",
      "Employee(eid=389, desig='RPFC-I', exp=0, age=86, active=False, joining_year=2018, retirement_year=2027, retirement_designation=RPFC-I, joining_as_APFC=0, joining_as_RPFCII=0, joining_as_RPFCI=57, joining_as_ACC=0, joining_as_ACCHQ=0)\n",
      "Employee(eid=390, desig='RPFC-I', exp=0, age=69, active=False, joining_year=2018, retirement_year=2044, retirement_designation=RPFC-I, joining_as_APFC=0, joining_as_RPFCII=0, joining_as_RPFCI=40, joining_as_ACC=0, joining_as_ACCHQ=0)\n",
      "Employee(eid=391, desig='RPFC-II', exp=2, age=89, active=False, joining_year=2021, retirement_year=2024, retirement_designation=RPFC-II, joining_as_APFC=0, joining_as_RPFCII=0, joining_as_RPFCI=0, joining_as_ACC=0, joining_as_ACCHQ=0)\n",
      "Employee(eid=392, desig='RPFC-I', exp=0, age=67, active=False, joining_year=2018, retirement_year=2046, retirement_designation=RPFC-I, joining_as_APFC=0, joining_as_RPFCII=0, joining_as_RPFCI=38, joining_as_ACC=0, joining_as_ACCHQ=0)\n",
      "Employee(eid=393, desig='RPFC-II', exp=2, age=60, active=True, joining_year=2021, retirement_year=2053, retirement_designation=RPFC-II, joining_as_APFC=0, joining_as_RPFCII=0, joining_as_RPFCI=0, joining_as_ACC=0, joining_as_ACCHQ=0)\n",
      "Employee(eid=394, desig='RPFC-II', exp=0, age=63, active=False, joining_year=2023, retirement_year=2050, retirement_designation=RPFC-II, joining_as_APFC=0, joining_as_RPFCII=0, joining_as_RPFCI=0, joining_as_ACC=0, joining_as_ACCHQ=0)\n",
      "Employee(eid=395, desig='RPFC-II', exp=4, age=66, active=False, joining_year=2019, retirement_year=2047, retirement_designation=RPFC-II, joining_as_APFC=0, joining_as_RPFCII=0, joining_as_RPFCI=0, joining_as_ACC=0, joining_as_ACCHQ=0)\n",
      "Employee(eid=396, desig='RPFC-II', exp=1, age=90, active=False, joining_year=2022, retirement_year=2023, retirement_designation=RPFC-II, joining_as_APFC=0, joining_as_RPFCII=0, joining_as_RPFCI=0, joining_as_ACC=0, joining_as_ACCHQ=0)\n",
      "Employee(eid=397, desig='RPFC-II', exp=1, age=58, active=True, joining_year=2022, retirement_year=2055, retirement_designation=RPFC-II, joining_as_APFC=0, joining_as_RPFCII=0, joining_as_RPFCI=0, joining_as_ACC=0, joining_as_ACCHQ=0)\n",
      "Employee(eid=398, desig='RPFC-II', exp=2, age=86, active=False, joining_year=2021, retirement_year=2027, retirement_designation=RPFC-II, joining_as_APFC=0, joining_as_RPFCII=0, joining_as_RPFCI=0, joining_as_ACC=0, joining_as_ACCHQ=0)\n",
      "Employee(eid=399, desig='RPFC-II', exp=2, age=75, active=False, joining_year=2021, retirement_year=2038, retirement_designation=RPFC-II, joining_as_APFC=0, joining_as_RPFCII=0, joining_as_RPFCI=0, joining_as_ACC=0, joining_as_ACCHQ=0)\n",
      "Employee(eid=400, desig='RPFC-I', exp=0, age=84, active=False, joining_year=2018, retirement_year=2029, retirement_designation=RPFC-I, joining_as_APFC=0, joining_as_RPFCII=0, joining_as_RPFCI=55, joining_as_ACC=0, joining_as_ACCHQ=0)\n",
      "Employee(eid=401, desig='RPFC-II', exp=4, age=79, active=False, joining_year=2019, retirement_year=2034, retirement_designation=RPFC-II, joining_as_APFC=0, joining_as_RPFCII=0, joining_as_RPFCI=0, joining_as_ACC=0, joining_as_ACCHQ=0)\n",
      "Employee(eid=402, desig='RPFC-II', exp=4, age=76, active=False, joining_year=2019, retirement_year=2037, retirement_designation=RPFC-II, joining_as_APFC=0, joining_as_RPFCII=0, joining_as_RPFCI=0, joining_as_ACC=0, joining_as_ACCHQ=0)\n",
      "Employee(eid=403, desig='RPFC-II', exp=3, age=71, active=False, joining_year=2020, retirement_year=2042, retirement_designation=RPFC-II, joining_as_APFC=0, joining_as_RPFCII=0, joining_as_RPFCI=0, joining_as_ACC=0, joining_as_ACCHQ=0)\n",
      "Employee(eid=404, desig='RPFC-II', exp=3, age=83, active=False, joining_year=2020, retirement_year=2030, retirement_designation=RPFC-II, joining_as_APFC=0, joining_as_RPFCII=0, joining_as_RPFCI=0, joining_as_ACC=0, joining_as_ACCHQ=0)\n",
      "Employee(eid=405, desig='RPFC-II', exp=3, age=66, active=False, joining_year=2020, retirement_year=2047, retirement_designation=RPFC-II, joining_as_APFC=0, joining_as_RPFCII=0, joining_as_RPFCI=0, joining_as_ACC=0, joining_as_ACCHQ=0)\n",
      "Employee(eid=406, desig='RPFC-II', exp=4, age=89, active=False, joining_year=2019, retirement_year=2024, retirement_designation=RPFC-II, joining_as_APFC=0, joining_as_RPFCII=0, joining_as_RPFCI=0, joining_as_ACC=0, joining_as_ACCHQ=0)\n",
      "Employee(eid=407, desig='RPFC-II', exp=4, age=88, active=False, joining_year=2019, retirement_year=2025, retirement_designation=RPFC-II, joining_as_APFC=0, joining_as_RPFCII=0, joining_as_RPFCI=0, joining_as_ACC=0, joining_as_ACCHQ=0)\n",
      "Employee(eid=408, desig='RPFC-II', exp=5, age=90, active=False, joining_year=2018, retirement_year=2023, retirement_designation=RPFC-II, joining_as_APFC=0, joining_as_RPFCII=0, joining_as_RPFCI=0, joining_as_ACC=0, joining_as_ACCHQ=0)\n",
      "Employee(eid=409, desig='RPFC-II', exp=2, age=79, active=False, joining_year=2021, retirement_year=2034, retirement_designation=RPFC-II, joining_as_APFC=0, joining_as_RPFCII=0, joining_as_RPFCI=0, joining_as_ACC=0, joining_as_ACCHQ=0)\n",
      "Employee(eid=410, desig='RPFC-II', exp=2, age=63, active=False, joining_year=2021, retirement_year=2050, retirement_designation=RPFC-II, joining_as_APFC=0, joining_as_RPFCII=0, joining_as_RPFCI=0, joining_as_ACC=0, joining_as_ACCHQ=0)\n",
      "Employee(eid=411, desig='RPFC-II', exp=0, age=88, active=False, joining_year=2023, retirement_year=2025, retirement_designation=RPFC-II, joining_as_APFC=0, joining_as_RPFCII=0, joining_as_RPFCI=0, joining_as_ACC=0, joining_as_ACCHQ=0)\n",
      "Employee(eid=412, desig='RPFC-II', exp=3, age=75, active=False, joining_year=2020, retirement_year=2038, retirement_designation=RPFC-II, joining_as_APFC=0, joining_as_RPFCII=0, joining_as_RPFCI=0, joining_as_ACC=0, joining_as_ACCHQ=0)\n",
      "Employee(eid=413, desig='RPFC-II', exp=2, age=74, active=False, joining_year=2021, retirement_year=2039, retirement_designation=RPFC-II, joining_as_APFC=0, joining_as_RPFCII=0, joining_as_RPFCI=0, joining_as_ACC=0, joining_as_ACCHQ=0)\n",
      "Employee(eid=414, desig='RPFC-II', exp=0, age=69, active=False, joining_year=2023, retirement_year=2044, retirement_designation=RPFC-II, joining_as_APFC=0, joining_as_RPFCII=0, joining_as_RPFCI=0, joining_as_ACC=0, joining_as_ACCHQ=0)\n",
      "Employee(eid=415, desig='RPFC-II', exp=0, age=81, active=False, joining_year=2023, retirement_year=2032, retirement_designation=RPFC-II, joining_as_APFC=0, joining_as_RPFCII=0, joining_as_RPFCI=0, joining_as_ACC=0, joining_as_ACCHQ=0)\n",
      "Employee(eid=416, desig='RPFC-II', exp=3, age=63, active=False, joining_year=2020, retirement_year=2050, retirement_designation=RPFC-II, joining_as_APFC=0, joining_as_RPFCII=0, joining_as_RPFCI=0, joining_as_ACC=0, joining_as_ACCHQ=0)\n",
      "Employee(eid=417, desig='RPFC-II', exp=1, age=60, active=True, joining_year=2022, retirement_year=2053, retirement_designation=RPFC-II, joining_as_APFC=0, joining_as_RPFCII=0, joining_as_RPFCI=0, joining_as_ACC=0, joining_as_ACCHQ=0)\n",
      "Employee(eid=418, desig='RPFC-II', exp=0, age=66, active=False, joining_year=2023, retirement_year=2047, retirement_designation=RPFC-II, joining_as_APFC=0, joining_as_RPFCII=0, joining_as_RPFCI=0, joining_as_ACC=0, joining_as_ACCHQ=0)\n",
      "Employee(eid=419, desig='RPFC-II', exp=1, age=77, active=False, joining_year=2022, retirement_year=2036, retirement_designation=RPFC-II, joining_as_APFC=0, joining_as_RPFCII=0, joining_as_RPFCI=0, joining_as_ACC=0, joining_as_ACCHQ=0)\n",
      "Employee(eid=420, desig='RPFC-II', exp=0, age=86, active=False, joining_year=2023, retirement_year=2027, retirement_designation=RPFC-II, joining_as_APFC=0, joining_as_RPFCII=0, joining_as_RPFCI=0, joining_as_ACC=0, joining_as_ACCHQ=0)\n",
      "Employee(eid=421, desig='RPFC-II', exp=4, age=89, active=False, joining_year=2019, retirement_year=2024, retirement_designation=RPFC-II, joining_as_APFC=0, joining_as_RPFCII=0, joining_as_RPFCI=0, joining_as_ACC=0, joining_as_ACCHQ=0)\n",
      "Employee(eid=422, desig='RPFC-II', exp=1, age=80, active=False, joining_year=2022, retirement_year=2033, retirement_designation=RPFC-II, joining_as_APFC=0, joining_as_RPFCII=0, joining_as_RPFCI=0, joining_as_ACC=0, joining_as_ACCHQ=0)\n",
      "Employee(eid=423, desig='RPFC-II', exp=1, age=65, active=False, joining_year=2022, retirement_year=2048, retirement_designation=RPFC-II, joining_as_APFC=0, joining_as_RPFCII=0, joining_as_RPFCI=0, joining_as_ACC=0, joining_as_ACCHQ=0)\n",
      "Employee(eid=424, desig='RPFC-II', exp=4, age=88, active=False, joining_year=2019, retirement_year=2025, retirement_designation=RPFC-II, joining_as_APFC=0, joining_as_RPFCII=0, joining_as_RPFCI=0, joining_as_ACC=0, joining_as_ACCHQ=0)\n",
      "Employee(eid=425, desig='RPFC-II', exp=0, age=60, active=True, joining_year=2023, retirement_year=2053, retirement_designation=RPFC-II, joining_as_APFC=0, joining_as_RPFCII=0, joining_as_RPFCI=0, joining_as_ACC=0, joining_as_ACCHQ=0)\n",
      "Employee(eid=426, desig='RPFC-II', exp=1, age=69, active=False, joining_year=2022, retirement_year=2044, retirement_designation=RPFC-II, joining_as_APFC=0, joining_as_RPFCII=0, joining_as_RPFCI=0, joining_as_ACC=0, joining_as_ACCHQ=0)\n",
      "Employee(eid=427, desig='RPFC-II', exp=0, age=74, active=False, joining_year=2023, retirement_year=2039, retirement_designation=RPFC-II, joining_as_APFC=0, joining_as_RPFCII=0, joining_as_RPFCI=0, joining_as_ACC=0, joining_as_ACCHQ=0)\n",
      "Employee(eid=428, desig='RPFC-II', exp=4, age=76, active=False, joining_year=2019, retirement_year=2037, retirement_designation=RPFC-II, joining_as_APFC=0, joining_as_RPFCII=0, joining_as_RPFCI=0, joining_as_ACC=0, joining_as_ACCHQ=0)\n",
      "Employee(eid=429, desig='RPFC-II', exp=4, age=77, active=False, joining_year=2019, retirement_year=2036, retirement_designation=RPFC-II, joining_as_APFC=0, joining_as_RPFCII=0, joining_as_RPFCI=0, joining_as_ACC=0, joining_as_ACCHQ=0)\n",
      "Employee(eid=430, desig='RPFC-II', exp=1, age=88, active=False, joining_year=2022, retirement_year=2025, retirement_designation=RPFC-II, joining_as_APFC=0, joining_as_RPFCII=0, joining_as_RPFCI=0, joining_as_ACC=0, joining_as_ACCHQ=0)\n",
      "Employee(eid=431, desig='RPFC-II', exp=3, age=66, active=False, joining_year=2020, retirement_year=2047, retirement_designation=RPFC-II, joining_as_APFC=0, joining_as_RPFCII=0, joining_as_RPFCI=0, joining_as_ACC=0, joining_as_ACCHQ=0)\n",
      "Employee(eid=432, desig='RPFC-II', exp=3, age=64, active=False, joining_year=2020, retirement_year=2049, retirement_designation=RPFC-II, joining_as_APFC=0, joining_as_RPFCII=0, joining_as_RPFCI=0, joining_as_ACC=0, joining_as_ACCHQ=0)\n",
      "Employee(eid=433, desig='RPFC-II', exp=4, age=85, active=False, joining_year=2019, retirement_year=2028, retirement_designation=RPFC-II, joining_as_APFC=0, joining_as_RPFCII=0, joining_as_RPFCI=0, joining_as_ACC=0, joining_as_ACCHQ=0)\n",
      "Employee(eid=434, desig='RPFC-II', exp=2, age=88, active=False, joining_year=2021, retirement_year=2025, retirement_designation=RPFC-II, joining_as_APFC=0, joining_as_RPFCII=0, joining_as_RPFCI=0, joining_as_ACC=0, joining_as_ACCHQ=0)\n",
      "Employee(eid=435, desig='RPFC-II', exp=4, age=71, active=False, joining_year=2019, retirement_year=2042, retirement_designation=RPFC-II, joining_as_APFC=0, joining_as_RPFCII=0, joining_as_RPFCI=0, joining_as_ACC=0, joining_as_ACCHQ=0)\n",
      "Employee(eid=436, desig='RPFC-II', exp=3, age=77, active=False, joining_year=2020, retirement_year=2036, retirement_designation=RPFC-II, joining_as_APFC=0, joining_as_RPFCII=0, joining_as_RPFCI=0, joining_as_ACC=0, joining_as_ACCHQ=0)\n",
      "Employee(eid=437, desig='RPFC-II', exp=1, age=78, active=False, joining_year=2022, retirement_year=2035, retirement_designation=RPFC-II, joining_as_APFC=0, joining_as_RPFCII=0, joining_as_RPFCI=0, joining_as_ACC=0, joining_as_ACCHQ=0)\n",
      "Employee(eid=438, desig='RPFC-II', exp=0, age=87, active=False, joining_year=2023, retirement_year=2026, retirement_designation=RPFC-II, joining_as_APFC=0, joining_as_RPFCII=0, joining_as_RPFCI=0, joining_as_ACC=0, joining_as_ACCHQ=0)\n",
      "Employee(eid=439, desig='RPFC-II', exp=4, age=88, active=False, joining_year=2019, retirement_year=2025, retirement_designation=RPFC-II, joining_as_APFC=0, joining_as_RPFCII=0, joining_as_RPFCI=0, joining_as_ACC=0, joining_as_ACCHQ=0)\n",
      "Employee(eid=440, desig='RPFC-II', exp=1, age=84, active=False, joining_year=2022, retirement_year=2029, retirement_designation=RPFC-II, joining_as_APFC=0, joining_as_RPFCII=0, joining_as_RPFCI=0, joining_as_ACC=0, joining_as_ACCHQ=0)\n",
      "Employee(eid=441, desig='RPFC-II', exp=0, age=86, active=False, joining_year=2023, retirement_year=2027, retirement_designation=RPFC-II, joining_as_APFC=0, joining_as_RPFCII=0, joining_as_RPFCI=0, joining_as_ACC=0, joining_as_ACCHQ=0)\n",
      "Employee(eid=442, desig='RPFC-II', exp=4, age=86, active=False, joining_year=2019, retirement_year=2027, retirement_designation=RPFC-II, joining_as_APFC=0, joining_as_RPFCII=0, joining_as_RPFCI=0, joining_as_ACC=0, joining_as_ACCHQ=0)\n",
      "Employee(eid=443, desig='RPFC-II', exp=1, age=80, active=False, joining_year=2022, retirement_year=2033, retirement_designation=RPFC-II, joining_as_APFC=0, joining_as_RPFCII=0, joining_as_RPFCI=0, joining_as_ACC=0, joining_as_ACCHQ=0)\n",
      "Employee(eid=444, desig='RPFC-II', exp=2, age=69, active=False, joining_year=2021, retirement_year=2044, retirement_designation=RPFC-II, joining_as_APFC=0, joining_as_RPFCII=0, joining_as_RPFCI=0, joining_as_ACC=0, joining_as_ACCHQ=0)\n",
      "Employee(eid=445, desig='RPFC-I', exp=0, age=68, active=False, joining_year=2018, retirement_year=2045, retirement_designation=RPFC-I, joining_as_APFC=0, joining_as_RPFCII=0, joining_as_RPFCI=39, joining_as_ACC=0, joining_as_ACCHQ=0)\n",
      "Employee(eid=446, desig='RPFC-II', exp=0, age=67, active=False, joining_year=2023, retirement_year=2046, retirement_designation=RPFC-II, joining_as_APFC=0, joining_as_RPFCII=0, joining_as_RPFCI=0, joining_as_ACC=0, joining_as_ACCHQ=0)\n",
      "Employee(eid=447, desig='RPFC-II', exp=0, age=81, active=False, joining_year=2023, retirement_year=2032, retirement_designation=RPFC-II, joining_as_APFC=0, joining_as_RPFCII=0, joining_as_RPFCI=0, joining_as_ACC=0, joining_as_ACCHQ=0)\n",
      "Employee(eid=448, desig='RPFC-II', exp=0, age=74, active=False, joining_year=2023, retirement_year=2039, retirement_designation=RPFC-II, joining_as_APFC=0, joining_as_RPFCII=0, joining_as_RPFCI=0, joining_as_ACC=0, joining_as_ACCHQ=0)\n",
      "Employee(eid=449, desig='RPFC-II', exp=1, age=63, active=False, joining_year=2022, retirement_year=2050, retirement_designation=RPFC-II, joining_as_APFC=0, joining_as_RPFCII=0, joining_as_RPFCI=0, joining_as_ACC=0, joining_as_ACCHQ=0)\n",
      "Employee(eid=450, desig='RPFC-II', exp=2, age=69, active=False, joining_year=2021, retirement_year=2044, retirement_designation=RPFC-II, joining_as_APFC=0, joining_as_RPFCII=0, joining_as_RPFCI=0, joining_as_ACC=0, joining_as_ACCHQ=0)\n",
      "Employee(eid=451, desig='RPFC-II', exp=4, age=67, active=False, joining_year=2019, retirement_year=2046, retirement_designation=RPFC-II, joining_as_APFC=0, joining_as_RPFCII=0, joining_as_RPFCI=0, joining_as_ACC=0, joining_as_ACCHQ=0)\n",
      "Employee(eid=452, desig='RPFC-I', exp=0, age=86, active=False, joining_year=2018, retirement_year=2027, retirement_designation=RPFC-I, joining_as_APFC=0, joining_as_RPFCII=0, joining_as_RPFCI=57, joining_as_ACC=0, joining_as_ACCHQ=0)\n",
      "Employee(eid=453, desig='RPFC-II', exp=4, age=72, active=False, joining_year=2019, retirement_year=2041, retirement_designation=RPFC-II, joining_as_APFC=0, joining_as_RPFCII=0, joining_as_RPFCI=0, joining_as_ACC=0, joining_as_ACCHQ=0)\n",
      "Employee(eid=454, desig='RPFC-II', exp=4, age=89, active=False, joining_year=2019, retirement_year=2024, retirement_designation=RPFC-II, joining_as_APFC=0, joining_as_RPFCII=0, joining_as_RPFCI=0, joining_as_ACC=0, joining_as_ACCHQ=0)\n",
      "Employee(eid=455, desig='RPFC-II', exp=3, age=81, active=False, joining_year=2020, retirement_year=2032, retirement_designation=RPFC-II, joining_as_APFC=0, joining_as_RPFCII=0, joining_as_RPFCI=0, joining_as_ACC=0, joining_as_ACCHQ=0)\n",
      "Employee(eid=456, desig='RPFC-II', exp=2, age=80, active=False, joining_year=2021, retirement_year=2033, retirement_designation=RPFC-II, joining_as_APFC=0, joining_as_RPFCII=0, joining_as_RPFCI=0, joining_as_ACC=0, joining_as_ACCHQ=0)\n",
      "Employee(eid=457, desig='RPFC-II', exp=3, age=86, active=False, joining_year=2020, retirement_year=2027, retirement_designation=RPFC-II, joining_as_APFC=0, joining_as_RPFCII=0, joining_as_RPFCI=0, joining_as_ACC=0, joining_as_ACCHQ=0)\n",
      "Employee(eid=458, desig='RPFC-II', exp=0, age=70, active=False, joining_year=2023, retirement_year=2043, retirement_designation=RPFC-II, joining_as_APFC=0, joining_as_RPFCII=0, joining_as_RPFCI=0, joining_as_ACC=0, joining_as_ACCHQ=0)\n",
      "Employee(eid=459, desig='RPFC-II', exp=3, age=76, active=False, joining_year=2020, retirement_year=2037, retirement_designation=RPFC-II, joining_as_APFC=0, joining_as_RPFCII=0, joining_as_RPFCI=0, joining_as_ACC=0, joining_as_ACCHQ=0)\n",
      "Employee(eid=460, desig='RPFC-I', exp=0, age=64, active=False, joining_year=2018, retirement_year=2049, retirement_designation=RPFC-I, joining_as_APFC=0, joining_as_RPFCII=0, joining_as_RPFCI=35, joining_as_ACC=0, joining_as_ACCHQ=0)\n",
      "Employee(eid=461, desig='RPFC-II', exp=2, age=74, active=False, joining_year=2021, retirement_year=2039, retirement_designation=RPFC-II, joining_as_APFC=0, joining_as_RPFCII=0, joining_as_RPFCI=0, joining_as_ACC=0, joining_as_ACCHQ=0)\n",
      "Employee(eid=462, desig='RPFC-II', exp=3, age=84, active=False, joining_year=2020, retirement_year=2029, retirement_designation=RPFC-II, joining_as_APFC=0, joining_as_RPFCII=0, joining_as_RPFCI=0, joining_as_ACC=0, joining_as_ACCHQ=0)\n",
      "Employee(eid=463, desig='RPFC-II', exp=1, age=85, active=False, joining_year=2022, retirement_year=2028, retirement_designation=RPFC-II, joining_as_APFC=0, joining_as_RPFCII=0, joining_as_RPFCI=0, joining_as_ACC=0, joining_as_ACCHQ=0)\n",
      "Employee(eid=464, desig='RPFC-II', exp=0, age=66, active=False, joining_year=2023, retirement_year=2047, retirement_designation=RPFC-II, joining_as_APFC=0, joining_as_RPFCII=0, joining_as_RPFCI=0, joining_as_ACC=0, joining_as_ACCHQ=0)\n",
      "Employee(eid=465, desig='RPFC-II', exp=0, age=68, active=False, joining_year=2023, retirement_year=2045, retirement_designation=RPFC-II, joining_as_APFC=0, joining_as_RPFCII=0, joining_as_RPFCI=0, joining_as_ACC=0, joining_as_ACCHQ=0)\n",
      "Employee(eid=466, desig='RPFC-II', exp=3, age=70, active=False, joining_year=2020, retirement_year=2043, retirement_designation=RPFC-II, joining_as_APFC=0, joining_as_RPFCII=0, joining_as_RPFCI=0, joining_as_ACC=0, joining_as_ACCHQ=0)\n",
      "Employee(eid=467, desig='RPFC-II', exp=1, age=63, active=False, joining_year=2022, retirement_year=2050, retirement_designation=RPFC-II, joining_as_APFC=0, joining_as_RPFCII=0, joining_as_RPFCI=0, joining_as_ACC=0, joining_as_ACCHQ=0)\n",
      "Employee(eid=468, desig='RPFC-II', exp=1, age=88, active=False, joining_year=2022, retirement_year=2025, retirement_designation=RPFC-II, joining_as_APFC=0, joining_as_RPFCII=0, joining_as_RPFCI=0, joining_as_ACC=0, joining_as_ACCHQ=0)\n",
      "Employee(eid=469, desig='RPFC-II', exp=1, age=86, active=False, joining_year=2022, retirement_year=2027, retirement_designation=RPFC-II, joining_as_APFC=0, joining_as_RPFCII=0, joining_as_RPFCI=0, joining_as_ACC=0, joining_as_ACCHQ=0)\n",
      "Employee(eid=470, desig='RPFC-II', exp=0, age=74, active=False, joining_year=2023, retirement_year=2039, retirement_designation=RPFC-II, joining_as_APFC=0, joining_as_RPFCII=0, joining_as_RPFCI=0, joining_as_ACC=0, joining_as_ACCHQ=0)\n",
      "Employee(eid=471, desig='RPFC-II', exp=1, age=63, active=False, joining_year=2022, retirement_year=2050, retirement_designation=RPFC-II, joining_as_APFC=0, joining_as_RPFCII=0, joining_as_RPFCI=0, joining_as_ACC=0, joining_as_ACCHQ=0)\n",
      "Employee(eid=472, desig='RPFC-II', exp=4, age=85, active=False, joining_year=2019, retirement_year=2028, retirement_designation=RPFC-II, joining_as_APFC=0, joining_as_RPFCII=0, joining_as_RPFCI=0, joining_as_ACC=0, joining_as_ACCHQ=0)\n",
      "Employee(eid=473, desig='RPFC-II', exp=2, age=70, active=False, joining_year=2021, retirement_year=2043, retirement_designation=RPFC-II, joining_as_APFC=0, joining_as_RPFCII=0, joining_as_RPFCI=0, joining_as_ACC=0, joining_as_ACCHQ=0)\n",
      "Employee(eid=474, desig='RPFC-II', exp=3, age=82, active=False, joining_year=2020, retirement_year=2031, retirement_designation=RPFC-II, joining_as_APFC=0, joining_as_RPFCII=0, joining_as_RPFCI=0, joining_as_ACC=0, joining_as_ACCHQ=0)\n",
      "Employee(eid=475, desig='RPFC-II', exp=0, age=57, active=True, joining_year=2023, retirement_year=2056, retirement_designation=RPFC-II, joining_as_APFC=0, joining_as_RPFCII=0, joining_as_RPFCI=0, joining_as_ACC=0, joining_as_ACCHQ=0)\n",
      "Employee(eid=476, desig='RPFC-II', exp=4, age=78, active=False, joining_year=2019, retirement_year=2035, retirement_designation=RPFC-II, joining_as_APFC=0, joining_as_RPFCII=0, joining_as_RPFCI=0, joining_as_ACC=0, joining_as_ACCHQ=0)\n",
      "Employee(eid=477, desig='RPFC-II', exp=0, age=70, active=False, joining_year=2023, retirement_year=2043, retirement_designation=RPFC-II, joining_as_APFC=0, joining_as_RPFCII=0, joining_as_RPFCI=0, joining_as_ACC=0, joining_as_ACCHQ=0)\n",
      "Employee(eid=478, desig='RPFC-II', exp=0, age=64, active=False, joining_year=2023, retirement_year=2049, retirement_designation=RPFC-II, joining_as_APFC=0, joining_as_RPFCII=0, joining_as_RPFCI=0, joining_as_ACC=0, joining_as_ACCHQ=0)\n",
      "Employee(eid=479, desig='RPFC-II', exp=4, age=77, active=False, joining_year=2019, retirement_year=2036, retirement_designation=RPFC-II, joining_as_APFC=0, joining_as_RPFCII=0, joining_as_RPFCI=0, joining_as_ACC=0, joining_as_ACCHQ=0)\n",
      "Employee(eid=480, desig='RPFC-II', exp=4, age=73, active=False, joining_year=2019, retirement_year=2040, retirement_designation=RPFC-II, joining_as_APFC=0, joining_as_RPFCII=0, joining_as_RPFCI=0, joining_as_ACC=0, joining_as_ACCHQ=0)\n",
      "Employee(eid=481, desig='RPFC-II', exp=2, age=71, active=False, joining_year=2021, retirement_year=2042, retirement_designation=RPFC-II, joining_as_APFC=0, joining_as_RPFCII=0, joining_as_RPFCI=0, joining_as_ACC=0, joining_as_ACCHQ=0)\n",
      "Employee(eid=482, desig='RPFC-II', exp=4, age=76, active=False, joining_year=2019, retirement_year=2037, retirement_designation=RPFC-II, joining_as_APFC=0, joining_as_RPFCII=0, joining_as_RPFCI=0, joining_as_ACC=0, joining_as_ACCHQ=0)\n",
      "Employee(eid=483, desig='RPFC-II', exp=3, age=72, active=False, joining_year=2020, retirement_year=2041, retirement_designation=RPFC-II, joining_as_APFC=0, joining_as_RPFCII=0, joining_as_RPFCI=0, joining_as_ACC=0, joining_as_ACCHQ=0)\n",
      "Employee(eid=484, desig='RPFC-II', exp=3, age=67, active=False, joining_year=2020, retirement_year=2046, retirement_designation=RPFC-II, joining_as_APFC=0, joining_as_RPFCII=0, joining_as_RPFCI=0, joining_as_ACC=0, joining_as_ACCHQ=0)\n",
      "Employee(eid=485, desig='RPFC-II', exp=2, age=73, active=False, joining_year=2021, retirement_year=2040, retirement_designation=RPFC-II, joining_as_APFC=0, joining_as_RPFCII=0, joining_as_RPFCI=0, joining_as_ACC=0, joining_as_ACCHQ=0)\n",
      "Employee(eid=486, desig='RPFC-I', exp=0, age=84, active=False, joining_year=2018, retirement_year=2029, retirement_designation=RPFC-I, joining_as_APFC=0, joining_as_RPFCII=0, joining_as_RPFCI=55, joining_as_ACC=0, joining_as_ACCHQ=0)\n",
      "Employee(eid=487, desig='RPFC-II', exp=3, age=86, active=False, joining_year=2020, retirement_year=2027, retirement_designation=RPFC-II, joining_as_APFC=0, joining_as_RPFCII=0, joining_as_RPFCI=0, joining_as_ACC=0, joining_as_ACCHQ=0)\n",
      "Employee(eid=488, desig='RPFC-II', exp=4, age=64, active=False, joining_year=2019, retirement_year=2049, retirement_designation=RPFC-II, joining_as_APFC=0, joining_as_RPFCII=0, joining_as_RPFCI=0, joining_as_ACC=0, joining_as_ACCHQ=0)\n",
      "Employee(eid=489, desig='RPFC-II', exp=0, age=64, active=False, joining_year=2023, retirement_year=2049, retirement_designation=RPFC-II, joining_as_APFC=0, joining_as_RPFCII=0, joining_as_RPFCI=0, joining_as_ACC=0, joining_as_ACCHQ=0)\n",
      "Employee(eid=490, desig='RPFC-II', exp=3, age=68, active=False, joining_year=2020, retirement_year=2045, retirement_designation=RPFC-II, joining_as_APFC=0, joining_as_RPFCII=0, joining_as_RPFCI=0, joining_as_ACC=0, joining_as_ACCHQ=0)\n",
      "Employee(eid=491, desig='RPFC-II', exp=2, age=66, active=False, joining_year=2021, retirement_year=2047, retirement_designation=RPFC-II, joining_as_APFC=0, joining_as_RPFCII=0, joining_as_RPFCI=0, joining_as_ACC=0, joining_as_ACCHQ=0)\n",
      "Employee(eid=492, desig='RPFC-I', exp=0, age=75, active=False, joining_year=2018, retirement_year=2038, retirement_designation=RPFC-I, joining_as_APFC=0, joining_as_RPFCII=0, joining_as_RPFCI=46, joining_as_ACC=0, joining_as_ACCHQ=0)\n",
      "Employee(eid=493, desig='RPFC-II', exp=3, age=72, active=False, joining_year=2020, retirement_year=2041, retirement_designation=RPFC-II, joining_as_APFC=0, joining_as_RPFCII=0, joining_as_RPFCI=0, joining_as_ACC=0, joining_as_ACCHQ=0)\n",
      "Employee(eid=494, desig='RPFC-II', exp=0, age=81, active=False, joining_year=2023, retirement_year=2032, retirement_designation=RPFC-II, joining_as_APFC=0, joining_as_RPFCII=0, joining_as_RPFCI=0, joining_as_ACC=0, joining_as_ACCHQ=0)\n",
      "Employee(eid=495, desig='RPFC-I', exp=0, age=89, active=False, joining_year=2018, retirement_year=2024, retirement_designation=RPFC-I, joining_as_APFC=0, joining_as_RPFCII=0, joining_as_RPFCI=60, joining_as_ACC=0, joining_as_ACCHQ=0)\n",
      "Employee(eid=496, desig='RPFC-II', exp=3, age=61, active=False, joining_year=2020, retirement_year=2052, retirement_designation=RPFC-II, joining_as_APFC=0, joining_as_RPFCII=0, joining_as_RPFCI=0, joining_as_ACC=0, joining_as_ACCHQ=0)\n",
      "Employee(eid=497, desig='RPFC-II', exp=2, age=87, active=False, joining_year=2021, retirement_year=2026, retirement_designation=RPFC-II, joining_as_APFC=0, joining_as_RPFCII=0, joining_as_RPFCI=0, joining_as_ACC=0, joining_as_ACCHQ=0)\n",
      "Employee(eid=498, desig='RPFC-II', exp=4, age=82, active=False, joining_year=2019, retirement_year=2031, retirement_designation=RPFC-II, joining_as_APFC=0, joining_as_RPFCII=0, joining_as_RPFCI=0, joining_as_ACC=0, joining_as_ACCHQ=0)\n",
      "Employee(eid=499, desig='RPFC-I', exp=0, age=68, active=False, joining_year=2018, retirement_year=2045, retirement_designation=RPFC-I, joining_as_APFC=0, joining_as_RPFCII=0, joining_as_RPFCI=39, joining_as_ACC=0, joining_as_ACCHQ=0)\n",
      "Employee(eid=500, desig='RPFC-II', exp=2, age=84, active=False, joining_year=2021, retirement_year=2029, retirement_designation=RPFC-II, joining_as_APFC=0, joining_as_RPFCII=0, joining_as_RPFCI=0, joining_as_ACC=0, joining_as_ACCHQ=0)\n",
      "Employee(eid=501, desig='RPFC-II', exp=4, age=68, active=False, joining_year=2019, retirement_year=2045, retirement_designation=RPFC-II, joining_as_APFC=0, joining_as_RPFCII=0, joining_as_RPFCI=0, joining_as_ACC=0, joining_as_ACCHQ=0)\n",
      "Employee(eid=502, desig='RPFC-I', exp=0, age=69, active=False, joining_year=2018, retirement_year=2044, retirement_designation=RPFC-I, joining_as_APFC=0, joining_as_RPFCII=0, joining_as_RPFCI=40, joining_as_ACC=0, joining_as_ACCHQ=0)\n",
      "Employee(eid=503, desig='RPFC-I', exp=0, age=79, active=False, joining_year=2018, retirement_year=2034, retirement_designation=RPFC-I, joining_as_APFC=0, joining_as_RPFCII=0, joining_as_RPFCI=50, joining_as_ACC=0, joining_as_ACCHQ=0)\n",
      "Employee(eid=504, desig='RPFC-II', exp=4, age=63, active=False, joining_year=2019, retirement_year=2050, retirement_designation=RPFC-II, joining_as_APFC=0, joining_as_RPFCII=0, joining_as_RPFCI=0, joining_as_ACC=0, joining_as_ACCHQ=0)\n",
      "Employee(eid=505, desig='RPFC-I', exp=0, age=75, active=False, joining_year=2018, retirement_year=2038, retirement_designation=RPFC-I, joining_as_APFC=0, joining_as_RPFCII=0, joining_as_RPFCI=46, joining_as_ACC=0, joining_as_ACCHQ=0)\n",
      "Employee(eid=506, desig='RPFC-II', exp=3, age=82, active=False, joining_year=2020, retirement_year=2031, retirement_designation=RPFC-II, joining_as_APFC=0, joining_as_RPFCII=0, joining_as_RPFCI=0, joining_as_ACC=0, joining_as_ACCHQ=0)\n",
      "Employee(eid=507, desig='RPFC-II', exp=0, age=77, active=False, joining_year=2023, retirement_year=2036, retirement_designation=RPFC-II, joining_as_APFC=0, joining_as_RPFCII=0, joining_as_RPFCI=0, joining_as_ACC=0, joining_as_ACCHQ=0)\n",
      "Employee(eid=508, desig='RPFC-II', exp=0, age=76, active=False, joining_year=2023, retirement_year=2037, retirement_designation=RPFC-II, joining_as_APFC=0, joining_as_RPFCII=0, joining_as_RPFCI=0, joining_as_ACC=0, joining_as_ACCHQ=0)\n",
      "Employee(eid=509, desig='RPFC-II', exp=1, age=65, active=False, joining_year=2022, retirement_year=2048, retirement_designation=RPFC-II, joining_as_APFC=0, joining_as_RPFCII=0, joining_as_RPFCI=0, joining_as_ACC=0, joining_as_ACCHQ=0)\n",
      "Employee(eid=510, desig='RPFC-II', exp=0, age=66, active=False, joining_year=2023, retirement_year=2047, retirement_designation=RPFC-II, joining_as_APFC=0, joining_as_RPFCII=0, joining_as_RPFCI=0, joining_as_ACC=0, joining_as_ACCHQ=0)\n",
      "Employee(eid=511, desig='RPFC-II', exp=4, age=79, active=False, joining_year=2019, retirement_year=2034, retirement_designation=RPFC-II, joining_as_APFC=0, joining_as_RPFCII=0, joining_as_RPFCI=0, joining_as_ACC=0, joining_as_ACCHQ=0)\n",
      "Employee(eid=512, desig='RPFC-II', exp=4, age=75, active=False, joining_year=2019, retirement_year=2038, retirement_designation=RPFC-II, joining_as_APFC=0, joining_as_RPFCII=0, joining_as_RPFCI=0, joining_as_ACC=0, joining_as_ACCHQ=0)\n",
      "Employee(eid=513, desig='RPFC-I', exp=0, age=64, active=False, joining_year=2018, retirement_year=2049, retirement_designation=RPFC-I, joining_as_APFC=0, joining_as_RPFCII=0, joining_as_RPFCI=35, joining_as_ACC=0, joining_as_ACCHQ=0)\n",
      "Employee(eid=514, desig='RPFC-II', exp=4, age=82, active=False, joining_year=2019, retirement_year=2031, retirement_designation=RPFC-II, joining_as_APFC=0, joining_as_RPFCII=0, joining_as_RPFCI=0, joining_as_ACC=0, joining_as_ACCHQ=0)\n",
      "Employee(eid=515, desig='RPFC-I', exp=0, age=82, active=False, joining_year=2018, retirement_year=2031, retirement_designation=RPFC-I, joining_as_APFC=0, joining_as_RPFCII=0, joining_as_RPFCI=53, joining_as_ACC=0, joining_as_ACCHQ=0)\n",
      "Employee(eid=516, desig='RPFC-II', exp=2, age=69, active=False, joining_year=2021, retirement_year=2044, retirement_designation=RPFC-II, joining_as_APFC=0, joining_as_RPFCII=0, joining_as_RPFCI=0, joining_as_ACC=0, joining_as_ACCHQ=0)\n",
      "Employee(eid=517, desig='RPFC-II', exp=1, age=67, active=False, joining_year=2022, retirement_year=2046, retirement_designation=RPFC-II, joining_as_APFC=0, joining_as_RPFCII=0, joining_as_RPFCI=0, joining_as_ACC=0, joining_as_ACCHQ=0)\n",
      "Employee(eid=518, desig='RPFC-II', exp=2, age=70, active=False, joining_year=2021, retirement_year=2043, retirement_designation=RPFC-II, joining_as_APFC=0, joining_as_RPFCII=0, joining_as_RPFCI=0, joining_as_ACC=0, joining_as_ACCHQ=0)\n",
      "Employee(eid=519, desig='RPFC-II', exp=3, age=82, active=False, joining_year=2020, retirement_year=2031, retirement_designation=RPFC-II, joining_as_APFC=0, joining_as_RPFCII=0, joining_as_RPFCI=0, joining_as_ACC=0, joining_as_ACCHQ=0)\n",
      "Employee(eid=520, desig='RPFC-II', exp=3, age=78, active=False, joining_year=2020, retirement_year=2035, retirement_designation=RPFC-II, joining_as_APFC=0, joining_as_RPFCII=0, joining_as_RPFCI=0, joining_as_ACC=0, joining_as_ACCHQ=0)\n",
      "Employee(eid=521, desig='RPFC-II', exp=1, age=81, active=False, joining_year=2022, retirement_year=2032, retirement_designation=RPFC-II, joining_as_APFC=0, joining_as_RPFCII=0, joining_as_RPFCI=0, joining_as_ACC=0, joining_as_ACCHQ=0)\n",
      "Employee(eid=522, desig='RPFC-II', exp=2, age=63, active=False, joining_year=2021, retirement_year=2050, retirement_designation=RPFC-II, joining_as_APFC=0, joining_as_RPFCII=0, joining_as_RPFCI=0, joining_as_ACC=0, joining_as_ACCHQ=0)\n",
      "Employee(eid=523, desig='RPFC-II', exp=2, age=89, active=False, joining_year=2021, retirement_year=2024, retirement_designation=RPFC-II, joining_as_APFC=0, joining_as_RPFCII=0, joining_as_RPFCI=0, joining_as_ACC=0, joining_as_ACCHQ=0)\n",
      "Employee(eid=524, desig='RPFC-I', exp=0, age=77, active=False, joining_year=2018, retirement_year=2036, retirement_designation=RPFC-I, joining_as_APFC=0, joining_as_RPFCII=0, joining_as_RPFCI=48, joining_as_ACC=0, joining_as_ACCHQ=0)\n",
      "Employee(eid=525, desig='RPFC-II', exp=3, age=63, active=False, joining_year=2020, retirement_year=2050, retirement_designation=RPFC-II, joining_as_APFC=0, joining_as_RPFCII=0, joining_as_RPFCI=0, joining_as_ACC=0, joining_as_ACCHQ=0)\n",
      "Employee(eid=526, desig='RPFC-II', exp=2, age=70, active=False, joining_year=2021, retirement_year=2043, retirement_designation=RPFC-II, joining_as_APFC=0, joining_as_RPFCII=0, joining_as_RPFCI=0, joining_as_ACC=0, joining_as_ACCHQ=0)\n",
      "Employee(eid=527, desig='RPFC-II', exp=3, age=79, active=False, joining_year=2020, retirement_year=2034, retirement_designation=RPFC-II, joining_as_APFC=0, joining_as_RPFCII=0, joining_as_RPFCI=0, joining_as_ACC=0, joining_as_ACCHQ=0)\n",
      "Employee(eid=528, desig='RPFC-II', exp=0, age=57, active=True, joining_year=2023, retirement_year=2056, retirement_designation=RPFC-II, joining_as_APFC=0, joining_as_RPFCII=0, joining_as_RPFCI=0, joining_as_ACC=0, joining_as_ACCHQ=0)\n",
      "Employee(eid=529, desig='RPFC-I', exp=1, age=65, active=False, joining_year=2022, retirement_year=2048, retirement_designation=RPFC-I, joining_as_APFC=0, joining_as_RPFCII=0, joining_as_RPFCI=0, joining_as_ACC=0, joining_as_ACCHQ=0)\n",
      "Employee(eid=530, desig='RPFC-I', exp=4, age=82, active=False, joining_year=2019, retirement_year=2031, retirement_designation=RPFC-I, joining_as_APFC=0, joining_as_RPFCII=0, joining_as_RPFCI=0, joining_as_ACC=0, joining_as_ACCHQ=0)\n",
      "Employee(eid=531, desig='RPFC-I', exp=3, age=76, active=False, joining_year=2020, retirement_year=2037, retirement_designation=RPFC-I, joining_as_APFC=0, joining_as_RPFCII=0, joining_as_RPFCI=0, joining_as_ACC=0, joining_as_ACCHQ=0)\n",
      "Employee(eid=532, desig='RPFC-I', exp=1, age=72, active=False, joining_year=2022, retirement_year=2041, retirement_designation=RPFC-I, joining_as_APFC=0, joining_as_RPFCII=0, joining_as_RPFCI=0, joining_as_ACC=0, joining_as_ACCHQ=0)\n",
      "Employee(eid=533, desig='RPFC-I', exp=0, age=65, active=False, joining_year=2023, retirement_year=2048, retirement_designation=RPFC-I, joining_as_APFC=0, joining_as_RPFCII=0, joining_as_RPFCI=0, joining_as_ACC=0, joining_as_ACCHQ=0)\n",
      "Employee(eid=534, desig='RPFC-I', exp=1, age=76, active=False, joining_year=2022, retirement_year=2037, retirement_designation=RPFC-I, joining_as_APFC=0, joining_as_RPFCII=0, joining_as_RPFCI=0, joining_as_ACC=0, joining_as_ACCHQ=0)\n",
      "Employee(eid=535, desig='RPFC-I', exp=1, age=71, active=False, joining_year=2022, retirement_year=2042, retirement_designation=RPFC-I, joining_as_APFC=0, joining_as_RPFCII=0, joining_as_RPFCI=0, joining_as_ACC=0, joining_as_ACCHQ=0)\n",
      "Employee(eid=536, desig='RPFC-I', exp=2, age=71, active=False, joining_year=2021, retirement_year=2042, retirement_designation=RPFC-I, joining_as_APFC=0, joining_as_RPFCII=0, joining_as_RPFCI=0, joining_as_ACC=0, joining_as_ACCHQ=0)\n",
      "Employee(eid=537, desig='RPFC-I', exp=2, age=70, active=False, joining_year=2021, retirement_year=2043, retirement_designation=RPFC-I, joining_as_APFC=0, joining_as_RPFCII=0, joining_as_RPFCI=0, joining_as_ACC=0, joining_as_ACCHQ=0)\n",
      "Employee(eid=538, desig='RPFC-I', exp=2, age=85, active=False, joining_year=2021, retirement_year=2028, retirement_designation=RPFC-I, joining_as_APFC=0, joining_as_RPFCII=0, joining_as_RPFCI=0, joining_as_ACC=0, joining_as_ACCHQ=0)\n",
      "Employee(eid=539, desig='RPFC-I', exp=1, age=77, active=False, joining_year=2022, retirement_year=2036, retirement_designation=RPFC-I, joining_as_APFC=0, joining_as_RPFCII=0, joining_as_RPFCI=0, joining_as_ACC=0, joining_as_ACCHQ=0)\n",
      "Employee(eid=540, desig='RPFC-I', exp=3, age=70, active=False, joining_year=2020, retirement_year=2043, retirement_designation=RPFC-I, joining_as_APFC=0, joining_as_RPFCII=0, joining_as_RPFCI=0, joining_as_ACC=0, joining_as_ACCHQ=0)\n",
      "Employee(eid=541, desig='RPFC-I', exp=2, age=85, active=False, joining_year=2021, retirement_year=2028, retirement_designation=RPFC-I, joining_as_APFC=0, joining_as_RPFCII=0, joining_as_RPFCI=0, joining_as_ACC=0, joining_as_ACCHQ=0)\n",
      "Employee(eid=542, desig='ACC', exp=0, age=72, active=False, joining_year=2018, retirement_year=2041, retirement_designation=ACC, joining_as_APFC=0, joining_as_RPFCII=0, joining_as_RPFCI=0, joining_as_ACC=43, joining_as_ACCHQ=0)\n",
      "Employee(eid=543, desig='RPFC-I', exp=0, age=86, active=False, joining_year=2023, retirement_year=2027, retirement_designation=RPFC-I, joining_as_APFC=0, joining_as_RPFCII=0, joining_as_RPFCI=0, joining_as_ACC=0, joining_as_ACCHQ=0)\n",
      "Employee(eid=544, desig='RPFC-I', exp=0, age=78, active=False, joining_year=2023, retirement_year=2035, retirement_designation=RPFC-I, joining_as_APFC=0, joining_as_RPFCII=0, joining_as_RPFCI=0, joining_as_ACC=0, joining_as_ACCHQ=0)\n",
      "Employee(eid=545, desig='ACC', exp=0, age=78, active=False, joining_year=2018, retirement_year=2035, retirement_designation=ACC, joining_as_APFC=0, joining_as_RPFCII=0, joining_as_RPFCI=0, joining_as_ACC=49, joining_as_ACCHQ=0)\n",
      "Employee(eid=546, desig='RPFC-I', exp=2, age=65, active=False, joining_year=2021, retirement_year=2048, retirement_designation=RPFC-I, joining_as_APFC=0, joining_as_RPFCII=0, joining_as_RPFCI=0, joining_as_ACC=0, joining_as_ACCHQ=0)\n",
      "Employee(eid=547, desig='RPFC-I', exp=4, age=90, active=False, joining_year=2019, retirement_year=2023, retirement_designation=RPFC-I, joining_as_APFC=0, joining_as_RPFCII=0, joining_as_RPFCI=0, joining_as_ACC=0, joining_as_ACCHQ=0)\n",
      "Employee(eid=548, desig='RPFC-I', exp=0, age=72, active=False, joining_year=2023, retirement_year=2041, retirement_designation=RPFC-I, joining_as_APFC=0, joining_as_RPFCII=0, joining_as_RPFCI=0, joining_as_ACC=0, joining_as_ACCHQ=0)\n",
      "Employee(eid=549, desig='RPFC-I', exp=2, age=80, active=False, joining_year=2021, retirement_year=2033, retirement_designation=RPFC-I, joining_as_APFC=0, joining_as_RPFCII=0, joining_as_RPFCI=0, joining_as_ACC=0, joining_as_ACCHQ=0)\n",
      "Employee(eid=550, desig='RPFC-I', exp=4, age=80, active=False, joining_year=2019, retirement_year=2033, retirement_designation=RPFC-I, joining_as_APFC=0, joining_as_RPFCII=0, joining_as_RPFCI=0, joining_as_ACC=0, joining_as_ACCHQ=0)\n",
      "Employee(eid=551, desig='RPFC-I', exp=3, age=88, active=False, joining_year=2020, retirement_year=2025, retirement_designation=RPFC-I, joining_as_APFC=0, joining_as_RPFCII=0, joining_as_RPFCI=0, joining_as_ACC=0, joining_as_ACCHQ=0)\n",
      "Employee(eid=552, desig='RPFC-I', exp=2, age=73, active=False, joining_year=2021, retirement_year=2040, retirement_designation=RPFC-I, joining_as_APFC=0, joining_as_RPFCII=0, joining_as_RPFCI=0, joining_as_ACC=0, joining_as_ACCHQ=0)\n",
      "Employee(eid=553, desig='RPFC-I', exp=4, age=89, active=False, joining_year=2019, retirement_year=2024, retirement_designation=RPFC-I, joining_as_APFC=0, joining_as_RPFCII=0, joining_as_RPFCI=0, joining_as_ACC=0, joining_as_ACCHQ=0)\n",
      "Employee(eid=554, desig='RPFC-I', exp=2, age=84, active=False, joining_year=2021, retirement_year=2029, retirement_designation=RPFC-I, joining_as_APFC=0, joining_as_RPFCII=0, joining_as_RPFCI=0, joining_as_ACC=0, joining_as_ACCHQ=0)\n",
      "Employee(eid=555, desig='RPFC-I', exp=4, age=78, active=False, joining_year=2019, retirement_year=2035, retirement_designation=RPFC-I, joining_as_APFC=0, joining_as_RPFCII=0, joining_as_RPFCI=0, joining_as_ACC=0, joining_as_ACCHQ=0)\n",
      "Employee(eid=556, desig='RPFC-I', exp=2, age=89, active=False, joining_year=2021, retirement_year=2024, retirement_designation=RPFC-I, joining_as_APFC=0, joining_as_RPFCII=0, joining_as_RPFCI=0, joining_as_ACC=0, joining_as_ACCHQ=0)\n",
      "Employee(eid=557, desig='ACC', exp=0, age=84, active=False, joining_year=2018, retirement_year=2029, retirement_designation=ACC, joining_as_APFC=0, joining_as_RPFCII=0, joining_as_RPFCI=0, joining_as_ACC=55, joining_as_ACCHQ=0)\n",
      "Employee(eid=558, desig='RPFC-I', exp=2, age=77, active=False, joining_year=2021, retirement_year=2036, retirement_designation=RPFC-I, joining_as_APFC=0, joining_as_RPFCII=0, joining_as_RPFCI=0, joining_as_ACC=0, joining_as_ACCHQ=0)\n",
      "Employee(eid=559, desig='RPFC-I', exp=3, age=66, active=False, joining_year=2020, retirement_year=2047, retirement_designation=RPFC-I, joining_as_APFC=0, joining_as_RPFCII=0, joining_as_RPFCI=0, joining_as_ACC=0, joining_as_ACCHQ=0)\n",
      "Employee(eid=560, desig='RPFC-I', exp=2, age=84, active=False, joining_year=2021, retirement_year=2029, retirement_designation=RPFC-I, joining_as_APFC=0, joining_as_RPFCII=0, joining_as_RPFCI=0, joining_as_ACC=0, joining_as_ACCHQ=0)\n",
      "Employee(eid=561, desig='ACC', exp=0, age=72, active=False, joining_year=2018, retirement_year=2041, retirement_designation=ACC, joining_as_APFC=0, joining_as_RPFCII=0, joining_as_RPFCI=0, joining_as_ACC=43, joining_as_ACCHQ=0)\n",
      "Employee(eid=562, desig='RPFC-I', exp=2, age=75, active=False, joining_year=2021, retirement_year=2038, retirement_designation=RPFC-I, joining_as_APFC=0, joining_as_RPFCII=0, joining_as_RPFCI=0, joining_as_ACC=0, joining_as_ACCHQ=0)\n",
      "Employee(eid=563, desig='RPFC-I', exp=3, age=77, active=False, joining_year=2020, retirement_year=2036, retirement_designation=RPFC-I, joining_as_APFC=0, joining_as_RPFCII=0, joining_as_RPFCI=0, joining_as_ACC=0, joining_as_ACCHQ=0)\n",
      "Employee(eid=564, desig='RPFC-I', exp=4, age=90, active=False, joining_year=2019, retirement_year=2023, retirement_designation=RPFC-I, joining_as_APFC=0, joining_as_RPFCII=0, joining_as_RPFCI=0, joining_as_ACC=0, joining_as_ACCHQ=0)\n",
      "Employee(eid=565, desig='RPFC-I', exp=2, age=90, active=False, joining_year=2021, retirement_year=2023, retirement_designation=RPFC-I, joining_as_APFC=0, joining_as_RPFCII=0, joining_as_RPFCI=0, joining_as_ACC=0, joining_as_ACCHQ=0)\n",
      "Employee(eid=566, desig='RPFC-I', exp=4, age=67, active=False, joining_year=2019, retirement_year=2046, retirement_designation=RPFC-I, joining_as_APFC=0, joining_as_RPFCII=0, joining_as_RPFCI=0, joining_as_ACC=0, joining_as_ACCHQ=0)\n",
      "Employee(eid=567, desig='ACC', exp=0, age=87, active=False, joining_year=2018, retirement_year=2026, retirement_designation=ACC, joining_as_APFC=0, joining_as_RPFCII=0, joining_as_RPFCI=0, joining_as_ACC=58, joining_as_ACCHQ=0)\n",
      "Employee(eid=568, desig='RPFC-I', exp=4, age=89, active=False, joining_year=2019, retirement_year=2024, retirement_designation=RPFC-I, joining_as_APFC=0, joining_as_RPFCII=0, joining_as_RPFCI=0, joining_as_ACC=0, joining_as_ACCHQ=0)\n",
      "Employee(eid=569, desig='RPFC-I', exp=5, age=90, active=False, joining_year=2018, retirement_year=2023, retirement_designation=RPFC-I, joining_as_APFC=0, joining_as_RPFCII=0, joining_as_RPFCI=0, joining_as_ACC=0, joining_as_ACCHQ=0)\n",
      "Employee(eid=570, desig='RPFC-I', exp=2, age=76, active=False, joining_year=2021, retirement_year=2037, retirement_designation=RPFC-I, joining_as_APFC=0, joining_as_RPFCII=0, joining_as_RPFCI=0, joining_as_ACC=0, joining_as_ACCHQ=0)\n",
      "Employee(eid=571, desig='ACC', exp=0, age=76, active=False, joining_year=2018, retirement_year=2037, retirement_designation=ACC, joining_as_APFC=0, joining_as_RPFCII=0, joining_as_RPFCI=0, joining_as_ACC=47, joining_as_ACCHQ=0)\n",
      "Employee(eid=572, desig='ACC', exp=0, age=74, active=False, joining_year=2018, retirement_year=2039, retirement_designation=ACC, joining_as_APFC=0, joining_as_RPFCII=0, joining_as_RPFCI=0, joining_as_ACC=45, joining_as_ACCHQ=0)\n",
      "Employee(eid=573, desig='RPFC-I', exp=3, age=90, active=False, joining_year=2020, retirement_year=2023, retirement_designation=RPFC-I, joining_as_APFC=0, joining_as_RPFCII=0, joining_as_RPFCI=0, joining_as_ACC=0, joining_as_ACCHQ=0)\n",
      "Employee(eid=574, desig='RPFC-I', exp=4, age=88, active=False, joining_year=2019, retirement_year=2025, retirement_designation=RPFC-I, joining_as_APFC=0, joining_as_RPFCII=0, joining_as_RPFCI=0, joining_as_ACC=0, joining_as_ACCHQ=0)\n",
      "Employee(eid=575, desig='RPFC-I', exp=4, age=90, active=False, joining_year=2019, retirement_year=2023, retirement_designation=RPFC-I, joining_as_APFC=0, joining_as_RPFCII=0, joining_as_RPFCI=0, joining_as_ACC=0, joining_as_ACCHQ=0)\n",
      "Employee(eid=576, desig='ACC', exp=0, age=70, active=False, joining_year=2018, retirement_year=2043, retirement_designation=ACC, joining_as_APFC=0, joining_as_RPFCII=0, joining_as_RPFCI=0, joining_as_ACC=41, joining_as_ACCHQ=0)\n",
      "Employee(eid=577, desig='RPFC-I', exp=1, age=82, active=False, joining_year=2022, retirement_year=2031, retirement_designation=RPFC-I, joining_as_APFC=0, joining_as_RPFCII=0, joining_as_RPFCI=0, joining_as_ACC=0, joining_as_ACCHQ=0)\n",
      "Employee(eid=578, desig='RPFC-I', exp=3, age=74, active=False, joining_year=2020, retirement_year=2039, retirement_designation=RPFC-I, joining_as_APFC=0, joining_as_RPFCII=0, joining_as_RPFCI=0, joining_as_ACC=0, joining_as_ACCHQ=0)\n",
      "Employee(eid=579, desig='RPFC-I', exp=0, age=79, active=False, joining_year=2023, retirement_year=2034, retirement_designation=RPFC-I, joining_as_APFC=0, joining_as_RPFCII=0, joining_as_RPFCI=0, joining_as_ACC=0, joining_as_ACCHQ=0)\n",
      "Employee(eid=580, desig='RPFC-I', exp=3, age=68, active=False, joining_year=2020, retirement_year=2045, retirement_designation=RPFC-I, joining_as_APFC=0, joining_as_RPFCII=0, joining_as_RPFCI=0, joining_as_ACC=0, joining_as_ACCHQ=0)\n",
      "Employee(eid=581, desig='RPFC-I', exp=1, age=79, active=False, joining_year=2022, retirement_year=2034, retirement_designation=RPFC-I, joining_as_APFC=0, joining_as_RPFCII=0, joining_as_RPFCI=0, joining_as_ACC=0, joining_as_ACCHQ=0)\n",
      "Employee(eid=582, desig='RPFC-I', exp=1, age=89, active=False, joining_year=2022, retirement_year=2024, retirement_designation=RPFC-I, joining_as_APFC=0, joining_as_RPFCII=0, joining_as_RPFCI=0, joining_as_ACC=0, joining_as_ACCHQ=0)\n",
      "Employee(eid=583, desig='RPFC-I', exp=1, age=76, active=False, joining_year=2022, retirement_year=2037, retirement_designation=RPFC-I, joining_as_APFC=0, joining_as_RPFCII=0, joining_as_RPFCI=0, joining_as_ACC=0, joining_as_ACCHQ=0)\n",
      "Employee(eid=584, desig='RPFC-I', exp=1, age=89, active=False, joining_year=2022, retirement_year=2024, retirement_designation=RPFC-I, joining_as_APFC=0, joining_as_RPFCII=0, joining_as_RPFCI=0, joining_as_ACC=0, joining_as_ACCHQ=0)\n",
      "Employee(eid=585, desig='RPFC-I', exp=3, age=68, active=False, joining_year=2020, retirement_year=2045, retirement_designation=RPFC-I, joining_as_APFC=0, joining_as_RPFCII=0, joining_as_RPFCI=0, joining_as_ACC=0, joining_as_ACCHQ=0)\n",
      "Employee(eid=586, desig='RPFC-I', exp=1, age=85, active=False, joining_year=2022, retirement_year=2028, retirement_designation=RPFC-I, joining_as_APFC=0, joining_as_RPFCII=0, joining_as_RPFCI=0, joining_as_ACC=0, joining_as_ACCHQ=0)\n",
      "Employee(eid=587, desig='RPFC-I', exp=0, age=82, active=False, joining_year=2023, retirement_year=2031, retirement_designation=RPFC-I, joining_as_APFC=0, joining_as_RPFCII=0, joining_as_RPFCI=0, joining_as_ACC=0, joining_as_ACCHQ=0)\n",
      "Employee(eid=588, desig='RPFC-I', exp=4, age=82, active=False, joining_year=2019, retirement_year=2031, retirement_designation=RPFC-I, joining_as_APFC=0, joining_as_RPFCII=0, joining_as_RPFCI=0, joining_as_ACC=0, joining_as_ACCHQ=0)\n",
      "Employee(eid=589, desig='RPFC-I', exp=4, age=78, active=False, joining_year=2019, retirement_year=2035, retirement_designation=RPFC-I, joining_as_APFC=0, joining_as_RPFCII=0, joining_as_RPFCI=0, joining_as_ACC=0, joining_as_ACCHQ=0)\n",
      "Employee(eid=590, desig='RPFC-I', exp=4, age=72, active=False, joining_year=2019, retirement_year=2041, retirement_designation=RPFC-I, joining_as_APFC=0, joining_as_RPFCII=0, joining_as_RPFCI=0, joining_as_ACC=0, joining_as_ACCHQ=0)\n",
      "Employee(eid=591, desig='RPFC-I', exp=3, age=70, active=False, joining_year=2020, retirement_year=2043, retirement_designation=RPFC-I, joining_as_APFC=0, joining_as_RPFCII=0, joining_as_RPFCI=0, joining_as_ACC=0, joining_as_ACCHQ=0)\n",
      "Employee(eid=592, desig='RPFC-I', exp=0, age=68, active=False, joining_year=2023, retirement_year=2045, retirement_designation=RPFC-I, joining_as_APFC=0, joining_as_RPFCII=0, joining_as_RPFCI=0, joining_as_ACC=0, joining_as_ACCHQ=0)\n",
      "Employee(eid=593, desig='RPFC-I', exp=2, age=73, active=False, joining_year=2021, retirement_year=2040, retirement_designation=RPFC-I, joining_as_APFC=0, joining_as_RPFCII=0, joining_as_RPFCI=0, joining_as_ACC=0, joining_as_ACCHQ=0)\n",
      "Employee(eid=594, desig='RPFC-I', exp=0, age=84, active=False, joining_year=2023, retirement_year=2029, retirement_designation=RPFC-I, joining_as_APFC=0, joining_as_RPFCII=0, joining_as_RPFCI=0, joining_as_ACC=0, joining_as_ACCHQ=0)\n",
      "Employee(eid=595, desig='ACC', exp=0, age=79, active=False, joining_year=2018, retirement_year=2034, retirement_designation=ACC, joining_as_APFC=0, joining_as_RPFCII=0, joining_as_RPFCI=0, joining_as_ACC=50, joining_as_ACCHQ=0)\n",
      "Employee(eid=596, desig='ACC', exp=0, age=78, active=False, joining_year=2018, retirement_year=2035, retirement_designation=ACC, joining_as_APFC=0, joining_as_RPFCII=0, joining_as_RPFCI=0, joining_as_ACC=50, joining_as_ACCHQ=0)\n",
      "Employee(eid=597, desig='RPFC-I', exp=4, age=86, active=False, joining_year=2019, retirement_year=2027, retirement_designation=RPFC-I, joining_as_APFC=0, joining_as_RPFCII=0, joining_as_RPFCI=0, joining_as_ACC=0, joining_as_ACCHQ=0)\n",
      "Employee(eid=598, desig='ACC', exp=0, age=87, active=False, joining_year=2018, retirement_year=2026, retirement_designation=ACC, joining_as_APFC=0, joining_as_RPFCII=0, joining_as_RPFCI=0, joining_as_ACC=59, joining_as_ACCHQ=0)\n",
      "Employee(eid=599, desig='RPFC-I', exp=1, age=81, active=False, joining_year=2022, retirement_year=2032, retirement_designation=RPFC-I, joining_as_APFC=0, joining_as_RPFCII=0, joining_as_RPFCI=0, joining_as_ACC=0, joining_as_ACCHQ=0)\n",
      "Employee(eid=600, desig='RPFC-I', exp=3, age=72, active=False, joining_year=2020, retirement_year=2041, retirement_designation=RPFC-I, joining_as_APFC=0, joining_as_RPFCII=0, joining_as_RPFCI=0, joining_as_ACC=0, joining_as_ACCHQ=0)\n",
      "Employee(eid=601, desig='RPFC-I', exp=1, age=78, active=False, joining_year=2022, retirement_year=2035, retirement_designation=RPFC-I, joining_as_APFC=0, joining_as_RPFCII=0, joining_as_RPFCI=0, joining_as_ACC=0, joining_as_ACCHQ=0)\n",
      "Employee(eid=602, desig='ACC', exp=0, age=83, active=False, joining_year=2018, retirement_year=2030, retirement_designation=ACC, joining_as_APFC=0, joining_as_RPFCII=0, joining_as_RPFCI=0, joining_as_ACC=55, joining_as_ACCHQ=0)\n",
      "Employee(eid=603, desig='RPFC-I', exp=1, age=88, active=False, joining_year=2022, retirement_year=2025, retirement_designation=RPFC-I, joining_as_APFC=0, joining_as_RPFCII=0, joining_as_RPFCI=0, joining_as_ACC=0, joining_as_ACCHQ=0)\n",
      "Employee(eid=604, desig='RPFC-I', exp=2, age=67, active=False, joining_year=2021, retirement_year=2046, retirement_designation=RPFC-I, joining_as_APFC=0, joining_as_RPFCII=0, joining_as_RPFCI=0, joining_as_ACC=0, joining_as_ACCHQ=0)\n",
      "Employee(eid=605, desig='RPFC-I', exp=2, age=78, active=False, joining_year=2021, retirement_year=2035, retirement_designation=RPFC-I, joining_as_APFC=0, joining_as_RPFCII=0, joining_as_RPFCI=0, joining_as_ACC=0, joining_as_ACCHQ=0)\n",
      "Employee(eid=606, desig='ACC', exp=0, age=76, active=False, joining_year=2018, retirement_year=2037, retirement_designation=ACC, joining_as_APFC=0, joining_as_RPFCII=0, joining_as_RPFCI=0, joining_as_ACC=48, joining_as_ACCHQ=0)\n",
      "Employee(eid=607, desig='RPFC-I', exp=2, age=80, active=False, joining_year=2021, retirement_year=2033, retirement_designation=RPFC-I, joining_as_APFC=0, joining_as_RPFCII=0, joining_as_RPFCI=0, joining_as_ACC=0, joining_as_ACCHQ=0)\n",
      "Employee(eid=608, desig='RPFC-I', exp=0, age=71, active=False, joining_year=2023, retirement_year=2042, retirement_designation=RPFC-I, joining_as_APFC=0, joining_as_RPFCII=0, joining_as_RPFCI=0, joining_as_ACC=0, joining_as_ACCHQ=0)\n",
      "Employee(eid=609, desig='RPFC-I', exp=1, age=86, active=False, joining_year=2022, retirement_year=2027, retirement_designation=RPFC-I, joining_as_APFC=0, joining_as_RPFCII=0, joining_as_RPFCI=0, joining_as_ACC=0, joining_as_ACCHQ=0)\n",
      "Employee(eid=610, desig='RPFC-I', exp=1, age=77, active=False, joining_year=2022, retirement_year=2036, retirement_designation=RPFC-I, joining_as_APFC=0, joining_as_RPFCII=0, joining_as_RPFCI=0, joining_as_ACC=0, joining_as_ACCHQ=0)\n",
      "Employee(eid=611, desig='RPFC-I', exp=3, age=71, active=False, joining_year=2020, retirement_year=2042, retirement_designation=RPFC-I, joining_as_APFC=0, joining_as_RPFCII=0, joining_as_RPFCI=0, joining_as_ACC=0, joining_as_ACCHQ=0)\n",
      "Employee(eid=612, desig='ACC', exp=0, age=71, active=False, joining_year=2018, retirement_year=2042, retirement_designation=ACC, joining_as_APFC=0, joining_as_RPFCII=0, joining_as_RPFCI=0, joining_as_ACC=43, joining_as_ACCHQ=0)\n",
      "Employee(eid=613, desig='RPFC-I', exp=1, age=90, active=False, joining_year=2022, retirement_year=2023, retirement_designation=RPFC-I, joining_as_APFC=0, joining_as_RPFCII=0, joining_as_RPFCI=0, joining_as_ACC=0, joining_as_ACCHQ=0)\n",
      "Employee(eid=614, desig='RPFC-I', exp=0, age=68, active=False, joining_year=2023, retirement_year=2045, retirement_designation=RPFC-I, joining_as_APFC=0, joining_as_RPFCII=0, joining_as_RPFCI=0, joining_as_ACC=0, joining_as_ACCHQ=0)\n",
      "Employee(eid=615, desig='RPFC-I', exp=3, age=74, active=False, joining_year=2020, retirement_year=2039, retirement_designation=RPFC-I, joining_as_APFC=0, joining_as_RPFCII=0, joining_as_RPFCI=0, joining_as_ACC=0, joining_as_ACCHQ=0)\n",
      "Employee(eid=616, desig='RPFC-I', exp=0, age=75, active=False, joining_year=2023, retirement_year=2038, retirement_designation=RPFC-I, joining_as_APFC=0, joining_as_RPFCII=0, joining_as_RPFCI=0, joining_as_ACC=0, joining_as_ACCHQ=0)\n",
      "Employee(eid=617, desig='RPFC-I', exp=4, age=89, active=False, joining_year=2019, retirement_year=2024, retirement_designation=RPFC-I, joining_as_APFC=0, joining_as_RPFCII=0, joining_as_RPFCI=0, joining_as_ACC=0, joining_as_ACCHQ=0)\n",
      "Employee(eid=618, desig='RPFC-I', exp=2, age=80, active=False, joining_year=2021, retirement_year=2033, retirement_designation=RPFC-I, joining_as_APFC=0, joining_as_RPFCII=0, joining_as_RPFCI=0, joining_as_ACC=0, joining_as_ACCHQ=0)\n",
      "Employee(eid=619, desig='RPFC-I', exp=0, age=84, active=False, joining_year=2023, retirement_year=2029, retirement_designation=RPFC-I, joining_as_APFC=0, joining_as_RPFCII=0, joining_as_RPFCI=0, joining_as_ACC=0, joining_as_ACCHQ=0)\n",
      "Employee(eid=620, desig='RPFC-I', exp=3, age=79, active=False, joining_year=2020, retirement_year=2034, retirement_designation=RPFC-I, joining_as_APFC=0, joining_as_RPFCII=0, joining_as_RPFCI=0, joining_as_ACC=0, joining_as_ACCHQ=0)\n",
      "Employee(eid=621, desig='RPFC-I', exp=0, age=73, active=False, joining_year=2023, retirement_year=2040, retirement_designation=RPFC-I, joining_as_APFC=0, joining_as_RPFCII=0, joining_as_RPFCI=0, joining_as_ACC=0, joining_as_ACCHQ=0)\n",
      "Employee(eid=622, desig='RPFC-I', exp=1, age=73, active=False, joining_year=2022, retirement_year=2040, retirement_designation=RPFC-I, joining_as_APFC=0, joining_as_RPFCII=0, joining_as_RPFCI=0, joining_as_ACC=0, joining_as_ACCHQ=0)\n",
      "Employee(eid=623, desig='RPFC-I', exp=4, age=82, active=False, joining_year=2019, retirement_year=2031, retirement_designation=RPFC-I, joining_as_APFC=0, joining_as_RPFCII=0, joining_as_RPFCI=0, joining_as_ACC=0, joining_as_ACCHQ=0)\n",
      "Employee(eid=624, desig='RPFC-I', exp=4, age=72, active=False, joining_year=2019, retirement_year=2041, retirement_designation=RPFC-I, joining_as_APFC=0, joining_as_RPFCII=0, joining_as_RPFCI=0, joining_as_ACC=0, joining_as_ACCHQ=0)\n",
      "Employee(eid=625, desig='RPFC-I', exp=4, age=90, active=False, joining_year=2019, retirement_year=2023, retirement_designation=RPFC-I, joining_as_APFC=0, joining_as_RPFCII=0, joining_as_RPFCI=0, joining_as_ACC=0, joining_as_ACCHQ=0)\n",
      "Employee(eid=626, desig='RPFC-I', exp=1, age=72, active=False, joining_year=2022, retirement_year=2041, retirement_designation=RPFC-I, joining_as_APFC=0, joining_as_RPFCII=0, joining_as_RPFCI=0, joining_as_ACC=0, joining_as_ACCHQ=0)\n",
      "Employee(eid=627, desig='RPFC-I', exp=4, age=86, active=False, joining_year=2019, retirement_year=2027, retirement_designation=RPFC-I, joining_as_APFC=0, joining_as_RPFCII=0, joining_as_RPFCI=0, joining_as_ACC=0, joining_as_ACCHQ=0)\n",
      "Employee(eid=628, desig='RPFC-I', exp=0, age=88, active=False, joining_year=2023, retirement_year=2025, retirement_designation=RPFC-I, joining_as_APFC=0, joining_as_RPFCII=0, joining_as_RPFCI=0, joining_as_ACC=0, joining_as_ACCHQ=0)\n",
      "Employee(eid=629, desig='RPFC-I', exp=4, age=88, active=False, joining_year=2019, retirement_year=2025, retirement_designation=RPFC-I, joining_as_APFC=0, joining_as_RPFCII=0, joining_as_RPFCI=0, joining_as_ACC=0, joining_as_ACCHQ=0)\n",
      "Employee(eid=630, desig='RPFC-I', exp=2, age=77, active=False, joining_year=2021, retirement_year=2036, retirement_designation=RPFC-I, joining_as_APFC=0, joining_as_RPFCII=0, joining_as_RPFCI=0, joining_as_ACC=0, joining_as_ACCHQ=0)\n",
      "Employee(eid=631, desig='RPFC-I', exp=2, age=82, active=False, joining_year=2021, retirement_year=2031, retirement_designation=RPFC-I, joining_as_APFC=0, joining_as_RPFCII=0, joining_as_RPFCI=0, joining_as_ACC=0, joining_as_ACCHQ=0)\n",
      "Employee(eid=632, desig='RPFC-I', exp=1, age=88, active=False, joining_year=2022, retirement_year=2025, retirement_designation=RPFC-I, joining_as_APFC=0, joining_as_RPFCII=0, joining_as_RPFCI=0, joining_as_ACC=0, joining_as_ACCHQ=0)\n",
      "Employee(eid=633, desig='RPFC-I', exp=4, age=86, active=False, joining_year=2019, retirement_year=2027, retirement_designation=RPFC-I, joining_as_APFC=0, joining_as_RPFCII=0, joining_as_RPFCI=0, joining_as_ACC=0, joining_as_ACCHQ=0)\n",
      "Employee(eid=634, desig='RPFC-I', exp=1, age=68, active=False, joining_year=2022, retirement_year=2045, retirement_designation=RPFC-I, joining_as_APFC=0, joining_as_RPFCII=0, joining_as_RPFCI=0, joining_as_ACC=0, joining_as_ACCHQ=0)\n",
      "Employee(eid=635, desig='RPFC-I', exp=0, age=69, active=False, joining_year=2023, retirement_year=2044, retirement_designation=RPFC-I, joining_as_APFC=0, joining_as_RPFCII=0, joining_as_RPFCI=0, joining_as_ACC=0, joining_as_ACCHQ=0)\n",
      "Employee(eid=636, desig='RPFC-I', exp=2, age=77, active=False, joining_year=2021, retirement_year=2036, retirement_designation=RPFC-I, joining_as_APFC=0, joining_as_RPFCII=0, joining_as_RPFCI=0, joining_as_ACC=0, joining_as_ACCHQ=0)\n",
      "Employee(eid=637, desig='RPFC-I', exp=3, age=70, active=False, joining_year=2020, retirement_year=2043, retirement_designation=RPFC-I, joining_as_APFC=0, joining_as_RPFCII=0, joining_as_RPFCI=0, joining_as_ACC=0, joining_as_ACCHQ=0)\n",
      "Employee(eid=638, desig='RPFC-I', exp=3, age=88, active=False, joining_year=2020, retirement_year=2025, retirement_designation=RPFC-I, joining_as_APFC=0, joining_as_RPFCII=0, joining_as_RPFCI=0, joining_as_ACC=0, joining_as_ACCHQ=0)\n",
      "Employee(eid=639, desig='RPFC-I', exp=3, age=71, active=False, joining_year=2020, retirement_year=2042, retirement_designation=RPFC-I, joining_as_APFC=0, joining_as_RPFCII=0, joining_as_RPFCI=0, joining_as_ACC=0, joining_as_ACCHQ=0)\n",
      "Employee(eid=640, desig='RPFC-I', exp=4, age=68, active=False, joining_year=2019, retirement_year=2045, retirement_designation=RPFC-I, joining_as_APFC=0, joining_as_RPFCII=0, joining_as_RPFCI=0, joining_as_ACC=0, joining_as_ACCHQ=0)\n",
      "Employee(eid=641, desig='RPFC-I', exp=1, age=74, active=False, joining_year=2022, retirement_year=2039, retirement_designation=RPFC-I, joining_as_APFC=0, joining_as_RPFCII=0, joining_as_RPFCI=0, joining_as_ACC=0, joining_as_ACCHQ=0)\n",
      "Employee(eid=642, desig='RPFC-I', exp=2, age=77, active=False, joining_year=2021, retirement_year=2036, retirement_designation=RPFC-I, joining_as_APFC=0, joining_as_RPFCII=0, joining_as_RPFCI=0, joining_as_ACC=0, joining_as_ACCHQ=0)\n",
      "Employee(eid=643, desig='RPFC-I', exp=3, age=87, active=False, joining_year=2020, retirement_year=2026, retirement_designation=RPFC-I, joining_as_APFC=0, joining_as_RPFCII=0, joining_as_RPFCI=0, joining_as_ACC=0, joining_as_ACCHQ=0)\n",
      "Employee(eid=644, desig='RPFC-I', exp=3, age=76, active=False, joining_year=2020, retirement_year=2037, retirement_designation=RPFC-I, joining_as_APFC=0, joining_as_RPFCII=0, joining_as_RPFCI=0, joining_as_ACC=0, joining_as_ACCHQ=0)\n",
      "Employee(eid=645, desig='RPFC-I', exp=4, age=78, active=False, joining_year=2019, retirement_year=2035, retirement_designation=RPFC-I, joining_as_APFC=0, joining_as_RPFCII=0, joining_as_RPFCI=0, joining_as_ACC=0, joining_as_ACCHQ=0)\n",
      "Employee(eid=646, desig='RPFC-I', exp=4, age=81, active=False, joining_year=2019, retirement_year=2032, retirement_designation=RPFC-I, joining_as_APFC=0, joining_as_RPFCII=0, joining_as_RPFCI=0, joining_as_ACC=0, joining_as_ACCHQ=0)\n",
      "Employee(eid=647, desig='RPFC-I', exp=3, age=88, active=False, joining_year=2020, retirement_year=2025, retirement_designation=RPFC-I, joining_as_APFC=0, joining_as_RPFCII=0, joining_as_RPFCI=0, joining_as_ACC=0, joining_as_ACCHQ=0)\n",
      "Employee(eid=648, desig='RPFC-I', exp=1, age=85, active=False, joining_year=2022, retirement_year=2028, retirement_designation=RPFC-I, joining_as_APFC=0, joining_as_RPFCII=0, joining_as_RPFCI=0, joining_as_ACC=0, joining_as_ACCHQ=0)\n",
      "Employee(eid=649, desig='RPFC-I', exp=0, age=84, active=False, joining_year=2023, retirement_year=2029, retirement_designation=RPFC-I, joining_as_APFC=0, joining_as_RPFCII=0, joining_as_RPFCI=0, joining_as_ACC=0, joining_as_ACCHQ=0)\n",
      "Employee(eid=650, desig='RPFC-I', exp=2, age=76, active=False, joining_year=2021, retirement_year=2037, retirement_designation=RPFC-I, joining_as_APFC=0, joining_as_RPFCII=0, joining_as_RPFCI=0, joining_as_ACC=0, joining_as_ACCHQ=0)\n",
      "Employee(eid=651, desig='RPFC-I', exp=0, age=64, active=False, joining_year=2023, retirement_year=2049, retirement_designation=RPFC-I, joining_as_APFC=0, joining_as_RPFCII=0, joining_as_RPFCI=0, joining_as_ACC=0, joining_as_ACCHQ=0)\n",
      "Employee(eid=652, desig='RPFC-I', exp=4, age=74, active=False, joining_year=2019, retirement_year=2039, retirement_designation=RPFC-I, joining_as_APFC=0, joining_as_RPFCII=0, joining_as_RPFCI=0, joining_as_ACC=0, joining_as_ACCHQ=0)\n",
      "Employee(eid=653, desig='RPFC-I', exp=4, age=84, active=False, joining_year=2019, retirement_year=2029, retirement_designation=RPFC-I, joining_as_APFC=0, joining_as_RPFCII=0, joining_as_RPFCI=0, joining_as_ACC=0, joining_as_ACCHQ=0)\n",
      "Employee(eid=654, desig='RPFC-I', exp=3, age=87, active=False, joining_year=2020, retirement_year=2026, retirement_designation=RPFC-I, joining_as_APFC=0, joining_as_RPFCII=0, joining_as_RPFCI=0, joining_as_ACC=0, joining_as_ACCHQ=0)\n",
      "Employee(eid=655, desig='RPFC-I', exp=4, age=68, active=False, joining_year=2019, retirement_year=2045, retirement_designation=RPFC-I, joining_as_APFC=0, joining_as_RPFCII=0, joining_as_RPFCI=0, joining_as_ACC=0, joining_as_ACCHQ=0)\n",
      "Employee(eid=656, desig='RPFC-I', exp=1, age=76, active=False, joining_year=2022, retirement_year=2037, retirement_designation=RPFC-I, joining_as_APFC=0, joining_as_RPFCII=0, joining_as_RPFCI=0, joining_as_ACC=0, joining_as_ACCHQ=0)\n",
      "Employee(eid=657, desig='RPFC-I', exp=4, age=67, active=False, joining_year=2019, retirement_year=2046, retirement_designation=RPFC-I, joining_as_APFC=0, joining_as_RPFCII=0, joining_as_RPFCI=0, joining_as_ACC=0, joining_as_ACCHQ=0)\n",
      "Employee(eid=658, desig='RPFC-I', exp=4, age=87, active=False, joining_year=2019, retirement_year=2026, retirement_designation=RPFC-I, joining_as_APFC=0, joining_as_RPFCII=0, joining_as_RPFCI=0, joining_as_ACC=0, joining_as_ACCHQ=0)\n",
      "Employee(eid=659, desig='RPFC-I', exp=2, age=72, active=False, joining_year=2021, retirement_year=2041, retirement_designation=RPFC-I, joining_as_APFC=0, joining_as_RPFCII=0, joining_as_RPFCI=0, joining_as_ACC=0, joining_as_ACCHQ=0)\n",
      "Employee(eid=660, desig='RPFC-I', exp=1, age=72, active=False, joining_year=2022, retirement_year=2041, retirement_designation=RPFC-I, joining_as_APFC=0, joining_as_RPFCII=0, joining_as_RPFCI=0, joining_as_ACC=0, joining_as_ACCHQ=0)\n",
      "Employee(eid=661, desig='RPFC-I', exp=4, age=87, active=False, joining_year=2019, retirement_year=2026, retirement_designation=RPFC-I, joining_as_APFC=0, joining_as_RPFCII=0, joining_as_RPFCI=0, joining_as_ACC=0, joining_as_ACCHQ=0)\n",
      "Employee(eid=662, desig='RPFC-I', exp=0, age=65, active=False, joining_year=2023, retirement_year=2048, retirement_designation=RPFC-I, joining_as_APFC=0, joining_as_RPFCII=0, joining_as_RPFCI=0, joining_as_ACC=0, joining_as_ACCHQ=0)\n",
      "Employee(eid=663, desig='RPFC-I', exp=0, age=73, active=False, joining_year=2023, retirement_year=2040, retirement_designation=RPFC-I, joining_as_APFC=0, joining_as_RPFCII=0, joining_as_RPFCI=0, joining_as_ACC=0, joining_as_ACCHQ=0)\n",
      "Employee(eid=664, desig='ACC', exp=0, age=76, active=False, joining_year=2018, retirement_year=2037, retirement_designation=ACC, joining_as_APFC=0, joining_as_RPFCII=0, joining_as_RPFCI=0, joining_as_ACC=48, joining_as_ACCHQ=0)\n",
      "Employee(eid=665, desig='ACC', exp=0, age=85, active=False, joining_year=2018, retirement_year=2028, retirement_designation=ACC, joining_as_APFC=0, joining_as_RPFCII=0, joining_as_RPFCI=0, joining_as_ACC=59, joining_as_ACCHQ=0)\n",
      "Employee(eid=666, desig='RPFC-I', exp=1, age=90, active=False, joining_year=2022, retirement_year=2023, retirement_designation=RPFC-I, joining_as_APFC=0, joining_as_RPFCII=0, joining_as_RPFCI=0, joining_as_ACC=0, joining_as_ACCHQ=0)\n",
      "Employee(eid=667, desig='RPFC-I', exp=2, age=76, active=False, joining_year=2021, retirement_year=2037, retirement_designation=RPFC-I, joining_as_APFC=0, joining_as_RPFCII=0, joining_as_RPFCI=0, joining_as_ACC=0, joining_as_ACCHQ=0)\n",
      "Employee(eid=668, desig='RPFC-I', exp=3, age=69, active=False, joining_year=2020, retirement_year=2044, retirement_designation=RPFC-I, joining_as_APFC=0, joining_as_RPFCII=0, joining_as_RPFCI=0, joining_as_ACC=0, joining_as_ACCHQ=0)\n",
      "Employee(eid=669, desig='ACC', exp=0, age=83, active=False, joining_year=2018, retirement_year=2030, retirement_designation=ACC, joining_as_APFC=0, joining_as_RPFCII=0, joining_as_RPFCI=0, joining_as_ACC=57, joining_as_ACCHQ=0)\n",
      "Employee(eid=670, desig='RPFC-I', exp=2, age=88, active=False, joining_year=2021, retirement_year=2025, retirement_designation=RPFC-I, joining_as_APFC=0, joining_as_RPFCII=0, joining_as_RPFCI=0, joining_as_ACC=0, joining_as_ACCHQ=0)\n",
      "Employee(eid=671, desig='RPFC-I', exp=0, age=89, active=False, joining_year=2023, retirement_year=2024, retirement_designation=RPFC-I, joining_as_APFC=0, joining_as_RPFCII=0, joining_as_RPFCI=0, joining_as_ACC=0, joining_as_ACCHQ=0)\n",
      "Employee(eid=672, desig='RPFC-I', exp=0, age=86, active=False, joining_year=2023, retirement_year=2027, retirement_designation=RPFC-I, joining_as_APFC=0, joining_as_RPFCII=0, joining_as_RPFCI=0, joining_as_ACC=0, joining_as_ACCHQ=0)\n",
      "Employee(eid=673, desig='RPFC-I', exp=1, age=67, active=False, joining_year=2022, retirement_year=2046, retirement_designation=RPFC-I, joining_as_APFC=0, joining_as_RPFCII=0, joining_as_RPFCI=0, joining_as_ACC=0, joining_as_ACCHQ=0)\n",
      "Employee(eid=674, desig='RPFC-I', exp=4, age=81, active=False, joining_year=2019, retirement_year=2032, retirement_designation=RPFC-I, joining_as_APFC=0, joining_as_RPFCII=0, joining_as_RPFCI=0, joining_as_ACC=0, joining_as_ACCHQ=0)\n",
      "Employee(eid=675, desig='ACC', exp=0, age=74, active=False, joining_year=2018, retirement_year=2039, retirement_designation=ACC, joining_as_APFC=0, joining_as_RPFCII=0, joining_as_RPFCI=0, joining_as_ACC=48, joining_as_ACCHQ=0)\n",
      "Employee(eid=676, desig='ACC', exp=0, age=78, active=False, joining_year=2018, retirement_year=2035, retirement_designation=ACC, joining_as_APFC=0, joining_as_RPFCII=0, joining_as_RPFCI=0, joining_as_ACC=52, joining_as_ACCHQ=0)\n",
      "Employee(eid=677, desig='RPFC-I', exp=2, age=71, active=False, joining_year=2021, retirement_year=2042, retirement_designation=RPFC-I, joining_as_APFC=0, joining_as_RPFCII=0, joining_as_RPFCI=0, joining_as_ACC=0, joining_as_ACCHQ=0)\n",
      "Employee(eid=678, desig='RPFC-I', exp=4, age=84, active=False, joining_year=2019, retirement_year=2029, retirement_designation=RPFC-I, joining_as_APFC=0, joining_as_RPFCII=0, joining_as_RPFCI=0, joining_as_ACC=0, joining_as_ACCHQ=0)\n",
      "Employee(eid=679, desig='RPFC-I', exp=0, age=80, active=False, joining_year=2023, retirement_year=2033, retirement_designation=RPFC-I, joining_as_APFC=0, joining_as_RPFCII=0, joining_as_RPFCI=0, joining_as_ACC=0, joining_as_ACCHQ=0)\n",
      "Employee(eid=680, desig='RPFC-I', exp=2, age=67, active=False, joining_year=2021, retirement_year=2046, retirement_designation=RPFC-I, joining_as_APFC=0, joining_as_RPFCII=0, joining_as_RPFCI=0, joining_as_ACC=0, joining_as_ACCHQ=0)\n",
      "Employee(eid=681, desig='RPFC-I', exp=1, age=69, active=False, joining_year=2022, retirement_year=2044, retirement_designation=RPFC-I, joining_as_APFC=0, joining_as_RPFCII=0, joining_as_RPFCI=0, joining_as_ACC=0, joining_as_ACCHQ=0)\n",
      "Employee(eid=682, desig='RPFC-I', exp=2, age=74, active=False, joining_year=2021, retirement_year=2039, retirement_designation=RPFC-I, joining_as_APFC=0, joining_as_RPFCII=0, joining_as_RPFCI=0, joining_as_ACC=0, joining_as_ACCHQ=0)\n",
      "Employee(eid=683, desig='RPFC-I', exp=4, age=86, active=False, joining_year=2019, retirement_year=2027, retirement_designation=RPFC-I, joining_as_APFC=0, joining_as_RPFCII=0, joining_as_RPFCI=0, joining_as_ACC=0, joining_as_ACCHQ=0)\n",
      "Employee(eid=684, desig='RPFC-I', exp=1, age=89, active=False, joining_year=2022, retirement_year=2024, retirement_designation=RPFC-I, joining_as_APFC=0, joining_as_RPFCII=0, joining_as_RPFCI=0, joining_as_ACC=0, joining_as_ACCHQ=0)\n",
      "Employee(eid=685, desig='RPFC-I', exp=4, age=67, active=False, joining_year=2019, retirement_year=2046, retirement_designation=RPFC-I, joining_as_APFC=0, joining_as_RPFCII=0, joining_as_RPFCI=0, joining_as_ACC=0, joining_as_ACCHQ=0)\n",
      "Employee(eid=686, desig='RPFC-I', exp=4, age=85, active=False, joining_year=2019, retirement_year=2028, retirement_designation=RPFC-I, joining_as_APFC=0, joining_as_RPFCII=0, joining_as_RPFCI=0, joining_as_ACC=0, joining_as_ACCHQ=0)\n",
      "Employee(eid=687, desig='RPFC-I', exp=4, age=83, active=False, joining_year=2019, retirement_year=2030, retirement_designation=RPFC-I, joining_as_APFC=0, joining_as_RPFCII=0, joining_as_RPFCI=0, joining_as_ACC=0, joining_as_ACCHQ=0)\n",
      "Employee(eid=688, desig='RPFC-I', exp=2, age=84, active=False, joining_year=2021, retirement_year=2029, retirement_designation=RPFC-I, joining_as_APFC=0, joining_as_RPFCII=0, joining_as_RPFCI=0, joining_as_ACC=0, joining_as_ACCHQ=0)\n",
      "Employee(eid=689, desig='ACC', exp=0, age=76, active=False, joining_year=2018, retirement_year=2037, retirement_designation=ACC, joining_as_APFC=0, joining_as_RPFCII=0, joining_as_RPFCI=0, joining_as_ACC=50, joining_as_ACCHQ=0)\n",
      "Employee(eid=690, desig='RPFC-I', exp=1, age=86, active=False, joining_year=2022, retirement_year=2027, retirement_designation=RPFC-I, joining_as_APFC=0, joining_as_RPFCII=0, joining_as_RPFCI=0, joining_as_ACC=0, joining_as_ACCHQ=0)\n",
      "Employee(eid=691, desig='RPFC-I', exp=5, age=87, active=False, joining_year=2018, retirement_year=2026, retirement_designation=RPFC-I, joining_as_APFC=0, joining_as_RPFCII=0, joining_as_RPFCI=0, joining_as_ACC=0, joining_as_ACCHQ=0)\n",
      "Employee(eid=692, desig='ACC', exp=0, age=85, active=False, joining_year=2023, retirement_year=2028, retirement_designation=ACC, joining_as_APFC=0, joining_as_RPFCII=0, joining_as_RPFCI=0, joining_as_ACC=0, joining_as_ACCHQ=0)\n",
      "Employee(eid=693, desig='ACC', exp=0, age=79, active=False, joining_year=2023, retirement_year=2034, retirement_designation=ACC, joining_as_APFC=0, joining_as_RPFCII=0, joining_as_RPFCI=0, joining_as_ACC=0, joining_as_ACCHQ=0)\n",
      "Employee(eid=694, desig='ACC{HQ}', exp=0, age=84, active=False, joining_year=2018, retirement_year=2029, retirement_designation=ACC{HQ}, joining_as_APFC=0, joining_as_RPFCII=0, joining_as_RPFCI=0, joining_as_ACC=0, joining_as_ACCHQ=55)\n",
      "Employee(eid=695, desig='ACC', exp=3, age=80, active=False, joining_year=2020, retirement_year=2033, retirement_designation=ACC, joining_as_APFC=0, joining_as_RPFCII=0, joining_as_RPFCI=0, joining_as_ACC=0, joining_as_ACCHQ=0)\n",
      "Employee(eid=696, desig='ACC', exp=5, age=90, active=False, joining_year=2018, retirement_year=2023, retirement_designation=ACC, joining_as_APFC=0, joining_as_RPFCII=0, joining_as_RPFCI=0, joining_as_ACC=0, joining_as_ACCHQ=0)\n",
      "Employee(eid=697, desig='ACC', exp=1, age=84, active=False, joining_year=2022, retirement_year=2029, retirement_designation=ACC, joining_as_APFC=0, joining_as_RPFCII=0, joining_as_RPFCI=0, joining_as_ACC=0, joining_as_ACCHQ=0)\n",
      "Employee(eid=698, desig='ACC', exp=2, age=83, active=False, joining_year=2021, retirement_year=2030, retirement_designation=ACC, joining_as_APFC=0, joining_as_RPFCII=0, joining_as_RPFCI=0, joining_as_ACC=0, joining_as_ACCHQ=0)\n",
      "Employee(eid=699, desig='ACC{HQ}', exp=0, age=85, active=False, joining_year=2018, retirement_year=2028, retirement_designation=ACC{HQ}, joining_as_APFC=0, joining_as_RPFCII=0, joining_as_RPFCI=0, joining_as_ACC=0, joining_as_ACCHQ=56)\n",
      "Employee(eid=700, desig='ACC', exp=0, age=78, active=False, joining_year=2023, retirement_year=2035, retirement_designation=ACC, joining_as_APFC=0, joining_as_RPFCII=0, joining_as_RPFCI=0, joining_as_ACC=0, joining_as_ACCHQ=0)\n",
      "Employee(eid=701, desig='ACC', exp=2, age=83, active=False, joining_year=2021, retirement_year=2030, retirement_designation=ACC, joining_as_APFC=0, joining_as_RPFCII=0, joining_as_RPFCI=0, joining_as_ACC=0, joining_as_ACCHQ=0)\n",
      "Employee(eid=702, desig='ACC', exp=3, age=84, active=False, joining_year=2020, retirement_year=2029, retirement_designation=ACC, joining_as_APFC=0, joining_as_RPFCII=0, joining_as_RPFCI=0, joining_as_ACC=0, joining_as_ACCHQ=0)\n",
      "Employee(eid=703, desig='ACC', exp=2, age=89, active=False, joining_year=2021, retirement_year=2024, retirement_designation=ACC, joining_as_APFC=0, joining_as_RPFCII=0, joining_as_RPFCI=0, joining_as_ACC=0, joining_as_ACCHQ=0)\n",
      "Employee(eid=704, desig='ACC', exp=3, age=81, active=False, joining_year=2020, retirement_year=2032, retirement_designation=ACC, joining_as_APFC=0, joining_as_RPFCII=0, joining_as_RPFCI=0, joining_as_ACC=0, joining_as_ACCHQ=0)\n",
      "Employee(eid=705, desig='ACC', exp=2, age=80, active=False, joining_year=2021, retirement_year=2033, retirement_designation=ACC, joining_as_APFC=0, joining_as_RPFCII=0, joining_as_RPFCI=0, joining_as_ACC=0, joining_as_ACCHQ=0)\n",
      "Employee(eid=706, desig='ACC{HQ}', exp=0, age=89, active=False, joining_year=2018, retirement_year=2024, retirement_designation=ACC{HQ}, joining_as_APFC=0, joining_as_RPFCII=0, joining_as_RPFCI=0, joining_as_ACC=0, joining_as_ACCHQ=60)\n",
      "Employee(eid=707, desig='ACC', exp=1, age=86, active=False, joining_year=2022, retirement_year=2027, retirement_designation=ACC, joining_as_APFC=0, joining_as_RPFCII=0, joining_as_RPFCI=0, joining_as_ACC=0, joining_as_ACCHQ=0)\n",
      "Employee(eid=708, desig='ACC', exp=1, age=89, active=False, joining_year=2022, retirement_year=2024, retirement_designation=ACC, joining_as_APFC=0, joining_as_RPFCII=0, joining_as_RPFCI=0, joining_as_ACC=0, joining_as_ACCHQ=0)\n",
      "Employee(eid=709, desig='ACC', exp=4, age=86, active=False, joining_year=2019, retirement_year=2027, retirement_designation=ACC, joining_as_APFC=0, joining_as_RPFCII=0, joining_as_RPFCI=0, joining_as_ACC=0, joining_as_ACCHQ=0)\n",
      "Employee(eid=710, desig='ACC', exp=0, age=87, active=False, joining_year=2023, retirement_year=2026, retirement_designation=ACC, joining_as_APFC=0, joining_as_RPFCII=0, joining_as_RPFCI=0, joining_as_ACC=0, joining_as_ACCHQ=0)\n",
      "Employee(eid=711, desig='ACC', exp=3, age=89, active=False, joining_year=2020, retirement_year=2024, retirement_designation=ACC, joining_as_APFC=0, joining_as_RPFCII=0, joining_as_RPFCI=0, joining_as_ACC=0, joining_as_ACCHQ=0)\n",
      "Employee(eid=712, desig='ACC', exp=2, age=87, active=False, joining_year=2021, retirement_year=2026, retirement_designation=ACC, joining_as_APFC=0, joining_as_RPFCII=0, joining_as_RPFCI=0, joining_as_ACC=0, joining_as_ACCHQ=0)\n",
      "Employee(eid=713, desig='ACC', exp=3, age=87, active=False, joining_year=2020, retirement_year=2026, retirement_designation=ACC, joining_as_APFC=0, joining_as_RPFCII=0, joining_as_RPFCI=0, joining_as_ACC=0, joining_as_ACCHQ=0)\n",
      "Employee(eid=714, desig='ACC', exp=3, age=86, active=False, joining_year=2020, retirement_year=2027, retirement_designation=ACC, joining_as_APFC=0, joining_as_RPFCII=0, joining_as_RPFCI=0, joining_as_ACC=0, joining_as_ACCHQ=0)\n",
      "Employee(eid=715, desig='ACC', exp=1, age=85, active=False, joining_year=2022, retirement_year=2028, retirement_designation=ACC, joining_as_APFC=0, joining_as_RPFCII=0, joining_as_RPFCI=0, joining_as_ACC=0, joining_as_ACCHQ=0)\n",
      "Employee(eid=716, desig='ACC{HQ}', exp=4, age=87, active=False, joining_year=2019, retirement_year=2026, retirement_designation=ACC{HQ}, joining_as_APFC=0, joining_as_RPFCII=0, joining_as_RPFCI=0, joining_as_ACC=0, joining_as_ACCHQ=0)\n",
      "Employee(eid=717, desig='ACC{HQ}', exp=2, age=89, active=False, joining_year=2021, retirement_year=2024, retirement_designation=ACC{HQ}, joining_as_APFC=0, joining_as_RPFCII=0, joining_as_RPFCI=0, joining_as_ACC=0, joining_as_ACCHQ=0)\n",
      "Employee(eid=718, desig='ACC{HQ}', exp=6, age=90, active=False, joining_year=2017, retirement_year=2023, retirement_designation=ACC{HQ}, joining_as_APFC=0, joining_as_RPFCII=0, joining_as_RPFCI=0, joining_as_ACC=0, joining_as_ACCHQ=0)\n",
      "Employee(eid=719, desig='ACC{HQ}', exp=4, age=86, active=False, joining_year=2019, retirement_year=2027, retirement_designation=ACC{HQ}, joining_as_APFC=0, joining_as_RPFCII=0, joining_as_RPFCI=0, joining_as_ACC=0, joining_as_ACCHQ=0)\n",
      "Employee(eid=720, desig='ACC{HQ}', exp=1, age=90, active=False, joining_year=2022, retirement_year=2023, retirement_designation=ACC{HQ}, joining_as_APFC=0, joining_as_RPFCII=0, joining_as_RPFCI=0, joining_as_ACC=0, joining_as_ACCHQ=0)\n",
      "Employee(eid=721, desig='ACC{HQ}', exp=8, age=90, active=False, joining_year=2015, retirement_year=2023, retirement_designation=ACC{HQ}, joining_as_APFC=0, joining_as_RPFCII=0, joining_as_RPFCI=0, joining_as_ACC=0, joining_as_ACCHQ=0)\n",
      "Employee(eid=722, desig='ACC{HQ}', exp=6, age=89, active=False, joining_year=2017, retirement_year=2024, retirement_designation=ACC{HQ}, joining_as_APFC=0, joining_as_RPFCII=0, joining_as_RPFCI=0, joining_as_ACC=0, joining_as_ACCHQ=0)\n"
     ]
    }
   ],
   "source": [
    "import random\n",
    "import pandas as pd\n",
    "import plotly.express as px\n",
    "\n",
    "# Hierarchy Information\n",
    "hierarchy = {\n",
    "    \"APFC\": {\"years_exp\": 5, \"positions\": 445, \"in_position\": 243, \"min_age\": 20, \"next_level\": \"RPFC-II\"},\n",
    "    \"RPFC-II\": {\"years_exp\": 5, \"positions\": 302, \"in_position\": 286, \"min_age\": 27, \"next_level\": \"RPFC-I\"},\n",
    "    \"RPFC-I\": {\"years_exp\": 5, \"positions\": 240, \"in_position\": 163, \"min_age\": 33, \"next_level\": \"ACC\"},\n",
    "    \"ACC\": {\"years_exp\": 5, \"positions\": 32, \"in_position\": 24, \"min_age\": 47, \"next_level\": \"ACC{HQ}\"},\n",
    "    \"ACC{HQ}\": {\"years_exp\": 500, \"positions\": 11, \"in_position\": 7, \"min_age\": 52, \"next_level\": None},  # No further promotion\n",
    "}\n",
    "\n",
    "# Global Variables\n",
    "year = 2023\n",
    "employees = []\n",
    "eid_counter = 0\n",
    "dfy = pd.DataFrame(columns=['desig', 'eid', 'year', 'waiting'])\n",
    "\n",
    "class Employee:\n",
    "    def __init__(self, eid, desig, exp, age):\n",
    "        self.eid = eid\n",
    "        self.desig = desig\n",
    "        self.exp = exp\n",
    "        self.age = age\n",
    "        self.active = True\n",
    "        self.waiting_for_promotion = 0\n",
    "        self.retirement_age = 60\n",
    "\n",
    "        # Track joining and retirement years\n",
    "        self.joining_age = age - exp\n",
    "        self.joining_year = year - exp  # Joining year based on experience\n",
    "        self.retirement_year = self.joining_year + (self.retirement_age - self.joining_age)\n",
    "        self.retirement_designation = desig  # Updated on promotion\n",
    "\n",
    "        # Track joining ages for designations\n",
    "        self.joining_as_APFC = self.joining_age if desig == \"APFC\" else 0\n",
    "        self.joining_as_RPFCII = 0\n",
    "        self.joining_as_RPFCI = 0\n",
    "        self.joining_as_ACC = 0\n",
    "        self.joining_as_ACCHQ = 0\n",
    "\n",
    "    def promote(self, new_desig):\n",
    "        self.desig = new_desig\n",
    "        self.exp = 0  # Reset experience on promotion\n",
    "        self.waiting_for_promotion = 0\n",
    "        self.retirement_designation = new_desig  # Update retirement designation\n",
    "\n",
    "        # Update joining age for new designation\n",
    "        if new_desig == \"RPFC-II\":\n",
    "            self.joining_as_RPFCII = self.age\n",
    "        elif new_desig == \"RPFC-I\":\n",
    "            self.joining_as_RPFCI = self.age\n",
    "        elif new_desig == \"ACC\":\n",
    "            self.joining_as_ACC = self.age\n",
    "        elif new_desig == \"ACC{HQ}\":\n",
    "            self.joining_as_ACCHQ = self.age\n",
    "\n",
    "    def increment_age(self):\n",
    "        self.age += 1\n",
    "        if self.age > self.retirement_age:\n",
    "            self.active = False\n",
    "\n",
    "    def can_be_promoted(self, hierarchy):\n",
    "        if not self.active or self.desig == \"ACC{HQ}\":  # Hardcode highest level\n",
    "            return False\n",
    "        return self.exp >= hierarchy[self.desig][\"years_exp\"]\n",
    "\n",
    "    def update_promotion_timeline(self, hierarchy):\n",
    "        if self.can_be_promoted(hierarchy):\n",
    "            years_needed = hierarchy[self.desig][\"years_exp\"] - self.exp\n",
    "            self.years_to_promotion = years_needed if years_needed > 0 else 0\n",
    "\n",
    "    def __repr__(self):\n",
    "        return (f\"Employee(eid={self.eid}, desig='{self.desig}', exp={self.exp}, age={self.age}, \"\n",
    "                f\"active={self.active}, joining_year={self.joining_year}, retirement_year={self.retirement_year}, \"\n",
    "                f\"retirement_designation={self.retirement_designation}, joining_as_APFC={self.joining_as_APFC}, \"\n",
    "                f\"joining_as_RPFCII={self.joining_as_RPFCII}, joining_as_RPFCI={self.joining_as_RPFCI}, \"\n",
    "                f\"joining_as_ACC={self.joining_as_ACC}, joining_as_ACCHQ={self.joining_as_ACCHQ})\")\n",
    "\n",
    "\n",
    "\n",
    "# Function to Create Employees\n",
    "def create_employee(desig, exp, age):\n",
    "    global eid_counter\n",
    "    employee = Employee(eid_counter, desig, exp, age)\n",
    "    employees.append(employee)\n",
    "    eid_counter += 1\n",
    "    return employee\n",
    "\n",
    "# Populate Initial Employees\n",
    "# Populate Initial Employees\n",
    "def populate():\n",
    "    for desig, data in hierarchy.items():\n",
    "        for _ in range(data[\"in_position\"]):\n",
    "            # Ensure initial experience is capped\n",
    "            max_initial_exp = min(data[\"years_exp\"], 8)\n",
    "            exp = random.randint(0, max_initial_exp)\n",
    "            \n",
    "            # Calculate maximum possible joining age based on retirement age (60) and experience\n",
    "            retirement_age = 60\n",
    "            max_possible_joining_age = retirement_age - exp\n",
    "            \n",
    "            # Ensure joining age is within reasonable bounds (min_age and max_possible_joining_age)\n",
    "            min_possible_joining_age = data[\"min_age\"]\n",
    "            joining_age = random.randint(min_possible_joining_age, max_possible_joining_age)\n",
    "            \n",
    "            # Calculate current age by adding experience to joining age\n",
    "            current_age = joining_age + exp\n",
    "            \n",
    "            create_employee(desig, exp, current_age)\n",
    "\n",
    "\n",
    "# Promote Eligible Employees\n",
    "def promote_eligible_employees():\n",
    "    for desig, data in hierarchy.items():\n",
    "        next_level = data[\"next_level\"]\n",
    "        if next_level:\n",
    "            vacancy = get_vacancy(next_level)\n",
    "            if vacancy > 0:\n",
    "                eligible_employees = sorted([emp for emp in employees if emp.desig == desig and emp.active and emp.exp >= hierarchy[desig][\"years_exp\"]], key=lambda x: x.exp, reverse=True)[:vacancy]\n",
    "                for emp in eligible_employees:\n",
    "                    emp.promote(next_level)\n",
    "\n",
    "# Get Vacancy at a Level\n",
    "def get_vacancy(level):\n",
    "    total_positions = hierarchy[level][\"positions\"]\n",
    "    filled_positions = sum(1 for emp in employees if emp.desig == level and emp.active)\n",
    "    return total_positions - filled_positions\n",
    "\n",
    "# Year Change Function\n",
    "def year_change(num_years):\n",
    "    global year, dfy\n",
    "    for _ in range(num_years):\n",
    "        for emp in employees:\n",
    "            emp.increment_age()\n",
    "            if emp.active and emp.exp > 7 and emp.desig in ['APFC','RPFC-II','RPFC-I','ACC']:\n",
    "                emp.waiting_for_promotion = 1\n",
    "        promote_eligible_employees()\n",
    "        year += 1\n",
    "\n",
    "        # Tracking yearly data\n",
    "        df_year = pd.DataFrame([{'desig': emp.desig, 'eid': emp.eid, 'year': year, 'waiting': emp.waiting_for_promotion} for emp in employees if emp.active])\n",
    "        pivot_table = pd.pivot_table(df_year, values=['eid','waiting'], index=['desig'], aggfunc={'eid':'count','waiting':'sum'}, margins=False).reset_index()\n",
    "        pivot_table[\"year\"] = year\n",
    "        dfyt = pivot_table[['desig','eid','year','waiting']]\n",
    "        dfy = pd.concat([dfy, dfyt], ignore_index = True)\n",
    "\n",
    "# Get Seniority List at Any Level\n",
    "def get_seniority_list(level):\n",
    "    # Get employees at this level, sorted by experience (seniority)\n",
    "    level_employees = sorted([emp for emp in employees if emp.desig == level and emp.active], key=lambda x: x.exp, reverse=True)\n",
    "    return [(emp.eid, emp.desig, emp.exp, emp.age) for emp in level_employees]\n",
    "\n",
    "# Simulate Career for an Employee\n",
    "def simulate_career(employee):\n",
    "    promotions = {}\n",
    "    current_age = employee.age\n",
    "    current_desig = employee.desig\n",
    "    current_exp = employee.exp\n",
    "    \n",
    "    # Simulate promotions until retirement\n",
    "    while employee.active:\n",
    "        # Check if the employee is eligible for promotion at this level\n",
    "        if current_desig in hierarchy and hierarchy[current_desig][\"next_level\"]:\n",
    "            if current_exp >= hierarchy[current_desig][\"years_exp\"]:\n",
    "                next_level = hierarchy[current_desig][\"next_level\"]\n",
    "                \n",
    "                # Calculate the age at which the promotion will happen\n",
    "                years_to_promotion = hierarchy[current_desig][\"years_exp\"] - current_exp\n",
    "                promotion_age = current_age + years_to_promotion\n",
    "                promotions[current_desig] = promotion_age\n",
    "                \n",
    "                current_age = promotion_age\n",
    "                current_desig = next_level\n",
    "                current_exp = 0  # Reset experience after promotion\n",
    "            else:\n",
    "                break\n",
    "        else:\n",
    "            break\n",
    "    \n",
    "    # After all promotions, check the designation at retirement age (60)\n",
    "    if current_age >= 60:\n",
    "        return promotions, current_desig\n",
    "    else:\n",
    "        return promotions, current_desig\n",
    "\n",
    "# Example of Querying and Career Simulation\n",
    "def guess_employee_by_id(eid):\n",
    "    employee = next((emp for emp in employees if emp.eid == eid), None)\n",
    "    if employee:\n",
    "        promotions, retirement_designation = simulate_career(employee)\n",
    "        return promotions, retirement_designation\n",
    "    else:\n",
    "        return \"Employee not found.\"\n",
    "\n",
    "\n",
    "\n",
    "populate()\n",
    "year_change(30)\n",
    "\n",
    "# Check details of first 5 employees\n",
    "for emp in employees:\n",
    "    print(emp)"
   ]
  },
  {
   "cell_type": "code",
   "execution_count": null,
   "metadata": {},
   "outputs": [
    {
     "name": "stdout",
     "output_type": "stream",
     "text": [
      "\n",
      "Employee 0 Details:\n",
      "Initial Designation: APFC\n",
      "Joined at Age: 83\n",
      "Initial Experience: 2\n",
      "\n",
      "Promotions Timeline:\n",
      "\n",
      "Designation at retirement (Age 60): APFC\n",
      "\n",
      "Employee 1 Details:\n",
      "Initial Designation: APFC\n",
      "Joined at Age: 83\n",
      "Initial Experience: 1\n",
      "\n",
      "Promotions Timeline:\n",
      "\n",
      "Designation at retirement (Age 60): APFC\n",
      "\n",
      "Employee 2 Details:\n",
      "Initial Designation: APFC\n",
      "Joined at Age: 82\n",
      "Initial Experience: 2\n",
      "\n",
      "Promotions Timeline:\n",
      "\n",
      "Designation at retirement (Age 60): APFC\n",
      "\n",
      "Employee 3 Details:\n",
      "Initial Designation: APFC\n",
      "Joined at Age: 87\n",
      "Initial Experience: 4\n",
      "\n",
      "Promotions Timeline:\n",
      "\n",
      "Designation at retirement (Age 60): APFC\n",
      "\n",
      "Employee 4 Details:\n",
      "Initial Designation: APFC\n",
      "Joined at Age: 80\n",
      "Initial Experience: 3\n",
      "\n",
      "Promotions Timeline:\n",
      "\n",
      "Designation at retirement (Age 60): APFC\n",
      "\n",
      "Employee 5 Details:\n",
      "Initial Designation: APFC\n",
      "Joined at Age: 80\n",
      "Initial Experience: 4\n",
      "\n",
      "Promotions Timeline:\n",
      "\n",
      "Designation at retirement (Age 60): APFC\n",
      "\n",
      "Employee 6 Details:\n",
      "Initial Designation: APFC\n",
      "Joined at Age: 82\n",
      "Initial Experience: 0\n",
      "\n",
      "Promotions Timeline:\n",
      "\n",
      "Designation at retirement (Age 60): APFC\n",
      "\n",
      "Employee 7 Details:\n",
      "Initial Designation: APFC\n",
      "Joined at Age: 81\n",
      "Initial Experience: 4\n",
      "\n",
      "Promotions Timeline:\n",
      "\n",
      "Designation at retirement (Age 60): APFC\n",
      "\n",
      "Employee 8 Details:\n",
      "Initial Designation: APFC\n",
      "Joined at Age: 83\n",
      "Initial Experience: 3\n",
      "\n",
      "Promotions Timeline:\n",
      "\n",
      "Designation at retirement (Age 60): APFC\n",
      "\n",
      "Employee 9 Details:\n",
      "Initial Designation: APFC\n",
      "Joined at Age: 85\n",
      "Initial Experience: 1\n",
      "\n",
      "Promotions Timeline:\n",
      "\n",
      "Designation at retirement (Age 60): APFC\n",
      "\n",
      "Employee 10 Details:\n",
      "Initial Designation: RPFC-II\n",
      "Joined at Age: 85\n",
      "Initial Experience: 0\n",
      "\n",
      "Promotions Timeline:\n",
      "\n",
      "Designation at retirement (Age 60): RPFC-II\n",
      "\n",
      "Employee 11 Details:\n",
      "Initial Designation: APFC\n",
      "Joined at Age: 83\n",
      "Initial Experience: 1\n",
      "\n",
      "Promotions Timeline:\n",
      "\n",
      "Designation at retirement (Age 60): APFC\n",
      "\n",
      "Employee 12 Details:\n",
      "Initial Designation: APFC\n",
      "Joined at Age: 87\n",
      "Initial Experience: 4\n",
      "\n",
      "Promotions Timeline:\n",
      "\n",
      "Designation at retirement (Age 60): APFC\n",
      "\n",
      "Employee 13 Details:\n",
      "Initial Designation: APFC\n",
      "Joined at Age: 85\n",
      "Initial Experience: 4\n",
      "\n",
      "Promotions Timeline:\n",
      "\n",
      "Designation at retirement (Age 60): APFC\n",
      "\n",
      "Employee 14 Details:\n",
      "Initial Designation: APFC\n",
      "Joined at Age: 83\n",
      "Initial Experience: 2\n",
      "\n",
      "Promotions Timeline:\n",
      "\n",
      "Designation at retirement (Age 60): APFC\n",
      "\n",
      "Employee 15 Details:\n",
      "Initial Designation: APFC\n",
      "Joined at Age: 87\n",
      "Initial Experience: 4\n",
      "\n",
      "Promotions Timeline:\n",
      "\n",
      "Designation at retirement (Age 60): APFC\n",
      "\n",
      "Employee 16 Details:\n",
      "Initial Designation: APFC\n",
      "Joined at Age: 87\n",
      "Initial Experience: 1\n",
      "\n",
      "Promotions Timeline:\n",
      "\n",
      "Designation at retirement (Age 60): APFC\n",
      "\n",
      "Employee 17 Details:\n",
      "Initial Designation: APFC\n",
      "Joined at Age: 84\n",
      "Initial Experience: 3\n",
      "\n",
      "Promotions Timeline:\n",
      "\n",
      "Designation at retirement (Age 60): APFC\n",
      "\n",
      "Employee 18 Details:\n",
      "Initial Designation: RPFC-II\n",
      "Joined at Age: 85\n",
      "Initial Experience: 0\n",
      "\n",
      "Promotions Timeline:\n",
      "\n",
      "Designation at retirement (Age 60): RPFC-II\n",
      "\n",
      "Employee 19 Details:\n",
      "Initial Designation: APFC\n",
      "Joined at Age: 84\n",
      "Initial Experience: 3\n",
      "\n",
      "Promotions Timeline:\n",
      "\n",
      "Designation at retirement (Age 60): APFC\n",
      "\n",
      "--- Initial Employees at APFC ---\n",
      "EID: 0, Joined at Age: 83, Initial Exp: 2\n",
      "EID: 1, Joined at Age: 83, Initial Exp: 1\n",
      "EID: 2, Joined at Age: 82, Initial Exp: 2\n",
      "EID: 3, Joined at Age: 87, Initial Exp: 4\n",
      "EID: 4, Joined at Age: 80, Initial Exp: 3\n",
      "EID: 5, Joined at Age: 80, Initial Exp: 4\n",
      "EID: 6, Joined at Age: 82, Initial Exp: 0\n",
      "EID: 7, Joined at Age: 81, Initial Exp: 4\n",
      "EID: 8, Joined at Age: 83, Initial Exp: 3\n",
      "EID: 9, Joined at Age: 85, Initial Exp: 1\n",
      "EID: 11, Joined at Age: 83, Initial Exp: 1\n",
      "EID: 12, Joined at Age: 87, Initial Exp: 4\n",
      "EID: 13, Joined at Age: 85, Initial Exp: 4\n",
      "EID: 14, Joined at Age: 83, Initial Exp: 2\n",
      "EID: 15, Joined at Age: 87, Initial Exp: 4\n",
      "EID: 16, Joined at Age: 87, Initial Exp: 1\n",
      "EID: 17, Joined at Age: 84, Initial Exp: 3\n",
      "EID: 19, Joined at Age: 84, Initial Exp: 3\n",
      "EID: 20, Joined at Age: 84, Initial Exp: 2\n",
      "EID: 22, Joined at Age: 80, Initial Exp: 2\n",
      "EID: 24, Joined at Age: 81, Initial Exp: 0\n",
      "EID: 25, Joined at Age: 80, Initial Exp: 3\n",
      "EID: 26, Joined at Age: 87, Initial Exp: 3\n",
      "EID: 27, Joined at Age: 85, Initial Exp: 3\n",
      "EID: 28, Joined at Age: 87, Initial Exp: 2\n",
      "EID: 29, Joined at Age: 83, Initial Exp: 0\n",
      "EID: 30, Joined at Age: 86, Initial Exp: 1\n",
      "EID: 31, Joined at Age: 82, Initial Exp: 4\n",
      "EID: 32, Joined at Age: 84, Initial Exp: 2\n",
      "EID: 33, Joined at Age: 84, Initial Exp: 0\n",
      "EID: 34, Joined at Age: 84, Initial Exp: 3\n",
      "EID: 35, Joined at Age: 85, Initial Exp: 1\n",
      "EID: 36, Joined at Age: 85, Initial Exp: 1\n",
      "EID: 37, Joined at Age: 85, Initial Exp: 0\n",
      "EID: 38, Joined at Age: 80, Initial Exp: 4\n",
      "EID: 39, Joined at Age: 84, Initial Exp: 3\n",
      "EID: 40, Joined at Age: 83, Initial Exp: 1\n",
      "EID: 41, Joined at Age: 83, Initial Exp: 1\n",
      "EID: 42, Joined at Age: 86, Initial Exp: 3\n",
      "EID: 43, Joined at Age: 84, Initial Exp: 0\n",
      "EID: 44, Joined at Age: 80, Initial Exp: 0\n",
      "EID: 45, Joined at Age: 81, Initial Exp: 3\n",
      "EID: 46, Joined at Age: 80, Initial Exp: 0\n",
      "EID: 47, Joined at Age: 85, Initial Exp: 2\n",
      "EID: 48, Joined at Age: 81, Initial Exp: 2\n",
      "EID: 50, Joined at Age: 83, Initial Exp: 2\n",
      "EID: 51, Joined at Age: 86, Initial Exp: 4\n",
      "EID: 53, Joined at Age: 86, Initial Exp: 1\n",
      "EID: 54, Joined at Age: 87, Initial Exp: 2\n",
      "EID: 55, Joined at Age: 81, Initial Exp: 0\n",
      "EID: 56, Joined at Age: 81, Initial Exp: 0\n",
      "EID: 57, Joined at Age: 84, Initial Exp: 3\n",
      "EID: 60, Joined at Age: 80, Initial Exp: 1\n",
      "EID: 62, Joined at Age: 82, Initial Exp: 2\n",
      "EID: 63, Joined at Age: 82, Initial Exp: 0\n",
      "EID: 64, Joined at Age: 83, Initial Exp: 2\n",
      "EID: 65, Joined at Age: 80, Initial Exp: 0\n",
      "EID: 66, Joined at Age: 85, Initial Exp: 2\n",
      "EID: 67, Joined at Age: 81, Initial Exp: 2\n",
      "EID: 68, Joined at Age: 86, Initial Exp: 2\n",
      "EID: 69, Joined at Age: 84, Initial Exp: 0\n",
      "EID: 70, Joined at Age: 87, Initial Exp: 2\n",
      "EID: 71, Joined at Age: 87, Initial Exp: 3\n",
      "EID: 72, Joined at Age: 80, Initial Exp: 3\n",
      "EID: 76, Joined at Age: 85, Initial Exp: 1\n",
      "EID: 78, Joined at Age: 84, Initial Exp: 2\n",
      "EID: 79, Joined at Age: 86, Initial Exp: 0\n",
      "EID: 81, Joined at Age: 82, Initial Exp: 3\n",
      "EID: 82, Joined at Age: 80, Initial Exp: 0\n",
      "EID: 83, Joined at Age: 85, Initial Exp: 3\n",
      "EID: 84, Joined at Age: 80, Initial Exp: 2\n",
      "EID: 85, Joined at Age: 84, Initial Exp: 0\n",
      "EID: 86, Joined at Age: 84, Initial Exp: 2\n",
      "EID: 88, Joined at Age: 83, Initial Exp: 1\n",
      "EID: 90, Joined at Age: 80, Initial Exp: 3\n",
      "EID: 91, Joined at Age: 81, Initial Exp: 1\n",
      "EID: 93, Joined at Age: 82, Initial Exp: 1\n",
      "EID: 94, Joined at Age: 87, Initial Exp: 4\n",
      "EID: 95, Joined at Age: 85, Initial Exp: 2\n",
      "EID: 96, Joined at Age: 85, Initial Exp: 1\n",
      "EID: 97, Joined at Age: 83, Initial Exp: 2\n",
      "EID: 98, Joined at Age: 81, Initial Exp: 4\n",
      "EID: 99, Joined at Age: 83, Initial Exp: 1\n",
      "EID: 100, Joined at Age: 84, Initial Exp: 4\n",
      "EID: 101, Joined at Age: 82, Initial Exp: 3\n",
      "EID: 102, Joined at Age: 87, Initial Exp: 0\n",
      "EID: 107, Joined at Age: 87, Initial Exp: 3\n",
      "EID: 109, Joined at Age: 80, Initial Exp: 4\n",
      "EID: 110, Joined at Age: 82, Initial Exp: 1\n",
      "EID: 112, Joined at Age: 84, Initial Exp: 4\n",
      "EID: 113, Joined at Age: 80, Initial Exp: 1\n",
      "EID: 114, Joined at Age: 86, Initial Exp: 0\n",
      "EID: 116, Joined at Age: 81, Initial Exp: 4\n",
      "EID: 117, Joined at Age: 85, Initial Exp: 1\n",
      "EID: 118, Joined at Age: 86, Initial Exp: 1\n",
      "EID: 123, Joined at Age: 86, Initial Exp: 0\n",
      "EID: 124, Joined at Age: 83, Initial Exp: 3\n",
      "EID: 125, Joined at Age: 83, Initial Exp: 4\n",
      "EID: 126, Joined at Age: 87, Initial Exp: 1\n",
      "EID: 127, Joined at Age: 80, Initial Exp: 0\n",
      "EID: 128, Joined at Age: 87, Initial Exp: 2\n",
      "EID: 129, Joined at Age: 82, Initial Exp: 3\n",
      "EID: 130, Joined at Age: 85, Initial Exp: 0\n",
      "EID: 131, Joined at Age: 84, Initial Exp: 1\n",
      "EID: 132, Joined at Age: 82, Initial Exp: 2\n",
      "EID: 133, Joined at Age: 83, Initial Exp: 2\n",
      "EID: 134, Joined at Age: 82, Initial Exp: 0\n",
      "EID: 135, Joined at Age: 81, Initial Exp: 0\n",
      "EID: 136, Joined at Age: 81, Initial Exp: 1\n",
      "EID: 137, Joined at Age: 80, Initial Exp: 3\n",
      "EID: 138, Joined at Age: 83, Initial Exp: 1\n",
      "EID: 140, Joined at Age: 82, Initial Exp: 3\n",
      "EID: 141, Joined at Age: 87, Initial Exp: 1\n",
      "EID: 142, Joined at Age: 82, Initial Exp: 2\n",
      "EID: 143, Joined at Age: 82, Initial Exp: 0\n",
      "EID: 144, Joined at Age: 85, Initial Exp: 0\n",
      "EID: 145, Joined at Age: 87, Initial Exp: 3\n",
      "EID: 146, Joined at Age: 85, Initial Exp: 4\n",
      "EID: 148, Joined at Age: 85, Initial Exp: 0\n",
      "EID: 149, Joined at Age: 83, Initial Exp: 0\n",
      "EID: 150, Joined at Age: 86, Initial Exp: 4\n",
      "EID: 151, Joined at Age: 85, Initial Exp: 2\n",
      "EID: 152, Joined at Age: 87, Initial Exp: 4\n",
      "EID: 153, Joined at Age: 87, Initial Exp: 0\n",
      "EID: 154, Joined at Age: 81, Initial Exp: 1\n",
      "EID: 155, Joined at Age: 83, Initial Exp: 3\n",
      "EID: 156, Joined at Age: 84, Initial Exp: 4\n",
      "EID: 157, Joined at Age: 87, Initial Exp: 0\n",
      "EID: 158, Joined at Age: 85, Initial Exp: 3\n",
      "EID: 159, Joined at Age: 80, Initial Exp: 4\n",
      "EID: 160, Joined at Age: 86, Initial Exp: 1\n",
      "EID: 161, Joined at Age: 85, Initial Exp: 1\n",
      "EID: 162, Joined at Age: 86, Initial Exp: 4\n",
      "EID: 163, Joined at Age: 81, Initial Exp: 4\n",
      "EID: 164, Joined at Age: 80, Initial Exp: 4\n",
      "EID: 166, Joined at Age: 82, Initial Exp: 1\n",
      "EID: 168, Joined at Age: 82, Initial Exp: 4\n",
      "EID: 169, Joined at Age: 82, Initial Exp: 0\n",
      "EID: 170, Joined at Age: 86, Initial Exp: 1\n",
      "EID: 171, Joined at Age: 83, Initial Exp: 3\n",
      "EID: 172, Joined at Age: 80, Initial Exp: 0\n",
      "EID: 175, Joined at Age: 87, Initial Exp: 4\n",
      "EID: 176, Joined at Age: 81, Initial Exp: 3\n",
      "EID: 177, Joined at Age: 83, Initial Exp: 1\n",
      "EID: 179, Joined at Age: 87, Initial Exp: 4\n",
      "EID: 181, Joined at Age: 86, Initial Exp: 0\n",
      "EID: 182, Joined at Age: 86, Initial Exp: 2\n",
      "EID: 183, Joined at Age: 86, Initial Exp: 2\n",
      "EID: 184, Joined at Age: 81, Initial Exp: 3\n",
      "EID: 185, Joined at Age: 87, Initial Exp: 2\n",
      "EID: 186, Joined at Age: 83, Initial Exp: 1\n",
      "EID: 187, Joined at Age: 85, Initial Exp: 4\n",
      "EID: 188, Joined at Age: 87, Initial Exp: 4\n",
      "EID: 191, Joined at Age: 81, Initial Exp: 2\n",
      "EID: 192, Joined at Age: 84, Initial Exp: 0\n",
      "EID: 193, Joined at Age: 87, Initial Exp: 0\n",
      "EID: 194, Joined at Age: 85, Initial Exp: 3\n",
      "EID: 195, Joined at Age: 81, Initial Exp: 4\n",
      "EID: 196, Joined at Age: 82, Initial Exp: 3\n",
      "EID: 197, Joined at Age: 81, Initial Exp: 4\n",
      "EID: 198, Joined at Age: 84, Initial Exp: 4\n",
      "EID: 200, Joined at Age: 87, Initial Exp: 4\n",
      "EID: 201, Joined at Age: 82, Initial Exp: 4\n",
      "EID: 203, Joined at Age: 87, Initial Exp: 3\n",
      "EID: 205, Joined at Age: 87, Initial Exp: 1\n",
      "EID: 206, Joined at Age: 84, Initial Exp: 1\n",
      "EID: 207, Joined at Age: 83, Initial Exp: 1\n",
      "EID: 208, Joined at Age: 86, Initial Exp: 2\n",
      "EID: 209, Joined at Age: 85, Initial Exp: 2\n",
      "EID: 210, Joined at Age: 86, Initial Exp: 1\n",
      "EID: 211, Joined at Age: 80, Initial Exp: 2\n",
      "EID: 212, Joined at Age: 84, Initial Exp: 4\n",
      "EID: 213, Joined at Age: 85, Initial Exp: 4\n",
      "EID: 214, Joined at Age: 84, Initial Exp: 2\n",
      "EID: 215, Joined at Age: 83, Initial Exp: 4\n",
      "EID: 216, Joined at Age: 83, Initial Exp: 1\n",
      "EID: 217, Joined at Age: 87, Initial Exp: 3\n",
      "EID: 218, Joined at Age: 83, Initial Exp: 1\n",
      "EID: 221, Joined at Age: 84, Initial Exp: 4\n",
      "EID: 222, Joined at Age: 83, Initial Exp: 4\n",
      "EID: 223, Joined at Age: 81, Initial Exp: 0\n",
      "EID: 224, Joined at Age: 83, Initial Exp: 3\n",
      "EID: 226, Joined at Age: 81, Initial Exp: 3\n",
      "EID: 227, Joined at Age: 83, Initial Exp: 1\n",
      "EID: 228, Joined at Age: 81, Initial Exp: 3\n",
      "EID: 229, Joined at Age: 81, Initial Exp: 4\n",
      "EID: 230, Joined at Age: 86, Initial Exp: 0\n",
      "EID: 231, Joined at Age: 85, Initial Exp: 3\n",
      "EID: 232, Joined at Age: 83, Initial Exp: 3\n",
      "EID: 233, Joined at Age: 84, Initial Exp: 4\n",
      "EID: 236, Joined at Age: 82, Initial Exp: 0\n",
      "EID: 237, Joined at Age: 84, Initial Exp: 0\n",
      "EID: 238, Joined at Age: 81, Initial Exp: 1\n",
      "EID: 239, Joined at Age: 82, Initial Exp: 0\n",
      "EID: 240, Joined at Age: 84, Initial Exp: 4\n",
      "EID: 241, Joined at Age: 82, Initial Exp: 2\n",
      "EID: 242, Joined at Age: 82, Initial Exp: 4\n",
      "EID: 723, Joined at Age: 55, Initial Exp: 0\n",
      "EID: 724, Joined at Age: 57, Initial Exp: 0\n",
      "EID: 725, Joined at Age: 56, Initial Exp: 1\n",
      "EID: 726, Joined at Age: 56, Initial Exp: 2\n",
      "EID: 727, Joined at Age: 54, Initial Exp: 3\n",
      "EID: 728, Joined at Age: 57, Initial Exp: 3\n",
      "EID: 730, Joined at Age: 53, Initial Exp: 1\n",
      "EID: 732, Joined at Age: 53, Initial Exp: 2\n",
      "EID: 734, Joined at Age: 53, Initial Exp: 3\n",
      "EID: 735, Joined at Age: 54, Initial Exp: 3\n",
      "EID: 737, Joined at Age: 56, Initial Exp: 0\n",
      "EID: 738, Joined at Age: 57, Initial Exp: 2\n",
      "EID: 739, Joined at Age: 56, Initial Exp: 3\n",
      "EID: 740, Joined at Age: 54, Initial Exp: 0\n",
      "EID: 741, Joined at Age: 50, Initial Exp: 0\n",
      "EID: 742, Joined at Age: 54, Initial Exp: 0\n",
      "EID: 743, Joined at Age: 56, Initial Exp: 1\n",
      "EID: 744, Joined at Age: 50, Initial Exp: 3\n",
      "EID: 747, Joined at Age: 51, Initial Exp: 2\n",
      "EID: 749, Joined at Age: 56, Initial Exp: 1\n",
      "EID: 750, Joined at Age: 52, Initial Exp: 4\n",
      "EID: 752, Joined at Age: 56, Initial Exp: 0\n",
      "EID: 753, Joined at Age: 53, Initial Exp: 4\n",
      "EID: 754, Joined at Age: 51, Initial Exp: 1\n",
      "EID: 755, Joined at Age: 50, Initial Exp: 0\n",
      "EID: 756, Joined at Age: 56, Initial Exp: 4\n",
      "EID: 757, Joined at Age: 50, Initial Exp: 0\n",
      "EID: 758, Joined at Age: 54, Initial Exp: 4\n",
      "EID: 759, Joined at Age: 54, Initial Exp: 3\n",
      "EID: 760, Joined at Age: 50, Initial Exp: 4\n",
      "EID: 761, Joined at Age: 57, Initial Exp: 2\n",
      "EID: 764, Joined at Age: 52, Initial Exp: 2\n",
      "EID: 765, Joined at Age: 51, Initial Exp: 3\n",
      "EID: 766, Joined at Age: 50, Initial Exp: 0\n",
      "EID: 769, Joined at Age: 52, Initial Exp: 0\n",
      "EID: 770, Joined at Age: 52, Initial Exp: 4\n",
      "EID: 772, Joined at Age: 54, Initial Exp: 0\n",
      "EID: 773, Joined at Age: 57, Initial Exp: 1\n",
      "EID: 774, Joined at Age: 57, Initial Exp: 3\n",
      "EID: 775, Joined at Age: 53, Initial Exp: 3\n",
      "EID: 778, Joined at Age: 51, Initial Exp: 4\n",
      "EID: 779, Joined at Age: 56, Initial Exp: 0\n",
      "EID: 780, Joined at Age: 52, Initial Exp: 4\n",
      "EID: 781, Joined at Age: 52, Initial Exp: 4\n",
      "EID: 782, Joined at Age: 55, Initial Exp: 1\n",
      "EID: 784, Joined at Age: 53, Initial Exp: 3\n",
      "EID: 785, Joined at Age: 52, Initial Exp: 3\n",
      "EID: 787, Joined at Age: 56, Initial Exp: 2\n",
      "EID: 788, Joined at Age: 54, Initial Exp: 3\n",
      "EID: 789, Joined at Age: 56, Initial Exp: 1\n",
      "EID: 790, Joined at Age: 51, Initial Exp: 4\n",
      "EID: 791, Joined at Age: 56, Initial Exp: 3\n",
      "EID: 793, Joined at Age: 57, Initial Exp: 1\n",
      "EID: 794, Joined at Age: 56, Initial Exp: 0\n",
      "EID: 796, Joined at Age: 56, Initial Exp: 2\n",
      "EID: 797, Joined at Age: 57, Initial Exp: 1\n",
      "EID: 799, Joined at Age: 55, Initial Exp: 3\n",
      "EID: 800, Joined at Age: 57, Initial Exp: 4\n",
      "EID: 801, Joined at Age: 51, Initial Exp: 4\n",
      "EID: 803, Joined at Age: 53, Initial Exp: 2\n",
      "EID: 804, Joined at Age: 55, Initial Exp: 0\n",
      "EID: 805, Joined at Age: 50, Initial Exp: 1\n",
      "EID: 806, Joined at Age: 54, Initial Exp: 3\n",
      "EID: 807, Joined at Age: 50, Initial Exp: 4\n",
      "EID: 810, Joined at Age: 57, Initial Exp: 3\n",
      "EID: 811, Joined at Age: 50, Initial Exp: 4\n",
      "EID: 812, Joined at Age: 57, Initial Exp: 3\n",
      "EID: 813, Joined at Age: 53, Initial Exp: 2\n",
      "EID: 814, Joined at Age: 53, Initial Exp: 1\n",
      "EID: 817, Joined at Age: 54, Initial Exp: 4\n",
      "EID: 818, Joined at Age: 53, Initial Exp: 2\n",
      "EID: 819, Joined at Age: 54, Initial Exp: 0\n",
      "EID: 820, Joined at Age: 52, Initial Exp: 2\n",
      "EID: 821, Joined at Age: 57, Initial Exp: 2\n",
      "EID: 822, Joined at Age: 57, Initial Exp: 1\n",
      "EID: 823, Joined at Age: 56, Initial Exp: 2\n",
      "EID: 824, Joined at Age: 51, Initial Exp: 1\n",
      "EID: 825, Joined at Age: 50, Initial Exp: 4\n",
      "EID: 826, Joined at Age: 54, Initial Exp: 1\n",
      "EID: 827, Joined at Age: 51, Initial Exp: 1\n",
      "EID: 829, Joined at Age: 56, Initial Exp: 3\n",
      "EID: 830, Joined at Age: 54, Initial Exp: 4\n",
      "EID: 831, Joined at Age: 52, Initial Exp: 3\n",
      "EID: 832, Joined at Age: 56, Initial Exp: 4\n",
      "EID: 833, Joined at Age: 55, Initial Exp: 3\n",
      "EID: 834, Joined at Age: 52, Initial Exp: 1\n",
      "EID: 835, Joined at Age: 53, Initial Exp: 0\n",
      "EID: 836, Joined at Age: 50, Initial Exp: 2\n",
      "EID: 837, Joined at Age: 55, Initial Exp: 3\n",
      "EID: 838, Joined at Age: 52, Initial Exp: 3\n",
      "EID: 839, Joined at Age: 57, Initial Exp: 3\n",
      "EID: 841, Joined at Age: 50, Initial Exp: 0\n",
      "EID: 843, Joined at Age: 56, Initial Exp: 3\n",
      "EID: 844, Joined at Age: 54, Initial Exp: 4\n",
      "EID: 846, Joined at Age: 50, Initial Exp: 0\n",
      "EID: 847, Joined at Age: 51, Initial Exp: 3\n",
      "EID: 849, Joined at Age: 56, Initial Exp: 2\n",
      "EID: 850, Joined at Age: 52, Initial Exp: 4\n",
      "EID: 851, Joined at Age: 55, Initial Exp: 0\n",
      "EID: 853, Joined at Age: 55, Initial Exp: 0\n",
      "EID: 854, Joined at Age: 55, Initial Exp: 2\n",
      "EID: 855, Joined at Age: 50, Initial Exp: 0\n",
      "EID: 856, Joined at Age: 52, Initial Exp: 0\n",
      "EID: 857, Joined at Age: 57, Initial Exp: 1\n",
      "EID: 859, Joined at Age: 54, Initial Exp: 1\n",
      "EID: 860, Joined at Age: 52, Initial Exp: 2\n",
      "EID: 861, Joined at Age: 55, Initial Exp: 3\n",
      "EID: 862, Joined at Age: 57, Initial Exp: 0\n",
      "EID: 863, Joined at Age: 56, Initial Exp: 2\n",
      "EID: 864, Joined at Age: 55, Initial Exp: 1\n",
      "EID: 866, Joined at Age: 55, Initial Exp: 1\n",
      "EID: 867, Joined at Age: 52, Initial Exp: 2\n",
      "EID: 869, Joined at Age: 51, Initial Exp: 1\n",
      "EID: 871, Joined at Age: 50, Initial Exp: 2\n",
      "EID: 873, Joined at Age: 54, Initial Exp: 4\n",
      "EID: 874, Joined at Age: 53, Initial Exp: 0\n",
      "EID: 875, Joined at Age: 55, Initial Exp: 1\n",
      "EID: 876, Joined at Age: 54, Initial Exp: 0\n",
      "EID: 877, Joined at Age: 55, Initial Exp: 2\n",
      "EID: 878, Joined at Age: 55, Initial Exp: 1\n",
      "EID: 879, Joined at Age: 52, Initial Exp: 1\n",
      "EID: 880, Joined at Age: 53, Initial Exp: 0\n",
      "EID: 881, Joined at Age: 57, Initial Exp: 2\n",
      "EID: 882, Joined at Age: 57, Initial Exp: 2\n",
      "EID: 884, Joined at Age: 53, Initial Exp: 3\n",
      "EID: 886, Joined at Age: 56, Initial Exp: 2\n",
      "EID: 887, Joined at Age: 50, Initial Exp: 1\n",
      "EID: 888, Joined at Age: 51, Initial Exp: 2\n",
      "EID: 889, Joined at Age: 53, Initial Exp: 4\n",
      "EID: 892, Joined at Age: 53, Initial Exp: 3\n",
      "EID: 894, Joined at Age: 57, Initial Exp: 1\n",
      "EID: 895, Joined at Age: 54, Initial Exp: 2\n",
      "EID: 896, Joined at Age: 53, Initial Exp: 2\n",
      "EID: 898, Joined at Age: 55, Initial Exp: 0\n",
      "EID: 900, Joined at Age: 51, Initial Exp: 0\n",
      "EID: 901, Joined at Age: 57, Initial Exp: 2\n",
      "EID: 902, Joined at Age: 57, Initial Exp: 0\n",
      "EID: 903, Joined at Age: 57, Initial Exp: 3\n",
      "EID: 904, Joined at Age: 57, Initial Exp: 4\n",
      "EID: 905, Joined at Age: 51, Initial Exp: 2\n",
      "EID: 906, Joined at Age: 57, Initial Exp: 1\n",
      "EID: 907, Joined at Age: 53, Initial Exp: 0\n",
      "EID: 908, Joined at Age: 50, Initial Exp: 0\n",
      "EID: 909, Joined at Age: 57, Initial Exp: 4\n",
      "EID: 910, Joined at Age: 52, Initial Exp: 1\n",
      "EID: 911, Joined at Age: 54, Initial Exp: 1\n",
      "EID: 915, Joined at Age: 51, Initial Exp: 3\n",
      "EID: 917, Joined at Age: 50, Initial Exp: 2\n",
      "EID: 920, Joined at Age: 51, Initial Exp: 3\n",
      "EID: 921, Joined at Age: 52, Initial Exp: 0\n",
      "EID: 922, Joined at Age: 52, Initial Exp: 1\n",
      "EID: 923, Joined at Age: 53, Initial Exp: 0\n",
      "EID: 925, Joined at Age: 50, Initial Exp: 1\n",
      "EID: 926, Joined at Age: 54, Initial Exp: 2\n",
      "EID: 927, Joined at Age: 56, Initial Exp: 4\n",
      "EID: 929, Joined at Age: 53, Initial Exp: 1\n",
      "EID: 930, Joined at Age: 54, Initial Exp: 0\n",
      "EID: 931, Joined at Age: 53, Initial Exp: 0\n",
      "EID: 932, Joined at Age: 56, Initial Exp: 2\n",
      "EID: 934, Joined at Age: 53, Initial Exp: 0\n",
      "EID: 935, Joined at Age: 57, Initial Exp: 0\n",
      "EID: 936, Joined at Age: 55, Initial Exp: 1\n",
      "EID: 937, Joined at Age: 50, Initial Exp: 3\n",
      "EID: 938, Joined at Age: 57, Initial Exp: 0\n",
      "EID: 939, Joined at Age: 54, Initial Exp: 1\n",
      "EID: 940, Joined at Age: 55, Initial Exp: 3\n",
      "EID: 942, Joined at Age: 53, Initial Exp: 4\n",
      "EID: 943, Joined at Age: 56, Initial Exp: 1\n",
      "EID: 944, Joined at Age: 50, Initial Exp: 1\n",
      "EID: 945, Joined at Age: 54, Initial Exp: 1\n",
      "EID: 947, Joined at Age: 52, Initial Exp: 3\n",
      "EID: 948, Joined at Age: 53, Initial Exp: 1\n",
      "EID: 949, Joined at Age: 56, Initial Exp: 4\n",
      "EID: 950, Joined at Age: 55, Initial Exp: 3\n",
      "EID: 951, Joined at Age: 51, Initial Exp: 0\n",
      "EID: 952, Joined at Age: 50, Initial Exp: 1\n",
      "EID: 953, Joined at Age: 55, Initial Exp: 1\n",
      "EID: 954, Joined at Age: 57, Initial Exp: 1\n",
      "EID: 955, Joined at Age: 57, Initial Exp: 3\n",
      "EID: 956, Joined at Age: 53, Initial Exp: 3\n",
      "EID: 957, Joined at Age: 52, Initial Exp: 2\n",
      "EID: 958, Joined at Age: 52, Initial Exp: 1\n",
      "EID: 959, Joined at Age: 56, Initial Exp: 4\n",
      "EID: 960, Joined at Age: 50, Initial Exp: 3\n",
      "EID: 961, Joined at Age: 51, Initial Exp: 4\n",
      "EID: 962, Joined at Age: 56, Initial Exp: 3\n"
     ]
    }
   ],
   "source": []
  },
  {
   "cell_type": "code",
   "execution_count": null,
   "metadata": {
    "id": "4zfeurxfiuiZ"
   },
   "outputs": [],
   "source": [
    "# from google.colab import drive\n",
    "# #drive.mount('drive')\n",
    "# dfr = df[df['active']==False]\n",
    "# dfr.to_csv('/content/drive/My Drive/retired.csv', encoding='utf-8', index=False)"
   ]
  }
 ],
 "metadata": {
  "colab": {
   "provenance": []
  },
  "kernelspec": {
   "display_name": "base",
   "language": "python",
   "name": "python3"
  },
  "language_info": {
   "codemirror_mode": {
    "name": "ipython",
    "version": 3
   },
   "file_extension": ".py",
   "mimetype": "text/x-python",
   "name": "python",
   "nbconvert_exporter": "python",
   "pygments_lexer": "ipython3",
   "version": "3.12.6"
  }
 },
 "nbformat": 4,
 "nbformat_minor": 0
}
