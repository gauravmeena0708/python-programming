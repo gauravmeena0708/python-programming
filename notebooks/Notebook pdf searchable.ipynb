{
 "cells": [
  {
   "cell_type": "code",
   "execution_count": null,
   "id": "ac3e6388",
   "metadata": {},
   "outputs": [],
   "source": [
    "from glob import glob\n",
    "from PyPDF2 import PdfMerger\n",
    "\n",
    "path = \"\"\n",
    "\n",
    "def pdf_merge():\n",
    "    ''' Merges all the pdf files in current directory '''\n",
    "    merger = PdfMerger()\n",
    "    allpdfs = [a for a in glob(path+\"*.pdf\")]\n",
    "    [merger.append(pdf) for pdf in allpdfs]\n",
    "    with open(\"Merged_pdfs.pdf\", \"wb\") as new_file:\n",
    "        merger.write(new_file)\n",
    "\n",
    "\n",
    "if __name__ == \"__main__\":\n",
    "    pdf_merge()"
   ]
  },
  {
   "cell_type": "code",
   "execution_count": 3,
   "id": "2422df9f",
   "metadata": {},
   "outputs": [],
   "source": [
    "import pytesseract\n",
    "from pdf2image import convert_from_path\n",
    "import PyPDF2\n",
    "import io\n",
    "\n",
    "poppler_path = r\"\\poppler\\bin\" #change id\n",
    "pytesseract.pytesseract.tesseract_cmd = r\"\"\n",
    "\n",
    "finput = \"\"\n",
    "foutput = \"\"\n",
    "images = convert_from_path(finput, poppler_path=poppler_path)\n",
    "pdf_writer = PyPDF2.PdfWriter()\n",
    "for image in images:\n",
    "    page = pytesseract.image_to_pdf_or_hocr(image, extension='pdf')\n",
    "    pdf = PyPDF2.PdfReader(io.BytesIO(page))\n",
    "    pdf_writer.add_page(pdf.pages[0])\n",
    "# export the searchable PDF to searchable.pdf\n",
    "with open(foutput, \"wb\") as f:\n",
    "    pdf_writer.write(f)\n",
    "    "
   ]
  },
  {
   "cell_type": "code",
   "execution_count": null,
   "id": "a377cbca",
   "metadata": {},
   "outputs": [],
   "source": [
    "from os import listdir,mkdir,startfile\n",
    "from os.path import isfile, join,exists\n",
    "from PyPDF2 import PdfMerger\n",
    "import pytesseract\n",
    "from pdf2image import convert_from_path\n",
    "import PyPDF2\n",
    "import io\n",
    "\n",
    "poppler_path = r\"\"\n",
    "pytesseract.pytesseract.tesseract_cmd = r\"\"\n",
    "\n",
    "path = \"\" #input(\"Enter the folder location: \")\n",
    "opath = \"\"\n",
    "\n",
    "pdffiles = [f for f in listdir(path) if isfile(join(path, f)) and '.pdf' in f]\n",
    "print('\\nList of PDF Files:\\n')\n",
    "i = 0\n",
    "for file in pdffiles:\n",
    "    print(file)\n",
    "    i=i+1\n",
    "    images = convert_from_path(path+file, poppler_path=poppler_path)\n",
    "    pdf_writer = PyPDF2.PdfWriter()\n",
    "    for image in images:\n",
    "        page = pytesseract.image_to_pdf_or_hocr(image, extension='pdf')\n",
    "        pdf = PyPDF2.PdfReader(io.BytesIO(page))\n",
    "        pdf_writer.add_page(pdf.pages[0])\n",
    "    # export the searchable PDF to searchable.pdf\n",
    "    with open(opath+file, \"wb\") as f:\n",
    "        pdf_writer.write(f)\n"
   ]
  },
  {
   "cell_type": "code",
   "execution_count": null,
   "id": "bd14e16e",
   "metadata": {},
   "outputs": [],
   "source": [
    "import pytesseract\n",
    "from os import listdir\n",
    "from os.path import isfile, join\n",
    "from IPython.display import clear_output\n",
    "import PyPDF2, io\n",
    "from pdf2image import convert_from_path\n",
    "\n",
    "pytesseract.pytesseract.tesseract_cmd = r\"\"\n",
    "poppler_path = r\"\"\n",
    "\n",
    "path = \"\"\n",
    "pdffiles = [f for f in listdir(path) if isfile(join(path, f)) and '.pdf' in f]\n",
    "\n",
    "i = 0\n",
    "for file in pdffiles:\n",
    "    i=i+1\n",
    "    clear_output(wait=True)\n",
    "    print(\"Working on:\", i)\n",
    "    fullpath = path+file\n",
    "    file1 = open(fullpath, 'rb')\n",
    "    readpdf = PyPDF2.PdfReader(file1)\n",
    "    totalpages = len(readpdf.pages)\n",
    "    images = convert_from_path(path+file, poppler_path=poppler_path)\n",
    "    pdf_writer = PyPDF2.PdfWriter()\n",
    "    for image in images:\n",
    "        page = pytesseract.image_to_pdf_or_hocr(image, extension='pdf')\n",
    "        pdf = PyPDF2.PdfReader(io.BytesIO(page))\n",
    "        pdf_writer.add_page(pdf.pages[0])\n",
    "    with open(path+file, \"wb\") as f:\n",
    "        pdf_writer.write(f)"
   ]
  },
  {
   "cell_type": "markdown",
   "id": "58f2146a",
   "metadata": {},
   "source": [
    "### Below code is for converting multiple images in single pdf"
   ]
  },
  {
   "cell_type": "code",
   "execution_count": null,
   "id": "1fb1fb10",
   "metadata": {},
   "outputs": [],
   "source": [
    "all_files = []\n",
    "for (path,dirs,files) in **os.walk**('images_folder'):\n",
    "    for file in files:\n",
    "        file = os.path.join(path, file)\n",
    "        all_files.append(file)\n",
    "\n",
    "pdf_writer = PyPDF2.PdfFileWriter()\n",
    "for file in all_files:\n",
    "    page = pytesseract.image_to_pdf_or_hocr(file, extension='pdf')\n",
    "    pdf = PyPDF2.PdfFileReader(io.BytesIO(page))\n",
    "    pdf_writer.addPage(pdf.getPage(0))\n",
    "\n",
    "with open(\"searchable.pdf\", \"wb\") as f:\n",
    "    pdf_writer.write(f)"
   ]
  },
  {
   "cell_type": "markdown",
   "id": "fc148c02",
   "metadata": {},
   "source": [
    "## Variable output by clear method"
   ]
  },
  {
   "cell_type": "code",
   "execution_count": 2,
   "id": "d0a81e10",
   "metadata": {},
   "outputs": [
    {
     "name": "stdout",
     "output_type": "stream",
     "text": [
      "Hello World! 9\n"
     ]
    }
   ],
   "source": [
    "from IPython.display import clear_output\n",
    "import time\n",
    "\n",
    "for i in range(10):\n",
    "    clear_output(wait=True)\n",
    "    time.sleep(1)\n",
    "    print(\"Hello World!\", i)"
   ]
  }
 ],
 "metadata": {
  "kernelspec": {
   "display_name": "Python 3 (ipykernel)",
   "language": "python",
   "name": "python3"
  },
  "language_info": {
   "codemirror_mode": {
    "name": "ipython",
    "version": 3
   },
   "file_extension": ".py",
   "mimetype": "text/x-python",
   "name": "python",
   "nbconvert_exporter": "python",
   "pygments_lexer": "ipython3",
   "version": "3.9.16"
  }
 },
 "nbformat": 4,
 "nbformat_minor": 5
}
