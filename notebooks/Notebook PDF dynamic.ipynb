{
 "cells": [
  {
   "cell_type": "code",
   "execution_count": 13,
   "id": "4271651f",
   "metadata": {},
   "outputs": [],
   "source": [
    "from reportlab.pdfgen import canvas\n",
    "from reportlab.lib.units import inch\n",
    "def hello(c):\n",
    "    c.setFont(\"Helvetica\", 14)\n",
    "    c.drawString(100,100,\"Hello World\")\n",
    "    c.translate(inch,inch)\n",
    "    \n",
    "    c.setStrokeColorRGB(0.2,0.5,0.3)\n",
    "    c.setFillColorRGB(1,0,1)\n",
    "    c.line(0,0,0,1.7*inch)\n",
    "    c.line(0,0,1*inch,0)\n",
    "    c.rect(0.2*inch,0.2*inch,1*inch,1.5*inch, fill=1)\n",
    "    c.rotate(90)\n",
    "    c.setFillColorRGB(0,0,0.77)\n",
    "    c.drawString(0.3*inch, -inch, \"Hello World\")\n",
    "    \n",
    "c = canvas.Canvas(\"hello.pdf\")\n",
    "hello(c)\n",
    "c.showPage()\n",
    "c.save()"
   ]
  }
 ],
 "metadata": {
  "kernelspec": {
   "display_name": "Python 3 (ipykernel)",
   "language": "python",
   "name": "python3"
  },
  "language_info": {
   "codemirror_mode": {
    "name": "ipython",
    "version": 3
   },
   "file_extension": ".py",
   "mimetype": "text/x-python",
   "name": "python",
   "nbconvert_exporter": "python",
   "pygments_lexer": "ipython3",
   "version": "3.9.16"
  }
 },
 "nbformat": 4,
 "nbformat_minor": 5
}
