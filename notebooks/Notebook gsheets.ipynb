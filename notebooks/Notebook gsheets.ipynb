{
 "cells": [
  {
   "cell_type": "code",
   "execution_count": 1,
   "id": "6e7e440b",
   "metadata": {},
   "outputs": [
    {
     "name": "stdout",
     "output_type": "stream",
     "text": [
      "\n"
     ]
    }
   ],
   "source": [
    "import gspread\n",
    "import time\n",
    "import pandas as pd\n",
    "from oauth2client.service_account import ServiceAccountCredentials\n",
    "import pandas as pd\n",
    "from gspread_pandas import Spread, Client\n",
    "\n",
    "KEY = ''\n",
    "KEYFILE_NAME = ''\n",
    "prim = pd.read_csv(\"prim_24-04-2023.csv\")\n",
    "ids = prim['MEMBER ID'].unique()\n",
    "\n",
    "# Set the scope of the Google Sheets API\n",
    "scope = ['https://spreadsheets.google.com/feeds', 'https://www.googleapis.com/auth/drive']\n",
    "\n",
    "creds = ServiceAccountCredentials.from_json_keyfile_name(KEYFILE_NAME, scope)\n",
    "client = gspread.authorize(creds)\n",
    "\n",
    "# Open the Google Sheet by name\n",
    "#sheet = client.open('JOINT DECLARATION').sheet1\n",
    "sheet = client.open_by_key(KEY).sheet1\n",
    "df = pd.DataFrame(sheet.get_all_records())\n",
    "str1 = 'Under Process'\n",
    "str2 = 'Approved/Rejected as on 21-04-2023'\n",
    "\n",
    "df.loc[df['MEMBER ID'].isin(ids), 'STATUS AS PER MIS'] = str1\n",
    "df.loc[((df['STATUS AS PER MIS']==str1) & (~df['MEMBER ID'].isin(ids))), 'STATUS AS PER MIS'] = str2\n",
    "sheet.update([df.columns.values.tolist()] + df.values.tolist())\n",
    "print()"
   ]
  }
 ],
 "metadata": {
  "kernelspec": {
   "display_name": "Python 3 (ipykernel)",
   "language": "python",
   "name": "python3"
  },
  "language_info": {
   "codemirror_mode": {
    "name": "ipython",
    "version": 3
   },
   "file_extension": ".py",
   "mimetype": "text/x-python",
   "name": "python",
   "nbconvert_exporter": "python",
   "pygments_lexer": "ipython3",
   "version": "3.9.16"
  }
 },
 "nbformat": 4,
 "nbformat_minor": 5
}
