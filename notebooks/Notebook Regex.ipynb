{
 "cells": [
  {
   "cell_type": "code",
   "execution_count": 59,
   "id": "dab42a0f",
   "metadata": {},
   "outputs": [],
   "source": [
    "import re\n",
    "SEPARATOR = 50*'-'\n",
    "\n",
    "def check_reg(pattern, string):\n",
    "    matches = re.finditer(pattern, string)\n",
    "    for match in matches:\n",
    "        start, end = match.span()\n",
    "        group1 = match.group(0)\n",
    "        print(\"The match {} is found at start pos: {} and end pos: {}\".format(group1.strip(), start, end))\n",
    "\n",
    "\n"
   ]
  },
  {
   "cell_type": "code",
   "execution_count": 60,
   "id": "8a84295e",
   "metadata": {},
   "outputs": [],
   "source": [
    "STRING = \"\"\"This is a string with two email addresses:\n",
    "test@example.com (this) and (that) test2@example.com \n",
    "101\t10101\t249664\tEstt\t365\t0\t365\t0\t0\t225\t0\t225\t2\t223\t0\t223\t0\t223\n",
    "\t\t\tMembers\t80229\t0\t80229\t0\t0\t80229\t0\t80229\t2703\t77526\t0\t77526\t0\t77526\n",
    "101\t10103\t249676\tEstt\t526\t0\t526\t0\t0\t435\t0\t435\t0\t435\t0\t435\t0\t435\\n\n",
    "\t\t\tMembers\t131471\t0\t131471\t0\t0\t131464\t0\t131464\t0\t131464\t0\t131464\t0\t131464\n",
    "101\t10104\t249426\tEstt\t364\t0\t364\t0\t0\t222\t0\t222\t0\t222\t0\t222\t0\t222\\n\n",
    "\t\t\tMembers\t63934\t0\t63934\t0\t0\t63934\t0\t63934\t0\t63934\t0\t63934\t0\t63934\n",
    "101\t10105\t249657\tEstt\t1\t0\t1\t0\t0\t1\t0\t1\t0\t1\t0\t1\t0\t1\\n\n",
    "\t\t\tMembers\t70810\t0\t70810\t0\t0\t70810\t0\t70810\t0\t70810\t0\t70810\t0\t70810\n",
    "\"\"\"\n"
   ]
  },
  {
   "cell_type": "code",
   "execution_count": 64,
   "id": "74488c72",
   "metadata": {},
   "outputs": [
    {
     "name": "stdout",
     "output_type": "stream",
     "text": [
      "The match This is found at start pos: 1 and end pos: 5\n",
      "The match is is found at start pos: 5 and end pos: 9\n"
     ]
    }
   ],
   "source": [
    "reg_array = [\n",
    "    r\"T.is\",\n",
    "    r\" is \",\n",
    "]\n",
    "\n",
    "for regex in reg_array:\n",
    "    check_reg(regex, STRING)\n",
    "\n"
   ]
  },
  {
   "cell_type": "code",
   "execution_count": 31,
   "id": "c63cdcb9",
   "metadata": {},
   "outputs": [
    {
     "ename": "AttributeError",
     "evalue": "'callable_iterator' object has no attribute 'span'",
     "output_type": "error",
     "traceback": [
      "\u001b[1;31m---------------------------------------------------------------------------\u001b[0m",
      "\u001b[1;31mAttributeError\u001b[0m                            Traceback (most recent call last)",
      "Cell \u001b[1;32mIn[31], line 7\u001b[0m\n\u001b[0;32m      4\u001b[0m match \u001b[38;5;241m=\u001b[39m regex\u001b[38;5;241m.\u001b[39mfinditer(\u001b[38;5;124m\"\u001b[39m\u001b[38;5;124m123abc456\u001b[39m\u001b[38;5;124m\"\u001b[39m)\n\u001b[0;32m      6\u001b[0m \u001b[38;5;66;03m# Print the start and end positions of the match\u001b[39;00m\n\u001b[1;32m----> 7\u001b[0m \u001b[38;5;28mprint\u001b[39m(\u001b[43mmatch\u001b[49m\u001b[38;5;241;43m.\u001b[39;49m\u001b[43mspan\u001b[49m())\n",
      "\u001b[1;31mAttributeError\u001b[0m: 'callable_iterator' object has no attribute 'span'"
     ]
    }
   ],
   "source": [
    "import re\n",
    "\n",
    "regex = re.compile(r\"\\d+\")\n",
    "match = regex.finditer(\"123abc456\")\n",
    "\n",
    "# Print the start and end positions of the match\n",
    "print(match.span())\n"
   ]
  },
  {
   "cell_type": "code",
   "execution_count": null,
   "id": "d0095430",
   "metadata": {},
   "outputs": [],
   "source": [
    "regexn = r\"[a-z0-9._%+-]+@[a-z0-9.-]+\\.[a-z]{2,}\""
   ]
  }
 ],
 "metadata": {
  "kernelspec": {
   "display_name": "Python 3 (ipykernel)",
   "language": "python",
   "name": "python3"
  },
  "language_info": {
   "codemirror_mode": {
    "name": "ipython",
    "version": 3
   },
   "file_extension": ".py",
   "mimetype": "text/x-python",
   "name": "python",
   "nbconvert_exporter": "python",
   "pygments_lexer": "ipython3",
   "version": "3.9.16"
  }
 },
 "nbformat": 4,
 "nbformat_minor": 5
}
