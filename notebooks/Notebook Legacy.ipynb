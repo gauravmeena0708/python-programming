{
 "cells": [
  {
   "cell_type": "code",
   "execution_count": null,
   "id": "0be9f2c1",
   "metadata": {},
   "outputs": [],
   "source": [
    "from dbfread import DBF\n",
    "import pandas as pd\n",
    "import os\n",
    "path= \"\"\n",
    "\n",
    "\n",
    "file_list = [file for file in os.listdir(path) if file.endswith('.dbf')]\n",
    "\n",
    "for file in file_list:\n",
    "    full_path = path+file\n",
    "    dbf = DBF(full_path)\n",
    "    df = pd.DataFrame(iter(dbf))\n",
    "    print(len(df))\n"
   ]
  },
  {
   "cell_type": "code",
   "execution_count": 2,
   "id": "5a17bbb2",
   "metadata": {},
   "outputs": [
    {
     "name": "stdout",
     "output_type": "stream",
     "text": [
      "\n"
     ]
    }
   ],
   "source": [
    "file0 = file_list[0]\n",
    "full_path = path+file0\n",
    "dbf = DBF(full_path)\n",
    "df = pd.DataFrame(iter(dbf))\n",
    "for col in df.columns:\n",
    "    print(col)"
   ]
  }
 ],
 "metadata": {
  "kernelspec": {
   "display_name": "Python 3 (ipykernel)",
   "language": "python",
   "name": "python3"
  },
  "language_info": {
   "codemirror_mode": {
    "name": "ipython",
    "version": 3
   },
   "file_extension": ".py",
   "mimetype": "text/x-python",
   "name": "python",
   "nbconvert_exporter": "python",
   "pygments_lexer": "ipython3",
   "version": "3.9.16"
  }
 },
 "nbformat": 4,
 "nbformat_minor": 5
}
