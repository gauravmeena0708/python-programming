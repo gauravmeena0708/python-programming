{
 "cells": [
  {
   "cell_type": "code",
   "execution_count": 6,
   "metadata": {},
   "outputs": [
    {
     "name": "stdout",
     "output_type": "stream",
     "text": [
      "0.8333333333333334\n",
      "1.0\n"
     ]
    }
   ],
   "source": [
    "\n",
    "from textblob.classifiers import NaiveBayesClassifier\n",
    "from textblob import TextBlob \n",
    "import pandas as pd\n",
    "\n",
    "#df = pd.read_csv(\"vocab1.csv\")\n",
    "#train1=[]\n",
    "#for index, row in df.iterrows():\n",
    "#    train1.append((row[0],row[1]))\n",
    "train = [\n",
    "    ('I love this sandwich.', 'pos'),\n",
    "    ('this is an amazing place!', 'pos'),\n",
    "    ('I feel very good about these beers.', 'pos'),\n",
    "    ('this is my best work.', 'pos'),\n",
    "    (\"what an awesome view\", 'pos'),\n",
    "    ('I do not like this restaurant', 'neg'),\n",
    "    ('I am tired of this stuff.', 'neg'),\n",
    "    (\"I can't deal with this\", 'neg'),\n",
    "    ('he is my sworn enemy!', 'neg'),\n",
    "    ('my boss is horrible.', 'neg')\n",
    "]\n",
    "test = [\n",
    "    ('the beer was good.', 'pos'),\n",
    "    ('I do not enjoy my job', 'neg'),\n",
    "    (\"I ain't feeling dandy today.\", 'neg'),\n",
    "    (\"I feel amazing!\", 'pos'),\n",
    "    ('Gary is a friend of mine.', 'pos'),\n",
    "    (\"I can't believe I'm doing this.\", 'neg')\n",
    "]\n",
    "c1 = NaiveBayesClassifier(train)\n",
    "\n",
    "# Classify addresses into categories\n",
    "print(c1.accuracy(test))\n",
    "new_data = [('She is my best friend.', 'pos'),\n",
    "    (\"I'm happy to have a new friend.\", 'pos'),\n",
    "    (\"Stay thirsty, my friend.\", 'pos'),\n",
    "    (\"He ain't from around here.\", 'neg')]\n",
    "c1.update(new_data)\n",
    "print(c1.accuracy(test))"
   ]
  }
 ],
 "metadata": {
  "kernelspec": {
   "display_name": "Python 3",
   "language": "python",
   "name": "python3"
  },
  "language_info": {
   "codemirror_mode": {
    "name": "ipython",
    "version": 3
   },
   "file_extension": ".py",
   "mimetype": "text/x-python",
   "name": "python",
   "nbconvert_exporter": "python",
   "pygments_lexer": "ipython3",
   "version": "3.6.4"
  }
 },
 "nbformat": 4,
 "nbformat_minor": 2
}
