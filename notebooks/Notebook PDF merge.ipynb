{
 "cells": [
  {
   "cell_type": "code",
   "execution_count": null,
   "id": "38fabed0",
   "metadata": {},
   "outputs": [],
   "source": [
    "#Program to merge list of pdf names\n",
    "import PyPDF2\n",
    "\n",
    "pdfs = [\"TA1.pdf\",\"TA2.pdf\",\"TA3.pdf\"]\n",
    "\n",
    "path = r\"\"\n",
    "pdfWriter = PyPDF2.PdfFileWriter()\n",
    "\n",
    "# loop through all PDFs\n",
    "for filename in pdfs:\n",
    "    # rb for read binary\n",
    "    pdfFileObj = open(path+filename, 'rb')\n",
    "    print(filename)\n",
    "    pdfReader = PyPDF2.PdfFileReader(pdfFileObj)\n",
    "    # Opening each page of the PDF\n",
    "    for pageNum in range(pdfReader.numPages):\n",
    "        pageObj = pdfReader.getPage(pageNum)\n",
    "        pdfWriter.addPage(pageObj)\n",
    "\n",
    "# save PDF to file, wb for write binary\n",
    "pdfOutput = open('TA.pdf', 'wb')\n",
    "# Outputting the PDF\n",
    "pdfWriter.write(pdfOutput)\n",
    "# Closing the PDF writer\n",
    "pdfOutput.close()"
   ]
  }
 ],
 "metadata": {
  "kernelspec": {
   "display_name": "Python 3 (ipykernel)",
   "language": "python",
   "name": "python3"
  },
  "language_info": {
   "codemirror_mode": {
    "name": "ipython",
    "version": 3
   },
   "file_extension": ".py",
   "mimetype": "text/x-python",
   "name": "python",
   "nbconvert_exporter": "python",
   "pygments_lexer": "ipython3",
   "version": "3.9.16"
  }
 },
 "nbformat": 4,
 "nbformat_minor": 5
}
